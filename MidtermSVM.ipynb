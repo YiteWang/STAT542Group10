{
 "cells": [
  {
   "cell_type": "code",
   "execution_count": 1,
   "id": "7508d0fd",
   "metadata": {},
   "outputs": [],
   "source": [
    "import numpy as np\n",
    "import pandas as pd\n",
    "import matplotlib.pyplot as plt\n",
    "import os\n",
    "from tensorflow.keras.preprocessing.image import ImageDataGenerator, load_img\n",
    "import cv2\n",
    "from skimage.transform import resize\n",
    "from skimage.io import imread\n",
    "from sklearn.utils import shuffle\n",
    "import random\n",
    "from sklearn.metrics import classification_report, confusion_matrix, accuracy_score\n",
    "from sklearn import svm\n",
    "from sklearn.model_selection import GridSearchCV\n",
    "from sklearn.svm import SVC\n",
    "from PIL import Image as im"
   ]
  },
  {
   "cell_type": "markdown",
   "id": "dfcd7318",
   "metadata": {},
   "source": [
    "### Loading Images"
   ]
  },
  {
   "cell_type": "code",
   "execution_count": 10,
   "id": "a198d47b",
   "metadata": {
    "scrolled": true
   },
   "outputs": [
    {
     "name": "stdout",
     "output_type": "stream",
     "text": [
      "loaded category:rock successfully for train\n",
      "loaded category:paper successfully for train\n",
      "loaded category:scissors successfully for train\n",
      "loaded category:rock successfully for test\n",
      "loaded category:paper successfully for test\n",
      "loaded category:scissors successfully for test\n",
      "loaded category:rock successfully for val\n",
      "loaded category:paper successfully for val\n",
      "loaded category:scissors successfully for val\n"
     ]
    }
   ],
   "source": [
    "Categories=['rock','paper','scissors']\n",
    "train_dir = 'rps-split\\\\train'\n",
    "test_dir = 'rps-split\\\\test'\n",
    "val_dir = 'rps-split\\\\val'\n",
    "\n",
    "flat_data_arr=[] #input array\n",
    "target_arr=[] #output array\n",
    "for i in Categories:\n",
    "    path=os.path.join(train_dir,i)\n",
    "    for img in os.listdir(path):\n",
    "        img_array=imread(os.path.join(path,img))\n",
    "        img_resized=resize(img_array,(150,150,1))\n",
    "        flat_data_arr.append(img_resized.flatten())\n",
    "        target_arr.append(Categories.index(i))\n",
    "    print(f'loaded category:{i} successfully for train')\n",
    "flat_data=np.array(flat_data_arr)\n",
    "target=np.array(target_arr)\n",
    "df=pd.DataFrame(flat_data) #dataframe\n",
    "df['Target']=target\n",
    "x_train=df.iloc[:,:-1] #input data \n",
    "y_train=df.iloc[:,-1] #output data\n",
    "x_train=x_train.sample(frac=1, random_state=42).reset_index(drop=True)\n",
    "y_train=y_train.sample(frac=1, random_state=42).reset_index(drop=True)\n",
    "\n",
    "\n",
    "\n",
    "flat_data_arr=[] #input array\n",
    "target_arr=[] #output array\n",
    "for i in Categories:\n",
    "    path=os.path.join(test_dir,i)\n",
    "    for img in os.listdir(path):\n",
    "        img_array=imread(os.path.join(path,img))\n",
    "        img_resized=resize(img_array,(150,150,1))\n",
    "        flat_data_arr.append(img_resized.flatten())\n",
    "        target_arr.append(Categories.index(i))\n",
    "    print(f'loaded category:{i} successfully for test')\n",
    "flat_data=np.array(flat_data_arr)\n",
    "target=np.array(target_arr)\n",
    "df=pd.DataFrame(flat_data) #dataframe\n",
    "df['Target']=target\n",
    "x_test=df.iloc[:,:-1] #input data \n",
    "y_test=df.iloc[:,-1] #output data\n",
    "\n",
    "flat_data_arr=[] #input array\n",
    "target_arr=[] #output array\n",
    "for i in Categories:\n",
    "    path=os.path.join(val_dir,i)\n",
    "    for img in os.listdir(path):\n",
    "        img_array=imread(os.path.join(path,img))\n",
    "        img_resized=resize(img_array,(150,150,1))\n",
    "        flat_data_arr.append(img_resized.flatten())\n",
    "        target_arr.append(Categories.index(i))\n",
    "    print(f'loaded category:{i} successfully for val')\n",
    "flat_data=np.array(flat_data_arr)\n",
    "target=np.array(target_arr)\n",
    "df=pd.DataFrame(flat_data) #dataframe\n",
    "df['Target']=target\n",
    "x_val=df.iloc[:,:-1] #input data \n",
    "y_val=df.iloc[:,-1] #output data"
   ]
  },
  {
   "cell_type": "code",
   "execution_count": 3,
   "id": "5f59f357",
   "metadata": {},
   "outputs": [
    {
     "data": {
      "text/plain": [
       "(1531, 22500)"
      ]
     },
     "execution_count": 3,
     "metadata": {},
     "output_type": "execute_result"
    }
   ],
   "source": [
    "x_train.shape"
   ]
  },
  {
   "cell_type": "code",
   "execution_count": 4,
   "id": "5d2fdbeb",
   "metadata": {},
   "outputs": [
    {
     "data": {
      "text/html": [
       "<div>\n",
       "<style scoped>\n",
       "    .dataframe tbody tr th:only-of-type {\n",
       "        vertical-align: middle;\n",
       "    }\n",
       "\n",
       "    .dataframe tbody tr th {\n",
       "        vertical-align: top;\n",
       "    }\n",
       "\n",
       "    .dataframe thead th {\n",
       "        text-align: right;\n",
       "    }\n",
       "</style>\n",
       "<table border=\"1\" class=\"dataframe\">\n",
       "  <thead>\n",
       "    <tr style=\"text-align: right;\">\n",
       "      <th></th>\n",
       "      <th>0</th>\n",
       "      <th>1</th>\n",
       "      <th>2</th>\n",
       "      <th>3</th>\n",
       "      <th>4</th>\n",
       "      <th>5</th>\n",
       "      <th>6</th>\n",
       "      <th>7</th>\n",
       "      <th>8</th>\n",
       "      <th>9</th>\n",
       "      <th>...</th>\n",
       "      <th>22490</th>\n",
       "      <th>22491</th>\n",
       "      <th>22492</th>\n",
       "      <th>22493</th>\n",
       "      <th>22494</th>\n",
       "      <th>22495</th>\n",
       "      <th>22496</th>\n",
       "      <th>22497</th>\n",
       "      <th>22498</th>\n",
       "      <th>22499</th>\n",
       "    </tr>\n",
       "  </thead>\n",
       "  <tbody>\n",
       "    <tr>\n",
       "      <th>0</th>\n",
       "      <td>0.282439</td>\n",
       "      <td>0.289924</td>\n",
       "      <td>0.293366</td>\n",
       "      <td>0.300145</td>\n",
       "      <td>0.303655</td>\n",
       "      <td>0.308242</td>\n",
       "      <td>0.314224</td>\n",
       "      <td>0.317845</td>\n",
       "      <td>0.324846</td>\n",
       "      <td>0.325541</td>\n",
       "      <td>...</td>\n",
       "      <td>0.309310</td>\n",
       "      <td>0.307258</td>\n",
       "      <td>0.305002</td>\n",
       "      <td>0.299647</td>\n",
       "      <td>0.298464</td>\n",
       "      <td>0.293929</td>\n",
       "      <td>0.289883</td>\n",
       "      <td>0.283850</td>\n",
       "      <td>0.283182</td>\n",
       "      <td>0.269569</td>\n",
       "    </tr>\n",
       "    <tr>\n",
       "      <th>1</th>\n",
       "      <td>0.307829</td>\n",
       "      <td>0.299331</td>\n",
       "      <td>0.296886</td>\n",
       "      <td>0.301255</td>\n",
       "      <td>0.296857</td>\n",
       "      <td>0.306606</td>\n",
       "      <td>0.309610</td>\n",
       "      <td>0.308545</td>\n",
       "      <td>0.304403</td>\n",
       "      <td>0.308739</td>\n",
       "      <td>...</td>\n",
       "      <td>0.333674</td>\n",
       "      <td>0.332998</td>\n",
       "      <td>0.328856</td>\n",
       "      <td>0.331649</td>\n",
       "      <td>0.324068</td>\n",
       "      <td>0.326655</td>\n",
       "      <td>0.321872</td>\n",
       "      <td>0.321227</td>\n",
       "      <td>0.318055</td>\n",
       "      <td>0.321791</td>\n",
       "    </tr>\n",
       "    <tr>\n",
       "      <th>2</th>\n",
       "      <td>0.259973</td>\n",
       "      <td>0.268775</td>\n",
       "      <td>0.275280</td>\n",
       "      <td>0.280152</td>\n",
       "      <td>0.285039</td>\n",
       "      <td>0.285782</td>\n",
       "      <td>0.288814</td>\n",
       "      <td>0.292053</td>\n",
       "      <td>0.299367</td>\n",
       "      <td>0.303309</td>\n",
       "      <td>...</td>\n",
       "      <td>0.289264</td>\n",
       "      <td>0.288739</td>\n",
       "      <td>0.285866</td>\n",
       "      <td>0.280724</td>\n",
       "      <td>0.279225</td>\n",
       "      <td>0.273654</td>\n",
       "      <td>0.267650</td>\n",
       "      <td>0.263894</td>\n",
       "      <td>0.262009</td>\n",
       "      <td>0.252174</td>\n",
       "    </tr>\n",
       "    <tr>\n",
       "      <th>3</th>\n",
       "      <td>0.306726</td>\n",
       "      <td>0.303777</td>\n",
       "      <td>0.305048</td>\n",
       "      <td>0.305458</td>\n",
       "      <td>0.303881</td>\n",
       "      <td>0.309817</td>\n",
       "      <td>0.311885</td>\n",
       "      <td>0.309504</td>\n",
       "      <td>0.310891</td>\n",
       "      <td>0.314309</td>\n",
       "      <td>...</td>\n",
       "      <td>0.334475</td>\n",
       "      <td>0.337161</td>\n",
       "      <td>0.331765</td>\n",
       "      <td>0.335954</td>\n",
       "      <td>0.328828</td>\n",
       "      <td>0.325748</td>\n",
       "      <td>0.328762</td>\n",
       "      <td>0.326534</td>\n",
       "      <td>0.322945</td>\n",
       "      <td>0.324864</td>\n",
       "    </tr>\n",
       "    <tr>\n",
       "      <th>4</th>\n",
       "      <td>0.216188</td>\n",
       "      <td>0.223491</td>\n",
       "      <td>0.231423</td>\n",
       "      <td>0.240872</td>\n",
       "      <td>0.241220</td>\n",
       "      <td>0.249937</td>\n",
       "      <td>0.252278</td>\n",
       "      <td>0.255959</td>\n",
       "      <td>0.261174</td>\n",
       "      <td>0.265196</td>\n",
       "      <td>...</td>\n",
       "      <td>0.228960</td>\n",
       "      <td>0.225911</td>\n",
       "      <td>0.219907</td>\n",
       "      <td>0.219417</td>\n",
       "      <td>0.212889</td>\n",
       "      <td>0.205368</td>\n",
       "      <td>0.205186</td>\n",
       "      <td>0.201541</td>\n",
       "      <td>0.197776</td>\n",
       "      <td>0.189999</td>\n",
       "    </tr>\n",
       "    <tr>\n",
       "      <th>...</th>\n",
       "      <td>...</td>\n",
       "      <td>...</td>\n",
       "      <td>...</td>\n",
       "      <td>...</td>\n",
       "      <td>...</td>\n",
       "      <td>...</td>\n",
       "      <td>...</td>\n",
       "      <td>...</td>\n",
       "      <td>...</td>\n",
       "      <td>...</td>\n",
       "      <td>...</td>\n",
       "      <td>...</td>\n",
       "      <td>...</td>\n",
       "      <td>...</td>\n",
       "      <td>...</td>\n",
       "      <td>...</td>\n",
       "      <td>...</td>\n",
       "      <td>...</td>\n",
       "      <td>...</td>\n",
       "      <td>...</td>\n",
       "      <td>...</td>\n",
       "    </tr>\n",
       "    <tr>\n",
       "      <th>1526</th>\n",
       "      <td>0.316758</td>\n",
       "      <td>0.319122</td>\n",
       "      <td>0.315090</td>\n",
       "      <td>0.317579</td>\n",
       "      <td>0.319337</td>\n",
       "      <td>0.326543</td>\n",
       "      <td>0.325820</td>\n",
       "      <td>0.322612</td>\n",
       "      <td>0.325771</td>\n",
       "      <td>0.332192</td>\n",
       "      <td>...</td>\n",
       "      <td>0.344872</td>\n",
       "      <td>0.343667</td>\n",
       "      <td>0.348252</td>\n",
       "      <td>0.339113</td>\n",
       "      <td>0.332841</td>\n",
       "      <td>0.333563</td>\n",
       "      <td>0.330319</td>\n",
       "      <td>0.335869</td>\n",
       "      <td>0.335691</td>\n",
       "      <td>0.332603</td>\n",
       "    </tr>\n",
       "    <tr>\n",
       "      <th>1527</th>\n",
       "      <td>0.382267</td>\n",
       "      <td>0.381571</td>\n",
       "      <td>0.378451</td>\n",
       "      <td>0.383468</td>\n",
       "      <td>0.384683</td>\n",
       "      <td>0.388388</td>\n",
       "      <td>0.387331</td>\n",
       "      <td>0.394883</td>\n",
       "      <td>0.393906</td>\n",
       "      <td>0.397792</td>\n",
       "      <td>...</td>\n",
       "      <td>0.425765</td>\n",
       "      <td>0.420005</td>\n",
       "      <td>0.422743</td>\n",
       "      <td>0.420270</td>\n",
       "      <td>0.416993</td>\n",
       "      <td>0.414020</td>\n",
       "      <td>0.414914</td>\n",
       "      <td>0.414313</td>\n",
       "      <td>0.415321</td>\n",
       "      <td>0.415032</td>\n",
       "    </tr>\n",
       "    <tr>\n",
       "      <th>1528</th>\n",
       "      <td>0.293139</td>\n",
       "      <td>0.287507</td>\n",
       "      <td>0.286387</td>\n",
       "      <td>0.289640</td>\n",
       "      <td>0.288580</td>\n",
       "      <td>0.296019</td>\n",
       "      <td>0.298054</td>\n",
       "      <td>0.285896</td>\n",
       "      <td>0.290841</td>\n",
       "      <td>0.299751</td>\n",
       "      <td>...</td>\n",
       "      <td>0.316646</td>\n",
       "      <td>0.314835</td>\n",
       "      <td>0.314268</td>\n",
       "      <td>0.311509</td>\n",
       "      <td>0.305610</td>\n",
       "      <td>0.309481</td>\n",
       "      <td>0.307940</td>\n",
       "      <td>0.304920</td>\n",
       "      <td>0.302529</td>\n",
       "      <td>0.301563</td>\n",
       "    </tr>\n",
       "    <tr>\n",
       "      <th>1529</th>\n",
       "      <td>0.304618</td>\n",
       "      <td>0.297201</td>\n",
       "      <td>0.304142</td>\n",
       "      <td>0.305809</td>\n",
       "      <td>0.306728</td>\n",
       "      <td>0.308514</td>\n",
       "      <td>0.317587</td>\n",
       "      <td>0.312711</td>\n",
       "      <td>0.313207</td>\n",
       "      <td>0.312118</td>\n",
       "      <td>...</td>\n",
       "      <td>0.332991</td>\n",
       "      <td>0.327786</td>\n",
       "      <td>0.325019</td>\n",
       "      <td>0.329533</td>\n",
       "      <td>0.324487</td>\n",
       "      <td>0.320900</td>\n",
       "      <td>0.321537</td>\n",
       "      <td>0.317153</td>\n",
       "      <td>0.316885</td>\n",
       "      <td>0.318734</td>\n",
       "    </tr>\n",
       "    <tr>\n",
       "      <th>1530</th>\n",
       "      <td>0.365245</td>\n",
       "      <td>0.362014</td>\n",
       "      <td>0.358566</td>\n",
       "      <td>0.363505</td>\n",
       "      <td>0.365937</td>\n",
       "      <td>0.370626</td>\n",
       "      <td>0.369646</td>\n",
       "      <td>0.366513</td>\n",
       "      <td>0.364120</td>\n",
       "      <td>0.372314</td>\n",
       "      <td>...</td>\n",
       "      <td>0.414483</td>\n",
       "      <td>0.408990</td>\n",
       "      <td>0.411071</td>\n",
       "      <td>0.402824</td>\n",
       "      <td>0.396042</td>\n",
       "      <td>0.404752</td>\n",
       "      <td>0.404763</td>\n",
       "      <td>0.404851</td>\n",
       "      <td>0.402566</td>\n",
       "      <td>0.406675</td>\n",
       "    </tr>\n",
       "  </tbody>\n",
       "</table>\n",
       "<p>1531 rows × 22500 columns</p>\n",
       "</div>"
      ],
      "text/plain": [
       "         0         1         2         3         4         5         6      \\\n",
       "0     0.282439  0.289924  0.293366  0.300145  0.303655  0.308242  0.314224   \n",
       "1     0.307829  0.299331  0.296886  0.301255  0.296857  0.306606  0.309610   \n",
       "2     0.259973  0.268775  0.275280  0.280152  0.285039  0.285782  0.288814   \n",
       "3     0.306726  0.303777  0.305048  0.305458  0.303881  0.309817  0.311885   \n",
       "4     0.216188  0.223491  0.231423  0.240872  0.241220  0.249937  0.252278   \n",
       "...        ...       ...       ...       ...       ...       ...       ...   \n",
       "1526  0.316758  0.319122  0.315090  0.317579  0.319337  0.326543  0.325820   \n",
       "1527  0.382267  0.381571  0.378451  0.383468  0.384683  0.388388  0.387331   \n",
       "1528  0.293139  0.287507  0.286387  0.289640  0.288580  0.296019  0.298054   \n",
       "1529  0.304618  0.297201  0.304142  0.305809  0.306728  0.308514  0.317587   \n",
       "1530  0.365245  0.362014  0.358566  0.363505  0.365937  0.370626  0.369646   \n",
       "\n",
       "         7         8         9      ...     22490     22491     22492  \\\n",
       "0     0.317845  0.324846  0.325541  ...  0.309310  0.307258  0.305002   \n",
       "1     0.308545  0.304403  0.308739  ...  0.333674  0.332998  0.328856   \n",
       "2     0.292053  0.299367  0.303309  ...  0.289264  0.288739  0.285866   \n",
       "3     0.309504  0.310891  0.314309  ...  0.334475  0.337161  0.331765   \n",
       "4     0.255959  0.261174  0.265196  ...  0.228960  0.225911  0.219907   \n",
       "...        ...       ...       ...  ...       ...       ...       ...   \n",
       "1526  0.322612  0.325771  0.332192  ...  0.344872  0.343667  0.348252   \n",
       "1527  0.394883  0.393906  0.397792  ...  0.425765  0.420005  0.422743   \n",
       "1528  0.285896  0.290841  0.299751  ...  0.316646  0.314835  0.314268   \n",
       "1529  0.312711  0.313207  0.312118  ...  0.332991  0.327786  0.325019   \n",
       "1530  0.366513  0.364120  0.372314  ...  0.414483  0.408990  0.411071   \n",
       "\n",
       "         22493     22494     22495     22496     22497     22498     22499  \n",
       "0     0.299647  0.298464  0.293929  0.289883  0.283850  0.283182  0.269569  \n",
       "1     0.331649  0.324068  0.326655  0.321872  0.321227  0.318055  0.321791  \n",
       "2     0.280724  0.279225  0.273654  0.267650  0.263894  0.262009  0.252174  \n",
       "3     0.335954  0.328828  0.325748  0.328762  0.326534  0.322945  0.324864  \n",
       "4     0.219417  0.212889  0.205368  0.205186  0.201541  0.197776  0.189999  \n",
       "...        ...       ...       ...       ...       ...       ...       ...  \n",
       "1526  0.339113  0.332841  0.333563  0.330319  0.335869  0.335691  0.332603  \n",
       "1527  0.420270  0.416993  0.414020  0.414914  0.414313  0.415321  0.415032  \n",
       "1528  0.311509  0.305610  0.309481  0.307940  0.304920  0.302529  0.301563  \n",
       "1529  0.329533  0.324487  0.320900  0.321537  0.317153  0.316885  0.318734  \n",
       "1530  0.402824  0.396042  0.404752  0.404763  0.404851  0.402566  0.406675  \n",
       "\n",
       "[1531 rows x 22500 columns]"
      ]
     },
     "execution_count": 4,
     "metadata": {},
     "output_type": "execute_result"
    }
   ],
   "source": [
    "x_train"
   ]
  },
  {
   "cell_type": "code",
   "execution_count": 5,
   "id": "857b9476",
   "metadata": {
    "scrolled": true
   },
   "outputs": [
    {
     "data": {
      "text/plain": [
       "0       1\n",
       "1       0\n",
       "2       0\n",
       "3       2\n",
       "4       1\n",
       "       ..\n",
       "1526    2\n",
       "1527    2\n",
       "1528    1\n",
       "1529    2\n",
       "1530    2\n",
       "Name: Target, Length: 1531, dtype: int32"
      ]
     },
     "execution_count": 5,
     "metadata": {},
     "output_type": "execute_result"
    }
   ],
   "source": [
    "y_train"
   ]
  },
  {
   "cell_type": "markdown",
   "id": "7443e956",
   "metadata": {},
   "source": [
    "### Searching for best-performing model on training set"
   ]
  },
  {
   "cell_type": "code",
   "execution_count": 146,
   "id": "1fded43a",
   "metadata": {},
   "outputs": [
    {
     "name": "stdout",
     "output_type": "stream",
     "text": [
      "Fitting 5 folds for each of 32 candidates, totalling 160 fits\n",
      "[CV 1/5] END ...C=0.1, gamma=0.0001, kernel=rbf;, score=0.342 total time=  32.1s\n",
      "[CV 2/5] END ...C=0.1, gamma=0.0001, kernel=rbf;, score=0.343 total time=  30.8s\n",
      "[CV 3/5] END ...C=0.1, gamma=0.0001, kernel=rbf;, score=0.343 total time=  30.4s\n",
      "[CV 4/5] END ...C=0.1, gamma=0.0001, kernel=rbf;, score=0.343 total time=  41.5s\n",
      "[CV 5/5] END ...C=0.1, gamma=0.0001, kernel=rbf;, score=0.343 total time=  33.5s\n",
      "[CV 1/5] END ..C=0.1, gamma=0.0001, kernel=poly;, score=0.342 total time=  26.5s\n",
      "[CV 2/5] END ..C=0.1, gamma=0.0001, kernel=poly;, score=0.343 total time=  24.0s\n",
      "[CV 3/5] END ..C=0.1, gamma=0.0001, kernel=poly;, score=0.343 total time=  20.9s\n",
      "[CV 4/5] END ..C=0.1, gamma=0.0001, kernel=poly;, score=0.343 total time=  23.4s\n",
      "[CV 5/5] END ..C=0.1, gamma=0.0001, kernel=poly;, score=0.343 total time=  21.1s\n",
      "[CV 1/5] END ....C=0.1, gamma=0.001, kernel=rbf;, score=0.704 total time=  32.7s\n",
      "[CV 2/5] END ....C=0.1, gamma=0.001, kernel=rbf;, score=0.641 total time=  35.4s\n",
      "[CV 3/5] END ....C=0.1, gamma=0.001, kernel=rbf;, score=0.706 total time=  33.8s\n",
      "[CV 4/5] END ....C=0.1, gamma=0.001, kernel=rbf;, score=0.634 total time=  38.4s\n",
      "[CV 5/5] END ....C=0.1, gamma=0.001, kernel=rbf;, score=0.725 total time=  37.8s\n",
      "[CV 1/5] END ...C=0.1, gamma=0.001, kernel=poly;, score=0.792 total time=  12.7s\n",
      "[CV 2/5] END ...C=0.1, gamma=0.001, kernel=poly;, score=0.778 total time=  11.9s\n",
      "[CV 3/5] END ...C=0.1, gamma=0.001, kernel=poly;, score=0.804 total time=  15.3s\n",
      "[CV 4/5] END ...C=0.1, gamma=0.001, kernel=poly;, score=0.758 total time=  12.0s\n",
      "[CV 5/5] END ...C=0.1, gamma=0.001, kernel=poly;, score=0.794 total time=  11.9s\n",
      "[CV 1/5] END ......C=0.1, gamma=0.1, kernel=rbf;, score=0.342 total time=  40.6s\n",
      "[CV 2/5] END ......C=0.1, gamma=0.1, kernel=rbf;, score=0.343 total time=  36.3s\n",
      "[CV 3/5] END ......C=0.1, gamma=0.1, kernel=rbf;, score=0.343 total time=  32.4s\n",
      "[CV 4/5] END ......C=0.1, gamma=0.1, kernel=rbf;, score=0.343 total time=  37.1s\n",
      "[CV 5/5] END ......C=0.1, gamma=0.1, kernel=rbf;, score=0.343 total time=  32.2s\n",
      "[CV 1/5] END .....C=0.1, gamma=0.1, kernel=poly;, score=0.844 total time=  13.9s\n",
      "[CV 2/5] END .....C=0.1, gamma=0.1, kernel=poly;, score=0.824 total time=  13.7s\n",
      "[CV 3/5] END .....C=0.1, gamma=0.1, kernel=poly;, score=0.827 total time=  11.8s\n",
      "[CV 4/5] END .....C=0.1, gamma=0.1, kernel=poly;, score=0.837 total time=  15.3s\n",
      "[CV 5/5] END .....C=0.1, gamma=0.1, kernel=poly;, score=0.850 total time=  12.7s\n",
      "[CV 1/5] END ........C=0.1, gamma=1, kernel=rbf;, score=0.342 total time=  36.5s\n",
      "[CV 2/5] END ........C=0.1, gamma=1, kernel=rbf;, score=0.343 total time=  36.5s\n",
      "[CV 3/5] END ........C=0.1, gamma=1, kernel=rbf;, score=0.343 total time=  31.7s\n",
      "[CV 4/5] END ........C=0.1, gamma=1, kernel=rbf;, score=0.343 total time=  37.9s\n",
      "[CV 5/5] END ........C=0.1, gamma=1, kernel=rbf;, score=0.343 total time=  40.0s\n",
      "[CV 1/5] END .......C=0.1, gamma=1, kernel=poly;, score=0.844 total time=  12.6s\n",
      "[CV 2/5] END .......C=0.1, gamma=1, kernel=poly;, score=0.824 total time=  13.7s\n",
      "[CV 3/5] END .......C=0.1, gamma=1, kernel=poly;, score=0.827 total time=  13.7s\n",
      "[CV 4/5] END .......C=0.1, gamma=1, kernel=poly;, score=0.837 total time=  13.9s\n",
      "[CV 5/5] END .......C=0.1, gamma=1, kernel=poly;, score=0.850 total time=  11.8s\n",
      "[CV 1/5] END .....C=1, gamma=0.0001, kernel=rbf;, score=0.678 total time=  29.9s\n",
      "[CV 2/5] END .....C=1, gamma=0.0001, kernel=rbf;, score=0.614 total time=  29.7s\n",
      "[CV 3/5] END .....C=1, gamma=0.0001, kernel=rbf;, score=0.686 total time=  32.6s\n",
      "[CV 4/5] END .....C=1, gamma=0.0001, kernel=rbf;, score=0.608 total time=  29.3s\n",
      "[CV 5/5] END .....C=1, gamma=0.0001, kernel=rbf;, score=0.693 total time=  30.2s\n",
      "[CV 1/5] END ....C=1, gamma=0.0001, kernel=poly;, score=0.381 total time=  26.6s\n",
      "[CV 2/5] END ....C=1, gamma=0.0001, kernel=poly;, score=0.428 total time=  18.6s\n",
      "[CV 3/5] END ....C=1, gamma=0.0001, kernel=poly;, score=0.415 total time=  18.2s\n",
      "[CV 4/5] END ....C=1, gamma=0.0001, kernel=poly;, score=0.379 total time=  18.0s\n",
      "[CV 5/5] END ....C=1, gamma=0.0001, kernel=poly;, score=0.425 total time=  18.0s\n",
      "[CV 1/5] END ......C=1, gamma=0.001, kernel=rbf;, score=0.821 total time=  21.5s\n",
      "[CV 2/5] END ......C=1, gamma=0.001, kernel=rbf;, score=0.801 total time=  21.1s\n",
      "[CV 3/5] END ......C=1, gamma=0.001, kernel=rbf;, score=0.843 total time=  23.1s\n",
      "[CV 4/5] END ......C=1, gamma=0.001, kernel=rbf;, score=0.804 total time=  31.1s\n",
      "[CV 5/5] END ......C=1, gamma=0.001, kernel=rbf;, score=0.837 total time=  31.3s\n",
      "[CV 1/5] END .....C=1, gamma=0.001, kernel=poly;, score=0.863 total time=  13.7s\n",
      "[CV 2/5] END .....C=1, gamma=0.001, kernel=poly;, score=0.827 total time=  11.4s\n",
      "[CV 3/5] END .....C=1, gamma=0.001, kernel=poly;, score=0.853 total time=  12.1s\n",
      "[CV 4/5] END .....C=1, gamma=0.001, kernel=poly;, score=0.850 total time=  15.1s\n",
      "[CV 5/5] END .....C=1, gamma=0.001, kernel=poly;, score=0.879 total time=  12.8s\n",
      "[CV 1/5] END ........C=1, gamma=0.1, kernel=rbf;, score=0.381 total time=  38.3s\n",
      "[CV 2/5] END ........C=1, gamma=0.1, kernel=rbf;, score=0.376 total time=  35.8s\n",
      "[CV 3/5] END ........C=1, gamma=0.1, kernel=rbf;, score=0.376 total time=  38.7s\n",
      "[CV 4/5] END ........C=1, gamma=0.1, kernel=rbf;, score=0.369 total time=  35.8s\n",
      "[CV 5/5] END ........C=1, gamma=0.1, kernel=rbf;, score=0.350 total time=  33.7s\n",
      "[CV 1/5] END .......C=1, gamma=0.1, kernel=poly;, score=0.844 total time=  10.9s\n",
      "[CV 2/5] END .......C=1, gamma=0.1, kernel=poly;, score=0.824 total time=  13.2s\n",
      "[CV 3/5] END .......C=1, gamma=0.1, kernel=poly;, score=0.827 total time=  12.1s\n",
      "[CV 4/5] END .......C=1, gamma=0.1, kernel=poly;, score=0.837 total time=  15.8s\n",
      "[CV 5/5] END .......C=1, gamma=0.1, kernel=poly;, score=0.850 total time=  10.8s\n",
      "[CV 1/5] END ..........C=1, gamma=1, kernel=rbf;, score=0.342 total time=  33.0s\n",
      "[CV 2/5] END ..........C=1, gamma=1, kernel=rbf;, score=0.343 total time=  32.7s\n",
      "[CV 3/5] END ..........C=1, gamma=1, kernel=rbf;, score=0.343 total time=  37.9s\n",
      "[CV 4/5] END ..........C=1, gamma=1, kernel=rbf;, score=0.343 total time=  36.5s\n",
      "[CV 5/5] END ..........C=1, gamma=1, kernel=rbf;, score=0.343 total time=  37.5s\n",
      "[CV 1/5] END .........C=1, gamma=1, kernel=poly;, score=0.844 total time=  16.4s\n",
      "[CV 2/5] END .........C=1, gamma=1, kernel=poly;, score=0.824 total time=  14.2s\n",
      "[CV 3/5] END .........C=1, gamma=1, kernel=poly;, score=0.827 total time=  18.3s\n",
      "[CV 4/5] END .........C=1, gamma=1, kernel=poly;, score=0.837 total time=  15.5s\n",
      "[CV 5/5] END .........C=1, gamma=1, kernel=poly;, score=0.850 total time=  13.7s\n",
      "[CV 1/5] END ....C=10, gamma=0.0001, kernel=rbf;, score=0.746 total time=  25.1s\n",
      "[CV 2/5] END ....C=10, gamma=0.0001, kernel=rbf;, score=0.735 total time=  25.1s\n",
      "[CV 3/5] END ....C=10, gamma=0.0001, kernel=rbf;, score=0.775 total time=  22.3s\n",
      "[CV 4/5] END ....C=10, gamma=0.0001, kernel=rbf;, score=0.732 total time=  21.1s\n",
      "[CV 5/5] END ....C=10, gamma=0.0001, kernel=rbf;, score=0.765 total time=  22.2s\n",
      "[CV 1/5] END ...C=10, gamma=0.0001, kernel=poly;, score=0.697 total time=  20.5s\n",
      "[CV 2/5] END ...C=10, gamma=0.0001, kernel=poly;, score=0.670 total time=  15.7s\n",
      "[CV 3/5] END ...C=10, gamma=0.0001, kernel=poly;, score=0.729 total time=  15.3s\n",
      "[CV 4/5] END ...C=10, gamma=0.0001, kernel=poly;, score=0.647 total time=  17.5s\n",
      "[CV 5/5] END ...C=10, gamma=0.0001, kernel=poly;, score=0.719 total time=  16.0s\n",
      "[CV 1/5] END .....C=10, gamma=0.001, kernel=rbf;, score=0.889 total time=  17.5s\n",
      "[CV 2/5] END .....C=10, gamma=0.001, kernel=rbf;, score=0.902 total time=  16.7s\n",
      "[CV 3/5] END .....C=10, gamma=0.001, kernel=rbf;, score=0.915 total time=  17.2s\n",
      "[CV 4/5] END .....C=10, gamma=0.001, kernel=rbf;, score=0.908 total time=  16.9s\n",
      "[CV 5/5] END .....C=10, gamma=0.001, kernel=rbf;, score=0.902 total time=  16.8s\n",
      "[CV 1/5] END ....C=10, gamma=0.001, kernel=poly;, score=0.844 total time=  10.6s\n",
      "[CV 2/5] END ....C=10, gamma=0.001, kernel=poly;, score=0.824 total time=  13.1s\n",
      "[CV 3/5] END ....C=10, gamma=0.001, kernel=poly;, score=0.827 total time=  12.2s\n",
      "[CV 4/5] END ....C=10, gamma=0.001, kernel=poly;, score=0.837 total time=  12.8s\n",
      "[CV 5/5] END ....C=10, gamma=0.001, kernel=poly;, score=0.850 total time=  10.6s\n",
      "[CV 1/5] END .......C=10, gamma=0.1, kernel=rbf;, score=0.404 total time=  30.7s\n"
     ]
    },
    {
     "name": "stdout",
     "output_type": "stream",
     "text": [
      "[CV 2/5] END .......C=10, gamma=0.1, kernel=rbf;, score=0.392 total time=  32.3s\n",
      "[CV 3/5] END .......C=10, gamma=0.1, kernel=rbf;, score=0.395 total time=  36.6s\n",
      "[CV 4/5] END .......C=10, gamma=0.1, kernel=rbf;, score=0.392 total time=  31.5s\n",
      "[CV 5/5] END .......C=10, gamma=0.1, kernel=rbf;, score=0.363 total time=  30.5s\n",
      "[CV 1/5] END ......C=10, gamma=0.1, kernel=poly;, score=0.844 total time=  10.2s\n",
      "[CV 2/5] END ......C=10, gamma=0.1, kernel=poly;, score=0.824 total time=  15.9s\n",
      "[CV 3/5] END ......C=10, gamma=0.1, kernel=poly;, score=0.827 total time=  14.5s\n",
      "[CV 4/5] END ......C=10, gamma=0.1, kernel=poly;, score=0.837 total time=  16.3s\n",
      "[CV 5/5] END ......C=10, gamma=0.1, kernel=poly;, score=0.850 total time=   9.4s\n",
      "[CV 1/5] END .........C=10, gamma=1, kernel=rbf;, score=0.342 total time=  28.8s\n",
      "[CV 2/5] END .........C=10, gamma=1, kernel=rbf;, score=0.343 total time=  27.1s\n",
      "[CV 3/5] END .........C=10, gamma=1, kernel=rbf;, score=0.343 total time=  32.2s\n",
      "[CV 4/5] END .........C=10, gamma=1, kernel=rbf;, score=0.343 total time=  29.7s\n",
      "[CV 5/5] END .........C=10, gamma=1, kernel=rbf;, score=0.343 total time=  28.2s\n",
      "[CV 1/5] END ........C=10, gamma=1, kernel=poly;, score=0.844 total time=   9.1s\n",
      "[CV 2/5] END ........C=10, gamma=1, kernel=poly;, score=0.824 total time=  11.3s\n",
      "[CV 3/5] END ........C=10, gamma=1, kernel=poly;, score=0.827 total time=  10.0s\n",
      "[CV 4/5] END ........C=10, gamma=1, kernel=poly;, score=0.837 total time=  11.3s\n",
      "[CV 5/5] END ........C=10, gamma=1, kernel=poly;, score=0.850 total time=   9.6s\n",
      "[CV 1/5] END ...C=100, gamma=0.0001, kernel=rbf;, score=0.814 total time=  16.9s\n",
      "[CV 2/5] END ...C=100, gamma=0.0001, kernel=rbf;, score=0.781 total time=  16.9s\n",
      "[CV 3/5] END ...C=100, gamma=0.0001, kernel=rbf;, score=0.817 total time=  17.2s\n",
      "[CV 4/5] END ...C=100, gamma=0.0001, kernel=rbf;, score=0.824 total time=  16.9s\n",
      "[CV 5/5] END ...C=100, gamma=0.0001, kernel=rbf;, score=0.817 total time=  17.0s\n",
      "[CV 1/5] END ..C=100, gamma=0.0001, kernel=poly;, score=0.792 total time=  10.2s\n",
      "[CV 2/5] END ..C=100, gamma=0.0001, kernel=poly;, score=0.778 total time=   9.9s\n",
      "[CV 3/5] END ..C=100, gamma=0.0001, kernel=poly;, score=0.804 total time=  10.2s\n",
      "[CV 4/5] END ..C=100, gamma=0.0001, kernel=poly;, score=0.758 total time=  10.1s\n",
      "[CV 5/5] END ..C=100, gamma=0.0001, kernel=poly;, score=0.794 total time=  10.0s\n",
      "[CV 1/5] END ....C=100, gamma=0.001, kernel=rbf;, score=0.896 total time=  15.2s\n",
      "[CV 2/5] END ....C=100, gamma=0.001, kernel=rbf;, score=0.908 total time=  15.7s\n",
      "[CV 3/5] END ....C=100, gamma=0.001, kernel=rbf;, score=0.915 total time=  17.1s\n",
      "[CV 4/5] END ....C=100, gamma=0.001, kernel=rbf;, score=0.902 total time=  16.2s\n",
      "[CV 5/5] END ....C=100, gamma=0.001, kernel=rbf;, score=0.902 total time=  16.6s\n",
      "[CV 1/5] END ...C=100, gamma=0.001, kernel=poly;, score=0.844 total time=   9.5s\n",
      "[CV 2/5] END ...C=100, gamma=0.001, kernel=poly;, score=0.824 total time=  11.6s\n",
      "[CV 3/5] END ...C=100, gamma=0.001, kernel=poly;, score=0.827 total time=  10.1s\n",
      "[CV 4/5] END ...C=100, gamma=0.001, kernel=poly;, score=0.837 total time=  11.2s\n",
      "[CV 5/5] END ...C=100, gamma=0.001, kernel=poly;, score=0.850 total time=   9.1s\n",
      "[CV 1/5] END ......C=100, gamma=0.1, kernel=rbf;, score=0.404 total time=  28.6s\n",
      "[CV 2/5] END ......C=100, gamma=0.1, kernel=rbf;, score=0.392 total time=  28.5s\n",
      "[CV 3/5] END ......C=100, gamma=0.1, kernel=rbf;, score=0.395 total time=  29.3s\n",
      "[CV 4/5] END ......C=100, gamma=0.1, kernel=rbf;, score=0.392 total time=  28.7s\n",
      "[CV 5/5] END ......C=100, gamma=0.1, kernel=rbf;, score=0.363 total time=  29.6s\n",
      "[CV 1/5] END .....C=100, gamma=0.1, kernel=poly;, score=0.844 total time=  10.4s\n",
      "[CV 2/5] END .....C=100, gamma=0.1, kernel=poly;, score=0.824 total time=  11.8s\n",
      "[CV 3/5] END .....C=100, gamma=0.1, kernel=poly;, score=0.827 total time=  10.9s\n",
      "[CV 4/5] END .....C=100, gamma=0.1, kernel=poly;, score=0.837 total time=  11.3s\n",
      "[CV 5/5] END .....C=100, gamma=0.1, kernel=poly;, score=0.850 total time=   9.9s\n",
      "[CV 1/5] END ........C=100, gamma=1, kernel=rbf;, score=0.342 total time=  30.3s\n",
      "[CV 2/5] END ........C=100, gamma=1, kernel=rbf;, score=0.343 total time=  28.3s\n",
      "[CV 3/5] END ........C=100, gamma=1, kernel=rbf;, score=0.343 total time=  27.2s\n",
      "[CV 4/5] END ........C=100, gamma=1, kernel=rbf;, score=0.343 total time=  27.6s\n",
      "[CV 5/5] END ........C=100, gamma=1, kernel=rbf;, score=0.343 total time=  27.8s\n",
      "[CV 1/5] END .......C=100, gamma=1, kernel=poly;, score=0.844 total time=   8.8s\n",
      "[CV 2/5] END .......C=100, gamma=1, kernel=poly;, score=0.824 total time=   9.9s\n",
      "[CV 3/5] END .......C=100, gamma=1, kernel=poly;, score=0.827 total time=   9.7s\n",
      "[CV 4/5] END .......C=100, gamma=1, kernel=poly;, score=0.837 total time=  10.9s\n",
      "[CV 5/5] END .......C=100, gamma=1, kernel=poly;, score=0.850 total time=   8.8s\n"
     ]
    },
    {
     "data": {
      "text/plain": [
       "GridSearchCV(estimator=SVC(),\n",
       "             param_grid={'C': [0.1, 1, 10, 100],\n",
       "                         'gamma': [0.0001, 0.001, 0.1, 1],\n",
       "                         'kernel': ['rbf', 'poly']},\n",
       "             verbose=3)"
      ]
     },
     "execution_count": 146,
     "metadata": {},
     "output_type": "execute_result"
    }
   ],
   "source": [
    "from sklearn import svm\n",
    "from sklearn.model_selection import GridSearchCV\n",
    "from sklearn.svm import SVC\n",
    "\n",
    "param_grid={'C':[0.1,1,10,100],'gamma':[0.0001,0.001,0.1,1],'kernel':['rbf','poly']}\n",
    "#param_grid={'C':[0.1],'gamma':[0.0001],'kernel':['rbf','poly']}\n",
    "model=GridSearchCV(SVC(),param_grid,refit=True,verbose=3)\n",
    "model.fit(x_train, y_train)"
   ]
  },
  {
   "cell_type": "code",
   "execution_count": 147,
   "id": "0792b4eb",
   "metadata": {},
   "outputs": [
    {
     "name": "stdout",
     "output_type": "stream",
     "text": [
      "{'C': 100, 'gamma': 0.001, 'kernel': 'rbf'}\n"
     ]
    }
   ],
   "source": [
    "print(model.best_params_)"
   ]
  },
  {
   "cell_type": "code",
   "execution_count": 14,
   "id": "5f330bfb",
   "metadata": {},
   "outputs": [
    {
     "name": "stdout",
     "output_type": "stream",
     "text": [
      "Fitting 5 folds for each of 18 candidates, totalling 90 fits\n",
      "[CV 1/5] END C=10, degree=3, gamma=0.001, kernel=rbf;, score=0.889 total time=  18.5s\n",
      "[CV 2/5] END C=10, degree=3, gamma=0.001, kernel=rbf;, score=0.902 total time=  15.5s\n",
      "[CV 3/5] END C=10, degree=3, gamma=0.001, kernel=rbf;, score=0.915 total time=  15.7s\n",
      "[CV 4/5] END C=10, degree=3, gamma=0.001, kernel=rbf;, score=0.908 total time=  15.6s\n",
      "[CV 5/5] END C=10, degree=3, gamma=0.001, kernel=rbf;, score=0.902 total time=  15.5s\n",
      "[CV 1/5] END C=10, degree=3, gamma=0.001, kernel=poly;, score=0.844 total time=  10.5s\n",
      "[CV 2/5] END C=10, degree=3, gamma=0.001, kernel=poly;, score=0.824 total time=  13.1s\n",
      "[CV 3/5] END C=10, degree=3, gamma=0.001, kernel=poly;, score=0.827 total time=  11.7s\n",
      "[CV 4/5] END C=10, degree=3, gamma=0.001, kernel=poly;, score=0.837 total time=  12.6s\n",
      "[CV 5/5] END C=10, degree=3, gamma=0.001, kernel=poly;, score=0.850 total time=  10.5s\n",
      "[CV 1/5] END C=10, degree=4, gamma=0.001, kernel=rbf;, score=0.889 total time=  15.4s\n",
      "[CV 2/5] END C=10, degree=4, gamma=0.001, kernel=rbf;, score=0.902 total time=  15.4s\n",
      "[CV 3/5] END C=10, degree=4, gamma=0.001, kernel=rbf;, score=0.915 total time=  15.4s\n",
      "[CV 4/5] END C=10, degree=4, gamma=0.001, kernel=rbf;, score=0.908 total time=  15.5s\n",
      "[CV 5/5] END C=10, degree=4, gamma=0.001, kernel=rbf;, score=0.902 total time=  15.4s\n",
      "[CV 1/5] END C=10, degree=4, gamma=0.001, kernel=poly;, score=0.857 total time=   9.8s\n",
      "[CV 2/5] END C=10, degree=4, gamma=0.001, kernel=poly;, score=0.843 total time=  10.2s\n",
      "[CV 3/5] END C=10, degree=4, gamma=0.001, kernel=poly;, score=0.840 total time=   9.8s\n",
      "[CV 4/5] END C=10, degree=4, gamma=0.001, kernel=poly;, score=0.859 total time=   9.9s\n",
      "[CV 5/5] END C=10, degree=4, gamma=0.001, kernel=poly;, score=0.856 total time=  10.0s\n",
      "[CV 1/5] END C=10, degree=5, gamma=0.001, kernel=rbf;, score=0.889 total time=  15.5s\n",
      "[CV 2/5] END C=10, degree=5, gamma=0.001, kernel=rbf;, score=0.902 total time=  15.4s\n",
      "[CV 3/5] END C=10, degree=5, gamma=0.001, kernel=rbf;, score=0.915 total time=  15.4s\n",
      "[CV 4/5] END C=10, degree=5, gamma=0.001, kernel=rbf;, score=0.908 total time=  15.4s\n",
      "[CV 5/5] END C=10, degree=5, gamma=0.001, kernel=rbf;, score=0.902 total time=  15.4s\n",
      "[CV 1/5] END C=10, degree=5, gamma=0.001, kernel=poly;, score=0.863 total time=   9.9s\n",
      "[CV 2/5] END C=10, degree=5, gamma=0.001, kernel=poly;, score=0.837 total time=   9.8s\n",
      "[CV 3/5] END C=10, degree=5, gamma=0.001, kernel=poly;, score=0.843 total time=   9.7s\n",
      "[CV 4/5] END C=10, degree=5, gamma=0.001, kernel=poly;, score=0.866 total time=   9.7s\n",
      "[CV 5/5] END C=10, degree=5, gamma=0.001, kernel=poly;, score=0.856 total time=   9.3s\n",
      "[CV 1/5] END C=100, degree=3, gamma=0.001, kernel=rbf;, score=0.896 total time=  15.2s\n",
      "[CV 2/5] END C=100, degree=3, gamma=0.001, kernel=rbf;, score=0.908 total time=  15.1s\n",
      "[CV 3/5] END C=100, degree=3, gamma=0.001, kernel=rbf;, score=0.915 total time=  14.9s\n",
      "[CV 4/5] END C=100, degree=3, gamma=0.001, kernel=rbf;, score=0.902 total time=  15.1s\n",
      "[CV 5/5] END C=100, degree=3, gamma=0.001, kernel=rbf;, score=0.902 total time=  15.0s\n",
      "[CV 1/5] END C=100, degree=3, gamma=0.001, kernel=poly;, score=0.844 total time=  10.4s\n",
      "[CV 2/5] END C=100, degree=3, gamma=0.001, kernel=poly;, score=0.824 total time=  12.8s\n",
      "[CV 3/5] END C=100, degree=3, gamma=0.001, kernel=poly;, score=0.827 total time=  11.5s\n",
      "[CV 4/5] END C=100, degree=3, gamma=0.001, kernel=poly;, score=0.837 total time=  12.7s\n",
      "[CV 5/5] END C=100, degree=3, gamma=0.001, kernel=poly;, score=0.850 total time=  10.5s\n",
      "[CV 1/5] END C=100, degree=4, gamma=0.001, kernel=rbf;, score=0.896 total time=  16.0s\n",
      "[CV 2/5] END C=100, degree=4, gamma=0.001, kernel=rbf;, score=0.908 total time=  18.0s\n",
      "[CV 3/5] END C=100, degree=4, gamma=0.001, kernel=rbf;, score=0.915 total time=  15.3s\n",
      "[CV 4/5] END C=100, degree=4, gamma=0.001, kernel=rbf;, score=0.902 total time=  15.7s\n",
      "[CV 5/5] END C=100, degree=4, gamma=0.001, kernel=rbf;, score=0.902 total time=  15.1s\n",
      "[CV 1/5] END C=100, degree=4, gamma=0.001, kernel=poly;, score=0.857 total time=  16.0s\n",
      "[CV 2/5] END C=100, degree=4, gamma=0.001, kernel=poly;, score=0.843 total time=  11.1s\n",
      "[CV 3/5] END C=100, degree=4, gamma=0.001, kernel=poly;, score=0.840 total time=  16.8s\n",
      "[CV 4/5] END C=100, degree=4, gamma=0.001, kernel=poly;, score=0.859 total time=  12.8s\n",
      "[CV 5/5] END C=100, degree=4, gamma=0.001, kernel=poly;, score=0.856 total time=  11.6s\n",
      "[CV 1/5] END C=100, degree=5, gamma=0.001, kernel=rbf;, score=0.896 total time=  18.1s\n",
      "[CV 2/5] END C=100, degree=5, gamma=0.001, kernel=rbf;, score=0.908 total time=  16.5s\n",
      "[CV 3/5] END C=100, degree=5, gamma=0.001, kernel=rbf;, score=0.915 total time=  16.6s\n",
      "[CV 4/5] END C=100, degree=5, gamma=0.001, kernel=rbf;, score=0.902 total time=  17.1s\n",
      "[CV 5/5] END C=100, degree=5, gamma=0.001, kernel=rbf;, score=0.902 total time=  16.1s\n",
      "[CV 1/5] END C=100, degree=5, gamma=0.001, kernel=poly;, score=0.863 total time=  10.2s\n",
      "[CV 2/5] END C=100, degree=5, gamma=0.001, kernel=poly;, score=0.837 total time=  12.6s\n",
      "[CV 3/5] END C=100, degree=5, gamma=0.001, kernel=poly;, score=0.843 total time=  11.2s\n",
      "[CV 4/5] END C=100, degree=5, gamma=0.001, kernel=poly;, score=0.866 total time=  11.9s\n",
      "[CV 5/5] END C=100, degree=5, gamma=0.001, kernel=poly;, score=0.856 total time=  12.3s\n",
      "[CV 1/5] END C=1000, degree=3, gamma=0.001, kernel=rbf;, score=0.896 total time=  16.7s\n",
      "[CV 2/5] END C=1000, degree=3, gamma=0.001, kernel=rbf;, score=0.908 total time=  15.7s\n",
      "[CV 3/5] END C=1000, degree=3, gamma=0.001, kernel=rbf;, score=0.915 total time=  15.4s\n",
      "[CV 4/5] END C=1000, degree=3, gamma=0.001, kernel=rbf;, score=0.902 total time=  15.9s\n",
      "[CV 5/5] END C=1000, degree=3, gamma=0.001, kernel=rbf;, score=0.902 total time=  15.8s\n",
      "[CV 1/5] END C=1000, degree=3, gamma=0.001, kernel=poly;, score=0.844 total time=  10.5s\n",
      "[CV 2/5] END C=1000, degree=3, gamma=0.001, kernel=poly;, score=0.824 total time=  13.2s\n",
      "[CV 3/5] END C=1000, degree=3, gamma=0.001, kernel=poly;, score=0.827 total time=  11.8s\n",
      "[CV 4/5] END C=1000, degree=3, gamma=0.001, kernel=poly;, score=0.837 total time=  12.8s\n",
      "[CV 5/5] END C=1000, degree=3, gamma=0.001, kernel=poly;, score=0.850 total time=  10.8s\n",
      "[CV 1/5] END C=1000, degree=4, gamma=0.001, kernel=rbf;, score=0.896 total time=  15.5s\n",
      "[CV 2/5] END C=1000, degree=4, gamma=0.001, kernel=rbf;, score=0.908 total time=  15.4s\n",
      "[CV 3/5] END C=1000, degree=4, gamma=0.001, kernel=rbf;, score=0.915 total time=  15.4s\n",
      "[CV 4/5] END C=1000, degree=4, gamma=0.001, kernel=rbf;, score=0.902 total time=  15.6s\n",
      "[CV 5/5] END C=1000, degree=4, gamma=0.001, kernel=rbf;, score=0.902 total time=  16.3s\n",
      "[CV 1/5] END C=1000, degree=4, gamma=0.001, kernel=poly;, score=0.857 total time=  11.3s\n",
      "[CV 2/5] END C=1000, degree=4, gamma=0.001, kernel=poly;, score=0.843 total time=   8.9s\n",
      "[CV 3/5] END C=1000, degree=4, gamma=0.001, kernel=poly;, score=0.840 total time=   8.7s\n",
      "[CV 4/5] END C=1000, degree=4, gamma=0.001, kernel=poly;, score=0.859 total time=   8.5s\n",
      "[CV 5/5] END C=1000, degree=4, gamma=0.001, kernel=poly;, score=0.856 total time=   8.2s\n",
      "[CV 1/5] END C=1000, degree=5, gamma=0.001, kernel=rbf;, score=0.896 total time=  13.4s\n",
      "[CV 2/5] END C=1000, degree=5, gamma=0.001, kernel=rbf;, score=0.908 total time=  13.5s\n",
      "[CV 3/5] END C=1000, degree=5, gamma=0.001, kernel=rbf;, score=0.915 total time=  13.7s\n",
      "[CV 4/5] END C=1000, degree=5, gamma=0.001, kernel=rbf;, score=0.902 total time=  14.2s\n",
      "[CV 5/5] END C=1000, degree=5, gamma=0.001, kernel=rbf;, score=0.902 total time=  14.0s\n",
      "[CV 1/5] END C=1000, degree=5, gamma=0.001, kernel=poly;, score=0.863 total time=   8.3s\n",
      "[CV 2/5] END C=1000, degree=5, gamma=0.001, kernel=poly;, score=0.837 total time=   8.4s\n",
      "[CV 3/5] END C=1000, degree=5, gamma=0.001, kernel=poly;, score=0.843 total time=   8.5s\n",
      "[CV 4/5] END C=1000, degree=5, gamma=0.001, kernel=poly;, score=0.866 total time=   8.7s\n",
      "[CV 5/5] END C=1000, degree=5, gamma=0.001, kernel=poly;, score=0.856 total time=   8.4s\n"
     ]
    },
    {
     "data": {
      "text/plain": [
       "GridSearchCV(estimator=SVC(),\n",
       "             param_grid={'C': [10, 100, 1000], 'degree': [3, 4, 5],\n",
       "                         'gamma': [0.001], 'kernel': ['rbf', 'poly']},\n",
       "             verbose=3)"
      ]
     },
     "execution_count": 14,
     "metadata": {},
     "output_type": "execute_result"
    }
   ],
   "source": [
    "param_grid={'C':[10,100,1000],'gamma':[0.001],'kernel':['rbf','poly'],'degree':[3,4,5]}\n",
    "#param_grid={'C':[0.1],'gamma':[0.0001],'kernel':['rbf','poly']}\n",
    "model=GridSearchCV(SVC(),param_grid,refit=True,verbose=3)\n",
    "model.fit(x_train, y_train)"
   ]
  },
  {
   "cell_type": "code",
   "execution_count": 15,
   "id": "3ee45032",
   "metadata": {},
   "outputs": [
    {
     "name": "stdout",
     "output_type": "stream",
     "text": [
      "{'C': 100, 'degree': 3, 'gamma': 0.001, 'kernel': 'rbf'}\n"
     ]
    }
   ],
   "source": [
    "print(model.best_params_)"
   ]
  },
  {
   "cell_type": "code",
   "execution_count": 34,
   "id": "27dd8772",
   "metadata": {},
   "outputs": [
    {
     "name": "stdout",
     "output_type": "stream",
     "text": [
      "Fitting 5 folds for each of 5 candidates, totalling 25 fits\n",
      "[CV 1/5] END ..............C=0.1, kernel=linear;, score=0.733 total time=  12.9s\n",
      "[CV 2/5] END ..............C=0.1, kernel=linear;, score=0.696 total time=  10.8s\n",
      "[CV 3/5] END ..............C=0.1, kernel=linear;, score=0.739 total time=  10.6s\n",
      "[CV 4/5] END ..............C=0.1, kernel=linear;, score=0.686 total time=  10.7s\n",
      "[CV 5/5] END ..............C=0.1, kernel=linear;, score=0.709 total time=  10.2s\n",
      "[CV 1/5] END ................C=1, kernel=linear;, score=0.658 total time=  12.7s\n",
      "[CV 2/5] END ................C=1, kernel=linear;, score=0.683 total time=  13.7s\n",
      "[CV 3/5] END ................C=1, kernel=linear;, score=0.683 total time=  11.8s\n",
      "[CV 4/5] END ................C=1, kernel=linear;, score=0.647 total time=  12.7s\n",
      "[CV 5/5] END ................C=1, kernel=linear;, score=0.683 total time=  12.6s\n",
      "[CV 1/5] END ...............C=10, kernel=linear;, score=0.658 total time=  12.3s\n",
      "[CV 2/5] END ...............C=10, kernel=linear;, score=0.683 total time=  12.6s\n",
      "[CV 3/5] END ...............C=10, kernel=linear;, score=0.683 total time=  11.6s\n",
      "[CV 4/5] END ...............C=10, kernel=linear;, score=0.647 total time=  11.5s\n",
      "[CV 5/5] END ...............C=10, kernel=linear;, score=0.683 total time=  12.4s\n",
      "[CV 1/5] END ..............C=100, kernel=linear;, score=0.658 total time=  12.7s\n",
      "[CV 2/5] END ..............C=100, kernel=linear;, score=0.683 total time=  12.7s\n",
      "[CV 3/5] END ..............C=100, kernel=linear;, score=0.683 total time=  12.0s\n",
      "[CV 4/5] END ..............C=100, kernel=linear;, score=0.647 total time=  12.1s\n",
      "[CV 5/5] END ..............C=100, kernel=linear;, score=0.683 total time=  12.4s\n",
      "[CV 1/5] END .............C=1000, kernel=linear;, score=0.658 total time=  12.2s\n",
      "[CV 2/5] END .............C=1000, kernel=linear;, score=0.683 total time=  12.9s\n",
      "[CV 3/5] END .............C=1000, kernel=linear;, score=0.683 total time=  12.1s\n",
      "[CV 4/5] END .............C=1000, kernel=linear;, score=0.647 total time=  12.0s\n",
      "[CV 5/5] END .............C=1000, kernel=linear;, score=0.683 total time=  12.2s\n"
     ]
    },
    {
     "data": {
      "text/plain": [
       "GridSearchCV(estimator=SVC(),\n",
       "             param_grid={'C': [0.1, 1, 10, 100, 1000], 'kernel': ['linear']},\n",
       "             verbose=3)"
      ]
     },
     "execution_count": 34,
     "metadata": {},
     "output_type": "execute_result"
    }
   ],
   "source": [
    "param_grid={'C':[0.1,1,10,100,1000],'kernel':['linear']}\n",
    "model=GridSearchCV(SVC(),param_grid,refit=True,verbose=3)\n",
    "model.fit(x_train, y_train)"
   ]
  },
  {
   "cell_type": "markdown",
   "id": "3d822f21",
   "metadata": {},
   "source": [
    "### RBF with c=100, gamma=0.001 performs best on training set\n",
    "### Changing polynomial dimensions does not have significant impact on training accuracy"
   ]
  },
  {
   "cell_type": "code",
   "execution_count": 6,
   "id": "961ccb26",
   "metadata": {},
   "outputs": [],
   "source": [
    "best_train_model = svm.SVC(kernel='rbf', gamma=0.001, C=100).fit(x_train, y_train)"
   ]
  },
  {
   "cell_type": "code",
   "execution_count": 7,
   "id": "5b8e0ed7",
   "metadata": {},
   "outputs": [
    {
     "name": "stdout",
     "output_type": "stream",
     "text": [
      "The predicted Data is :\n",
      "[0 0 0 0 0 0 0 0 0 0 0 0 0 0 0 0 0 0 0 0 0 0 0 0 0 0 0 0 0 0 0 0 0 0 0 0 0\n",
      " 0 0 0 0 2 0 0 0 0 0 0 0 0 0 0 0 0 0 0 0 0 0 0 0 0 0 0 0 0 0 2 0 0 0 1 0 0\n",
      " 0 0 0 2 0 0 0 0 0 0 0 2 0 2 0 0 0 0 0 0 0 0 0 0 0 0 0 0 0 0 0 0 0 0 0 1 1\n",
      " 1 0 2 1 1 1 1 1 1 1 1 1 1 1 1 2 1 1 0 1 1 1 1 0 1 1 1 2 1 0 1 1 1 2 1 1 1\n",
      " 1 1 1 1 2 1 1 1 0 1 1 1 1 1 1 1 1 1 1 1 1 1 1 0 0 1 1 1 1 1 1 1 1 1 1 1 1\n",
      " 1 1 1 1 1 1 1 1 1 1 1 1 1 1 1 1 1 1 1 1 1 1 1 1 1 1 2 2 1 1 1 2 2 2 2 2 0\n",
      " 2 2 2 2 2 2 2 1 2 0 2 2 2 2 2 2 0 2 2 2 2 2 2 2 2 2 2 2 2 2 0 2 2 2 2 2 2\n",
      " 2 2 0 2 2 2 2 2 2 2 2 2 2 2 0 2 2 2 2 2 2 2 2 2 2 2 2 2 2 2 2 2 2 2 2 2 2\n",
      " 2 2 2 2 2 2 0 2 2 2 2 2 2 2 2 2 2 2 2 2 2 2 2 2 2 2 2 2 2 2 2 2 2]\n",
      "The actual data is:\n",
      "[0 0 0 0 0 0 0 0 0 0 0 0 0 0 0 0 0 0 0 0 0 0 0 0 0 0 0 0 0 0 0 0 0 0 0 0 0\n",
      " 0 0 0 0 0 0 0 0 0 0 0 0 0 0 0 0 0 0 0 0 0 0 0 0 0 0 0 0 0 0 0 0 0 0 0 0 0\n",
      " 0 0 0 0 0 0 0 0 0 0 0 0 0 0 0 0 0 0 0 0 0 0 0 0 0 0 0 0 0 0 0 0 0 0 0 1 1\n",
      " 1 1 1 1 1 1 1 1 1 1 1 1 1 1 1 1 1 1 1 1 1 1 1 1 1 1 1 1 1 1 1 1 1 1 1 1 1\n",
      " 1 1 1 1 1 1 1 1 1 1 1 1 1 1 1 1 1 1 1 1 1 1 1 1 1 1 1 1 1 1 1 1 1 1 1 1 1\n",
      " 1 1 1 1 1 1 1 1 1 1 1 1 1 1 1 1 1 1 1 1 1 1 1 1 1 1 1 1 1 1 1 2 2 2 2 2 2\n",
      " 2 2 2 2 2 2 2 2 2 2 2 2 2 2 2 2 2 2 2 2 2 2 2 2 2 2 2 2 2 2 2 2 2 2 2 2 2\n",
      " 2 2 2 2 2 2 2 2 2 2 2 2 2 2 2 2 2 2 2 2 2 2 2 2 2 2 2 2 2 2 2 2 2 2 2 2 2\n",
      " 2 2 2 2 2 2 2 2 2 2 2 2 2 2 2 2 2 2 2 2 2 2 2 2 2 2 2 2 2 2 2 2 2]\n"
     ]
    }
   ],
   "source": [
    "#model.fit(x_train,y_train)\n",
    "y_pred=best_train_model.predict(x_test)\n",
    "print(\"The predicted Data is :\")\n",
    "print(y_pred)\n",
    "print(\"The actual data is:\")\n",
    "print(np.array(y_test))\n",
    "#print(f\"The model is {accuracy_score(y_pred,y_test)*100}% accurate\")"
   ]
  },
  {
   "cell_type": "code",
   "execution_count": 56,
   "id": "25d711da",
   "metadata": {},
   "outputs": [],
   "source": [
    "def test_score(trained_model):\n",
    "    pred_y = trained_model.predict(x_test)\n",
    "    print(confusion_matrix(y_test,pred_y))\n",
    "    print(classification_report(y_test,pred_y))\n",
    "    \n",
    "def train_score(trained_model):\n",
    "    pred_y = trained_model.predict(x_train)\n",
    "    print(confusion_matrix(y_train,pred_y))\n",
    "    print(classification_report(y_train,pred_y))\n",
    "    \n",
    "def val_score(trained_model):\n",
    "    pred_y = trained_model.predict(x_val)\n",
    "    print(confusion_matrix(y_val,pred_y))\n",
    "    print(classification_report(y_val,pred_y))"
   ]
  },
  {
   "cell_type": "code",
   "execution_count": 13,
   "id": "8ac18fd2",
   "metadata": {},
   "outputs": [
    {
     "name": "stdout",
     "output_type": "stream",
     "text": [
      "[[ 98   3   8]\n",
      " [  4  92  11]\n",
      " [  3   1 108]]\n",
      "              precision    recall  f1-score   support\n",
      "\n",
      "           0       0.93      0.90      0.92       109\n",
      "           1       0.96      0.86      0.91       107\n",
      "           2       0.85      0.96      0.90       112\n",
      "\n",
      "    accuracy                           0.91       328\n",
      "   macro avg       0.91      0.91      0.91       328\n",
      "weighted avg       0.91      0.91      0.91       328\n",
      "\n"
     ]
    }
   ],
   "source": [
    "#C=100, gamma=0.001, kernel=rbf\n",
    "val_score(best_train_model)"
   ]
  },
  {
   "cell_type": "code",
   "execution_count": 14,
   "id": "9d51644f",
   "metadata": {},
   "outputs": [
    {
     "name": "stdout",
     "output_type": "stream",
     "text": [
      "[[508   0   0]\n",
      " [  0 498   0]\n",
      " [  0   0 525]]\n",
      "              precision    recall  f1-score   support\n",
      "\n",
      "           0       1.00      1.00      1.00       508\n",
      "           1       1.00      1.00      1.00       498\n",
      "           2       1.00      1.00      1.00       525\n",
      "\n",
      "    accuracy                           1.00      1531\n",
      "   macro avg       1.00      1.00      1.00      1531\n",
      "weighted avg       1.00      1.00      1.00      1531\n",
      "\n"
     ]
    }
   ],
   "source": [
    "train_score(best_train_model)"
   ]
  },
  {
   "cell_type": "markdown",
   "id": "dfe73cfa",
   "metadata": {},
   "source": [
    "### Testing alternative models"
   ]
  },
  {
   "cell_type": "code",
   "execution_count": 15,
   "id": "d9f2cd83",
   "metadata": {},
   "outputs": [
    {
     "name": "stdout",
     "output_type": "stream",
     "text": [
      "[[ 98   3   8]\n",
      " [  4  92  11]\n",
      " [  3   1 108]]\n",
      "              precision    recall  f1-score   support\n",
      "\n",
      "           0       0.93      0.90      0.92       109\n",
      "           1       0.96      0.86      0.91       107\n",
      "           2       0.85      0.96      0.90       112\n",
      "\n",
      "    accuracy                           0.91       328\n",
      "   macro avg       0.91      0.91      0.91       328\n",
      "weighted avg       0.91      0.91      0.91       328\n",
      "\n"
     ]
    }
   ],
   "source": [
    "val_score(svm.SVC(C=1000,kernel='rbf',gamma=0.001).fit(x_train, y_train))"
   ]
  },
  {
   "cell_type": "code",
   "execution_count": 16,
   "id": "4e28569b",
   "metadata": {},
   "outputs": [
    {
     "name": "stdout",
     "output_type": "stream",
     "text": [
      "[[97  3  9]\n",
      " [10 88  9]\n",
      " [10  5 97]]\n",
      "              precision    recall  f1-score   support\n",
      "\n",
      "           0       0.83      0.89      0.86       109\n",
      "           1       0.92      0.82      0.87       107\n",
      "           2       0.84      0.87      0.85       112\n",
      "\n",
      "    accuracy                           0.86       328\n",
      "   macro avg       0.86      0.86      0.86       328\n",
      "weighted avg       0.86      0.86      0.86       328\n",
      "\n"
     ]
    }
   ],
   "source": [
    "#C=0.1, gamma=0.001, kernel=poly\n",
    "val_score(svm.SVC(C=0.1, kernel='poly').fit(x_train, y_train))"
   ]
  },
  {
   "cell_type": "code",
   "execution_count": 17,
   "id": "be75f66f",
   "metadata": {},
   "outputs": [
    {
     "name": "stdout",
     "output_type": "stream",
     "text": [
      "[[98  4  7]\n",
      " [10 88  9]\n",
      " [10  4 98]]\n",
      "              precision    recall  f1-score   support\n",
      "\n",
      "           0       0.83      0.90      0.86       109\n",
      "           1       0.92      0.82      0.87       107\n",
      "           2       0.86      0.88      0.87       112\n",
      "\n",
      "    accuracy                           0.87       328\n",
      "   macro avg       0.87      0.87      0.87       328\n",
      "weighted avg       0.87      0.87      0.87       328\n",
      "\n"
     ]
    }
   ],
   "source": [
    "val_score(svm.SVC(C=1, kernel='poly').fit(x_train, y_train))"
   ]
  },
  {
   "cell_type": "code",
   "execution_count": 18,
   "id": "72e38b4a",
   "metadata": {},
   "outputs": [
    {
     "name": "stdout",
     "output_type": "stream",
     "text": [
      "[[98  4  7]\n",
      " [10 88  9]\n",
      " [10  4 98]]\n",
      "              precision    recall  f1-score   support\n",
      "\n",
      "           0       0.83      0.90      0.86       109\n",
      "           1       0.92      0.82      0.87       107\n",
      "           2       0.86      0.88      0.87       112\n",
      "\n",
      "    accuracy                           0.87       328\n",
      "   macro avg       0.87      0.87      0.87       328\n",
      "weighted avg       0.87      0.87      0.87       328\n",
      "\n"
     ]
    }
   ],
   "source": [
    "val_score(svm.SVC(C=10, kernel='poly').fit(x_train, y_train))"
   ]
  },
  {
   "cell_type": "code",
   "execution_count": 19,
   "id": "89e37fd4",
   "metadata": {},
   "outputs": [
    {
     "name": "stdout",
     "output_type": "stream",
     "text": [
      "[[98  4  7]\n",
      " [10 88  9]\n",
      " [10  4 98]]\n",
      "              precision    recall  f1-score   support\n",
      "\n",
      "           0       0.83      0.90      0.86       109\n",
      "           1       0.92      0.82      0.87       107\n",
      "           2       0.86      0.88      0.87       112\n",
      "\n",
      "    accuracy                           0.87       328\n",
      "   macro avg       0.87      0.87      0.87       328\n",
      "weighted avg       0.87      0.87      0.87       328\n",
      "\n"
     ]
    }
   ],
   "source": [
    "val_score(svm.SVC(C=100, kernel='poly').fit(x_train, y_train))"
   ]
  },
  {
   "cell_type": "code",
   "execution_count": 20,
   "id": "9d33b65e",
   "metadata": {},
   "outputs": [
    {
     "name": "stdout",
     "output_type": "stream",
     "text": [
      "[[72 10 27]\n",
      " [10 72 25]\n",
      " [18  4 90]]\n",
      "              precision    recall  f1-score   support\n",
      "\n",
      "           0       0.72      0.66      0.69       109\n",
      "           1       0.84      0.67      0.75       107\n",
      "           2       0.63      0.80      0.71       112\n",
      "\n",
      "    accuracy                           0.71       328\n",
      "   macro avg       0.73      0.71      0.71       328\n",
      "weighted avg       0.73      0.71      0.71       328\n",
      "\n"
     ]
    }
   ],
   "source": [
    "val_score(svm.SVC(C=0.1, gamma=0.001, kernel='rbf').fit(x_train, y_train))"
   ]
  },
  {
   "cell_type": "code",
   "execution_count": 21,
   "id": "8eb97f84",
   "metadata": {},
   "outputs": [
    {
     "name": "stdout",
     "output_type": "stream",
     "text": [
      "[[346  61 101]\n",
      " [ 50 323 125]\n",
      " [ 79  19 427]]\n",
      "              precision    recall  f1-score   support\n",
      "\n",
      "           0       0.73      0.68      0.70       508\n",
      "           1       0.80      0.65      0.72       498\n",
      "           2       0.65      0.81      0.72       525\n",
      "\n",
      "    accuracy                           0.72      1531\n",
      "   macro avg       0.73      0.71      0.72      1531\n",
      "weighted avg       0.73      0.72      0.72      1531\n",
      "\n"
     ]
    }
   ],
   "source": [
    "train_score(svm.SVC(C=0.1, gamma=0.001, kernel='rbf').fit(x_train, y_train))"
   ]
  },
  {
   "cell_type": "code",
   "execution_count": 22,
   "id": "73ef6b2b",
   "metadata": {},
   "outputs": [
    {
     "name": "stdout",
     "output_type": "stream",
     "text": [
      "[[85  5 19]\n",
      " [ 7 85 15]\n",
      " [12  5 95]]\n",
      "              precision    recall  f1-score   support\n",
      "\n",
      "           0       0.82      0.78      0.80       109\n",
      "           1       0.89      0.79      0.84       107\n",
      "           2       0.74      0.85      0.79       112\n",
      "\n",
      "    accuracy                           0.81       328\n",
      "   macro avg       0.82      0.81      0.81       328\n",
      "weighted avg       0.81      0.81      0.81       328\n",
      "\n"
     ]
    }
   ],
   "source": [
    "val_score(svm.SVC(C=1, gamma=0.001, kernel='rbf').fit(x_train, y_train))"
   ]
  },
  {
   "cell_type": "code",
   "execution_count": 23,
   "id": "de616e83",
   "metadata": {},
   "outputs": [
    {
     "name": "stdout",
     "output_type": "stream",
     "text": [
      "[[ 95   3  11]\n",
      " [  5  92  10]\n",
      " [  5   2 105]]\n",
      "              precision    recall  f1-score   support\n",
      "\n",
      "           0       0.90      0.87      0.89       109\n",
      "           1       0.95      0.86      0.90       107\n",
      "           2       0.83      0.94      0.88       112\n",
      "\n",
      "    accuracy                           0.89       328\n",
      "   macro avg       0.90      0.89      0.89       328\n",
      "weighted avg       0.89      0.89      0.89       328\n",
      "\n"
     ]
    }
   ],
   "source": [
    "val_score(svm.SVC(C=10, gamma=0.001, kernel='rbf').fit(x_train, y_train))"
   ]
  },
  {
   "cell_type": "code",
   "execution_count": 24,
   "id": "4f351502",
   "metadata": {},
   "outputs": [
    {
     "name": "stdout",
     "output_type": "stream",
     "text": [
      "[[98  4  7]\n",
      " [10 88  9]\n",
      " [10  4 98]]\n",
      "              precision    recall  f1-score   support\n",
      "\n",
      "           0       0.83      0.90      0.86       109\n",
      "           1       0.92      0.82      0.87       107\n",
      "           2       0.86      0.88      0.87       112\n",
      "\n",
      "    accuracy                           0.87       328\n",
      "   macro avg       0.87      0.87      0.87       328\n",
      "weighted avg       0.87      0.87      0.87       328\n",
      "\n"
     ]
    }
   ],
   "source": [
    "val_score(svm.SVC(C=100, degree=3, kernel='poly').fit(x_train, y_train))"
   ]
  },
  {
   "cell_type": "code",
   "execution_count": 25,
   "id": "b07d7614",
   "metadata": {},
   "outputs": [
    {
     "name": "stdout",
     "output_type": "stream",
     "text": [
      "[[96  4  9]\n",
      " [10 89  8]\n",
      " [ 9  4 99]]\n",
      "              precision    recall  f1-score   support\n",
      "\n",
      "           0       0.83      0.88      0.86       109\n",
      "           1       0.92      0.83      0.87       107\n",
      "           2       0.85      0.88      0.87       112\n",
      "\n",
      "    accuracy                           0.87       328\n",
      "   macro avg       0.87      0.87      0.87       328\n",
      "weighted avg       0.87      0.87      0.87       328\n",
      "\n"
     ]
    }
   ],
   "source": [
    "val_score(svm.SVC(C=100, degree=4, kernel='poly').fit(x_train, y_train))"
   ]
  },
  {
   "cell_type": "code",
   "execution_count": 26,
   "id": "ce572aaf",
   "metadata": {},
   "outputs": [
    {
     "name": "stdout",
     "output_type": "stream",
     "text": [
      "[[96  4  9]\n",
      " [10 89  8]\n",
      " [ 8  6 98]]\n",
      "              precision    recall  f1-score   support\n",
      "\n",
      "           0       0.84      0.88      0.86       109\n",
      "           1       0.90      0.83      0.86       107\n",
      "           2       0.85      0.88      0.86       112\n",
      "\n",
      "    accuracy                           0.86       328\n",
      "   macro avg       0.86      0.86      0.86       328\n",
      "weighted avg       0.86      0.86      0.86       328\n",
      "\n"
     ]
    }
   ],
   "source": [
    "val_score(svm.SVC(C=100, degree=5, kernel='poly').fit(x_train, y_train))"
   ]
  },
  {
   "cell_type": "code",
   "execution_count": 36,
   "id": "e530e313",
   "metadata": {},
   "outputs": [
    {
     "name": "stdout",
     "output_type": "stream",
     "text": [
      "[[508   0   0]\n",
      " [  0 498   0]\n",
      " [  0   0 525]]\n",
      "              precision    recall  f1-score   support\n",
      "\n",
      "           0       1.00      1.00      1.00       508\n",
      "           1       1.00      1.00      1.00       498\n",
      "           2       1.00      1.00      1.00       525\n",
      "\n",
      "    accuracy                           1.00      1531\n",
      "   macro avg       1.00      1.00      1.00      1531\n",
      "weighted avg       1.00      1.00      1.00      1531\n",
      "\n"
     ]
    }
   ],
   "source": [
    "train_score(svm.SVC(C=100, degree=5, kernel='poly').fit(x_train, y_train))"
   ]
  },
  {
   "cell_type": "code",
   "execution_count": 27,
   "id": "e29fde64",
   "metadata": {},
   "outputs": [
    {
     "name": "stdout",
     "output_type": "stream",
     "text": [
      "[[82  5 22]\n",
      " [20 75 12]\n",
      " [24 13 75]]\n",
      "              precision    recall  f1-score   support\n",
      "\n",
      "           0       0.65      0.75      0.70       109\n",
      "           1       0.81      0.70      0.75       107\n",
      "           2       0.69      0.67      0.68       112\n",
      "\n",
      "    accuracy                           0.71       328\n",
      "   macro avg       0.72      0.71      0.71       328\n",
      "weighted avg       0.71      0.71      0.71       328\n",
      "\n"
     ]
    }
   ],
   "source": [
    "val_score(svm.SVC(C=0.1, kernel='linear').fit(x_train, y_train))"
   ]
  },
  {
   "cell_type": "code",
   "execution_count": 28,
   "id": "4e6e268a",
   "metadata": {},
   "outputs": [
    {
     "name": "stdout",
     "output_type": "stream",
     "text": [
      "[[481  10  17]\n",
      " [  1 489   8]\n",
      " [ 12   0 513]]\n",
      "              precision    recall  f1-score   support\n",
      "\n",
      "           0       0.97      0.95      0.96       508\n",
      "           1       0.98      0.98      0.98       498\n",
      "           2       0.95      0.98      0.97       525\n",
      "\n",
      "    accuracy                           0.97      1531\n",
      "   macro avg       0.97      0.97      0.97      1531\n",
      "weighted avg       0.97      0.97      0.97      1531\n",
      "\n"
     ]
    }
   ],
   "source": [
    "train_score(svm.SVC(C=0.1, kernel='linear').fit(x_train, y_train))"
   ]
  },
  {
   "cell_type": "markdown",
   "id": "fa8a88db",
   "metadata": {},
   "source": [
    "### Increasing polynomial dimensions marginally improves testing accuracy"
   ]
  },
  {
   "cell_type": "code",
   "execution_count": 29,
   "id": "dd3495e5",
   "metadata": {},
   "outputs": [
    {
     "name": "stdout",
     "output_type": "stream",
     "text": [
      "[[  1   0 108]\n",
      " [  0   0 107]\n",
      " [  0   0 112]]\n",
      "              precision    recall  f1-score   support\n",
      "\n",
      "           0       1.00      0.01      0.02       109\n",
      "           1       0.00      0.00      0.00       107\n",
      "           2       0.34      1.00      0.51       112\n",
      "\n",
      "    accuracy                           0.34       328\n",
      "   macro avg       0.45      0.34      0.18       328\n",
      "weighted avg       0.45      0.34      0.18       328\n",
      "\n"
     ]
    },
    {
     "name": "stderr",
     "output_type": "stream",
     "text": [
      "C:\\Users\\jcrul\\anaconda3\\lib\\site-packages\\sklearn\\metrics\\_classification.py:1318: UndefinedMetricWarning: Precision and F-score are ill-defined and being set to 0.0 in labels with no predicted samples. Use `zero_division` parameter to control this behavior.\n",
      "  _warn_prf(average, modifier, msg_start, len(result))\n",
      "C:\\Users\\jcrul\\anaconda3\\lib\\site-packages\\sklearn\\metrics\\_classification.py:1318: UndefinedMetricWarning: Precision and F-score are ill-defined and being set to 0.0 in labels with no predicted samples. Use `zero_division` parameter to control this behavior.\n",
      "  _warn_prf(average, modifier, msg_start, len(result))\n",
      "C:\\Users\\jcrul\\anaconda3\\lib\\site-packages\\sklearn\\metrics\\_classification.py:1318: UndefinedMetricWarning: Precision and F-score are ill-defined and being set to 0.0 in labels with no predicted samples. Use `zero_division` parameter to control this behavior.\n",
      "  _warn_prf(average, modifier, msg_start, len(result))\n"
     ]
    }
   ],
   "source": [
    "val_score(svm.SVC(C=0.1, gamma=0.0001, kernel='rbf').fit(x_train, y_train))"
   ]
  },
  {
   "cell_type": "code",
   "execution_count": 30,
   "id": "4720eed6",
   "metadata": {},
   "outputs": [
    {
     "name": "stdout",
     "output_type": "stream",
     "text": [
      "[[  3   0 505]\n",
      " [  0   0 498]\n",
      " [  0   0 525]]\n",
      "              precision    recall  f1-score   support\n",
      "\n",
      "           0       1.00      0.01      0.01       508\n",
      "           1       0.00      0.00      0.00       498\n",
      "           2       0.34      1.00      0.51       525\n",
      "\n",
      "    accuracy                           0.34      1531\n",
      "   macro avg       0.45      0.34      0.17      1531\n",
      "weighted avg       0.45      0.34      0.18      1531\n",
      "\n"
     ]
    },
    {
     "name": "stderr",
     "output_type": "stream",
     "text": [
      "C:\\Users\\jcrul\\anaconda3\\lib\\site-packages\\sklearn\\metrics\\_classification.py:1318: UndefinedMetricWarning: Precision and F-score are ill-defined and being set to 0.0 in labels with no predicted samples. Use `zero_division` parameter to control this behavior.\n",
      "  _warn_prf(average, modifier, msg_start, len(result))\n",
      "C:\\Users\\jcrul\\anaconda3\\lib\\site-packages\\sklearn\\metrics\\_classification.py:1318: UndefinedMetricWarning: Precision and F-score are ill-defined and being set to 0.0 in labels with no predicted samples. Use `zero_division` parameter to control this behavior.\n",
      "  _warn_prf(average, modifier, msg_start, len(result))\n",
      "C:\\Users\\jcrul\\anaconda3\\lib\\site-packages\\sklearn\\metrics\\_classification.py:1318: UndefinedMetricWarning: Precision and F-score are ill-defined and being set to 0.0 in labels with no predicted samples. Use `zero_division` parameter to control this behavior.\n",
      "  _warn_prf(average, modifier, msg_start, len(result))\n"
     ]
    }
   ],
   "source": [
    "train_score(svm.SVC(C=0.1, gamma=0.0001, kernel='rbf').fit(x_train, y_train))"
   ]
  },
  {
   "cell_type": "markdown",
   "id": "7512dc89",
   "metadata": {},
   "source": [
    "### RBF with c=100, gamma=0.001 still the most accurate with 91-92% on testing data and 100% on training data\n",
    "### c=0.001 classifies all into scissors"
   ]
  },
  {
   "cell_type": "markdown",
   "id": "15b4aa53",
   "metadata": {},
   "source": [
    "## Decrease image quality from 150x150 to 32x32 for better comparison to neural nets"
   ]
  },
  {
   "cell_type": "code",
   "execution_count": 11,
   "id": "6637b1dc",
   "metadata": {},
   "outputs": [
    {
     "name": "stdout",
     "output_type": "stream",
     "text": [
      "loaded category:rock successfully for train\n",
      "loaded category:paper successfully for train\n",
      "loaded category:scissors successfully for train\n",
      "loaded category:rock successfully for test\n",
      "loaded category:paper successfully for test\n",
      "loaded category:scissors successfully for test\n",
      "loaded category:rock successfully for val\n",
      "loaded category:paper successfully for val\n",
      "loaded category:scissors successfully for val\n"
     ]
    }
   ],
   "source": [
    "Categories=['rock','paper','scissors']\n",
    "train_dir = 'rps-split\\\\train'\n",
    "test_dir = 'rps-split\\\\test'\n",
    "val_dir = 'rps-split\\\\val'\n",
    "\n",
    "flat_data_arr=[] #input array\n",
    "target_arr=[] #output array\n",
    "for i in Categories:\n",
    "    path=os.path.join(train_dir,i)\n",
    "    for img in os.listdir(path):\n",
    "        img_array=imread(os.path.join(path,img))\n",
    "        img_resized=resize(img_array,(32,32,1))\n",
    "        flat_data_arr.append(img_resized.flatten())\n",
    "        target_arr.append(Categories.index(i))\n",
    "    print(f'loaded category:{i} successfully for train')\n",
    "flat_data=np.array(flat_data_arr)\n",
    "target=np.array(target_arr)\n",
    "df=pd.DataFrame(flat_data) #dataframe\n",
    "df['Target']=target\n",
    "x_train=df.iloc[:,:-1] #input data \n",
    "y_train=df.iloc[:,-1] #output data\n",
    "x_train=x_train.sample(frac=1, random_state=42).reset_index(drop=True)\n",
    "y_train=y_train.sample(frac=1, random_state=42).reset_index(drop=True)\n",
    "\n",
    "\n",
    "\n",
    "flat_data_arr=[] #input array\n",
    "target_arr=[] #output array\n",
    "for i in Categories:\n",
    "    path=os.path.join(test_dir,i)\n",
    "    for img in os.listdir(path):\n",
    "        img_array=imread(os.path.join(path,img))\n",
    "        img_resized=resize(img_array,(32,32,1))\n",
    "        flat_data_arr.append(img_resized.flatten())\n",
    "        target_arr.append(Categories.index(i))\n",
    "    print(f'loaded category:{i} successfully for test')\n",
    "flat_data=np.array(flat_data_arr)\n",
    "target=np.array(target_arr)\n",
    "df=pd.DataFrame(flat_data) #dataframe\n",
    "df['Target']=target\n",
    "x_test=df.iloc[:,:-1] #input data \n",
    "y_test=df.iloc[:,-1] #output data\n",
    "\n",
    "flat_data_arr=[] #input array\n",
    "target_arr=[] #output array\n",
    "for i in Categories:\n",
    "    path=os.path.join(val_dir,i)\n",
    "    for img in os.listdir(path):\n",
    "        img_array=imread(os.path.join(path,img))\n",
    "        img_resized=resize(img_array,(32,32,1))\n",
    "        flat_data_arr.append(img_resized.flatten())\n",
    "        target_arr.append(Categories.index(i))\n",
    "    print(f'loaded category:{i} successfully for val')\n",
    "flat_data=np.array(flat_data_arr)\n",
    "target=np.array(target_arr)\n",
    "df=pd.DataFrame(flat_data) #dataframe\n",
    "df['Target']=target\n",
    "x_val=df.iloc[:,:-1] #input data \n",
    "y_val=df.iloc[:,-1] #output data"
   ]
  },
  {
   "cell_type": "code",
   "execution_count": 12,
   "id": "ac00ba72",
   "metadata": {},
   "outputs": [
    {
     "data": {
      "text/plain": [
       "(1531, 1024)"
      ]
     },
     "execution_count": 12,
     "metadata": {},
     "output_type": "execute_result"
    }
   ],
   "source": [
    "x_train.shape"
   ]
  },
  {
   "cell_type": "code",
   "execution_count": 13,
   "id": "0cf9015f",
   "metadata": {},
   "outputs": [
    {
     "data": {
      "text/html": [
       "<div>\n",
       "<style scoped>\n",
       "    .dataframe tbody tr th:only-of-type {\n",
       "        vertical-align: middle;\n",
       "    }\n",
       "\n",
       "    .dataframe tbody tr th {\n",
       "        vertical-align: top;\n",
       "    }\n",
       "\n",
       "    .dataframe thead th {\n",
       "        text-align: right;\n",
       "    }\n",
       "</style>\n",
       "<table border=\"1\" class=\"dataframe\">\n",
       "  <thead>\n",
       "    <tr style=\"text-align: right;\">\n",
       "      <th></th>\n",
       "      <th>0</th>\n",
       "      <th>1</th>\n",
       "      <th>2</th>\n",
       "      <th>3</th>\n",
       "      <th>4</th>\n",
       "      <th>5</th>\n",
       "      <th>6</th>\n",
       "      <th>7</th>\n",
       "      <th>8</th>\n",
       "      <th>9</th>\n",
       "      <th>...</th>\n",
       "      <th>1014</th>\n",
       "      <th>1015</th>\n",
       "      <th>1016</th>\n",
       "      <th>1017</th>\n",
       "      <th>1018</th>\n",
       "      <th>1019</th>\n",
       "      <th>1020</th>\n",
       "      <th>1021</th>\n",
       "      <th>1022</th>\n",
       "      <th>1023</th>\n",
       "    </tr>\n",
       "  </thead>\n",
       "  <tbody>\n",
       "    <tr>\n",
       "      <th>0</th>\n",
       "      <td>0.300570</td>\n",
       "      <td>0.321333</td>\n",
       "      <td>0.339861</td>\n",
       "      <td>0.356015</td>\n",
       "      <td>0.368621</td>\n",
       "      <td>0.375393</td>\n",
       "      <td>0.386557</td>\n",
       "      <td>0.392265</td>\n",
       "      <td>0.396568</td>\n",
       "      <td>0.401079</td>\n",
       "      <td>...</td>\n",
       "      <td>0.366491</td>\n",
       "      <td>0.364223</td>\n",
       "      <td>0.361065</td>\n",
       "      <td>0.355037</td>\n",
       "      <td>0.347758</td>\n",
       "      <td>0.338876</td>\n",
       "      <td>0.328757</td>\n",
       "      <td>0.317450</td>\n",
       "      <td>0.305523</td>\n",
       "      <td>0.289068</td>\n",
       "    </tr>\n",
       "    <tr>\n",
       "      <th>1</th>\n",
       "      <td>0.305769</td>\n",
       "      <td>0.309675</td>\n",
       "      <td>0.316426</td>\n",
       "      <td>0.327396</td>\n",
       "      <td>0.332671</td>\n",
       "      <td>0.341594</td>\n",
       "      <td>0.347691</td>\n",
       "      <td>0.352916</td>\n",
       "      <td>0.357916</td>\n",
       "      <td>0.363374</td>\n",
       "      <td>...</td>\n",
       "      <td>0.371226</td>\n",
       "      <td>0.368799</td>\n",
       "      <td>0.363895</td>\n",
       "      <td>0.358266</td>\n",
       "      <td>0.353350</td>\n",
       "      <td>0.345255</td>\n",
       "      <td>0.337634</td>\n",
       "      <td>0.334755</td>\n",
       "      <td>0.330602</td>\n",
       "      <td>0.322242</td>\n",
       "    </tr>\n",
       "    <tr>\n",
       "      <th>2</th>\n",
       "      <td>0.279768</td>\n",
       "      <td>0.298246</td>\n",
       "      <td>0.317711</td>\n",
       "      <td>0.332790</td>\n",
       "      <td>0.345631</td>\n",
       "      <td>0.352844</td>\n",
       "      <td>0.363831</td>\n",
       "      <td>0.369659</td>\n",
       "      <td>0.374380</td>\n",
       "      <td>0.378595</td>\n",
       "      <td>...</td>\n",
       "      <td>0.352845</td>\n",
       "      <td>0.349581</td>\n",
       "      <td>0.346031</td>\n",
       "      <td>0.339196</td>\n",
       "      <td>0.330828</td>\n",
       "      <td>0.320949</td>\n",
       "      <td>0.309510</td>\n",
       "      <td>0.298604</td>\n",
       "      <td>0.285769</td>\n",
       "      <td>0.269304</td>\n",
       "    </tr>\n",
       "    <tr>\n",
       "      <th>3</th>\n",
       "      <td>0.309114</td>\n",
       "      <td>0.312441</td>\n",
       "      <td>0.320083</td>\n",
       "      <td>0.330972</td>\n",
       "      <td>0.337421</td>\n",
       "      <td>0.344661</td>\n",
       "      <td>0.348730</td>\n",
       "      <td>0.355505</td>\n",
       "      <td>0.360473</td>\n",
       "      <td>0.367050</td>\n",
       "      <td>...</td>\n",
       "      <td>0.369720</td>\n",
       "      <td>0.368379</td>\n",
       "      <td>0.364475</td>\n",
       "      <td>0.357779</td>\n",
       "      <td>0.353295</td>\n",
       "      <td>0.345417</td>\n",
       "      <td>0.341060</td>\n",
       "      <td>0.337860</td>\n",
       "      <td>0.332617</td>\n",
       "      <td>0.324913</td>\n",
       "    </tr>\n",
       "    <tr>\n",
       "      <th>4</th>\n",
       "      <td>0.238294</td>\n",
       "      <td>0.259614</td>\n",
       "      <td>0.275919</td>\n",
       "      <td>0.290672</td>\n",
       "      <td>0.297517</td>\n",
       "      <td>0.306122</td>\n",
       "      <td>0.314081</td>\n",
       "      <td>0.321606</td>\n",
       "      <td>0.325926</td>\n",
       "      <td>0.328438</td>\n",
       "      <td>...</td>\n",
       "      <td>0.252287</td>\n",
       "      <td>0.253382</td>\n",
       "      <td>0.257844</td>\n",
       "      <td>0.265044</td>\n",
       "      <td>0.265494</td>\n",
       "      <td>0.258059</td>\n",
       "      <td>0.249070</td>\n",
       "      <td>0.238190</td>\n",
       "      <td>0.221616</td>\n",
       "      <td>0.203713</td>\n",
       "    </tr>\n",
       "    <tr>\n",
       "      <th>...</th>\n",
       "      <td>...</td>\n",
       "      <td>...</td>\n",
       "      <td>...</td>\n",
       "      <td>...</td>\n",
       "      <td>...</td>\n",
       "      <td>...</td>\n",
       "      <td>...</td>\n",
       "      <td>...</td>\n",
       "      <td>...</td>\n",
       "      <td>...</td>\n",
       "      <td>...</td>\n",
       "      <td>...</td>\n",
       "      <td>...</td>\n",
       "      <td>...</td>\n",
       "      <td>...</td>\n",
       "      <td>...</td>\n",
       "      <td>...</td>\n",
       "      <td>...</td>\n",
       "      <td>...</td>\n",
       "      <td>...</td>\n",
       "      <td>...</td>\n",
       "    </tr>\n",
       "    <tr>\n",
       "      <th>1526</th>\n",
       "      <td>0.320905</td>\n",
       "      <td>0.328758</td>\n",
       "      <td>0.336999</td>\n",
       "      <td>0.347664</td>\n",
       "      <td>0.354435</td>\n",
       "      <td>0.363455</td>\n",
       "      <td>0.368484</td>\n",
       "      <td>0.373455</td>\n",
       "      <td>0.379199</td>\n",
       "      <td>0.384777</td>\n",
       "      <td>...</td>\n",
       "      <td>0.386852</td>\n",
       "      <td>0.385306</td>\n",
       "      <td>0.381406</td>\n",
       "      <td>0.377614</td>\n",
       "      <td>0.370012</td>\n",
       "      <td>0.362756</td>\n",
       "      <td>0.356964</td>\n",
       "      <td>0.349564</td>\n",
       "      <td>0.344221</td>\n",
       "      <td>0.338484</td>\n",
       "    </tr>\n",
       "    <tr>\n",
       "      <th>1527</th>\n",
       "      <td>0.389369</td>\n",
       "      <td>0.392769</td>\n",
       "      <td>0.389571</td>\n",
       "      <td>0.386150</td>\n",
       "      <td>0.392524</td>\n",
       "      <td>0.402755</td>\n",
       "      <td>0.406559</td>\n",
       "      <td>0.410655</td>\n",
       "      <td>0.418259</td>\n",
       "      <td>0.437901</td>\n",
       "      <td>...</td>\n",
       "      <td>0.456071</td>\n",
       "      <td>0.454156</td>\n",
       "      <td>0.450985</td>\n",
       "      <td>0.448131</td>\n",
       "      <td>0.443195</td>\n",
       "      <td>0.436381</td>\n",
       "      <td>0.431848</td>\n",
       "      <td>0.426035</td>\n",
       "      <td>0.423116</td>\n",
       "      <td>0.421126</td>\n",
       "    </tr>\n",
       "    <tr>\n",
       "      <th>1528</th>\n",
       "      <td>0.292997</td>\n",
       "      <td>0.296107</td>\n",
       "      <td>0.303562</td>\n",
       "      <td>0.315029</td>\n",
       "      <td>0.321099</td>\n",
       "      <td>0.329147</td>\n",
       "      <td>0.333897</td>\n",
       "      <td>0.339125</td>\n",
       "      <td>0.344243</td>\n",
       "      <td>0.350723</td>\n",
       "      <td>...</td>\n",
       "      <td>0.356617</td>\n",
       "      <td>0.356413</td>\n",
       "      <td>0.350368</td>\n",
       "      <td>0.343588</td>\n",
       "      <td>0.339844</td>\n",
       "      <td>0.331346</td>\n",
       "      <td>0.324399</td>\n",
       "      <td>0.320611</td>\n",
       "      <td>0.314091</td>\n",
       "      <td>0.307539</td>\n",
       "    </tr>\n",
       "    <tr>\n",
       "      <th>1529</th>\n",
       "      <td>0.308246</td>\n",
       "      <td>0.313464</td>\n",
       "      <td>0.319537</td>\n",
       "      <td>0.331429</td>\n",
       "      <td>0.337286</td>\n",
       "      <td>0.345225</td>\n",
       "      <td>0.350081</td>\n",
       "      <td>0.354131</td>\n",
       "      <td>0.357728</td>\n",
       "      <td>0.363382</td>\n",
       "      <td>...</td>\n",
       "      <td>0.369423</td>\n",
       "      <td>0.367132</td>\n",
       "      <td>0.361423</td>\n",
       "      <td>0.354030</td>\n",
       "      <td>0.349208</td>\n",
       "      <td>0.340947</td>\n",
       "      <td>0.335438</td>\n",
       "      <td>0.333584</td>\n",
       "      <td>0.329611</td>\n",
       "      <td>0.323610</td>\n",
       "    </tr>\n",
       "    <tr>\n",
       "      <th>1530</th>\n",
       "      <td>0.366861</td>\n",
       "      <td>0.371842</td>\n",
       "      <td>0.378550</td>\n",
       "      <td>0.385710</td>\n",
       "      <td>0.393506</td>\n",
       "      <td>0.397996</td>\n",
       "      <td>0.392798</td>\n",
       "      <td>0.395073</td>\n",
       "      <td>0.401743</td>\n",
       "      <td>0.417879</td>\n",
       "      <td>...</td>\n",
       "      <td>0.446343</td>\n",
       "      <td>0.442008</td>\n",
       "      <td>0.437226</td>\n",
       "      <td>0.435007</td>\n",
       "      <td>0.428910</td>\n",
       "      <td>0.423053</td>\n",
       "      <td>0.418466</td>\n",
       "      <td>0.414347</td>\n",
       "      <td>0.411190</td>\n",
       "      <td>0.409410</td>\n",
       "    </tr>\n",
       "  </tbody>\n",
       "</table>\n",
       "<p>1531 rows × 1024 columns</p>\n",
       "</div>"
      ],
      "text/plain": [
       "          0         1         2         3         4         5         6     \\\n",
       "0     0.300570  0.321333  0.339861  0.356015  0.368621  0.375393  0.386557   \n",
       "1     0.305769  0.309675  0.316426  0.327396  0.332671  0.341594  0.347691   \n",
       "2     0.279768  0.298246  0.317711  0.332790  0.345631  0.352844  0.363831   \n",
       "3     0.309114  0.312441  0.320083  0.330972  0.337421  0.344661  0.348730   \n",
       "4     0.238294  0.259614  0.275919  0.290672  0.297517  0.306122  0.314081   \n",
       "...        ...       ...       ...       ...       ...       ...       ...   \n",
       "1526  0.320905  0.328758  0.336999  0.347664  0.354435  0.363455  0.368484   \n",
       "1527  0.389369  0.392769  0.389571  0.386150  0.392524  0.402755  0.406559   \n",
       "1528  0.292997  0.296107  0.303562  0.315029  0.321099  0.329147  0.333897   \n",
       "1529  0.308246  0.313464  0.319537  0.331429  0.337286  0.345225  0.350081   \n",
       "1530  0.366861  0.371842  0.378550  0.385710  0.393506  0.397996  0.392798   \n",
       "\n",
       "          7         8         9     ...      1014      1015      1016  \\\n",
       "0     0.392265  0.396568  0.401079  ...  0.366491  0.364223  0.361065   \n",
       "1     0.352916  0.357916  0.363374  ...  0.371226  0.368799  0.363895   \n",
       "2     0.369659  0.374380  0.378595  ...  0.352845  0.349581  0.346031   \n",
       "3     0.355505  0.360473  0.367050  ...  0.369720  0.368379  0.364475   \n",
       "4     0.321606  0.325926  0.328438  ...  0.252287  0.253382  0.257844   \n",
       "...        ...       ...       ...  ...       ...       ...       ...   \n",
       "1526  0.373455  0.379199  0.384777  ...  0.386852  0.385306  0.381406   \n",
       "1527  0.410655  0.418259  0.437901  ...  0.456071  0.454156  0.450985   \n",
       "1528  0.339125  0.344243  0.350723  ...  0.356617  0.356413  0.350368   \n",
       "1529  0.354131  0.357728  0.363382  ...  0.369423  0.367132  0.361423   \n",
       "1530  0.395073  0.401743  0.417879  ...  0.446343  0.442008  0.437226   \n",
       "\n",
       "          1017      1018      1019      1020      1021      1022      1023  \n",
       "0     0.355037  0.347758  0.338876  0.328757  0.317450  0.305523  0.289068  \n",
       "1     0.358266  0.353350  0.345255  0.337634  0.334755  0.330602  0.322242  \n",
       "2     0.339196  0.330828  0.320949  0.309510  0.298604  0.285769  0.269304  \n",
       "3     0.357779  0.353295  0.345417  0.341060  0.337860  0.332617  0.324913  \n",
       "4     0.265044  0.265494  0.258059  0.249070  0.238190  0.221616  0.203713  \n",
       "...        ...       ...       ...       ...       ...       ...       ...  \n",
       "1526  0.377614  0.370012  0.362756  0.356964  0.349564  0.344221  0.338484  \n",
       "1527  0.448131  0.443195  0.436381  0.431848  0.426035  0.423116  0.421126  \n",
       "1528  0.343588  0.339844  0.331346  0.324399  0.320611  0.314091  0.307539  \n",
       "1529  0.354030  0.349208  0.340947  0.335438  0.333584  0.329611  0.323610  \n",
       "1530  0.435007  0.428910  0.423053  0.418466  0.414347  0.411190  0.409410  \n",
       "\n",
       "[1531 rows x 1024 columns]"
      ]
     },
     "execution_count": 13,
     "metadata": {},
     "output_type": "execute_result"
    }
   ],
   "source": [
    "x_train"
   ]
  },
  {
   "cell_type": "code",
   "execution_count": 14,
   "id": "9da2d47a",
   "metadata": {
    "scrolled": false
   },
   "outputs": [
    {
     "name": "stdout",
     "output_type": "stream",
     "text": [
      "Fitting 5 folds for each of 16 candidates, totalling 80 fits\n",
      "[CV 1/5] END ...C=0.1, gamma=0.0001, kernel=rbf;, score=0.342 total time=   2.5s\n",
      "[CV 2/5] END ...C=0.1, gamma=0.0001, kernel=rbf;, score=0.343 total time=   2.5s\n",
      "[CV 3/5] END ...C=0.1, gamma=0.0001, kernel=rbf;, score=0.343 total time=   2.5s\n",
      "[CV 4/5] END ...C=0.1, gamma=0.0001, kernel=rbf;, score=0.343 total time=   2.5s\n",
      "[CV 5/5] END ...C=0.1, gamma=0.0001, kernel=rbf;, score=0.343 total time=   2.4s\n",
      "[CV 1/5] END ....C=0.1, gamma=0.001, kernel=rbf;, score=0.342 total time=   2.5s\n",
      "[CV 2/5] END ....C=0.1, gamma=0.001, kernel=rbf;, score=0.343 total time=   2.5s\n",
      "[CV 3/5] END ....C=0.1, gamma=0.001, kernel=rbf;, score=0.343 total time=   2.4s\n",
      "[CV 4/5] END ....C=0.1, gamma=0.001, kernel=rbf;, score=0.343 total time=   2.4s\n",
      "[CV 5/5] END ....C=0.1, gamma=0.001, kernel=rbf;, score=0.343 total time=   2.3s\n",
      "[CV 1/5] END ......C=0.1, gamma=0.1, kernel=rbf;, score=0.795 total time=   2.1s\n",
      "[CV 2/5] END ......C=0.1, gamma=0.1, kernel=rbf;, score=0.765 total time=   2.1s\n",
      "[CV 3/5] END ......C=0.1, gamma=0.1, kernel=rbf;, score=0.791 total time=   2.1s\n",
      "[CV 4/5] END ......C=0.1, gamma=0.1, kernel=rbf;, score=0.755 total time=   2.1s\n",
      "[CV 5/5] END ......C=0.1, gamma=0.1, kernel=rbf;, score=0.761 total time=   2.1s\n",
      "[CV 1/5] END ........C=0.1, gamma=1, kernel=rbf;, score=0.342 total time=   2.4s\n",
      "[CV 2/5] END ........C=0.1, gamma=1, kernel=rbf;, score=0.343 total time=   2.4s\n",
      "[CV 3/5] END ........C=0.1, gamma=1, kernel=rbf;, score=0.343 total time=   2.4s\n",
      "[CV 4/5] END ........C=0.1, gamma=1, kernel=rbf;, score=0.343 total time=   2.4s\n",
      "[CV 5/5] END ........C=0.1, gamma=1, kernel=rbf;, score=0.343 total time=   2.4s\n",
      "[CV 1/5] END .....C=1, gamma=0.0001, kernel=rbf;, score=0.342 total time=   2.3s\n",
      "[CV 2/5] END .....C=1, gamma=0.0001, kernel=rbf;, score=0.343 total time=   2.4s\n",
      "[CV 3/5] END .....C=1, gamma=0.0001, kernel=rbf;, score=0.343 total time=   2.4s\n",
      "[CV 4/5] END .....C=1, gamma=0.0001, kernel=rbf;, score=0.343 total time=   2.3s\n",
      "[CV 5/5] END .....C=1, gamma=0.0001, kernel=rbf;, score=0.343 total time=   2.4s\n",
      "[CV 1/5] END ......C=1, gamma=0.001, kernel=rbf;, score=0.547 total time=   2.7s\n",
      "[CV 2/5] END ......C=1, gamma=0.001, kernel=rbf;, score=0.523 total time=   2.5s\n",
      "[CV 3/5] END ......C=1, gamma=0.001, kernel=rbf;, score=0.569 total time=   2.4s\n",
      "[CV 4/5] END ......C=1, gamma=0.001, kernel=rbf;, score=0.503 total time=   2.4s\n",
      "[CV 5/5] END ......C=1, gamma=0.001, kernel=rbf;, score=0.588 total time=   2.4s\n",
      "[CV 1/5] END ........C=1, gamma=0.1, kernel=rbf;, score=0.896 total time=   1.4s\n",
      "[CV 2/5] END ........C=1, gamma=0.1, kernel=rbf;, score=0.908 total time=   1.4s\n",
      "[CV 3/5] END ........C=1, gamma=0.1, kernel=rbf;, score=0.922 total time=   1.4s\n",
      "[CV 4/5] END ........C=1, gamma=0.1, kernel=rbf;, score=0.908 total time=   1.4s\n",
      "[CV 5/5] END ........C=1, gamma=0.1, kernel=rbf;, score=0.892 total time=   1.5s\n",
      "[CV 1/5] END ..........C=1, gamma=1, kernel=rbf;, score=0.756 total time=   2.4s\n",
      "[CV 2/5] END ..........C=1, gamma=1, kernel=rbf;, score=0.755 total time=   2.5s\n",
      "[CV 3/5] END ..........C=1, gamma=1, kernel=rbf;, score=0.761 total time=   2.4s\n",
      "[CV 4/5] END ..........C=1, gamma=1, kernel=rbf;, score=0.807 total time=   2.4s\n",
      "[CV 5/5] END ..........C=1, gamma=1, kernel=rbf;, score=0.748 total time=   2.4s\n",
      "[CV 1/5] END ....C=10, gamma=0.0001, kernel=rbf;, score=0.541 total time=   2.4s\n",
      "[CV 2/5] END ....C=10, gamma=0.0001, kernel=rbf;, score=0.523 total time=   2.4s\n",
      "[CV 3/5] END ....C=10, gamma=0.0001, kernel=rbf;, score=0.572 total time=   2.3s\n",
      "[CV 4/5] END ....C=10, gamma=0.0001, kernel=rbf;, score=0.503 total time=   2.3s\n",
      "[CV 5/5] END ....C=10, gamma=0.0001, kernel=rbf;, score=0.588 total time=   2.3s\n",
      "[CV 1/5] END .....C=10, gamma=0.001, kernel=rbf;, score=0.710 total time=   1.9s\n",
      "[CV 2/5] END .....C=10, gamma=0.001, kernel=rbf;, score=0.683 total time=   1.9s\n",
      "[CV 3/5] END .....C=10, gamma=0.001, kernel=rbf;, score=0.735 total time=   2.0s\n",
      "[CV 4/5] END .....C=10, gamma=0.001, kernel=rbf;, score=0.683 total time=   1.8s\n",
      "[CV 5/5] END .....C=10, gamma=0.001, kernel=rbf;, score=0.735 total time=   1.2s\n",
      "[CV 1/5] END .......C=10, gamma=0.1, kernel=rbf;, score=0.906 total time=   1.4s\n",
      "[CV 2/5] END .......C=10, gamma=0.1, kernel=rbf;, score=0.935 total time=   1.4s\n",
      "[CV 3/5] END .......C=10, gamma=0.1, kernel=rbf;, score=0.938 total time=   1.4s\n",
      "[CV 4/5] END .......C=10, gamma=0.1, kernel=rbf;, score=0.931 total time=   1.4s\n",
      "[CV 5/5] END .......C=10, gamma=0.1, kernel=rbf;, score=0.908 total time=   1.3s\n",
      "[CV 1/5] END .........C=10, gamma=1, kernel=rbf;, score=0.779 total time=   2.5s\n",
      "[CV 2/5] END .........C=10, gamma=1, kernel=rbf;, score=0.775 total time=   2.5s\n",
      "[CV 3/5] END .........C=10, gamma=1, kernel=rbf;, score=0.791 total time=   2.5s\n",
      "[CV 4/5] END .........C=10, gamma=1, kernel=rbf;, score=0.820 total time=   2.4s\n",
      "[CV 5/5] END .........C=10, gamma=1, kernel=rbf;, score=0.768 total time=   2.5s\n",
      "[CV 1/5] END ...C=100, gamma=0.0001, kernel=rbf;, score=0.704 total time=   2.0s\n",
      "[CV 2/5] END ...C=100, gamma=0.0001, kernel=rbf;, score=0.683 total time=   1.9s\n",
      "[CV 3/5] END ...C=100, gamma=0.0001, kernel=rbf;, score=0.732 total time=   2.0s\n",
      "[CV 4/5] END ...C=100, gamma=0.0001, kernel=rbf;, score=0.680 total time=   1.9s\n",
      "[CV 5/5] END ...C=100, gamma=0.0001, kernel=rbf;, score=0.716 total time=   1.2s\n",
      "[CV 1/5] END ....C=100, gamma=0.001, kernel=rbf;, score=0.788 total time=   1.5s\n",
      "[CV 2/5] END ....C=100, gamma=0.001, kernel=rbf;, score=0.784 total time=   1.4s\n",
      "[CV 3/5] END ....C=100, gamma=0.001, kernel=rbf;, score=0.791 total time=   1.5s\n",
      "[CV 4/5] END ....C=100, gamma=0.001, kernel=rbf;, score=0.761 total time=   1.4s\n",
      "[CV 5/5] END ....C=100, gamma=0.001, kernel=rbf;, score=0.801 total time=   1.5s\n",
      "[CV 1/5] END ......C=100, gamma=0.1, kernel=rbf;, score=0.906 total time=   1.5s\n",
      "[CV 2/5] END ......C=100, gamma=0.1, kernel=rbf;, score=0.935 total time=   1.4s\n",
      "[CV 3/5] END ......C=100, gamma=0.1, kernel=rbf;, score=0.938 total time=   1.4s\n",
      "[CV 4/5] END ......C=100, gamma=0.1, kernel=rbf;, score=0.931 total time=   1.4s\n",
      "[CV 5/5] END ......C=100, gamma=0.1, kernel=rbf;, score=0.908 total time=   1.5s\n",
      "[CV 1/5] END ........C=100, gamma=1, kernel=rbf;, score=0.779 total time=   2.7s\n",
      "[CV 2/5] END ........C=100, gamma=1, kernel=rbf;, score=0.775 total time=   2.5s\n",
      "[CV 3/5] END ........C=100, gamma=1, kernel=rbf;, score=0.791 total time=   2.7s\n",
      "[CV 4/5] END ........C=100, gamma=1, kernel=rbf;, score=0.820 total time=   2.6s\n",
      "[CV 5/5] END ........C=100, gamma=1, kernel=rbf;, score=0.768 total time=   2.6s\n"
     ]
    },
    {
     "data": {
      "text/plain": [
       "GridSearchCV(estimator=SVC(),\n",
       "             param_grid={'C': [0.1, 1, 10, 100],\n",
       "                         'gamma': [0.0001, 0.001, 0.1, 1], 'kernel': ['rbf']},\n",
       "             verbose=3)"
      ]
     },
     "execution_count": 14,
     "metadata": {},
     "output_type": "execute_result"
    }
   ],
   "source": [
    "from sklearn import svm\n",
    "from sklearn.model_selection import GridSearchCV\n",
    "from sklearn.svm import SVC\n",
    "\n",
    "param_grid={'C':[0.1,1,10,100],'gamma':[0.0001,0.001,0.1,1],'kernel':['rbf']}\n",
    "model=GridSearchCV(SVC(),param_grid,refit=True,verbose=3)\n",
    "model.fit(x_train, y_train)"
   ]
  },
  {
   "cell_type": "code",
   "execution_count": 23,
   "id": "059d66a1",
   "metadata": {},
   "outputs": [
    {
     "name": "stdout",
     "output_type": "stream",
     "text": [
      "{'C': 10, 'gamma': 0.1, 'kernel': 'rbf'}\n"
     ]
    }
   ],
   "source": [
    "print(model.best_params_)"
   ]
  },
  {
   "cell_type": "code",
   "execution_count": 24,
   "id": "5c6af6a1",
   "metadata": {},
   "outputs": [
    {
     "name": "stdout",
     "output_type": "stream",
     "text": [
      "Fitting 5 folds for each of 12 candidates, totalling 60 fits\n",
      "[CV 1/5] END ......C=0.1, degree=3, kernel=poly;, score=0.853 total time=   0.5s\n",
      "[CV 2/5] END ......C=0.1, degree=3, kernel=poly;, score=0.846 total time=   0.6s\n",
      "[CV 3/5] END ......C=0.1, degree=3, kernel=poly;, score=0.846 total time=   0.6s\n",
      "[CV 4/5] END ......C=0.1, degree=3, kernel=poly;, score=0.846 total time=   0.6s\n",
      "[CV 5/5] END ......C=0.1, degree=3, kernel=poly;, score=0.863 total time=   0.6s\n",
      "[CV 1/5] END ......C=0.1, degree=4, kernel=poly;, score=0.863 total time=   0.5s\n",
      "[CV 2/5] END ......C=0.1, degree=4, kernel=poly;, score=0.859 total time=   0.5s\n",
      "[CV 3/5] END ......C=0.1, degree=4, kernel=poly;, score=0.843 total time=   0.5s\n",
      "[CV 4/5] END ......C=0.1, degree=4, kernel=poly;, score=0.876 total time=   0.5s\n",
      "[CV 5/5] END ......C=0.1, degree=4, kernel=poly;, score=0.876 total time=   0.5s\n",
      "[CV 1/5] END ......C=0.1, degree=5, kernel=poly;, score=0.857 total time=   0.5s\n",
      "[CV 2/5] END ......C=0.1, degree=5, kernel=poly;, score=0.879 total time=   0.5s\n",
      "[CV 3/5] END ......C=0.1, degree=5, kernel=poly;, score=0.840 total time=   0.5s\n",
      "[CV 4/5] END ......C=0.1, degree=5, kernel=poly;, score=0.882 total time=   0.5s\n",
      "[CV 5/5] END ......C=0.1, degree=5, kernel=poly;, score=0.879 total time=   0.5s\n",
      "[CV 1/5] END ........C=1, degree=3, kernel=poly;, score=0.857 total time=   0.6s\n",
      "[CV 2/5] END ........C=1, degree=3, kernel=poly;, score=0.853 total time=   0.6s\n",
      "[CV 3/5] END ........C=1, degree=3, kernel=poly;, score=0.837 total time=   0.5s\n",
      "[CV 4/5] END ........C=1, degree=3, kernel=poly;, score=0.866 total time=   0.5s\n",
      "[CV 5/5] END ........C=1, degree=3, kernel=poly;, score=0.856 total time=   0.5s\n",
      "[CV 1/5] END ........C=1, degree=4, kernel=poly;, score=0.863 total time=   0.5s\n",
      "[CV 2/5] END ........C=1, degree=4, kernel=poly;, score=0.859 total time=   0.5s\n",
      "[CV 3/5] END ........C=1, degree=4, kernel=poly;, score=0.843 total time=   0.5s\n",
      "[CV 4/5] END ........C=1, degree=4, kernel=poly;, score=0.876 total time=   0.5s\n",
      "[CV 5/5] END ........C=1, degree=4, kernel=poly;, score=0.876 total time=   0.5s\n",
      "[CV 1/5] END ........C=1, degree=5, kernel=poly;, score=0.857 total time=   0.5s\n",
      "[CV 2/5] END ........C=1, degree=5, kernel=poly;, score=0.879 total time=   0.5s\n",
      "[CV 3/5] END ........C=1, degree=5, kernel=poly;, score=0.840 total time=   0.5s\n",
      "[CV 4/5] END ........C=1, degree=5, kernel=poly;, score=0.882 total time=   0.5s\n",
      "[CV 5/5] END ........C=1, degree=5, kernel=poly;, score=0.879 total time=   0.5s\n",
      "[CV 1/5] END .......C=10, degree=3, kernel=poly;, score=0.857 total time=   0.6s\n",
      "[CV 2/5] END .......C=10, degree=3, kernel=poly;, score=0.853 total time=   0.6s\n",
      "[CV 3/5] END .......C=10, degree=3, kernel=poly;, score=0.837 total time=   0.5s\n",
      "[CV 4/5] END .......C=10, degree=3, kernel=poly;, score=0.866 total time=   0.6s\n",
      "[CV 5/5] END .......C=10, degree=3, kernel=poly;, score=0.856 total time=   0.5s\n",
      "[CV 1/5] END .......C=10, degree=4, kernel=poly;, score=0.863 total time=   0.5s\n",
      "[CV 2/5] END .......C=10, degree=4, kernel=poly;, score=0.859 total time=   0.5s\n",
      "[CV 3/5] END .......C=10, degree=4, kernel=poly;, score=0.843 total time=   0.5s\n",
      "[CV 4/5] END .......C=10, degree=4, kernel=poly;, score=0.876 total time=   0.5s\n",
      "[CV 5/5] END .......C=10, degree=4, kernel=poly;, score=0.876 total time=   0.5s\n",
      "[CV 1/5] END .......C=10, degree=5, kernel=poly;, score=0.857 total time=   0.5s\n",
      "[CV 2/5] END .......C=10, degree=5, kernel=poly;, score=0.879 total time=   0.5s\n",
      "[CV 3/5] END .......C=10, degree=5, kernel=poly;, score=0.840 total time=   0.5s\n",
      "[CV 4/5] END .......C=10, degree=5, kernel=poly;, score=0.882 total time=   0.5s\n",
      "[CV 5/5] END .......C=10, degree=5, kernel=poly;, score=0.879 total time=   0.5s\n",
      "[CV 1/5] END ......C=100, degree=3, kernel=poly;, score=0.857 total time=   0.6s\n",
      "[CV 2/5] END ......C=100, degree=3, kernel=poly;, score=0.853 total time=   0.6s\n",
      "[CV 3/5] END ......C=100, degree=3, kernel=poly;, score=0.837 total time=   0.5s\n",
      "[CV 4/5] END ......C=100, degree=3, kernel=poly;, score=0.866 total time=   0.6s\n",
      "[CV 5/5] END ......C=100, degree=3, kernel=poly;, score=0.856 total time=   0.6s\n",
      "[CV 1/5] END ......C=100, degree=4, kernel=poly;, score=0.863 total time=   0.5s\n",
      "[CV 2/5] END ......C=100, degree=4, kernel=poly;, score=0.859 total time=   0.5s\n",
      "[CV 3/5] END ......C=100, degree=4, kernel=poly;, score=0.843 total time=   0.5s\n",
      "[CV 4/5] END ......C=100, degree=4, kernel=poly;, score=0.876 total time=   0.5s\n",
      "[CV 5/5] END ......C=100, degree=4, kernel=poly;, score=0.876 total time=   0.5s\n",
      "[CV 1/5] END ......C=100, degree=5, kernel=poly;, score=0.857 total time=   0.5s\n",
      "[CV 2/5] END ......C=100, degree=5, kernel=poly;, score=0.879 total time=   0.5s\n",
      "[CV 3/5] END ......C=100, degree=5, kernel=poly;, score=0.840 total time=   0.5s\n",
      "[CV 4/5] END ......C=100, degree=5, kernel=poly;, score=0.882 total time=   0.5s\n",
      "[CV 5/5] END ......C=100, degree=5, kernel=poly;, score=0.879 total time=   0.5s\n"
     ]
    },
    {
     "data": {
      "text/plain": [
       "GridSearchCV(estimator=SVC(),\n",
       "             param_grid={'C': [0.1, 1, 10, 100], 'degree': [3, 4, 5],\n",
       "                         'kernel': ['poly']},\n",
       "             verbose=3)"
      ]
     },
     "execution_count": 24,
     "metadata": {},
     "output_type": "execute_result"
    }
   ],
   "source": [
    "param_grid={'C':[0.1,1,10,100],'degree':[3,4,5],'kernel':['poly']}\n",
    "model=GridSearchCV(SVC(),param_grid,refit=True,verbose=3)\n",
    "model.fit(x_train, y_train)"
   ]
  },
  {
   "cell_type": "code",
   "execution_count": 25,
   "id": "7975b1cd",
   "metadata": {},
   "outputs": [
    {
     "name": "stdout",
     "output_type": "stream",
     "text": [
      "{'C': 0.1, 'degree': 5, 'kernel': 'poly'}\n"
     ]
    }
   ],
   "source": [
    "print(model.best_params_)"
   ]
  },
  {
   "cell_type": "markdown",
   "id": "6c35f268",
   "metadata": {},
   "source": [
    "### Compare with linear kernel"
   ]
  },
  {
   "cell_type": "code",
   "execution_count": null,
   "id": "12438b10",
   "metadata": {},
   "outputs": [],
   "source": [
    "from sklearn import svm\n",
    "from sklearn.model_selection import GridSearchCV\n",
    "from sklearn.svm import SVC\n",
    "\n",
    "param_grid={'C':[0.1,1,10,100],'kernel':['linear']}\n",
    "model=GridSearchCV(SVC(),param_grid,refit=True,verbose=3)\n",
    "model.fit(x_train, y_train)"
   ]
  },
  {
   "cell_type": "markdown",
   "id": "80c2a604",
   "metadata": {},
   "source": [
    "### Lower-quality images: best gamma 0.1 instead of 0.001, best C 10 instead of 100"
   ]
  },
  {
   "cell_type": "code",
   "execution_count": 34,
   "id": "779ed1e4",
   "metadata": {},
   "outputs": [
    {
     "name": "stdout",
     "output_type": "stream",
     "text": [
      "[[101   2   6]\n",
      " [  4  94   9]\n",
      " [  3   1 108]]\n",
      "              precision    recall  f1-score   support\n",
      "\n",
      "           0       0.94      0.93      0.93       109\n",
      "           1       0.97      0.88      0.92       107\n",
      "           2       0.88      0.96      0.92       112\n",
      "\n",
      "    accuracy                           0.92       328\n",
      "   macro avg       0.93      0.92      0.92       328\n",
      "weighted avg       0.93      0.92      0.92       328\n",
      "\n"
     ]
    }
   ],
   "source": [
    "val_score(svm.SVC(C=10, gamma=0.1, kernel='rbf').fit(x_train, y_train))"
   ]
  },
  {
   "cell_type": "code",
   "execution_count": 44,
   "id": "1a42ac98",
   "metadata": {},
   "outputs": [
    {
     "name": "stdout",
     "output_type": "stream",
     "text": [
      "[[508   0   0]\n",
      " [  0 498   0]\n",
      " [  0   0 525]]\n",
      "              precision    recall  f1-score   support\n",
      "\n",
      "           0       1.00      1.00      1.00       508\n",
      "           1       1.00      1.00      1.00       498\n",
      "           2       1.00      1.00      1.00       525\n",
      "\n",
      "    accuracy                           1.00      1531\n",
      "   macro avg       1.00      1.00      1.00      1531\n",
      "weighted avg       1.00      1.00      1.00      1531\n",
      "\n"
     ]
    }
   ],
   "source": [
    "train_score(svm.SVC(C=10, gamma=0.1, kernel='rbf').fit(x_train, y_train))"
   ]
  },
  {
   "cell_type": "code",
   "execution_count": 39,
   "id": "b4e06b0f",
   "metadata": {},
   "outputs": [
    {
     "name": "stdout",
     "output_type": "stream",
     "text": [
      "[[102   0   7]\n",
      " [  3  98   6]\n",
      " [  5   2 106]]\n",
      "              precision    recall  f1-score   support\n",
      "\n",
      "           0       0.93      0.94      0.93       109\n",
      "           1       0.98      0.92      0.95       107\n",
      "           2       0.89      0.94      0.91       113\n",
      "\n",
      "    accuracy                           0.93       329\n",
      "   macro avg       0.93      0.93      0.93       329\n",
      "weighted avg       0.93      0.93      0.93       329\n",
      "\n"
     ]
    }
   ],
   "source": [
    "test_score(svm.SVC(kernel='rbf', gamma=0.1, C=10).fit(x_train, y_train))"
   ]
  },
  {
   "cell_type": "code",
   "execution_count": 36,
   "id": "a142fea6",
   "metadata": {},
   "outputs": [
    {
     "name": "stdout",
     "output_type": "stream",
     "text": [
      "[[76  8 25]\n",
      " [10 77 20]\n",
      " [16  9 87]]\n",
      "              precision    recall  f1-score   support\n",
      "\n",
      "           0       0.75      0.70      0.72       109\n",
      "           1       0.82      0.72      0.77       107\n",
      "           2       0.66      0.78      0.71       112\n",
      "\n",
      "    accuracy                           0.73       328\n",
      "   macro avg       0.74      0.73      0.73       328\n",
      "weighted avg       0.74      0.73      0.73       328\n",
      "\n"
     ]
    }
   ],
   "source": [
    "val_score(svm.SVC(C=10, gamma=0.001, kernel='rbf').fit(x_train, y_train))"
   ]
  },
  {
   "cell_type": "code",
   "execution_count": 37,
   "id": "4512c2af",
   "metadata": {},
   "outputs": [
    {
     "name": "stdout",
     "output_type": "stream",
     "text": [
      "[[101   2   6]\n",
      " [  4  94   9]\n",
      " [  3   1 108]]\n",
      "              precision    recall  f1-score   support\n",
      "\n",
      "           0       0.94      0.93      0.93       109\n",
      "           1       0.97      0.88      0.92       107\n",
      "           2       0.88      0.96      0.92       112\n",
      "\n",
      "    accuracy                           0.92       328\n",
      "   macro avg       0.93      0.92      0.92       328\n",
      "weighted avg       0.93      0.92      0.92       328\n",
      "\n"
     ]
    }
   ],
   "source": [
    "val_score(svm.SVC(C=100, gamma=0.1, kernel='rbf').fit(x_train, y_train))"
   ]
  },
  {
   "cell_type": "code",
   "execution_count": 45,
   "id": "e95fdae7",
   "metadata": {},
   "outputs": [
    {
     "name": "stdout",
     "output_type": "stream",
     "text": [
      "[[102   0   7]\n",
      " [  3  98   6]\n",
      " [  5   2 106]]\n",
      "              precision    recall  f1-score   support\n",
      "\n",
      "           0       0.93      0.94      0.93       109\n",
      "           1       0.98      0.92      0.95       107\n",
      "           2       0.89      0.94      0.91       113\n",
      "\n",
      "    accuracy                           0.93       329\n",
      "   macro avg       0.93      0.93      0.93       329\n",
      "weighted avg       0.93      0.93      0.93       329\n",
      "\n"
     ]
    }
   ],
   "source": [
    "test_score(svm.SVC(C=100, gamma=0.1, kernel='rbf').fit(x_train, y_train))"
   ]
  },
  {
   "cell_type": "code",
   "execution_count": 35,
   "id": "eeb08b4f",
   "metadata": {},
   "outputs": [
    {
     "name": "stdout",
     "output_type": "stream",
     "text": [
      "[[406  38  64]\n",
      " [ 39 369  90]\n",
      " [ 62  29 434]]\n",
      "              precision    recall  f1-score   support\n",
      "\n",
      "           0       0.80      0.80      0.80       508\n",
      "           1       0.85      0.74      0.79       498\n",
      "           2       0.74      0.83      0.78       525\n",
      "\n",
      "    accuracy                           0.79      1531\n",
      "   macro avg       0.80      0.79      0.79      1531\n",
      "weighted avg       0.79      0.79      0.79      1531\n",
      "\n"
     ]
    }
   ],
   "source": [
    "train_score(svm.SVC(C=0.1, kernel='linear').fit(x_train, y_train))"
   ]
  },
  {
   "cell_type": "code",
   "execution_count": 40,
   "id": "8131a5c7",
   "metadata": {},
   "outputs": [
    {
     "name": "stdout",
     "output_type": "stream",
     "text": [
      "[[83  4 22]\n",
      " [14 78 15]\n",
      " [14 11 87]]\n",
      "              precision    recall  f1-score   support\n",
      "\n",
      "           0       0.75      0.76      0.75       109\n",
      "           1       0.84      0.73      0.78       107\n",
      "           2       0.70      0.78      0.74       112\n",
      "\n",
      "    accuracy                           0.76       328\n",
      "   macro avg       0.76      0.76      0.76       328\n",
      "weighted avg       0.76      0.76      0.76       328\n",
      "\n"
     ]
    }
   ],
   "source": [
    "val_score(svm.SVC(C=0.1, kernel='linear').fit(x_train, y_train))"
   ]
  },
  {
   "cell_type": "code",
   "execution_count": 41,
   "id": "8722adaf",
   "metadata": {},
   "outputs": [
    {
     "name": "stdout",
     "output_type": "stream",
     "text": [
      "[[89  4 16]\n",
      " [ 9 73 25]\n",
      " [17 10 86]]\n",
      "              precision    recall  f1-score   support\n",
      "\n",
      "           0       0.77      0.82      0.79       109\n",
      "           1       0.84      0.68      0.75       107\n",
      "           2       0.68      0.76      0.72       113\n",
      "\n",
      "    accuracy                           0.75       329\n",
      "   macro avg       0.76      0.75      0.75       329\n",
      "weighted avg       0.76      0.75      0.75       329\n",
      "\n"
     ]
    }
   ],
   "source": [
    "test_score(svm.SVC(C=0.1, kernel='linear').fit(x_train, y_train))"
   ]
  },
  {
   "cell_type": "code",
   "execution_count": 32,
   "id": "78bbfa01",
   "metadata": {},
   "outputs": [
    {
     "name": "stdout",
     "output_type": "stream",
     "text": [
      "[[442  24  42]\n",
      " [ 22 436  40]\n",
      " [ 48  19 458]]\n",
      "              precision    recall  f1-score   support\n",
      "\n",
      "           0       0.86      0.87      0.87       508\n",
      "           1       0.91      0.88      0.89       498\n",
      "           2       0.85      0.87      0.86       525\n",
      "\n",
      "    accuracy                           0.87      1531\n",
      "   macro avg       0.87      0.87      0.87      1531\n",
      "weighted avg       0.87      0.87      0.87      1531\n",
      "\n"
     ]
    }
   ],
   "source": [
    "train_score(svm.SVC(C=1, kernel='linear').fit(x_train, y_train))"
   ]
  },
  {
   "cell_type": "code",
   "execution_count": 33,
   "id": "544e1cf3",
   "metadata": {},
   "outputs": [
    {
     "name": "stdout",
     "output_type": "stream",
     "text": [
      "[[85  4 20]\n",
      " [13 77 17]\n",
      " [17 11 84]]\n",
      "              precision    recall  f1-score   support\n",
      "\n",
      "           0       0.74      0.78      0.76       109\n",
      "           1       0.84      0.72      0.77       107\n",
      "           2       0.69      0.75      0.72       112\n",
      "\n",
      "    accuracy                           0.75       328\n",
      "   macro avg       0.76      0.75      0.75       328\n",
      "weighted avg       0.76      0.75      0.75       328\n",
      "\n"
     ]
    }
   ],
   "source": [
    "val_score(svm.SVC(C=1, kernel='linear').fit(x_train, y_train))"
   ]
  },
  {
   "cell_type": "code",
   "execution_count": 34,
   "id": "78eb22e9",
   "metadata": {},
   "outputs": [
    {
     "name": "stdout",
     "output_type": "stream",
     "text": [
      "[[93  4 12]\n",
      " [11 77 19]\n",
      " [20 13 80]]\n",
      "              precision    recall  f1-score   support\n",
      "\n",
      "           0       0.75      0.85      0.80       109\n",
      "           1       0.82      0.72      0.77       107\n",
      "           2       0.72      0.71      0.71       113\n",
      "\n",
      "    accuracy                           0.76       329\n",
      "   macro avg       0.76      0.76      0.76       329\n",
      "weighted avg       0.76      0.76      0.76       329\n",
      "\n"
     ]
    }
   ],
   "source": [
    "test_score(svm.SVC(C=1, kernel='linear').fit(x_train, y_train))"
   ]
  },
  {
   "cell_type": "code",
   "execution_count": 53,
   "id": "224b2c15",
   "metadata": {},
   "outputs": [
    {
     "name": "stdout",
     "output_type": "stream",
     "text": [
      "[[508   0   0]\n",
      " [  0 498   0]\n",
      " [  0   0 525]]\n",
      "              precision    recall  f1-score   support\n",
      "\n",
      "           0       1.00      1.00      1.00       508\n",
      "           1       1.00      1.00      1.00       498\n",
      "           2       1.00      1.00      1.00       525\n",
      "\n",
      "    accuracy                           1.00      1531\n",
      "   macro avg       1.00      1.00      1.00      1531\n",
      "weighted avg       1.00      1.00      1.00      1531\n",
      "\n"
     ]
    }
   ],
   "source": [
    "train_score(svm.SVC(C=0.1, kernel='poly',degree=5).fit(x_train, y_train))"
   ]
  },
  {
   "cell_type": "code",
   "execution_count": 42,
   "id": "f8f9ba0a",
   "metadata": {},
   "outputs": [
    {
     "name": "stdout",
     "output_type": "stream",
     "text": [
      "[[95  6  8]\n",
      " [ 9 90  8]\n",
      " [ 8  6 98]]\n",
      "              precision    recall  f1-score   support\n",
      "\n",
      "           0       0.85      0.87      0.86       109\n",
      "           1       0.88      0.84      0.86       107\n",
      "           2       0.86      0.88      0.87       112\n",
      "\n",
      "    accuracy                           0.86       328\n",
      "   macro avg       0.86      0.86      0.86       328\n",
      "weighted avg       0.86      0.86      0.86       328\n",
      "\n"
     ]
    }
   ],
   "source": [
    "val_score(svm.SVC(C=0.1, kernel='poly',degree=5).fit(x_train, y_train))"
   ]
  },
  {
   "cell_type": "code",
   "execution_count": 43,
   "id": "28f97f6c",
   "metadata": {},
   "outputs": [
    {
     "name": "stdout",
     "output_type": "stream",
     "text": [
      "[[104   1   4]\n",
      " [  4  94   9]\n",
      " [ 11   7  95]]\n",
      "              precision    recall  f1-score   support\n",
      "\n",
      "           0       0.87      0.95      0.91       109\n",
      "           1       0.92      0.88      0.90       107\n",
      "           2       0.88      0.84      0.86       113\n",
      "\n",
      "    accuracy                           0.89       329\n",
      "   macro avg       0.89      0.89      0.89       329\n",
      "weighted avg       0.89      0.89      0.89       329\n",
      "\n"
     ]
    }
   ],
   "source": [
    "test_score(svm.SVC(C=0.1, kernel='poly',degree=5).fit(x_train, y_train))"
   ]
  },
  {
   "cell_type": "markdown",
   "id": "3b8a35fe",
   "metadata": {},
   "source": [
    "### Slightly higher accuracy with lower-quality images (93% test/train, 92% val)"
   ]
  },
  {
   "cell_type": "markdown",
   "id": "6e87238b",
   "metadata": {},
   "source": [
    "### Show first image in dataset"
   ]
  },
  {
   "cell_type": "code",
   "execution_count": 55,
   "id": "638b3619",
   "metadata": {},
   "outputs": [],
   "source": [
    "from PIL import Image as im"
   ]
  },
  {
   "cell_type": "code",
   "execution_count": 59,
   "id": "e9195681",
   "metadata": {},
   "outputs": [
    {
     "data": {
      "text/plain": [
       "<matplotlib.image.AxesImage at 0x2149cb453a0>"
      ]
     },
     "execution_count": 59,
     "metadata": {},
     "output_type": "execute_result"
    },
    {
     "data": {
      "image/png": "[encoded data removed]",
      "text/plain": [
       "<Figure size 432x288 with 1 Axes>"
      ]
     },
     "metadata": {
      "needs_background": "light"
     },
     "output_type": "display_data"
    }
   ],
   "source": [
    "first_image = np.array(x_train.T[0])\n",
    "first_image = np.reshape(first_image, (32, 32))\n",
    "plt.imshow(first_image)"
   ]
  },
  {
   "cell_type": "code",
   "execution_count": 14,
   "id": "79bcb5f3",
   "metadata": {},
   "outputs": [
    {
     "data": {
      "text/html": [
       "<div>\n",
       "<style scoped>\n",
       "    .dataframe tbody tr th:only-of-type {\n",
       "        vertical-align: middle;\n",
       "    }\n",
       "\n",
       "    .dataframe tbody tr th {\n",
       "        vertical-align: top;\n",
       "    }\n",
       "\n",
       "    .dataframe thead th {\n",
       "        text-align: right;\n",
       "    }\n",
       "</style>\n",
       "<table border=\"1\" class=\"dataframe\">\n",
       "  <thead>\n",
       "    <tr style=\"text-align: right;\">\n",
       "      <th></th>\n",
       "      <th>0</th>\n",
       "      <th>1</th>\n",
       "      <th>2</th>\n",
       "      <th>3</th>\n",
       "      <th>4</th>\n",
       "      <th>5</th>\n",
       "      <th>6</th>\n",
       "      <th>7</th>\n",
       "      <th>8</th>\n",
       "      <th>9</th>\n",
       "      <th>...</th>\n",
       "      <th>22490</th>\n",
       "      <th>22491</th>\n",
       "      <th>22492</th>\n",
       "      <th>22493</th>\n",
       "      <th>22494</th>\n",
       "      <th>22495</th>\n",
       "      <th>22496</th>\n",
       "      <th>22497</th>\n",
       "      <th>22498</th>\n",
       "      <th>22499</th>\n",
       "    </tr>\n",
       "  </thead>\n",
       "  <tbody>\n",
       "    <tr>\n",
       "      <th>0</th>\n",
       "      <td>0.327006</td>\n",
       "      <td>0.318834</td>\n",
       "      <td>0.323973</td>\n",
       "      <td>0.330377</td>\n",
       "      <td>0.326415</td>\n",
       "      <td>0.328089</td>\n",
       "      <td>0.337242</td>\n",
       "      <td>0.328654</td>\n",
       "      <td>0.329932</td>\n",
       "      <td>0.333666</td>\n",
       "      <td>...</td>\n",
       "      <td>0.331515</td>\n",
       "      <td>0.333384</td>\n",
       "      <td>0.330452</td>\n",
       "      <td>0.328314</td>\n",
       "      <td>0.322628</td>\n",
       "      <td>0.322367</td>\n",
       "      <td>0.322702</td>\n",
       "      <td>0.319377</td>\n",
       "      <td>0.313815</td>\n",
       "      <td>0.311721</td>\n",
       "    </tr>\n",
       "    <tr>\n",
       "      <th>1</th>\n",
       "      <td>0.315090</td>\n",
       "      <td>0.305533</td>\n",
       "      <td>0.310188</td>\n",
       "      <td>0.315768</td>\n",
       "      <td>0.307949</td>\n",
       "      <td>0.315844</td>\n",
       "      <td>0.323197</td>\n",
       "      <td>0.314478</td>\n",
       "      <td>0.315038</td>\n",
       "      <td>0.322184</td>\n",
       "      <td>...</td>\n",
       "      <td>0.334386</td>\n",
       "      <td>0.335710</td>\n",
       "      <td>0.333242</td>\n",
       "      <td>0.332373</td>\n",
       "      <td>0.327756</td>\n",
       "      <td>0.329524</td>\n",
       "      <td>0.329309</td>\n",
       "      <td>0.326194</td>\n",
       "      <td>0.321476</td>\n",
       "      <td>0.322470</td>\n",
       "    </tr>\n",
       "    <tr>\n",
       "      <th>2</th>\n",
       "      <td>0.359144</td>\n",
       "      <td>0.358328</td>\n",
       "      <td>0.355936</td>\n",
       "      <td>0.361630</td>\n",
       "      <td>0.362130</td>\n",
       "      <td>0.367018</td>\n",
       "      <td>0.364811</td>\n",
       "      <td>0.367274</td>\n",
       "      <td>0.365174</td>\n",
       "      <td>0.369566</td>\n",
       "      <td>...</td>\n",
       "      <td>0.389686</td>\n",
       "      <td>0.390984</td>\n",
       "      <td>0.386920</td>\n",
       "      <td>0.378935</td>\n",
       "      <td>0.370978</td>\n",
       "      <td>0.372878</td>\n",
       "      <td>0.372166</td>\n",
       "      <td>0.370863</td>\n",
       "      <td>0.374950</td>\n",
       "      <td>0.382550</td>\n",
       "    </tr>\n",
       "    <tr>\n",
       "      <th>3</th>\n",
       "      <td>0.401388</td>\n",
       "      <td>0.402302</td>\n",
       "      <td>0.398677</td>\n",
       "      <td>0.402693</td>\n",
       "      <td>0.402017</td>\n",
       "      <td>0.407019</td>\n",
       "      <td>0.412162</td>\n",
       "      <td>0.412566</td>\n",
       "      <td>0.407532</td>\n",
       "      <td>0.412417</td>\n",
       "      <td>...</td>\n",
       "      <td>0.428547</td>\n",
       "      <td>0.426874</td>\n",
       "      <td>0.428182</td>\n",
       "      <td>0.419629</td>\n",
       "      <td>0.410377</td>\n",
       "      <td>0.412099</td>\n",
       "      <td>0.416260</td>\n",
       "      <td>0.418466</td>\n",
       "      <td>0.418462</td>\n",
       "      <td>0.417367</td>\n",
       "    </tr>\n",
       "    <tr>\n",
       "      <th>4</th>\n",
       "      <td>0.258747</td>\n",
       "      <td>0.268818</td>\n",
       "      <td>0.276975</td>\n",
       "      <td>0.280129</td>\n",
       "      <td>0.289476</td>\n",
       "      <td>0.297191</td>\n",
       "      <td>0.295294</td>\n",
       "      <td>0.301408</td>\n",
       "      <td>0.307391</td>\n",
       "      <td>0.307857</td>\n",
       "      <td>...</td>\n",
       "      <td>0.201299</td>\n",
       "      <td>0.202054</td>\n",
       "      <td>0.200099</td>\n",
       "      <td>0.194811</td>\n",
       "      <td>0.192479</td>\n",
       "      <td>0.185021</td>\n",
       "      <td>0.179744</td>\n",
       "      <td>0.177956</td>\n",
       "      <td>0.173525</td>\n",
       "      <td>0.164161</td>\n",
       "    </tr>\n",
       "    <tr>\n",
       "      <th>...</th>\n",
       "      <td>...</td>\n",
       "      <td>...</td>\n",
       "      <td>...</td>\n",
       "      <td>...</td>\n",
       "      <td>...</td>\n",
       "      <td>...</td>\n",
       "      <td>...</td>\n",
       "      <td>...</td>\n",
       "      <td>...</td>\n",
       "      <td>...</td>\n",
       "      <td>...</td>\n",
       "      <td>...</td>\n",
       "      <td>...</td>\n",
       "      <td>...</td>\n",
       "      <td>...</td>\n",
       "      <td>...</td>\n",
       "      <td>...</td>\n",
       "      <td>...</td>\n",
       "      <td>...</td>\n",
       "      <td>...</td>\n",
       "      <td>...</td>\n",
       "    </tr>\n",
       "    <tr>\n",
       "      <th>324</th>\n",
       "      <td>0.346733</td>\n",
       "      <td>0.351356</td>\n",
       "      <td>0.343962</td>\n",
       "      <td>0.347722</td>\n",
       "      <td>0.348351</td>\n",
       "      <td>0.350051</td>\n",
       "      <td>0.353727</td>\n",
       "      <td>0.353337</td>\n",
       "      <td>0.352340</td>\n",
       "      <td>0.356897</td>\n",
       "      <td>...</td>\n",
       "      <td>0.373575</td>\n",
       "      <td>0.370718</td>\n",
       "      <td>0.373009</td>\n",
       "      <td>0.367935</td>\n",
       "      <td>0.363422</td>\n",
       "      <td>0.359693</td>\n",
       "      <td>0.359442</td>\n",
       "      <td>0.360760</td>\n",
       "      <td>0.364004</td>\n",
       "      <td>0.364267</td>\n",
       "    </tr>\n",
       "    <tr>\n",
       "      <th>325</th>\n",
       "      <td>0.311937</td>\n",
       "      <td>0.303902</td>\n",
       "      <td>0.306983</td>\n",
       "      <td>0.313511</td>\n",
       "      <td>0.315812</td>\n",
       "      <td>0.320161</td>\n",
       "      <td>0.324157</td>\n",
       "      <td>0.318960</td>\n",
       "      <td>0.322235</td>\n",
       "      <td>0.322686</td>\n",
       "      <td>...</td>\n",
       "      <td>0.324158</td>\n",
       "      <td>0.326775</td>\n",
       "      <td>0.327040</td>\n",
       "      <td>0.322469</td>\n",
       "      <td>0.312277</td>\n",
       "      <td>0.313013</td>\n",
       "      <td>0.314554</td>\n",
       "      <td>0.308421</td>\n",
       "      <td>0.308911</td>\n",
       "      <td>0.311173</td>\n",
       "    </tr>\n",
       "    <tr>\n",
       "      <th>326</th>\n",
       "      <td>0.387385</td>\n",
       "      <td>0.390794</td>\n",
       "      <td>0.392158</td>\n",
       "      <td>0.391510</td>\n",
       "      <td>0.392019</td>\n",
       "      <td>0.394232</td>\n",
       "      <td>0.397026</td>\n",
       "      <td>0.396776</td>\n",
       "      <td>0.396274</td>\n",
       "      <td>0.401210</td>\n",
       "      <td>...</td>\n",
       "      <td>0.418971</td>\n",
       "      <td>0.415215</td>\n",
       "      <td>0.422798</td>\n",
       "      <td>0.414337</td>\n",
       "      <td>0.404071</td>\n",
       "      <td>0.405130</td>\n",
       "      <td>0.406824</td>\n",
       "      <td>0.407180</td>\n",
       "      <td>0.413245</td>\n",
       "      <td>0.412668</td>\n",
       "    </tr>\n",
       "    <tr>\n",
       "      <th>327</th>\n",
       "      <td>0.300849</td>\n",
       "      <td>0.298772</td>\n",
       "      <td>0.295340</td>\n",
       "      <td>0.303790</td>\n",
       "      <td>0.302127</td>\n",
       "      <td>0.305902</td>\n",
       "      <td>0.306402</td>\n",
       "      <td>0.310475</td>\n",
       "      <td>0.310777</td>\n",
       "      <td>0.310876</td>\n",
       "      <td>...</td>\n",
       "      <td>0.325296</td>\n",
       "      <td>0.325342</td>\n",
       "      <td>0.322559</td>\n",
       "      <td>0.315430</td>\n",
       "      <td>0.313968</td>\n",
       "      <td>0.316459</td>\n",
       "      <td>0.316828</td>\n",
       "      <td>0.317484</td>\n",
       "      <td>0.319236</td>\n",
       "      <td>0.319784</td>\n",
       "    </tr>\n",
       "    <tr>\n",
       "      <th>328</th>\n",
       "      <td>0.265387</td>\n",
       "      <td>0.272453</td>\n",
       "      <td>0.283083</td>\n",
       "      <td>0.297297</td>\n",
       "      <td>0.298789</td>\n",
       "      <td>0.305251</td>\n",
       "      <td>0.298716</td>\n",
       "      <td>0.296695</td>\n",
       "      <td>0.293735</td>\n",
       "      <td>0.303763</td>\n",
       "      <td>...</td>\n",
       "      <td>0.241893</td>\n",
       "      <td>0.242037</td>\n",
       "      <td>0.238980</td>\n",
       "      <td>0.236019</td>\n",
       "      <td>0.232405</td>\n",
       "      <td>0.230781</td>\n",
       "      <td>0.227324</td>\n",
       "      <td>0.222891</td>\n",
       "      <td>0.218296</td>\n",
       "      <td>0.210335</td>\n",
       "    </tr>\n",
       "  </tbody>\n",
       "</table>\n",
       "<p>329 rows × 22500 columns</p>\n",
       "</div>"
      ],
      "text/plain": [
       "        0         1         2         3         4         5         6      \\\n",
       "0    0.327006  0.318834  0.323973  0.330377  0.326415  0.328089  0.337242   \n",
       "1    0.315090  0.305533  0.310188  0.315768  0.307949  0.315844  0.323197   \n",
       "2    0.359144  0.358328  0.355936  0.361630  0.362130  0.367018  0.364811   \n",
       "3    0.401388  0.402302  0.398677  0.402693  0.402017  0.407019  0.412162   \n",
       "4    0.258747  0.268818  0.276975  0.280129  0.289476  0.297191  0.295294   \n",
       "..        ...       ...       ...       ...       ...       ...       ...   \n",
       "324  0.346733  0.351356  0.343962  0.347722  0.348351  0.350051  0.353727   \n",
       "325  0.311937  0.303902  0.306983  0.313511  0.315812  0.320161  0.324157   \n",
       "326  0.387385  0.390794  0.392158  0.391510  0.392019  0.394232  0.397026   \n",
       "327  0.300849  0.298772  0.295340  0.303790  0.302127  0.305902  0.306402   \n",
       "328  0.265387  0.272453  0.283083  0.297297  0.298789  0.305251  0.298716   \n",
       "\n",
       "        7         8         9      ...     22490     22491     22492  \\\n",
       "0    0.328654  0.329932  0.333666  ...  0.331515  0.333384  0.330452   \n",
       "1    0.314478  0.315038  0.322184  ...  0.334386  0.335710  0.333242   \n",
       "2    0.367274  0.365174  0.369566  ...  0.389686  0.390984  0.386920   \n",
       "3    0.412566  0.407532  0.412417  ...  0.428547  0.426874  0.428182   \n",
       "4    0.301408  0.307391  0.307857  ...  0.201299  0.202054  0.200099   \n",
       "..        ...       ...       ...  ...       ...       ...       ...   \n",
       "324  0.353337  0.352340  0.356897  ...  0.373575  0.370718  0.373009   \n",
       "325  0.318960  0.322235  0.322686  ...  0.324158  0.326775  0.327040   \n",
       "326  0.396776  0.396274  0.401210  ...  0.418971  0.415215  0.422798   \n",
       "327  0.310475  0.310777  0.310876  ...  0.325296  0.325342  0.322559   \n",
       "328  0.296695  0.293735  0.303763  ...  0.241893  0.242037  0.238980   \n",
       "\n",
       "        22493     22494     22495     22496     22497     22498     22499  \n",
       "0    0.328314  0.322628  0.322367  0.322702  0.319377  0.313815  0.311721  \n",
       "1    0.332373  0.327756  0.329524  0.329309  0.326194  0.321476  0.322470  \n",
       "2    0.378935  0.370978  0.372878  0.372166  0.370863  0.374950  0.382550  \n",
       "3    0.419629  0.410377  0.412099  0.416260  0.418466  0.418462  0.417367  \n",
       "4    0.194811  0.192479  0.185021  0.179744  0.177956  0.173525  0.164161  \n",
       "..        ...       ...       ...       ...       ...       ...       ...  \n",
       "324  0.367935  0.363422  0.359693  0.359442  0.360760  0.364004  0.364267  \n",
       "325  0.322469  0.312277  0.313013  0.314554  0.308421  0.308911  0.311173  \n",
       "326  0.414337  0.404071  0.405130  0.406824  0.407180  0.413245  0.412668  \n",
       "327  0.315430  0.313968  0.316459  0.316828  0.317484  0.319236  0.319784  \n",
       "328  0.236019  0.232405  0.230781  0.227324  0.222891  0.218296  0.210335  \n",
       "\n",
       "[329 rows x 22500 columns]"
      ]
     },
     "execution_count": 14,
     "metadata": {},
     "output_type": "execute_result"
    }
   ],
   "source": [
    "x_test"
   ]
  },
  {
   "cell_type": "markdown",
   "id": "42da2984",
   "metadata": {},
   "source": [
    "### Compare misclassified and correctly classified images"
   ]
  },
  {
   "cell_type": "code",
   "execution_count": 17,
   "id": "48cd4897",
   "metadata": {},
   "outputs": [],
   "source": [
    "best_model = svm.SVC(kernel='rbf', gamma=0.1, C=10).fit(x_train, y_train)\n",
    "pred_test = best_model.predict(x_test)\n",
    "missclassified_indices = []\n",
    "for i in range(0,y_test.size):\n",
    "    if y_test[i] != pred_test[i]:\n",
    "        missclassified_indices.append(i)"
   ]
  },
  {
   "cell_type": "code",
   "execution_count": 20,
   "id": "8bd054e0",
   "metadata": {},
   "outputs": [
    {
     "data": {
      "text/plain": [
       "[27,\n",
       " 29,\n",
       " 41,\n",
       " 77,\n",
       " 85,\n",
       " 87,\n",
       " 93,\n",
       " 113,\n",
       " 126,\n",
       " 134,\n",
       " 138,\n",
       " 140,\n",
       " 144,\n",
       " 152,\n",
       " 156,\n",
       " 212,\n",
       " 219,\n",
       " 229,\n",
       " 231,\n",
       " 252,\n",
       " 261,\n",
       " 273,\n",
       " 302]"
      ]
     },
     "execution_count": 20,
     "metadata": {},
     "output_type": "execute_result"
    }
   ],
   "source": [
    "missclassified_indices"
   ]
  },
  {
   "cell_type": "code",
   "execution_count": 21,
   "id": "8cc7cd27",
   "metadata": {},
   "outputs": [
    {
     "name": "stdout",
     "output_type": "stream",
     "text": [
      "Predicted class 2\n",
      "Actual class 0\n"
     ]
    },
    {
     "data": {
      "image/png": "[encoded data removed]",
      "text/plain": [
       "<Figure size 432x288 with 1 Axes>"
      ]
     },
     "metadata": {
      "needs_background": "light"
     },
     "output_type": "display_data"
    }
   ],
   "source": [
    "plt.imshow(np.reshape(np.array(x_test.T[77]), (32, 32)))\n",
    "print(\"Predicted class\",pred_test[77])\n",
    "print(\"Actual class\",y_test[77])"
   ]
  },
  {
   "cell_type": "code",
   "execution_count": 22,
   "id": "f3b27c7c",
   "metadata": {},
   "outputs": [
    {
     "name": "stdout",
     "output_type": "stream",
     "text": [
      "Predicted class 0\n",
      "Actual class 0\n"
     ]
    },
    {
     "data": {
      "image/png": "[encoded data removed]",
      "text/plain": [
       "<Figure size 432x288 with 1 Axes>"
      ]
     },
     "metadata": {
      "needs_background": "light"
     },
     "output_type": "display_data"
    }
   ],
   "source": [
    "plt.imshow(np.reshape(np.array(x_test.T[78]), (32, 32)))\n",
    "print(\"Predicted class\",pred_test[78])\n",
    "print(\"Actual class\",y_test[78])"
   ]
  },
  {
   "cell_type": "code",
   "execution_count": 23,
   "id": "3c8cdb5c",
   "metadata": {},
   "outputs": [
    {
     "name": "stdout",
     "output_type": "stream",
     "text": [
      "Predicted class 2\n",
      "Actual class 1\n"
     ]
    },
    {
     "data": {
      "image/png": "[encoded data removed]",
      "text/plain": [
       "<Figure size 432x288 with 1 Axes>"
      ]
     },
     "metadata": {
      "needs_background": "light"
     },
     "output_type": "display_data"
    }
   ],
   "source": [
    "plt.imshow(np.reshape(np.array(x_test.T[152]), (32, 32)))\n",
    "print(\"Predicted class\",pred_test[152])\n",
    "print(\"Actual class\",y_test[152])"
   ]
  },
  {
   "cell_type": "code",
   "execution_count": 24,
   "id": "73f2ce72",
   "metadata": {},
   "outputs": [
    {
     "name": "stdout",
     "output_type": "stream",
     "text": [
      "Predicted class 1\n",
      "Actual class 1\n"
     ]
    },
    {
     "data": {
      "image/png": "[encoded data removed]",
      "text/plain": [
       "<Figure size 432x288 with 1 Axes>"
      ]
     },
     "metadata": {
      "needs_background": "light"
     },
     "output_type": "display_data"
    }
   ],
   "source": [
    "plt.imshow(np.reshape(np.array(x_test.T[153]), (32, 32)))\n",
    "print(\"Predicted class\",pred_test[153])\n",
    "print(\"Actual class\",y_test[153])"
   ]
  },
  {
   "cell_type": "code",
   "execution_count": 25,
   "id": "a47a5b19",
   "metadata": {},
   "outputs": [
    {
     "name": "stdout",
     "output_type": "stream",
     "text": [
      "Predicted class 0\n",
      "Actual class 2\n"
     ]
    },
    {
     "data": {
      "image/png": "[encoded data removed]",
      "text/plain": [
       "<Figure size 432x288 with 1 Axes>"
      ]
     },
     "metadata": {
      "needs_background": "light"
     },
     "output_type": "display_data"
    }
   ],
   "source": [
    "plt.imshow(np.reshape(np.array(x_test.T[231]), (32, 32)))\n",
    "print(\"Predicted class\",pred_test[231])\n",
    "print(\"Actual class\",y_test[231])"
   ]
  },
  {
   "cell_type": "code",
   "execution_count": 26,
   "id": "f600fb36",
   "metadata": {},
   "outputs": [
    {
     "name": "stdout",
     "output_type": "stream",
     "text": [
      "Predicted class 2\n",
      "Actual class 2\n"
     ]
    },
    {
     "data": {
      "image/png": "[encoded data removed]",
      "text/plain": [
       "<Figure size 432x288 with 1 Axes>"
      ]
     },
     "metadata": {
      "needs_background": "light"
     },
     "output_type": "display_data"
    }
   ],
   "source": [
    "plt.imshow(np.reshape(np.array(x_test.T[232]), (32, 32)))\n",
    "print(\"Predicted class\",pred_test[232])\n",
    "print(\"Actual class\",y_test[232])"
   ]
  },
  {
   "cell_type": "markdown",
   "id": "0512de34",
   "metadata": {},
   "source": [
    "### Test model on new dataset: 3 images of my own hand from each class"
   ]
  },
  {
   "cell_type": "code",
   "execution_count": 18,
   "id": "96756876",
   "metadata": {},
   "outputs": [
    {
     "name": "stdout",
     "output_type": "stream",
     "text": [
      "loaded category:rock successfully for train\n",
      "loaded category:paper successfully for train\n",
      "loaded category:scissors successfully for train\n"
     ]
    }
   ],
   "source": [
    "Categories=['rock','paper','scissors']\n",
    "self_test_dir = 'rps-self'\n",
    "\n",
    "flat_data_arr=[] #input array\n",
    "target_arr=[] #output array\n",
    "for i in Categories:\n",
    "    path=os.path.join(self_test_dir,i)\n",
    "    for img in os.listdir(path):\n",
    "        img_array=imread(os.path.join(path,img))\n",
    "        img_resized=resize(img_array,(32,32,1))\n",
    "        flat_data_arr.append(img_resized.flatten())\n",
    "        target_arr.append(Categories.index(i))\n",
    "    print(f'loaded category:{i} successfully for train')\n",
    "flat_data=np.array(flat_data_arr)\n",
    "target=np.array(target_arr)\n",
    "df=pd.DataFrame(flat_data) #dataframe\n",
    "df['Target']=target\n",
    "self_test=df.iloc[:,:-1] #input data\n",
    "y_self_test=df.iloc[:,-1] #output data"
   ]
  },
  {
   "cell_type": "code",
   "execution_count": 19,
   "id": "0d480156",
   "metadata": {},
   "outputs": [
    {
     "data": {
      "text/html": [
       "<div>\n",
       "<style scoped>\n",
       "    .dataframe tbody tr th:only-of-type {\n",
       "        vertical-align: middle;\n",
       "    }\n",
       "\n",
       "    .dataframe tbody tr th {\n",
       "        vertical-align: top;\n",
       "    }\n",
       "\n",
       "    .dataframe thead th {\n",
       "        text-align: right;\n",
       "    }\n",
       "</style>\n",
       "<table border=\"1\" class=\"dataframe\">\n",
       "  <thead>\n",
       "    <tr style=\"text-align: right;\">\n",
       "      <th></th>\n",
       "      <th>0</th>\n",
       "      <th>1</th>\n",
       "      <th>2</th>\n",
       "      <th>3</th>\n",
       "      <th>4</th>\n",
       "      <th>5</th>\n",
       "      <th>6</th>\n",
       "      <th>7</th>\n",
       "      <th>8</th>\n",
       "      <th>9</th>\n",
       "      <th>...</th>\n",
       "      <th>1014</th>\n",
       "      <th>1015</th>\n",
       "      <th>1016</th>\n",
       "      <th>1017</th>\n",
       "      <th>1018</th>\n",
       "      <th>1019</th>\n",
       "      <th>1020</th>\n",
       "      <th>1021</th>\n",
       "      <th>1022</th>\n",
       "      <th>1023</th>\n",
       "    </tr>\n",
       "  </thead>\n",
       "  <tbody>\n",
       "    <tr>\n",
       "      <th>0</th>\n",
       "      <td>0.178039</td>\n",
       "      <td>0.182196</td>\n",
       "      <td>0.165139</td>\n",
       "      <td>0.172490</td>\n",
       "      <td>0.176392</td>\n",
       "      <td>0.166528</td>\n",
       "      <td>0.174237</td>\n",
       "      <td>0.190188</td>\n",
       "      <td>0.197409</td>\n",
       "      <td>0.186793</td>\n",
       "      <td>...</td>\n",
       "      <td>0.140960</td>\n",
       "      <td>0.133996</td>\n",
       "      <td>0.109639</td>\n",
       "      <td>0.111961</td>\n",
       "      <td>0.111690</td>\n",
       "      <td>0.111101</td>\n",
       "      <td>0.112002</td>\n",
       "      <td>0.107377</td>\n",
       "      <td>0.101553</td>\n",
       "      <td>0.113385</td>\n",
       "    </tr>\n",
       "    <tr>\n",
       "      <th>1</th>\n",
       "      <td>0.143245</td>\n",
       "      <td>0.153305</td>\n",
       "      <td>0.164382</td>\n",
       "      <td>0.168630</td>\n",
       "      <td>0.161523</td>\n",
       "      <td>0.167237</td>\n",
       "      <td>0.162833</td>\n",
       "      <td>0.183976</td>\n",
       "      <td>0.197247</td>\n",
       "      <td>0.183611</td>\n",
       "      <td>...</td>\n",
       "      <td>0.090048</td>\n",
       "      <td>0.092607</td>\n",
       "      <td>0.085328</td>\n",
       "      <td>0.089864</td>\n",
       "      <td>0.098328</td>\n",
       "      <td>0.087142</td>\n",
       "      <td>0.094777</td>\n",
       "      <td>0.100788</td>\n",
       "      <td>0.104504</td>\n",
       "      <td>0.107505</td>\n",
       "    </tr>\n",
       "    <tr>\n",
       "      <th>2</th>\n",
       "      <td>0.176348</td>\n",
       "      <td>0.201244</td>\n",
       "      <td>0.195703</td>\n",
       "      <td>0.200994</td>\n",
       "      <td>0.195285</td>\n",
       "      <td>0.198313</td>\n",
       "      <td>0.202585</td>\n",
       "      <td>0.227009</td>\n",
       "      <td>0.236194</td>\n",
       "      <td>0.218017</td>\n",
       "      <td>...</td>\n",
       "      <td>0.150978</td>\n",
       "      <td>0.154657</td>\n",
       "      <td>0.170402</td>\n",
       "      <td>0.172479</td>\n",
       "      <td>0.163641</td>\n",
       "      <td>0.151358</td>\n",
       "      <td>0.144133</td>\n",
       "      <td>0.143959</td>\n",
       "      <td>0.132867</td>\n",
       "      <td>0.109082</td>\n",
       "    </tr>\n",
       "    <tr>\n",
       "      <th>3</th>\n",
       "      <td>0.156532</td>\n",
       "      <td>0.170136</td>\n",
       "      <td>0.183074</td>\n",
       "      <td>0.169675</td>\n",
       "      <td>0.160600</td>\n",
       "      <td>0.173977</td>\n",
       "      <td>0.175296</td>\n",
       "      <td>0.179433</td>\n",
       "      <td>0.198849</td>\n",
       "      <td>0.203328</td>\n",
       "      <td>...</td>\n",
       "      <td>0.185190</td>\n",
       "      <td>0.177184</td>\n",
       "      <td>0.180812</td>\n",
       "      <td>0.161494</td>\n",
       "      <td>0.173493</td>\n",
       "      <td>0.170275</td>\n",
       "      <td>0.146008</td>\n",
       "      <td>0.166176</td>\n",
       "      <td>0.182307</td>\n",
       "      <td>0.172834</td>\n",
       "    </tr>\n",
       "    <tr>\n",
       "      <th>4</th>\n",
       "      <td>0.176548</td>\n",
       "      <td>0.178792</td>\n",
       "      <td>0.208152</td>\n",
       "      <td>0.189680</td>\n",
       "      <td>0.181414</td>\n",
       "      <td>0.171399</td>\n",
       "      <td>0.187340</td>\n",
       "      <td>0.193791</td>\n",
       "      <td>0.206729</td>\n",
       "      <td>0.202104</td>\n",
       "      <td>...</td>\n",
       "      <td>0.175421</td>\n",
       "      <td>0.174297</td>\n",
       "      <td>0.179069</td>\n",
       "      <td>0.159136</td>\n",
       "      <td>0.144950</td>\n",
       "      <td>0.156650</td>\n",
       "      <td>0.155396</td>\n",
       "      <td>0.171002</td>\n",
       "      <td>0.189619</td>\n",
       "      <td>0.178380</td>\n",
       "    </tr>\n",
       "    <tr>\n",
       "      <th>5</th>\n",
       "      <td>0.218505</td>\n",
       "      <td>0.194592</td>\n",
       "      <td>0.182571</td>\n",
       "      <td>0.211803</td>\n",
       "      <td>0.201469</td>\n",
       "      <td>0.186450</td>\n",
       "      <td>0.182295</td>\n",
       "      <td>0.201280</td>\n",
       "      <td>0.196275</td>\n",
       "      <td>0.223188</td>\n",
       "      <td>...</td>\n",
       "      <td>0.201933</td>\n",
       "      <td>0.188073</td>\n",
       "      <td>0.194983</td>\n",
       "      <td>0.187534</td>\n",
       "      <td>0.169350</td>\n",
       "      <td>0.191301</td>\n",
       "      <td>0.164963</td>\n",
       "      <td>0.150963</td>\n",
       "      <td>0.180181</td>\n",
       "      <td>0.181682</td>\n",
       "    </tr>\n",
       "    <tr>\n",
       "      <th>6</th>\n",
       "      <td>0.229906</td>\n",
       "      <td>0.226549</td>\n",
       "      <td>0.223941</td>\n",
       "      <td>0.266388</td>\n",
       "      <td>0.253189</td>\n",
       "      <td>0.241487</td>\n",
       "      <td>0.230407</td>\n",
       "      <td>0.228665</td>\n",
       "      <td>0.220661</td>\n",
       "      <td>0.252231</td>\n",
       "      <td>...</td>\n",
       "      <td>0.226982</td>\n",
       "      <td>0.239590</td>\n",
       "      <td>0.207875</td>\n",
       "      <td>0.192654</td>\n",
       "      <td>0.205396</td>\n",
       "      <td>0.207685</td>\n",
       "      <td>0.232830</td>\n",
       "      <td>0.221853</td>\n",
       "      <td>0.192103</td>\n",
       "      <td>0.216310</td>\n",
       "    </tr>\n",
       "    <tr>\n",
       "      <th>7</th>\n",
       "      <td>0.223898</td>\n",
       "      <td>0.237708</td>\n",
       "      <td>0.232963</td>\n",
       "      <td>0.256087</td>\n",
       "      <td>0.248619</td>\n",
       "      <td>0.251376</td>\n",
       "      <td>0.275604</td>\n",
       "      <td>0.259643</td>\n",
       "      <td>0.252373</td>\n",
       "      <td>0.256310</td>\n",
       "      <td>...</td>\n",
       "      <td>0.227808</td>\n",
       "      <td>0.241162</td>\n",
       "      <td>0.234708</td>\n",
       "      <td>0.247154</td>\n",
       "      <td>0.233753</td>\n",
       "      <td>0.234250</td>\n",
       "      <td>0.244511</td>\n",
       "      <td>0.215764</td>\n",
       "      <td>0.243997</td>\n",
       "      <td>0.262670</td>\n",
       "    </tr>\n",
       "    <tr>\n",
       "      <th>8</th>\n",
       "      <td>0.213048</td>\n",
       "      <td>0.228964</td>\n",
       "      <td>0.218947</td>\n",
       "      <td>0.203342</td>\n",
       "      <td>0.212881</td>\n",
       "      <td>0.227640</td>\n",
       "      <td>0.252077</td>\n",
       "      <td>0.247121</td>\n",
       "      <td>0.233355</td>\n",
       "      <td>0.232729</td>\n",
       "      <td>...</td>\n",
       "      <td>0.243442</td>\n",
       "      <td>0.239191</td>\n",
       "      <td>0.233412</td>\n",
       "      <td>0.236160</td>\n",
       "      <td>0.203854</td>\n",
       "      <td>0.221795</td>\n",
       "      <td>0.217661</td>\n",
       "      <td>0.201253</td>\n",
       "      <td>0.211146</td>\n",
       "      <td>0.206282</td>\n",
       "    </tr>\n",
       "  </tbody>\n",
       "</table>\n",
       "<p>9 rows × 1024 columns</p>\n",
       "</div>"
      ],
      "text/plain": [
       "       0         1         2         3         4         5         6     \\\n",
       "0  0.178039  0.182196  0.165139  0.172490  0.176392  0.166528  0.174237   \n",
       "1  0.143245  0.153305  0.164382  0.168630  0.161523  0.167237  0.162833   \n",
       "2  0.176348  0.201244  0.195703  0.200994  0.195285  0.198313  0.202585   \n",
       "3  0.156532  0.170136  0.183074  0.169675  0.160600  0.173977  0.175296   \n",
       "4  0.176548  0.178792  0.208152  0.189680  0.181414  0.171399  0.187340   \n",
       "5  0.218505  0.194592  0.182571  0.211803  0.201469  0.186450  0.182295   \n",
       "6  0.229906  0.226549  0.223941  0.266388  0.253189  0.241487  0.230407   \n",
       "7  0.223898  0.237708  0.232963  0.256087  0.248619  0.251376  0.275604   \n",
       "8  0.213048  0.228964  0.218947  0.203342  0.212881  0.227640  0.252077   \n",
       "\n",
       "       7         8         9     ...      1014      1015      1016      1017  \\\n",
       "0  0.190188  0.197409  0.186793  ...  0.140960  0.133996  0.109639  0.111961   \n",
       "1  0.183976  0.197247  0.183611  ...  0.090048  0.092607  0.085328  0.089864   \n",
       "2  0.227009  0.236194  0.218017  ...  0.150978  0.154657  0.170402  0.172479   \n",
       "3  0.179433  0.198849  0.203328  ...  0.185190  0.177184  0.180812  0.161494   \n",
       "4  0.193791  0.206729  0.202104  ...  0.175421  0.174297  0.179069  0.159136   \n",
       "5  0.201280  0.196275  0.223188  ...  0.201933  0.188073  0.194983  0.187534   \n",
       "6  0.228665  0.220661  0.252231  ...  0.226982  0.239590  0.207875  0.192654   \n",
       "7  0.259643  0.252373  0.256310  ...  0.227808  0.241162  0.234708  0.247154   \n",
       "8  0.247121  0.233355  0.232729  ...  0.243442  0.239191  0.233412  0.236160   \n",
       "\n",
       "       1018      1019      1020      1021      1022      1023  \n",
       "0  0.111690  0.111101  0.112002  0.107377  0.101553  0.113385  \n",
       "1  0.098328  0.087142  0.094777  0.100788  0.104504  0.107505  \n",
       "2  0.163641  0.151358  0.144133  0.143959  0.132867  0.109082  \n",
       "3  0.173493  0.170275  0.146008  0.166176  0.182307  0.172834  \n",
       "4  0.144950  0.156650  0.155396  0.171002  0.189619  0.178380  \n",
       "5  0.169350  0.191301  0.164963  0.150963  0.180181  0.181682  \n",
       "6  0.205396  0.207685  0.232830  0.221853  0.192103  0.216310  \n",
       "7  0.233753  0.234250  0.244511  0.215764  0.243997  0.262670  \n",
       "8  0.203854  0.221795  0.217661  0.201253  0.211146  0.206282  \n",
       "\n",
       "[9 rows x 1024 columns]"
      ]
     },
     "execution_count": 19,
     "metadata": {},
     "output_type": "execute_result"
    }
   ],
   "source": [
    "self_test"
   ]
  },
  {
   "cell_type": "code",
   "execution_count": 12,
   "id": "740f7545",
   "metadata": {},
   "outputs": [],
   "source": []
  },
  {
   "cell_type": "code",
   "execution_count": 29,
   "id": "517504d0",
   "metadata": {},
   "outputs": [
    {
     "data": {
      "text/plain": [
       "<matplotlib.image.AxesImage at 0x21db30b2f10>"
      ]
     },
     "execution_count": 29,
     "metadata": {},
     "output_type": "execute_result"
    },
    {
     "data": {
      "image/png": "[encoded data removed]",
      "text/plain": [
       "<Figure size 432x288 with 1 Axes>"
      ]
     },
     "metadata": {
      "needs_background": "light"
     },
     "output_type": "display_data"
    }
   ],
   "source": [
    "plt.imshow(np.reshape(np.array(self_test.T[8]), (32, 32)))"
   ]
  },
  {
   "cell_type": "code",
   "execution_count": 21,
   "id": "c10af4b5",
   "metadata": {},
   "outputs": [],
   "source": [
    "best_model = svm.SVC(kernel='rbf', gamma=0.1, C=10).fit(x_train, y_train)"
   ]
  },
  {
   "cell_type": "code",
   "execution_count": 22,
   "id": "b01e4130",
   "metadata": {},
   "outputs": [
    {
     "data": {
      "text/plain": [
       "array([2, 2, 2, 2, 2, 2, 2, 2, 2])"
      ]
     },
     "execution_count": 22,
     "metadata": {},
     "output_type": "execute_result"
    }
   ],
   "source": [
    "best_model.predict(self_test)"
   ]
  },
  {
   "cell_type": "markdown",
   "id": "328f9e46",
   "metadata": {},
   "source": [
    "### RBF classifies all new images as scissors"
   ]
  },
  {
   "cell_type": "code",
   "execution_count": 30,
   "id": "f376cf7d",
   "metadata": {},
   "outputs": [],
   "source": [
    "poly_model = svm.SVC(C=0.1, kernel='poly',degree=5).fit(x_train, y_train)"
   ]
  },
  {
   "cell_type": "code",
   "execution_count": 31,
   "id": "6aa6e695",
   "metadata": {},
   "outputs": [
    {
     "data": {
      "text/plain": [
       "array([2, 2, 2, 0, 0, 0, 2, 2, 2])"
      ]
     },
     "execution_count": 31,
     "metadata": {},
     "output_type": "execute_result"
    }
   ],
   "source": [
    "poly_model.predict(self_test)"
   ]
  },
  {
   "cell_type": "markdown",
   "id": "77523712",
   "metadata": {},
   "source": [
    "### Polynomial model confuses rock for scissors and paper for rock"
   ]
  },
  {
   "cell_type": "code",
   "execution_count": 32,
   "id": "6bea619f",
   "metadata": {},
   "outputs": [],
   "source": [
    "linear_model = svm.SVC(C=0.1, kernel='linear').fit(x_train, y_train)"
   ]
  },
  {
   "cell_type": "code",
   "execution_count": 33,
   "id": "be23c9fe",
   "metadata": {},
   "outputs": [
    {
     "data": {
      "text/plain": [
       "array([1, 1, 1, 1, 1, 1, 1, 2, 1])"
      ]
     },
     "execution_count": 33,
     "metadata": {},
     "output_type": "execute_result"
    }
   ],
   "source": [
    "linear_model.predict(self_test)"
   ]
  },
  {
   "cell_type": "markdown",
   "id": "a9d67587",
   "metadata": {},
   "source": [
    "### Linear model predicts nearly all as paper"
   ]
  },
  {
   "cell_type": "markdown",
   "id": "65403c26",
   "metadata": {},
   "source": [
    "## Test Yite's images"
   ]
  },
  {
   "cell_type": "code",
   "execution_count": 4,
   "id": "7323047e",
   "metadata": {},
   "outputs": [
    {
     "name": "stdout",
     "output_type": "stream",
     "text": [
      "loaded category:rock successfully for train\n",
      "loaded category:paper successfully for train\n",
      "loaded category:scissors successfully for train\n"
     ]
    }
   ],
   "source": [
    "Categories=['rock','paper','scissors']\n",
    "self_test_dir = 'rps-self-yite'\n",
    "\n",
    "flat_data_arr=[] #input array\n",
    "target_arr=[] #output array\n",
    "for i in Categories:\n",
    "    path=os.path.join(self_test_dir,i)\n",
    "    for img in os.listdir(path):\n",
    "        img_array=imread(os.path.join(path,img))\n",
    "        img_resized=resize(img_array,(32,32,1))\n",
    "        flat_data_arr.append(img_resized.flatten())\n",
    "        target_arr.append(Categories.index(i))\n",
    "    print(f'loaded category:{i} successfully for train')\n",
    "flat_data=np.array(flat_data_arr)\n",
    "target=np.array(target_arr)\n",
    "df=pd.DataFrame(flat_data) #dataframe\n",
    "df['Target']=target\n",
    "self_test=df.iloc[:,:-1] #input data\n",
    "y_self_test=df.iloc[:,-1] #output data"
   ]
  },
  {
   "cell_type": "code",
   "execution_count": 6,
   "id": "1457a78b",
   "metadata": {},
   "outputs": [
    {
     "data": {
      "text/plain": [
       "<matplotlib.image.AxesImage at 0x2790b56b640>"
      ]
     },
     "execution_count": 6,
     "metadata": {},
     "output_type": "execute_result"
    },
    {
     "data": {
      "image/png": "[encoded data removed]",
      "text/plain": [
       "<Figure size 432x288 with 1 Axes>"
      ]
     },
     "metadata": {
      "needs_background": "light"
     },
     "output_type": "display_data"
    }
   ],
   "source": [
    "plt.imshow(np.reshape(np.array(self_test.T[1]), (32, 32)))"
   ]
  },
  {
   "cell_type": "code",
   "execution_count": 7,
   "id": "088e9d2d",
   "metadata": {},
   "outputs": [
    {
     "data": {
      "text/plain": [
       "array([2, 2, 2, 2, 2])"
      ]
     },
     "execution_count": 7,
     "metadata": {},
     "output_type": "execute_result"
    }
   ],
   "source": [
    "best_model = svm.SVC(kernel='rbf', gamma=0.1, C=10).fit(x_train, y_train)\n",
    "best_model.predict(self_test)"
   ]
  },
  {
   "cell_type": "code",
   "execution_count": 8,
   "id": "03123e89",
   "metadata": {},
   "outputs": [
    {
     "data": {
      "text/plain": [
       "array([0, 1, 1, 1, 1])"
      ]
     },
     "execution_count": 8,
     "metadata": {},
     "output_type": "execute_result"
    }
   ],
   "source": [
    "poly_model = svm.SVC(C=0.1, kernel='poly',degree=5).fit(x_train, y_train)\n",
    "poly_model.predict(self_test)"
   ]
  },
  {
   "cell_type": "code",
   "execution_count": 9,
   "id": "c6b38eac",
   "metadata": {},
   "outputs": [
    {
     "data": {
      "text/plain": [
       "array([1, 1, 1, 1, 1])"
      ]
     },
     "execution_count": 9,
     "metadata": {},
     "output_type": "execute_result"
    }
   ],
   "source": [
    "linear_model = svm.SVC(C=0.1, kernel='linear').fit(x_train, y_train)\n",
    "linear_model.predict(self_test)"
   ]
  },
  {
   "cell_type": "markdown",
   "id": "449b7369",
   "metadata": {},
   "source": [
    "### Test all images"
   ]
  },
  {
   "cell_type": "code",
   "execution_count": 36,
   "id": "ef89d304",
   "metadata": {},
   "outputs": [
    {
     "name": "stdout",
     "output_type": "stream",
     "text": [
      "loaded category:rock successfully for train\n",
      "loaded category:paper successfully for train\n",
      "loaded category:scissors successfully for train\n"
     ]
    }
   ],
   "source": [
    "Categories=['rock','paper','scissors']\n",
    "self_test_dir = 'rps-self-all'\n",
    "\n",
    "flat_data_arr=[] #input array\n",
    "target_arr=[] #output array\n",
    "for i in Categories:\n",
    "    path=os.path.join(self_test_dir,i)\n",
    "    for img in os.listdir(path):\n",
    "        img_array=imread(os.path.join(path,img))\n",
    "        img_resized=resize(img_array,(32,32,1))\n",
    "        flat_data_arr.append(img_resized.flatten())\n",
    "        target_arr.append(Categories.index(i))\n",
    "    print(f'loaded category:{i} successfully for train')\n",
    "flat_data=np.array(flat_data_arr)\n",
    "target=np.array(target_arr)\n",
    "df=pd.DataFrame(flat_data) #dataframe\n",
    "df['Target']=target\n",
    "self_test=df.iloc[:,:-1] #input data\n",
    "y_self_test=df.iloc[:,-1] #output data"
   ]
  },
  {
   "cell_type": "code",
   "execution_count": 40,
   "id": "dd826ccb",
   "metadata": {},
   "outputs": [
    {
     "name": "stdout",
     "output_type": "stream",
     "text": [
      "Actual 0     0\n",
      "1     0\n",
      "2     0\n",
      "3     0\n",
      "4     0\n",
      "5     1\n",
      "6     1\n",
      "7     1\n",
      "8     1\n",
      "9     1\n",
      "10    2\n",
      "11    2\n",
      "12    2\n",
      "13    2\n",
      "Name: Target, dtype: int32\n",
      "Predicted [2 2 2 2 2 2 2 2 2 2 2 2 2 2]\n",
      "[[0 0 5]\n",
      " [0 0 5]\n",
      " [0 0 4]]\n",
      "              precision    recall  f1-score   support\n",
      "\n",
      "           0       0.00      0.00      0.00         5\n",
      "           1       0.00      0.00      0.00         5\n",
      "           2       0.29      1.00      0.44         4\n",
      "\n",
      "    accuracy                           0.29        14\n",
      "   macro avg       0.10      0.33      0.15        14\n",
      "weighted avg       0.08      0.29      0.13        14\n",
      "\n"
     ]
    },
    {
     "name": "stderr",
     "output_type": "stream",
     "text": [
      "C:\\Users\\jcrul\\anaconda3\\lib\\site-packages\\sklearn\\metrics\\_classification.py:1318: UndefinedMetricWarning: Precision and F-score are ill-defined and being set to 0.0 in labels with no predicted samples. Use `zero_division` parameter to control this behavior.\n",
      "  _warn_prf(average, modifier, msg_start, len(result))\n",
      "C:\\Users\\jcrul\\anaconda3\\lib\\site-packages\\sklearn\\metrics\\_classification.py:1318: UndefinedMetricWarning: Precision and F-score are ill-defined and being set to 0.0 in labels with no predicted samples. Use `zero_division` parameter to control this behavior.\n",
      "  _warn_prf(average, modifier, msg_start, len(result))\n",
      "C:\\Users\\jcrul\\anaconda3\\lib\\site-packages\\sklearn\\metrics\\_classification.py:1318: UndefinedMetricWarning: Precision and F-score are ill-defined and being set to 0.0 in labels with no predicted samples. Use `zero_division` parameter to control this behavior.\n",
      "  _warn_prf(average, modifier, msg_start, len(result))\n"
     ]
    }
   ],
   "source": [
    "best_model = svm.SVC(kernel='rbf', gamma=0.1, C=10).fit(x_train, y_train)\n",
    "print('Actual',y_self_test)\n",
    "print('Predicted',best_model.predict(self_test))\n",
    "print(confusion_matrix(y_self_test,best_model.predict(self_test)))\n",
    "print(classification_report(y_self_test,best_model.predict(self_test)))"
   ]
  },
  {
   "cell_type": "code",
   "execution_count": 41,
   "id": "52887075",
   "metadata": {},
   "outputs": [
    {
     "name": "stdout",
     "output_type": "stream",
     "text": [
      "[[1 1 3]\n",
      " [3 2 0]\n",
      " [0 1 3]]\n",
      "              precision    recall  f1-score   support\n",
      "\n",
      "           0       0.25      0.20      0.22         5\n",
      "           1       0.50      0.40      0.44         5\n",
      "           2       0.50      0.75      0.60         4\n",
      "\n",
      "    accuracy                           0.43        14\n",
      "   macro avg       0.42      0.45      0.42        14\n",
      "weighted avg       0.41      0.43      0.41        14\n",
      "\n"
     ]
    }
   ],
   "source": [
    "poly_model = svm.SVC(C=0.1, kernel='poly',degree=5).fit(x_train, y_train)\n",
    "poly_model.predict(self_test)\n",
    "print(confusion_matrix(y_self_test,poly_model.predict(self_test)))\n",
    "print(classification_report(y_self_test,poly_model.predict(self_test)))"
   ]
  },
  {
   "cell_type": "code",
   "execution_count": 43,
   "id": "837532f2",
   "metadata": {},
   "outputs": [
    {
     "name": "stdout",
     "output_type": "stream",
     "text": [
      "[[0 5 0]\n",
      " [0 5 0]\n",
      " [0 3 1]]\n",
      "              precision    recall  f1-score   support\n",
      "\n",
      "           0       0.00      0.00      0.00         5\n",
      "           1       0.38      1.00      0.56         5\n",
      "           2       1.00      0.25      0.40         4\n",
      "\n",
      "    accuracy                           0.43        14\n",
      "   macro avg       0.46      0.42      0.32        14\n",
      "weighted avg       0.42      0.43      0.31        14\n",
      "\n"
     ]
    },
    {
     "name": "stderr",
     "output_type": "stream",
     "text": [
      "C:\\Users\\jcrul\\anaconda3\\lib\\site-packages\\sklearn\\metrics\\_classification.py:1318: UndefinedMetricWarning: Precision and F-score are ill-defined and being set to 0.0 in labels with no predicted samples. Use `zero_division` parameter to control this behavior.\n",
      "  _warn_prf(average, modifier, msg_start, len(result))\n",
      "C:\\Users\\jcrul\\anaconda3\\lib\\site-packages\\sklearn\\metrics\\_classification.py:1318: UndefinedMetricWarning: Precision and F-score are ill-defined and being set to 0.0 in labels with no predicted samples. Use `zero_division` parameter to control this behavior.\n",
      "  _warn_prf(average, modifier, msg_start, len(result))\n",
      "C:\\Users\\jcrul\\anaconda3\\lib\\site-packages\\sklearn\\metrics\\_classification.py:1318: UndefinedMetricWarning: Precision and F-score are ill-defined and being set to 0.0 in labels with no predicted samples. Use `zero_division` parameter to control this behavior.\n",
      "  _warn_prf(average, modifier, msg_start, len(result))\n"
     ]
    }
   ],
   "source": [
    "linear_model = svm.SVC(C=0.1, kernel='linear').fit(x_train, y_train)\n",
    "linear_model.predict(self_test)\n",
    "print(confusion_matrix(y_self_test,linear_model.predict(self_test)))\n",
    "print(classification_report(y_self_test,linear_model.predict(self_test)))"
   ]
  },
  {
   "cell_type": "markdown",
   "id": "7a531040",
   "metadata": {},
   "source": [
    "## Try additional color channels and data transformation"
   ]
  },
  {
   "cell_type": "code",
   "execution_count": 19,
   "id": "faafea7b",
   "metadata": {},
   "outputs": [],
   "source": [
    "import torch\n",
    "import torch.nn as nn\n",
    "import random\n",
    "from torch import optim\n",
    "from torch.optim.lr_scheduler import MultiStepLR\n",
    "import torchvision\n",
    "from torchvision import transforms\n",
    "import matplotlib.pyplot as plt\n",
    "import time\n",
    "from sklearn.metrics import recall_score, precision_score, accuracy_score"
   ]
  },
  {
   "cell_type": "markdown",
   "id": "5d3baf66",
   "metadata": {},
   "source": [
    "#### Import dataset with 3 color channels"
   ]
  },
  {
   "cell_type": "code",
   "execution_count": 88,
   "id": "4a45dadf",
   "metadata": {},
   "outputs": [
    {
     "name": "stdout",
     "output_type": "stream",
     "text": [
      "loaded category:rock successfully for train\n",
      "loaded category:paper successfully for train\n",
      "loaded category:scissors successfully for train\n",
      "loaded category:rock successfully for test\n",
      "loaded category:paper successfully for test\n",
      "loaded category:scissors successfully for test\n",
      "loaded category:rock successfully for val\n",
      "loaded category:paper successfully for val\n",
      "loaded category:scissors successfully for val\n"
     ]
    }
   ],
   "source": [
    "Categories=['rock','paper','scissors']\n",
    "train_dir = 'rps-split\\\\train'\n",
    "test_dir = 'rps-split\\\\test'\n",
    "val_dir = 'rps-split\\\\val'\n",
    "\n",
    "flat_data_arr=[] #input array\n",
    "target_arr=[] #output array\n",
    "for i in Categories:\n",
    "    path=os.path.join(train_dir,i)\n",
    "    for img in os.listdir(path):\n",
    "        img_array=imread(os.path.join(path,img))\n",
    "        img_resized=resize(img_array,(32,32,3))\n",
    "        flat_data_arr.append(img_resized.flatten())\n",
    "        target_arr.append(Categories.index(i))\n",
    "    print(f'loaded category:{i} successfully for train')\n",
    "flat_data=np.array(flat_data_arr)\n",
    "target=np.array(target_arr)\n",
    "df=pd.DataFrame(flat_data) #dataframe\n",
    "df['Target']=target\n",
    "x_train=df.iloc[:,:-1] #input data \n",
    "y_train=df.iloc[:,-1] #output data\n",
    "x_train=x_train.sample(frac=1, random_state=42).reset_index(drop=True)\n",
    "y_train=y_train.sample(frac=1, random_state=42).reset_index(drop=True)\n",
    "\n",
    "\n",
    "\n",
    "flat_data_arr=[] #input array\n",
    "target_arr=[] #output array\n",
    "for i in Categories:\n",
    "    path=os.path.join(test_dir,i)\n",
    "    for img in os.listdir(path):\n",
    "        img_array=imread(os.path.join(path,img))\n",
    "        img_resized=resize(img_array,(32,32,3))\n",
    "        flat_data_arr.append(img_resized.flatten())\n",
    "        target_arr.append(Categories.index(i))\n",
    "    print(f'loaded category:{i} successfully for test')\n",
    "flat_data=np.array(flat_data_arr)\n",
    "target=np.array(target_arr)\n",
    "df=pd.DataFrame(flat_data) #dataframe\n",
    "df['Target']=target\n",
    "x_test=df.iloc[:,:-1] #input data \n",
    "y_test=df.iloc[:,-1] #output data\n",
    "\n",
    "flat_data_arr=[] #input array\n",
    "target_arr=[] #output array\n",
    "for i in Categories:\n",
    "    path=os.path.join(val_dir,i)\n",
    "    for img in os.listdir(path):\n",
    "        img_array=imread(os.path.join(path,img))\n",
    "        img_resized=resize(img_array,(32,32,3))\n",
    "        flat_data_arr.append(img_resized.flatten())\n",
    "        target_arr.append(Categories.index(i))\n",
    "    print(f'loaded category:{i} successfully for val')\n",
    "flat_data=np.array(flat_data_arr)\n",
    "target=np.array(target_arr)\n",
    "df=pd.DataFrame(flat_data) #dataframe\n",
    "df['Target']=target\n",
    "x_val=df.iloc[:,:-1] #input data \n",
    "y_val=df.iloc[:,-1] #output data"
   ]
  },
  {
   "cell_type": "markdown",
   "id": "ef814196",
   "metadata": {},
   "source": [
    "#### Import real data with 3 color channels"
   ]
  },
  {
   "cell_type": "code",
   "execution_count": 89,
   "id": "6c8edab8",
   "metadata": {},
   "outputs": [
    {
     "name": "stdout",
     "output_type": "stream",
     "text": [
      "loaded category:rock successfully for train\n",
      "loaded category:paper successfully for train\n",
      "loaded category:scissors successfully for train\n"
     ]
    }
   ],
   "source": [
    "Categories=['rock','paper','scissors']\n",
    "self_test_dir = 'rps-self-all'\n",
    "\n",
    "flat_data_arr=[] #input array\n",
    "target_arr=[] #output array\n",
    "for i in Categories:\n",
    "    path=os.path.join(self_test_dir,i)\n",
    "    for img in os.listdir(path):\n",
    "        img_array=imread(os.path.join(path,img))\n",
    "        img_resized=resize(img_array,(32,32,3))\n",
    "        flat_data_arr.append(img_resized.flatten())\n",
    "        target_arr.append(Categories.index(i))\n",
    "    print(f'loaded category:{i} successfully for train')\n",
    "flat_data=np.array(flat_data_arr)\n",
    "target=np.array(target_arr)\n",
    "df=pd.DataFrame(flat_data) #dataframe\n",
    "df['Target']=target\n",
    "self_test=df.iloc[:,:-1] #input data\n",
    "y_self_test=df.iloc[:,-1] #output data"
   ]
  },
  {
   "cell_type": "code",
   "execution_count": 51,
   "id": "ef483741",
   "metadata": {},
   "outputs": [
    {
     "data": {
      "text/html": [
       "<div>\n",
       "<style scoped>\n",
       "    .dataframe tbody tr th:only-of-type {\n",
       "        vertical-align: middle;\n",
       "    }\n",
       "\n",
       "    .dataframe tbody tr th {\n",
       "        vertical-align: top;\n",
       "    }\n",
       "\n",
       "    .dataframe thead th {\n",
       "        text-align: right;\n",
       "    }\n",
       "</style>\n",
       "<table border=\"1\" class=\"dataframe\">\n",
       "  <thead>\n",
       "    <tr style=\"text-align: right;\">\n",
       "      <th></th>\n",
       "      <th>0</th>\n",
       "      <th>1</th>\n",
       "      <th>2</th>\n",
       "      <th>3</th>\n",
       "      <th>4</th>\n",
       "      <th>5</th>\n",
       "      <th>6</th>\n",
       "      <th>7</th>\n",
       "      <th>8</th>\n",
       "      <th>9</th>\n",
       "      <th>...</th>\n",
       "      <th>3062</th>\n",
       "      <th>3063</th>\n",
       "      <th>3064</th>\n",
       "      <th>3065</th>\n",
       "      <th>3066</th>\n",
       "      <th>3067</th>\n",
       "      <th>3068</th>\n",
       "      <th>3069</th>\n",
       "      <th>3070</th>\n",
       "      <th>3071</th>\n",
       "    </tr>\n",
       "  </thead>\n",
       "  <tbody>\n",
       "    <tr>\n",
       "      <th>0</th>\n",
       "      <td>0.108830</td>\n",
       "      <td>0.463414</td>\n",
       "      <td>0.157114</td>\n",
       "      <td>0.124407</td>\n",
       "      <td>0.489254</td>\n",
       "      <td>0.172612</td>\n",
       "      <td>0.138039</td>\n",
       "      <td>0.513397</td>\n",
       "      <td>0.184481</td>\n",
       "      <td>0.150127</td>\n",
       "      <td>...</td>\n",
       "      <td>0.178772</td>\n",
       "      <td>0.135868</td>\n",
       "      <td>0.477676</td>\n",
       "      <td>0.169225</td>\n",
       "      <td>0.128376</td>\n",
       "      <td>0.461942</td>\n",
       "      <td>0.160699</td>\n",
       "      <td>0.117872</td>\n",
       "      <td>0.443389</td>\n",
       "      <td>0.142613</td>\n",
       "    </tr>\n",
       "    <tr>\n",
       "      <th>1</th>\n",
       "      <td>0.129428</td>\n",
       "      <td>0.470184</td>\n",
       "      <td>0.143679</td>\n",
       "      <td>0.131994</td>\n",
       "      <td>0.475316</td>\n",
       "      <td>0.146401</td>\n",
       "      <td>0.135608</td>\n",
       "      <td>0.484888</td>\n",
       "      <td>0.150483</td>\n",
       "      <td>0.142385</td>\n",
       "      <td>...</td>\n",
       "      <td>0.161022</td>\n",
       "      <td>0.143173</td>\n",
       "      <td>0.514002</td>\n",
       "      <td>0.157377</td>\n",
       "      <td>0.145854</td>\n",
       "      <td>0.506688</td>\n",
       "      <td>0.152899</td>\n",
       "      <td>0.145579</td>\n",
       "      <td>0.493592</td>\n",
       "      <td>0.146199</td>\n",
       "    </tr>\n",
       "    <tr>\n",
       "      <th>2</th>\n",
       "      <td>0.078939</td>\n",
       "      <td>0.451715</td>\n",
       "      <td>0.126664</td>\n",
       "      <td>0.092288</td>\n",
       "      <td>0.476566</td>\n",
       "      <td>0.137153</td>\n",
       "      <td>0.105979</td>\n",
       "      <td>0.501697</td>\n",
       "      <td>0.150728</td>\n",
       "      <td>0.117815</td>\n",
       "      <td>...</td>\n",
       "      <td>0.159440</td>\n",
       "      <td>0.105213</td>\n",
       "      <td>0.464285</td>\n",
       "      <td>0.150961</td>\n",
       "      <td>0.098209</td>\n",
       "      <td>0.449014</td>\n",
       "      <td>0.137307</td>\n",
       "      <td>0.087127</td>\n",
       "      <td>0.430828</td>\n",
       "      <td>0.119002</td>\n",
       "    </tr>\n",
       "    <tr>\n",
       "      <th>3</th>\n",
       "      <td>0.140160</td>\n",
       "      <td>0.466437</td>\n",
       "      <td>0.154236</td>\n",
       "      <td>0.139363</td>\n",
       "      <td>0.471882</td>\n",
       "      <td>0.157326</td>\n",
       "      <td>0.144727</td>\n",
       "      <td>0.480557</td>\n",
       "      <td>0.165120</td>\n",
       "      <td>0.153548</td>\n",
       "      <td>...</td>\n",
       "      <td>0.174945</td>\n",
       "      <td>0.144018</td>\n",
       "      <td>0.512511</td>\n",
       "      <td>0.172204</td>\n",
       "      <td>0.145946</td>\n",
       "      <td>0.503935</td>\n",
       "      <td>0.166650</td>\n",
       "      <td>0.143984</td>\n",
       "      <td>0.492599</td>\n",
       "      <td>0.160677</td>\n",
       "    </tr>\n",
       "    <tr>\n",
       "      <th>4</th>\n",
       "      <td>0.088967</td>\n",
       "      <td>0.385828</td>\n",
       "      <td>0.083938</td>\n",
       "      <td>0.102310</td>\n",
       "      <td>0.416022</td>\n",
       "      <td>0.094970</td>\n",
       "      <td>0.114495</td>\n",
       "      <td>0.438849</td>\n",
       "      <td>0.101970</td>\n",
       "      <td>0.125345</td>\n",
       "      <td>...</td>\n",
       "      <td>0.093792</td>\n",
       "      <td>0.103394</td>\n",
       "      <td>0.377319</td>\n",
       "      <td>0.086606</td>\n",
       "      <td>0.093341</td>\n",
       "      <td>0.357588</td>\n",
       "      <td>0.070008</td>\n",
       "      <td>0.081573</td>\n",
       "      <td>0.337626</td>\n",
       "      <td>0.050206</td>\n",
       "    </tr>\n",
       "    <tr>\n",
       "      <th>...</th>\n",
       "      <td>...</td>\n",
       "      <td>...</td>\n",
       "      <td>...</td>\n",
       "      <td>...</td>\n",
       "      <td>...</td>\n",
       "      <td>...</td>\n",
       "      <td>...</td>\n",
       "      <td>...</td>\n",
       "      <td>...</td>\n",
       "      <td>...</td>\n",
       "      <td>...</td>\n",
       "      <td>...</td>\n",
       "      <td>...</td>\n",
       "      <td>...</td>\n",
       "      <td>...</td>\n",
       "      <td>...</td>\n",
       "      <td>...</td>\n",
       "      <td>...</td>\n",
       "      <td>...</td>\n",
       "      <td>...</td>\n",
       "      <td>...</td>\n",
       "    </tr>\n",
       "    <tr>\n",
       "      <th>1526</th>\n",
       "      <td>0.146447</td>\n",
       "      <td>0.476359</td>\n",
       "      <td>0.175379</td>\n",
       "      <td>0.151458</td>\n",
       "      <td>0.486339</td>\n",
       "      <td>0.181696</td>\n",
       "      <td>0.157324</td>\n",
       "      <td>0.496879</td>\n",
       "      <td>0.187580</td>\n",
       "      <td>0.158730</td>\n",
       "      <td>...</td>\n",
       "      <td>0.187209</td>\n",
       "      <td>0.151214</td>\n",
       "      <td>0.528120</td>\n",
       "      <td>0.180376</td>\n",
       "      <td>0.152756</td>\n",
       "      <td>0.519160</td>\n",
       "      <td>0.175594</td>\n",
       "      <td>0.156123</td>\n",
       "      <td>0.509827</td>\n",
       "      <td>0.168156</td>\n",
       "    </tr>\n",
       "    <tr>\n",
       "      <th>1527</th>\n",
       "      <td>0.183925</td>\n",
       "      <td>0.563155</td>\n",
       "      <td>0.237095</td>\n",
       "      <td>0.187686</td>\n",
       "      <td>0.566899</td>\n",
       "      <td>0.239423</td>\n",
       "      <td>0.186889</td>\n",
       "      <td>0.563707</td>\n",
       "      <td>0.233813</td>\n",
       "      <td>0.185417</td>\n",
       "      <td>...</td>\n",
       "      <td>0.281364</td>\n",
       "      <td>0.181962</td>\n",
       "      <td>0.618131</td>\n",
       "      <td>0.274702</td>\n",
       "      <td>0.183103</td>\n",
       "      <td>0.612920</td>\n",
       "      <td>0.272439</td>\n",
       "      <td>0.186219</td>\n",
       "      <td>0.607259</td>\n",
       "      <td>0.272900</td>\n",
       "    </tr>\n",
       "    <tr>\n",
       "      <th>1528</th>\n",
       "      <td>0.123528</td>\n",
       "      <td>0.452343</td>\n",
       "      <td>0.134468</td>\n",
       "      <td>0.124134</td>\n",
       "      <td>0.457455</td>\n",
       "      <td>0.135964</td>\n",
       "      <td>0.130137</td>\n",
       "      <td>0.466220</td>\n",
       "      <td>0.142174</td>\n",
       "      <td>0.139311</td>\n",
       "      <td>...</td>\n",
       "      <td>0.159352</td>\n",
       "      <td>0.130332</td>\n",
       "      <td>0.493976</td>\n",
       "      <td>0.154037</td>\n",
       "      <td>0.132317</td>\n",
       "      <td>0.484625</td>\n",
       "      <td>0.144838</td>\n",
       "      <td>0.136010</td>\n",
       "      <td>0.471652</td>\n",
       "      <td>0.141260</td>\n",
       "    </tr>\n",
       "    <tr>\n",
       "      <th>1529</th>\n",
       "      <td>0.118283</td>\n",
       "      <td>0.469137</td>\n",
       "      <td>0.167031</td>\n",
       "      <td>0.120079</td>\n",
       "      <td>0.476526</td>\n",
       "      <td>0.171203</td>\n",
       "      <td>0.124662</td>\n",
       "      <td>0.484316</td>\n",
       "      <td>0.175231</td>\n",
       "      <td>0.135098</td>\n",
       "      <td>...</td>\n",
       "      <td>0.175046</td>\n",
       "      <td>0.127169</td>\n",
       "      <td>0.512215</td>\n",
       "      <td>0.172307</td>\n",
       "      <td>0.129316</td>\n",
       "      <td>0.505641</td>\n",
       "      <td>0.167567</td>\n",
       "      <td>0.132661</td>\n",
       "      <td>0.495388</td>\n",
       "      <td>0.160971</td>\n",
       "    </tr>\n",
       "    <tr>\n",
       "      <th>1530</th>\n",
       "      <td>0.161738</td>\n",
       "      <td>0.539194</td>\n",
       "      <td>0.217256</td>\n",
       "      <td>0.163675</td>\n",
       "      <td>0.546841</td>\n",
       "      <td>0.219793</td>\n",
       "      <td>0.169299</td>\n",
       "      <td>0.554800</td>\n",
       "      <td>0.225009</td>\n",
       "      <td>0.175303</td>\n",
       "      <td>...</td>\n",
       "      <td>0.253370</td>\n",
       "      <td>0.185700</td>\n",
       "      <td>0.605169</td>\n",
       "      <td>0.250210</td>\n",
       "      <td>0.185849</td>\n",
       "      <td>0.600204</td>\n",
       "      <td>0.247468</td>\n",
       "      <td>0.189700</td>\n",
       "      <td>0.593737</td>\n",
       "      <td>0.249707</td>\n",
       "    </tr>\n",
       "  </tbody>\n",
       "</table>\n",
       "<p>1531 rows × 3072 columns</p>\n",
       "</div>"
      ],
      "text/plain": [
       "          0         1         2         3         4         5         6     \\\n",
       "0     0.108830  0.463414  0.157114  0.124407  0.489254  0.172612  0.138039   \n",
       "1     0.129428  0.470184  0.143679  0.131994  0.475316  0.146401  0.135608   \n",
       "2     0.078939  0.451715  0.126664  0.092288  0.476566  0.137153  0.105979   \n",
       "3     0.140160  0.466437  0.154236  0.139363  0.471882  0.157326  0.144727   \n",
       "4     0.088967  0.385828  0.083938  0.102310  0.416022  0.094970  0.114495   \n",
       "...        ...       ...       ...       ...       ...       ...       ...   \n",
       "1526  0.146447  0.476359  0.175379  0.151458  0.486339  0.181696  0.157324   \n",
       "1527  0.183925  0.563155  0.237095  0.187686  0.566899  0.239423  0.186889   \n",
       "1528  0.123528  0.452343  0.134468  0.124134  0.457455  0.135964  0.130137   \n",
       "1529  0.118283  0.469137  0.167031  0.120079  0.476526  0.171203  0.124662   \n",
       "1530  0.161738  0.539194  0.217256  0.163675  0.546841  0.219793  0.169299   \n",
       "\n",
       "          7         8         9     ...      3062      3063      3064  \\\n",
       "0     0.513397  0.184481  0.150127  ...  0.178772  0.135868  0.477676   \n",
       "1     0.484888  0.150483  0.142385  ...  0.161022  0.143173  0.514002   \n",
       "2     0.501697  0.150728  0.117815  ...  0.159440  0.105213  0.464285   \n",
       "3     0.480557  0.165120  0.153548  ...  0.174945  0.144018  0.512511   \n",
       "4     0.438849  0.101970  0.125345  ...  0.093792  0.103394  0.377319   \n",
       "...        ...       ...       ...  ...       ...       ...       ...   \n",
       "1526  0.496879  0.187580  0.158730  ...  0.187209  0.151214  0.528120   \n",
       "1527  0.563707  0.233813  0.185417  ...  0.281364  0.181962  0.618131   \n",
       "1528  0.466220  0.142174  0.139311  ...  0.159352  0.130332  0.493976   \n",
       "1529  0.484316  0.175231  0.135098  ...  0.175046  0.127169  0.512215   \n",
       "1530  0.554800  0.225009  0.175303  ...  0.253370  0.185700  0.605169   \n",
       "\n",
       "          3065      3066      3067      3068      3069      3070      3071  \n",
       "0     0.169225  0.128376  0.461942  0.160699  0.117872  0.443389  0.142613  \n",
       "1     0.157377  0.145854  0.506688  0.152899  0.145579  0.493592  0.146199  \n",
       "2     0.150961  0.098209  0.449014  0.137307  0.087127  0.430828  0.119002  \n",
       "3     0.172204  0.145946  0.503935  0.166650  0.143984  0.492599  0.160677  \n",
       "4     0.086606  0.093341  0.357588  0.070008  0.081573  0.337626  0.050206  \n",
       "...        ...       ...       ...       ...       ...       ...       ...  \n",
       "1526  0.180376  0.152756  0.519160  0.175594  0.156123  0.509827  0.168156  \n",
       "1527  0.274702  0.183103  0.612920  0.272439  0.186219  0.607259  0.272900  \n",
       "1528  0.154037  0.132317  0.484625  0.144838  0.136010  0.471652  0.141260  \n",
       "1529  0.172307  0.129316  0.505641  0.167567  0.132661  0.495388  0.160971  \n",
       "1530  0.250210  0.185849  0.600204  0.247468  0.189700  0.593737  0.249707  \n",
       "\n",
       "[1531 rows x 3072 columns]"
      ]
     },
     "execution_count": 51,
     "metadata": {},
     "output_type": "execute_result"
    }
   ],
   "source": [
    "x_train"
   ]
  },
  {
   "cell_type": "markdown",
   "id": "e28267ba",
   "metadata": {},
   "source": [
    "### 3 color channels without augmentation"
   ]
  },
  {
   "cell_type": "code",
   "execution_count": 53,
   "id": "31aeaca7",
   "metadata": {},
   "outputs": [
    {
     "name": "stdout",
     "output_type": "stream",
     "text": [
      "Fitting 5 folds for each of 16 candidates, totalling 80 fits\n",
      "[CV 1/5] END ...C=0.1, gamma=0.0001, kernel=rbf;, score=0.342 total time=   5.5s\n",
      "[CV 2/5] END ...C=0.1, gamma=0.0001, kernel=rbf;, score=0.343 total time=   4.5s\n",
      "[CV 3/5] END ...C=0.1, gamma=0.0001, kernel=rbf;, score=0.343 total time=   4.3s\n",
      "[CV 4/5] END ...C=0.1, gamma=0.0001, kernel=rbf;, score=0.343 total time=   4.2s\n",
      "[CV 5/5] END ...C=0.1, gamma=0.0001, kernel=rbf;, score=0.343 total time=   4.2s\n",
      "[CV 1/5] END ....C=0.1, gamma=0.001, kernel=rbf;, score=0.502 total time=   4.2s\n",
      "[CV 2/5] END ....C=0.1, gamma=0.001, kernel=rbf;, score=0.503 total time=   4.2s\n",
      "[CV 3/5] END ....C=0.1, gamma=0.001, kernel=rbf;, score=0.487 total time=   3.8s\n",
      "[CV 4/5] END ....C=0.1, gamma=0.001, kernel=rbf;, score=0.484 total time=   3.7s\n",
      "[CV 5/5] END ....C=0.1, gamma=0.001, kernel=rbf;, score=0.520 total time=   3.7s\n",
      "[CV 1/5] END ......C=0.1, gamma=0.1, kernel=rbf;, score=0.619 total time=   3.7s\n",
      "[CV 2/5] END ......C=0.1, gamma=0.1, kernel=rbf;, score=0.601 total time=   3.7s\n",
      "[CV 3/5] END ......C=0.1, gamma=0.1, kernel=rbf;, score=0.588 total time=   3.7s\n",
      "[CV 4/5] END ......C=0.1, gamma=0.1, kernel=rbf;, score=0.650 total time=   3.8s\n",
      "[CV 5/5] END ......C=0.1, gamma=0.1, kernel=rbf;, score=0.585 total time=   3.8s\n",
      "[CV 1/5] END ........C=0.1, gamma=1, kernel=rbf;, score=0.342 total time=   3.8s\n",
      "[CV 2/5] END ........C=0.1, gamma=1, kernel=rbf;, score=0.343 total time=   3.8s\n",
      "[CV 3/5] END ........C=0.1, gamma=1, kernel=rbf;, score=0.343 total time=   3.9s\n",
      "[CV 4/5] END ........C=0.1, gamma=1, kernel=rbf;, score=0.343 total time=   3.9s\n",
      "[CV 5/5] END ........C=0.1, gamma=1, kernel=rbf;, score=0.343 total time=   3.9s\n",
      "[CV 1/5] END .....C=1, gamma=0.0001, kernel=rbf;, score=0.541 total time=   3.7s\n",
      "[CV 2/5] END .....C=1, gamma=0.0001, kernel=rbf;, score=0.542 total time=   3.8s\n",
      "[CV 3/5] END .....C=1, gamma=0.0001, kernel=rbf;, score=0.526 total time=   3.7s\n",
      "[CV 4/5] END .....C=1, gamma=0.0001, kernel=rbf;, score=0.526 total time=   3.8s\n",
      "[CV 5/5] END .....C=1, gamma=0.0001, kernel=rbf;, score=0.552 total time=   3.8s\n",
      "[CV 1/5] END ......C=1, gamma=0.001, kernel=rbf;, score=0.873 total time=   2.6s\n",
      "[CV 2/5] END ......C=1, gamma=0.001, kernel=rbf;, score=0.863 total time=   2.7s\n",
      "[CV 3/5] END ......C=1, gamma=0.001, kernel=rbf;, score=0.876 total time=   2.7s\n",
      "[CV 4/5] END ......C=1, gamma=0.001, kernel=rbf;, score=0.863 total time=   2.6s\n",
      "[CV 5/5] END ......C=1, gamma=0.001, kernel=rbf;, score=0.882 total time=   2.6s\n",
      "[CV 1/5] END ........C=1, gamma=0.1, kernel=rbf;, score=0.896 total time=   3.7s\n",
      "[CV 2/5] END ........C=1, gamma=0.1, kernel=rbf;, score=0.869 total time=   3.7s\n",
      "[CV 3/5] END ........C=1, gamma=0.1, kernel=rbf;, score=0.908 total time=   3.6s\n",
      "[CV 4/5] END ........C=1, gamma=0.1, kernel=rbf;, score=0.918 total time=   3.7s\n",
      "[CV 5/5] END ........C=1, gamma=0.1, kernel=rbf;, score=0.873 total time=   3.6s\n",
      "[CV 1/5] END ..........C=1, gamma=1, kernel=rbf;, score=0.378 total time=   4.0s\n",
      "[CV 2/5] END ..........C=1, gamma=1, kernel=rbf;, score=0.369 total time=   4.1s\n",
      "[CV 3/5] END ..........C=1, gamma=1, kernel=rbf;, score=0.376 total time=   4.0s\n",
      "[CV 4/5] END ..........C=1, gamma=1, kernel=rbf;, score=0.366 total time=   3.8s\n",
      "[CV 5/5] END ..........C=1, gamma=1, kernel=rbf;, score=0.353 total time=   3.9s\n",
      "[CV 1/5] END ....C=10, gamma=0.0001, kernel=rbf;, score=0.866 total time=   2.6s\n",
      "[CV 2/5] END ....C=10, gamma=0.0001, kernel=rbf;, score=0.863 total time=   2.5s\n",
      "[CV 3/5] END ....C=10, gamma=0.0001, kernel=rbf;, score=0.866 total time=   2.5s\n",
      "[CV 4/5] END ....C=10, gamma=0.0001, kernel=rbf;, score=0.850 total time=   2.5s\n",
      "[CV 5/5] END ....C=10, gamma=0.0001, kernel=rbf;, score=0.879 total time=   2.6s\n",
      "[CV 1/5] END .....C=10, gamma=0.001, kernel=rbf;, score=0.954 total time=   1.5s\n",
      "[CV 2/5] END .....C=10, gamma=0.001, kernel=rbf;, score=0.951 total time=   1.4s\n",
      "[CV 3/5] END .....C=10, gamma=0.001, kernel=rbf;, score=0.951 total time=   1.4s\n",
      "[CV 4/5] END .....C=10, gamma=0.001, kernel=rbf;, score=0.928 total time=   1.4s\n",
      "[CV 5/5] END .....C=10, gamma=0.001, kernel=rbf;, score=0.928 total time=   1.4s\n",
      "[CV 1/5] END .......C=10, gamma=0.1, kernel=rbf;, score=0.902 total time=   3.7s\n",
      "[CV 2/5] END .......C=10, gamma=0.1, kernel=rbf;, score=0.886 total time=   3.7s\n",
      "[CV 3/5] END .......C=10, gamma=0.1, kernel=rbf;, score=0.915 total time=   3.6s\n",
      "[CV 4/5] END .......C=10, gamma=0.1, kernel=rbf;, score=0.915 total time=   3.6s\n",
      "[CV 5/5] END .......C=10, gamma=0.1, kernel=rbf;, score=0.873 total time=   3.7s\n",
      "[CV 1/5] END .........C=10, gamma=1, kernel=rbf;, score=0.404 total time=   3.8s\n",
      "[CV 2/5] END .........C=10, gamma=1, kernel=rbf;, score=0.392 total time=   3.9s\n",
      "[CV 3/5] END .........C=10, gamma=1, kernel=rbf;, score=0.386 total time=   3.8s\n",
      "[CV 4/5] END .........C=10, gamma=1, kernel=rbf;, score=0.395 total time=   3.9s\n",
      "[CV 5/5] END .........C=10, gamma=1, kernel=rbf;, score=0.353 total time=   3.9s\n",
      "[CV 1/5] END ...C=100, gamma=0.0001, kernel=rbf;, score=0.948 total time=   1.5s\n",
      "[CV 2/5] END ...C=100, gamma=0.0001, kernel=rbf;, score=0.944 total time=   1.6s\n",
      "[CV 3/5] END ...C=100, gamma=0.0001, kernel=rbf;, score=0.935 total time=   1.5s\n",
      "[CV 4/5] END ...C=100, gamma=0.0001, kernel=rbf;, score=0.912 total time=   1.5s\n",
      "[CV 5/5] END ...C=100, gamma=0.0001, kernel=rbf;, score=0.908 total time=   1.5s\n",
      "[CV 1/5] END ....C=100, gamma=0.001, kernel=rbf;, score=0.961 total time=   1.1s\n",
      "[CV 2/5] END ....C=100, gamma=0.001, kernel=rbf;, score=0.961 total time=   1.1s\n",
      "[CV 3/5] END ....C=100, gamma=0.001, kernel=rbf;, score=0.961 total time=   1.1s\n",
      "[CV 4/5] END ....C=100, gamma=0.001, kernel=rbf;, score=0.951 total time=   1.1s\n",
      "[CV 5/5] END ....C=100, gamma=0.001, kernel=rbf;, score=0.958 total time=   1.1s\n",
      "[CV 1/5] END ......C=100, gamma=0.1, kernel=rbf;, score=0.902 total time=   3.7s\n",
      "[CV 2/5] END ......C=100, gamma=0.1, kernel=rbf;, score=0.886 total time=   4.1s\n",
      "[CV 3/5] END ......C=100, gamma=0.1, kernel=rbf;, score=0.915 total time=   3.9s\n",
      "[CV 4/5] END ......C=100, gamma=0.1, kernel=rbf;, score=0.915 total time=   3.7s\n",
      "[CV 5/5] END ......C=100, gamma=0.1, kernel=rbf;, score=0.873 total time=   3.6s\n",
      "[CV 1/5] END ........C=100, gamma=1, kernel=rbf;, score=0.404 total time=   4.1s\n",
      "[CV 2/5] END ........C=100, gamma=1, kernel=rbf;, score=0.392 total time=   4.3s\n",
      "[CV 3/5] END ........C=100, gamma=1, kernel=rbf;, score=0.386 total time=   3.9s\n",
      "[CV 4/5] END ........C=100, gamma=1, kernel=rbf;, score=0.395 total time=   3.9s\n",
      "[CV 5/5] END ........C=100, gamma=1, kernel=rbf;, score=0.353 total time=   3.9s\n"
     ]
    },
    {
     "data": {
      "text/plain": [
       "GridSearchCV(estimator=SVC(),\n",
       "             param_grid={'C': [0.1, 1, 10, 100],\n",
       "                         'gamma': [0.0001, 0.001, 0.1, 1], 'kernel': ['rbf']},\n",
       "             verbose=3)"
      ]
     },
     "execution_count": 53,
     "metadata": {},
     "output_type": "execute_result"
    }
   ],
   "source": [
    "from sklearn import svm\n",
    "from sklearn.model_selection import GridSearchCV\n",
    "from sklearn.svm import SVC\n",
    "\n",
    "param_grid={'C':[0.1,1,10,100],'gamma':[0.0001,0.001,0.1,1],'kernel':['rbf']}\n",
    "model=GridSearchCV(SVC(),param_grid,refit=True,verbose=3)\n",
    "model.fit(x_train, y_train)"
   ]
  },
  {
   "cell_type": "code",
   "execution_count": 54,
   "id": "306f3500",
   "metadata": {},
   "outputs": [
    {
     "name": "stdout",
     "output_type": "stream",
     "text": [
      "Fitting 5 folds for each of 12 candidates, totalling 60 fits\n",
      "[CV 1/5] END ......C=0.1, degree=3, kernel=poly;, score=0.964 total time=   1.2s\n",
      "[CV 2/5] END ......C=0.1, degree=3, kernel=poly;, score=0.964 total time=   1.3s\n",
      "[CV 3/5] END ......C=0.1, degree=3, kernel=poly;, score=0.948 total time=   1.4s\n",
      "[CV 4/5] END ......C=0.1, degree=3, kernel=poly;, score=0.944 total time=   1.3s\n",
      "[CV 5/5] END ......C=0.1, degree=3, kernel=poly;, score=0.935 total time=   1.2s\n",
      "[CV 1/5] END ......C=0.1, degree=4, kernel=poly;, score=0.974 total time=   0.9s\n",
      "[CV 2/5] END ......C=0.1, degree=4, kernel=poly;, score=0.967 total time=   0.9s\n",
      "[CV 3/5] END ......C=0.1, degree=4, kernel=poly;, score=0.961 total time=   0.9s\n",
      "[CV 4/5] END ......C=0.1, degree=4, kernel=poly;, score=0.944 total time=   0.9s\n",
      "[CV 5/5] END ......C=0.1, degree=4, kernel=poly;, score=0.964 total time=   0.9s\n",
      "[CV 1/5] END ......C=0.1, degree=5, kernel=poly;, score=0.954 total time=   0.9s\n",
      "[CV 2/5] END ......C=0.1, degree=5, kernel=poly;, score=0.971 total time=   0.9s\n",
      "[CV 3/5] END ......C=0.1, degree=5, kernel=poly;, score=0.954 total time=   0.9s\n",
      "[CV 4/5] END ......C=0.1, degree=5, kernel=poly;, score=0.954 total time=   1.0s\n",
      "[CV 5/5] END ......C=0.1, degree=5, kernel=poly;, score=0.958 total time=   0.9s\n",
      "[CV 1/5] END ........C=1, degree=3, kernel=poly;, score=0.971 total time=   1.0s\n",
      "[CV 2/5] END ........C=1, degree=3, kernel=poly;, score=0.964 total time=   1.0s\n",
      "[CV 3/5] END ........C=1, degree=3, kernel=poly;, score=0.961 total time=   1.0s\n",
      "[CV 4/5] END ........C=1, degree=3, kernel=poly;, score=0.951 total time=   1.0s\n",
      "[CV 5/5] END ........C=1, degree=3, kernel=poly;, score=0.958 total time=   1.1s\n",
      "[CV 1/5] END ........C=1, degree=4, kernel=poly;, score=0.967 total time=   1.0s\n",
      "[CV 2/5] END ........C=1, degree=4, kernel=poly;, score=0.974 total time=   0.9s\n",
      "[CV 3/5] END ........C=1, degree=4, kernel=poly;, score=0.958 total time=   1.0s\n",
      "[CV 4/5] END ........C=1, degree=4, kernel=poly;, score=0.958 total time=   1.0s\n",
      "[CV 5/5] END ........C=1, degree=4, kernel=poly;, score=0.964 total time=   0.9s\n",
      "[CV 1/5] END ........C=1, degree=5, kernel=poly;, score=0.954 total time=   1.0s\n",
      "[CV 2/5] END ........C=1, degree=5, kernel=poly;, score=0.971 total time=   0.9s\n",
      "[CV 3/5] END ........C=1, degree=5, kernel=poly;, score=0.954 total time=   0.9s\n",
      "[CV 4/5] END ........C=1, degree=5, kernel=poly;, score=0.954 total time=   0.9s\n",
      "[CV 5/5] END ........C=1, degree=5, kernel=poly;, score=0.958 total time=   0.9s\n",
      "[CV 1/5] END .......C=10, degree=3, kernel=poly;, score=0.967 total time=   1.0s\n",
      "[CV 2/5] END .......C=10, degree=3, kernel=poly;, score=0.971 total time=   1.0s\n",
      "[CV 3/5] END .......C=10, degree=3, kernel=poly;, score=0.954 total time=   0.9s\n",
      "[CV 4/5] END .......C=10, degree=3, kernel=poly;, score=0.948 total time=   1.0s\n",
      "[CV 5/5] END .......C=10, degree=3, kernel=poly;, score=0.961 total time=   1.1s\n",
      "[CV 1/5] END .......C=10, degree=4, kernel=poly;, score=0.967 total time=   1.0s\n",
      "[CV 2/5] END .......C=10, degree=4, kernel=poly;, score=0.974 total time=   1.0s\n",
      "[CV 3/5] END .......C=10, degree=4, kernel=poly;, score=0.958 total time=   0.9s\n",
      "[CV 4/5] END .......C=10, degree=4, kernel=poly;, score=0.958 total time=   1.0s\n",
      "[CV 5/5] END .......C=10, degree=4, kernel=poly;, score=0.964 total time=   0.9s\n",
      "[CV 1/5] END .......C=10, degree=5, kernel=poly;, score=0.954 total time=   1.0s\n",
      "[CV 2/5] END .......C=10, degree=5, kernel=poly;, score=0.971 total time=   0.9s\n",
      "[CV 3/5] END .......C=10, degree=5, kernel=poly;, score=0.954 total time=   0.9s\n",
      "[CV 4/5] END .......C=10, degree=5, kernel=poly;, score=0.954 total time=   0.9s\n",
      "[CV 5/5] END .......C=10, degree=5, kernel=poly;, score=0.958 total time=   0.9s\n",
      "[CV 1/5] END ......C=100, degree=3, kernel=poly;, score=0.967 total time=   1.0s\n",
      "[CV 2/5] END ......C=100, degree=3, kernel=poly;, score=0.971 total time=   1.0s\n",
      "[CV 3/5] END ......C=100, degree=3, kernel=poly;, score=0.954 total time=   1.0s\n",
      "[CV 4/5] END ......C=100, degree=3, kernel=poly;, score=0.948 total time=   1.0s\n",
      "[CV 5/5] END ......C=100, degree=3, kernel=poly;, score=0.961 total time=   0.9s\n",
      "[CV 1/5] END ......C=100, degree=4, kernel=poly;, score=0.967 total time=   1.0s\n",
      "[CV 2/5] END ......C=100, degree=4, kernel=poly;, score=0.974 total time=   0.9s\n",
      "[CV 3/5] END ......C=100, degree=4, kernel=poly;, score=0.958 total time=   0.9s\n",
      "[CV 4/5] END ......C=100, degree=4, kernel=poly;, score=0.958 total time=   1.0s\n",
      "[CV 5/5] END ......C=100, degree=4, kernel=poly;, score=0.964 total time=   1.0s\n",
      "[CV 1/5] END ......C=100, degree=5, kernel=poly;, score=0.954 total time=   0.9s\n",
      "[CV 2/5] END ......C=100, degree=5, kernel=poly;, score=0.971 total time=   0.9s\n",
      "[CV 3/5] END ......C=100, degree=5, kernel=poly;, score=0.954 total time=   0.9s\n",
      "[CV 4/5] END ......C=100, degree=5, kernel=poly;, score=0.954 total time=   0.9s\n",
      "[CV 5/5] END ......C=100, degree=5, kernel=poly;, score=0.958 total time=   0.9s\n"
     ]
    },
    {
     "data": {
      "text/plain": [
       "GridSearchCV(estimator=SVC(),\n",
       "             param_grid={'C': [0.1, 1, 10, 100], 'degree': [3, 4, 5],\n",
       "                         'kernel': ['poly']},\n",
       "             verbose=3)"
      ]
     },
     "execution_count": 54,
     "metadata": {},
     "output_type": "execute_result"
    }
   ],
   "source": [
    "param_grid={'C':[0.1,1,10,100],'degree':[3,4,5],'kernel':['poly']}\n",
    "model=GridSearchCV(SVC(),param_grid,refit=True,verbose=3)\n",
    "model.fit(x_train, y_train)"
   ]
  },
  {
   "cell_type": "code",
   "execution_count": 55,
   "id": "40d3703f",
   "metadata": {
    "scrolled": false
   },
   "outputs": [
    {
     "name": "stdout",
     "output_type": "stream",
     "text": [
      "Fitting 5 folds for each of 4 candidates, totalling 20 fits\n",
      "[CV 1/5] END ..............C=0.1, kernel=linear;, score=0.958 total time=   1.0s\n",
      "[CV 2/5] END ..............C=0.1, kernel=linear;, score=0.958 total time=   1.0s\n",
      "[CV 3/5] END ..............C=0.1, kernel=linear;, score=0.944 total time=   1.0s\n",
      "[CV 4/5] END ..............C=0.1, kernel=linear;, score=0.928 total time=   1.0s\n",
      "[CV 5/5] END ..............C=0.1, kernel=linear;, score=0.935 total time=   1.0s\n",
      "[CV 1/5] END ................C=1, kernel=linear;, score=0.925 total time=   0.9s\n",
      "[CV 2/5] END ................C=1, kernel=linear;, score=0.941 total time=   0.9s\n",
      "[CV 3/5] END ................C=1, kernel=linear;, score=0.922 total time=   0.9s\n",
      "[CV 4/5] END ................C=1, kernel=linear;, score=0.931 total time=   0.9s\n",
      "[CV 5/5] END ................C=1, kernel=linear;, score=0.912 total time=   0.9s\n",
      "[CV 1/5] END ...............C=10, kernel=linear;, score=0.925 total time=   1.0s\n",
      "[CV 2/5] END ...............C=10, kernel=linear;, score=0.941 total time=   0.9s\n",
      "[CV 3/5] END ...............C=10, kernel=linear;, score=0.922 total time=   0.9s\n",
      "[CV 4/5] END ...............C=10, kernel=linear;, score=0.925 total time=   1.0s\n",
      "[CV 5/5] END ...............C=10, kernel=linear;, score=0.905 total time=   1.0s\n",
      "[CV 1/5] END ..............C=100, kernel=linear;, score=0.925 total time=   1.1s\n",
      "[CV 2/5] END ..............C=100, kernel=linear;, score=0.941 total time=   1.0s\n",
      "[CV 3/5] END ..............C=100, kernel=linear;, score=0.922 total time=   1.1s\n",
      "[CV 4/5] END ..............C=100, kernel=linear;, score=0.925 total time=   1.0s\n",
      "[CV 5/5] END ..............C=100, kernel=linear;, score=0.905 total time=   1.0s\n"
     ]
    },
    {
     "data": {
      "text/plain": [
       "GridSearchCV(estimator=SVC(),\n",
       "             param_grid={'C': [0.1, 1, 10, 100], 'kernel': ['linear']},\n",
       "             verbose=3)"
      ]
     },
     "execution_count": 55,
     "metadata": {},
     "output_type": "execute_result"
    }
   ],
   "source": [
    "from sklearn import svm\n",
    "from sklearn.model_selection import GridSearchCV\n",
    "from sklearn.svm import SVC\n",
    "\n",
    "param_grid={'C':[0.1,1,10,100],'kernel':['linear']}\n",
    "model=GridSearchCV(SVC(),param_grid,refit=True,verbose=3)\n",
    "model.fit(x_train, y_train)"
   ]
  },
  {
   "cell_type": "code",
   "execution_count": 38,
   "id": "41b9cd19",
   "metadata": {},
   "outputs": [],
   "source": [
    "i = 0\n",
    "for batch in datagen.flow(x, batch_size = 1):\n",
    "    i += 1\n",
    "    if i > 5:\n",
    "        break"
   ]
  },
  {
   "cell_type": "code",
   "execution_count": 57,
   "id": "48e95a5e",
   "metadata": {},
   "outputs": [],
   "source": [
    "def test_score(trained_model):\n",
    "    pred_y = trained_model.predict(x_test)\n",
    "    print(confusion_matrix(y_test,pred_y))\n",
    "    print(classification_report(y_test,pred_y))\n",
    "    \n",
    "def train_score(trained_model):\n",
    "    pred_y = trained_model.predict(x_train)\n",
    "    print(confusion_matrix(y_train,pred_y))\n",
    "    print(classification_report(y_train,pred_y))\n",
    "    \n",
    "def val_score(trained_model):\n",
    "    pred_y = trained_model.predict(x_val)\n",
    "    print(confusion_matrix(y_val,pred_y))\n",
    "    print(classification_report(y_val,pred_y))"
   ]
  },
  {
   "cell_type": "code",
   "execution_count": 58,
   "id": "0f09a1ba",
   "metadata": {},
   "outputs": [
    {
     "name": "stdout",
     "output_type": "stream",
     "text": [
      "[[505   1   2]\n",
      " [  2 493   3]\n",
      " [  0   0 525]]\n",
      "              precision    recall  f1-score   support\n",
      "\n",
      "           0       1.00      0.99      1.00       508\n",
      "           1       1.00      0.99      0.99       498\n",
      "           2       0.99      1.00      1.00       525\n",
      "\n",
      "    accuracy                           0.99      1531\n",
      "   macro avg       0.99      0.99      0.99      1531\n",
      "weighted avg       0.99      0.99      0.99      1531\n",
      "\n"
     ]
    }
   ],
   "source": [
    "train_score(svm.SVC(C=100, gamma=0.001, kernel='rbf').fit(x_train, y_train))"
   ]
  },
  {
   "cell_type": "code",
   "execution_count": 60,
   "id": "2d2cad87",
   "metadata": {},
   "outputs": [
    {
     "name": "stdout",
     "output_type": "stream",
     "text": [
      "[[101   2   6]\n",
      " [  8  95   4]\n",
      " [  0   1 111]]\n",
      "              precision    recall  f1-score   support\n",
      "\n",
      "           0       0.93      0.93      0.93       109\n",
      "           1       0.97      0.89      0.93       107\n",
      "           2       0.92      0.99      0.95       112\n",
      "\n",
      "    accuracy                           0.94       328\n",
      "   macro avg       0.94      0.94      0.94       328\n",
      "weighted avg       0.94      0.94      0.94       328\n",
      "\n"
     ]
    }
   ],
   "source": [
    "val_score(svm.SVC(C=100, gamma=0.001, kernel='rbf').fit(x_train, y_train))"
   ]
  },
  {
   "cell_type": "code",
   "execution_count": 61,
   "id": "6dd1b093",
   "metadata": {},
   "outputs": [
    {
     "name": "stdout",
     "output_type": "stream",
     "text": [
      "[[508   0   0]\n",
      " [  0 498   0]\n",
      " [  0   0 525]]\n",
      "              precision    recall  f1-score   support\n",
      "\n",
      "           0       1.00      1.00      1.00       508\n",
      "           1       1.00      1.00      1.00       498\n",
      "           2       1.00      1.00      1.00       525\n",
      "\n",
      "    accuracy                           1.00      1531\n",
      "   macro avg       1.00      1.00      1.00      1531\n",
      "weighted avg       1.00      1.00      1.00      1531\n",
      "\n"
     ]
    }
   ],
   "source": [
    "train_score(svm.SVC(C=0.1, degree=5, kernel='poly').fit(x_train, y_train))"
   ]
  },
  {
   "cell_type": "code",
   "execution_count": 62,
   "id": "dbb325b8",
   "metadata": {},
   "outputs": [
    {
     "name": "stdout",
     "output_type": "stream",
     "text": [
      "[[104   1   4]\n",
      " [  9  95   3]\n",
      " [  0   1 111]]\n",
      "              precision    recall  f1-score   support\n",
      "\n",
      "           0       0.92      0.95      0.94       109\n",
      "           1       0.98      0.89      0.93       107\n",
      "           2       0.94      0.99      0.97       112\n",
      "\n",
      "    accuracy                           0.95       328\n",
      "   macro avg       0.95      0.94      0.94       328\n",
      "weighted avg       0.95      0.95      0.94       328\n",
      "\n"
     ]
    }
   ],
   "source": [
    "val_score(svm.SVC(C=0.1, degree=5, kernel='poly').fit(x_train, y_train))"
   ]
  },
  {
   "cell_type": "code",
   "execution_count": 63,
   "id": "cb8a2717",
   "metadata": {},
   "outputs": [
    {
     "name": "stdout",
     "output_type": "stream",
     "text": [
      "[[500   3   5]\n",
      " [  7 478  13]\n",
      " [  2   1 522]]\n",
      "              precision    recall  f1-score   support\n",
      "\n",
      "           0       0.98      0.98      0.98       508\n",
      "           1       0.99      0.96      0.98       498\n",
      "           2       0.97      0.99      0.98       525\n",
      "\n",
      "    accuracy                           0.98      1531\n",
      "   macro avg       0.98      0.98      0.98      1531\n",
      "weighted avg       0.98      0.98      0.98      1531\n",
      "\n"
     ]
    }
   ],
   "source": [
    "train_score(svm.SVC(C=0.1, kernel='linear').fit(x_train, y_train))"
   ]
  },
  {
   "cell_type": "code",
   "execution_count": 64,
   "id": "6a7d72c0",
   "metadata": {},
   "outputs": [
    {
     "name": "stdout",
     "output_type": "stream",
     "text": [
      "[[ 98   4   7]\n",
      " [ 10  93   4]\n",
      " [  0   4 108]]\n",
      "              precision    recall  f1-score   support\n",
      "\n",
      "           0       0.91      0.90      0.90       109\n",
      "           1       0.92      0.87      0.89       107\n",
      "           2       0.91      0.96      0.94       112\n",
      "\n",
      "    accuracy                           0.91       328\n",
      "   macro avg       0.91      0.91      0.91       328\n",
      "weighted avg       0.91      0.91      0.91       328\n",
      "\n"
     ]
    }
   ],
   "source": [
    "val_score(svm.SVC(C=0.1, kernel='linear').fit(x_train, y_train))"
   ]
  },
  {
   "cell_type": "code",
   "execution_count": 65,
   "id": "354df693",
   "metadata": {},
   "outputs": [
    {
     "name": "stdout",
     "output_type": "stream",
     "text": [
      "[[106   0   3]\n",
      " [  3 101   3]\n",
      " [  4   2 107]]\n",
      "              precision    recall  f1-score   support\n",
      "\n",
      "           0       0.94      0.97      0.95       109\n",
      "           1       0.98      0.94      0.96       107\n",
      "           2       0.95      0.95      0.95       113\n",
      "\n",
      "    accuracy                           0.95       329\n",
      "   macro avg       0.96      0.95      0.95       329\n",
      "weighted avg       0.95      0.95      0.95       329\n",
      "\n"
     ]
    }
   ],
   "source": [
    "test_score(svm.SVC(C=0.1, degree=5, kernel='poly').fit(x_train, y_train))"
   ]
  },
  {
   "cell_type": "markdown",
   "id": "6bf37344",
   "metadata": {},
   "source": [
    "#### Real images"
   ]
  },
  {
   "cell_type": "code",
   "execution_count": 90,
   "id": "de5be88e",
   "metadata": {},
   "outputs": [
    {
     "name": "stdout",
     "output_type": "stream",
     "text": [
      "[[4 0 1]\n",
      " [2 2 1]\n",
      " [0 0 4]]\n",
      "              precision    recall  f1-score   support\n",
      "\n",
      "           0       0.67      0.80      0.73         5\n",
      "           1       1.00      0.40      0.57         5\n",
      "           2       0.67      1.00      0.80         4\n",
      "\n",
      "    accuracy                           0.71        14\n",
      "   macro avg       0.78      0.73      0.70        14\n",
      "weighted avg       0.79      0.71      0.69        14\n",
      "\n"
     ]
    }
   ],
   "source": [
    "rbf_model = svm.SVC(C=100, gamma=0.001, kernel='rbf').fit(x_train, y_train)\n",
    "print(confusion_matrix(y_self_test,rbf_model.predict(self_test)))\n",
    "print(classification_report(y_self_test,rbf_model.predict(self_test)))"
   ]
  },
  {
   "cell_type": "code",
   "execution_count": 91,
   "id": "3035bbda",
   "metadata": {},
   "outputs": [
    {
     "name": "stdout",
     "output_type": "stream",
     "text": [
      "[[3 0 2]\n",
      " [4 1 0]\n",
      " [1 0 3]]\n",
      "              precision    recall  f1-score   support\n",
      "\n",
      "           0       0.38      0.60      0.46         5\n",
      "           1       1.00      0.20      0.33         5\n",
      "           2       0.60      0.75      0.67         4\n",
      "\n",
      "    accuracy                           0.50        14\n",
      "   macro avg       0.66      0.52      0.49        14\n",
      "weighted avg       0.66      0.50      0.47        14\n",
      "\n"
     ]
    }
   ],
   "source": [
    "poly_model = svm.SVC(C=0.1, degree=5, kernel='poly').fit(x_train, y_train)\n",
    "print(confusion_matrix(y_self_test,poly_model.predict(self_test)))\n",
    "print(classification_report(y_self_test,poly_model.predict(self_test)))"
   ]
  },
  {
   "cell_type": "code",
   "execution_count": 92,
   "id": "4eb0eddf",
   "metadata": {},
   "outputs": [
    {
     "name": "stdout",
     "output_type": "stream",
     "text": [
      "[[3 2 0]\n",
      " [2 3 0]\n",
      " [0 1 3]]\n",
      "              precision    recall  f1-score   support\n",
      "\n",
      "           0       0.60      0.60      0.60         5\n",
      "           1       0.50      0.60      0.55         5\n",
      "           2       1.00      0.75      0.86         4\n",
      "\n",
      "    accuracy                           0.64        14\n",
      "   macro avg       0.70      0.65      0.67        14\n",
      "weighted avg       0.68      0.64      0.65        14\n",
      "\n"
     ]
    }
   ],
   "source": [
    "linear_model = svm.SVC(C=0.1, kernel='linear').fit(x_train, y_train)\n",
    "print(confusion_matrix(y_self_test,linear_model.predict(self_test)))\n",
    "print(classification_report(y_self_test,linear_model.predict(self_test)))"
   ]
  },
  {
   "cell_type": "markdown",
   "id": "42b1b142",
   "metadata": {},
   "source": [
    "### Replace original training data with augmented data (random rotating, flipping, and zooming)"
   ]
  },
  {
   "cell_type": "code",
   "execution_count": 46,
   "id": "735f4787",
   "metadata": {},
   "outputs": [
    {
     "name": "stdout",
     "output_type": "stream",
     "text": [
      "Initialised with 508 image(s) found.\n",
      "Output directory set to rps-split\\train\\rock\\output."
     ]
    },
    {
     "name": "stderr",
     "output_type": "stream",
     "text": [
      "Processing <PIL.Image.Image image mode=RGB size=300x200 at 0x225EE8984C0>: 100%|█| 508/508 [00:03<00:00, 128.40 Samples\n"
     ]
    },
    {
     "name": "stdout",
     "output_type": "stream",
     "text": [
      "Initialised with 498 image(s) found.\n",
      "Output directory set to rps-split\\train\\paper\\output."
     ]
    },
    {
     "name": "stderr",
     "output_type": "stream",
     "text": [
      "Processing <PIL.Image.Image image mode=RGB size=300x200 at 0x225E8012640>: 100%|█| 498/498 [00:03<00:00, 131.02 Samples\n"
     ]
    },
    {
     "name": "stdout",
     "output_type": "stream",
     "text": [
      "Initialised with 525 image(s) found.\n",
      "Output directory set to rps-split\\train\\scissors\\output."
     ]
    },
    {
     "name": "stderr",
     "output_type": "stream",
     "text": [
      "Processing <PIL.Image.Image image mode=RGB size=300x200 at 0x225EE8A7130>: 100%|█| 525/525 [00:03<00:00, 134.00 Samples\n"
     ]
    }
   ],
   "source": [
    "import Augmentor\n",
    "# Passing the path of the image directory\n",
    "p = Augmentor.Pipeline(os.path.join(train_dir,'rock'))\n",
    "  \n",
    "# Defining augmentation parameters and generating 5 samples\n",
    "p.flip_left_right(0.5)\n",
    "p.rotate(0.3, 10, 10)\n",
    "p.skew(0.4, 0.5)\n",
    "p.zoom(probability = 0.2, min_factor = 1.1, max_factor = 1.5)\n",
    "p.sample(508)\n",
    "\n",
    "p = Augmentor.Pipeline(os.path.join(train_dir,'paper'))\n",
    "  \n",
    "# Defining augmentation parameters and generating 5 samples\n",
    "p.flip_left_right(0.5)\n",
    "p.rotate(0.3, 10, 10)\n",
    "p.skew(0.4, 0.5)\n",
    "p.zoom(probability = 0.2, min_factor = 1.1, max_factor = 1.5)\n",
    "p.sample(498)\n",
    "\n",
    "p = Augmentor.Pipeline(os.path.join(train_dir,'scissors'))\n",
    "  \n",
    "# Defining augmentation parameters and generating 5 samples\n",
    "p.flip_left_right(0.5)\n",
    "p.rotate(0.3, 10, 10)\n",
    "p.skew(0.4, 0.5)\n",
    "p.zoom(probability = 0.2, min_factor = 1.1, max_factor = 1.5)\n",
    "p.sample(525)"
   ]
  },
  {
   "cell_type": "markdown",
   "id": "42287e93",
   "metadata": {},
   "source": [
    "### Note: we need to move the augmented data to a new folder separate from the original images"
   ]
  },
  {
   "cell_type": "markdown",
   "id": "dccee126",
   "metadata": {},
   "source": [
    "#### Load augmented training data and original test/val"
   ]
  },
  {
   "cell_type": "code",
   "execution_count": 93,
   "id": "129b6f3e",
   "metadata": {},
   "outputs": [
    {
     "name": "stdout",
     "output_type": "stream",
     "text": [
      "loaded category:rock successfully for train\n",
      "loaded category:paper successfully for train\n",
      "loaded category:scissors successfully for train\n",
      "loaded category:rock successfully for test\n",
      "loaded category:paper successfully for test\n",
      "loaded category:scissors successfully for test\n",
      "loaded category:rock successfully for val\n",
      "loaded category:paper successfully for val\n",
      "loaded category:scissors successfully for val\n"
     ]
    }
   ],
   "source": [
    "Categories=['rock','paper','scissors']\n",
    "train_dir = 'rps-augmented'\n",
    "test_dir = 'rps-split\\\\test'\n",
    "val_dir = 'rps-split\\\\val'\n",
    "\n",
    "flat_data_arr=[] #input array\n",
    "target_arr=[] #output array\n",
    "for i in Categories:\n",
    "    path=os.path.join(train_dir,i)\n",
    "    for img in os.listdir(path):\n",
    "        img_array=imread(os.path.join(path,img))\n",
    "        img_resized=resize(img_array,(32,32,3))\n",
    "        flat_data_arr.append(img_resized.flatten())\n",
    "        target_arr.append(Categories.index(i))\n",
    "    print(f'loaded category:{i} successfully for train')\n",
    "flat_data=np.array(flat_data_arr)\n",
    "target=np.array(target_arr)\n",
    "df=pd.DataFrame(flat_data) #dataframe\n",
    "df['Target']=target\n",
    "x_train=df.iloc[:,:-1] #input data \n",
    "y_train=df.iloc[:,-1] #output data\n",
    "x_train=x_train.sample(frac=1, random_state=42).reset_index(drop=True)\n",
    "y_train=y_train.sample(frac=1, random_state=42).reset_index(drop=True)\n",
    "\n",
    "\n",
    "\n",
    "flat_data_arr=[] #input array\n",
    "target_arr=[] #output array\n",
    "for i in Categories:\n",
    "    path=os.path.join(test_dir,i)\n",
    "    for img in os.listdir(path):\n",
    "        img_array=imread(os.path.join(path,img))\n",
    "        img_resized=resize(img_array,(32,32,3))\n",
    "        flat_data_arr.append(img_resized.flatten())\n",
    "        target_arr.append(Categories.index(i))\n",
    "    print(f'loaded category:{i} successfully for test')\n",
    "flat_data=np.array(flat_data_arr)\n",
    "target=np.array(target_arr)\n",
    "df=pd.DataFrame(flat_data) #dataframe\n",
    "df['Target']=target\n",
    "x_test=df.iloc[:,:-1] #input data \n",
    "y_test=df.iloc[:,-1] #output data\n",
    "\n",
    "flat_data_arr=[] #input array\n",
    "target_arr=[] #output array\n",
    "for i in Categories:\n",
    "    path=os.path.join(val_dir,i)\n",
    "    for img in os.listdir(path):\n",
    "        img_array=imread(os.path.join(path,img))\n",
    "        img_resized=resize(img_array,(32,32,3))\n",
    "        flat_data_arr.append(img_resized.flatten())\n",
    "        target_arr.append(Categories.index(i))\n",
    "    print(f'loaded category:{i} successfully for val')\n",
    "flat_data=np.array(flat_data_arr)\n",
    "target=np.array(target_arr)\n",
    "df=pd.DataFrame(flat_data) #dataframe\n",
    "df['Target']=target\n",
    "x_val=df.iloc[:,:-1] #input data \n",
    "y_val=df.iloc[:,-1] #output data"
   ]
  },
  {
   "cell_type": "code",
   "execution_count": 94,
   "id": "9b9a43aa",
   "metadata": {},
   "outputs": [
    {
     "data": {
      "text/html": [
       "<div>\n",
       "<style scoped>\n",
       "    .dataframe tbody tr th:only-of-type {\n",
       "        vertical-align: middle;\n",
       "    }\n",
       "\n",
       "    .dataframe tbody tr th {\n",
       "        vertical-align: top;\n",
       "    }\n",
       "\n",
       "    .dataframe thead th {\n",
       "        text-align: right;\n",
       "    }\n",
       "</style>\n",
       "<table border=\"1\" class=\"dataframe\">\n",
       "  <thead>\n",
       "    <tr style=\"text-align: right;\">\n",
       "      <th></th>\n",
       "      <th>0</th>\n",
       "      <th>1</th>\n",
       "      <th>2</th>\n",
       "      <th>3</th>\n",
       "      <th>4</th>\n",
       "      <th>5</th>\n",
       "      <th>6</th>\n",
       "      <th>7</th>\n",
       "      <th>8</th>\n",
       "      <th>9</th>\n",
       "      <th>...</th>\n",
       "      <th>3062</th>\n",
       "      <th>3063</th>\n",
       "      <th>3064</th>\n",
       "      <th>3065</th>\n",
       "      <th>3066</th>\n",
       "      <th>3067</th>\n",
       "      <th>3068</th>\n",
       "      <th>3069</th>\n",
       "      <th>3070</th>\n",
       "      <th>3071</th>\n",
       "    </tr>\n",
       "  </thead>\n",
       "  <tbody>\n",
       "    <tr>\n",
       "      <th>0</th>\n",
       "      <td>0.503224</td>\n",
       "      <td>0.377374</td>\n",
       "      <td>0.236031</td>\n",
       "      <td>0.518100</td>\n",
       "      <td>0.387029</td>\n",
       "      <td>0.251523</td>\n",
       "      <td>0.491603</td>\n",
       "      <td>0.357519</td>\n",
       "      <td>0.236350</td>\n",
       "      <td>0.455322</td>\n",
       "      <td>...</td>\n",
       "      <td>0.238196</td>\n",
       "      <td>0.150798</td>\n",
       "      <td>0.580239</td>\n",
       "      <td>0.234891</td>\n",
       "      <td>0.145466</td>\n",
       "      <td>0.573147</td>\n",
       "      <td>0.228163</td>\n",
       "      <td>0.148683</td>\n",
       "      <td>0.576832</td>\n",
       "      <td>0.229349</td>\n",
       "    </tr>\n",
       "    <tr>\n",
       "      <th>1</th>\n",
       "      <td>0.319037</td>\n",
       "      <td>0.259975</td>\n",
       "      <td>0.165347</td>\n",
       "      <td>0.326856</td>\n",
       "      <td>0.268294</td>\n",
       "      <td>0.171164</td>\n",
       "      <td>0.323741</td>\n",
       "      <td>0.263979</td>\n",
       "      <td>0.166947</td>\n",
       "      <td>0.320931</td>\n",
       "      <td>...</td>\n",
       "      <td>0.061350</td>\n",
       "      <td>0.172970</td>\n",
       "      <td>0.513009</td>\n",
       "      <td>0.062299</td>\n",
       "      <td>0.167966</td>\n",
       "      <td>0.507118</td>\n",
       "      <td>0.056535</td>\n",
       "      <td>0.166091</td>\n",
       "      <td>0.500336</td>\n",
       "      <td>0.054046</td>\n",
       "    </tr>\n",
       "    <tr>\n",
       "      <th>2</th>\n",
       "      <td>0.036911</td>\n",
       "      <td>0.368087</td>\n",
       "      <td>0.055811</td>\n",
       "      <td>0.056346</td>\n",
       "      <td>0.408806</td>\n",
       "      <td>0.083943</td>\n",
       "      <td>0.075098</td>\n",
       "      <td>0.445834</td>\n",
       "      <td>0.102526</td>\n",
       "      <td>0.089386</td>\n",
       "      <td>...</td>\n",
       "      <td>0.131510</td>\n",
       "      <td>0.108346</td>\n",
       "      <td>0.539049</td>\n",
       "      <td>0.129968</td>\n",
       "      <td>0.110770</td>\n",
       "      <td>0.531741</td>\n",
       "      <td>0.129751</td>\n",
       "      <td>0.119076</td>\n",
       "      <td>0.519113</td>\n",
       "      <td>0.128266</td>\n",
       "    </tr>\n",
       "    <tr>\n",
       "      <th>3</th>\n",
       "      <td>0.125703</td>\n",
       "      <td>0.488992</td>\n",
       "      <td>0.138961</td>\n",
       "      <td>0.121660</td>\n",
       "      <td>0.481484</td>\n",
       "      <td>0.135838</td>\n",
       "      <td>0.118317</td>\n",
       "      <td>0.473236</td>\n",
       "      <td>0.133216</td>\n",
       "      <td>0.119788</td>\n",
       "      <td>...</td>\n",
       "      <td>0.176316</td>\n",
       "      <td>0.139181</td>\n",
       "      <td>0.553542</td>\n",
       "      <td>0.190199</td>\n",
       "      <td>0.142746</td>\n",
       "      <td>0.568637</td>\n",
       "      <td>0.196002</td>\n",
       "      <td>0.136994</td>\n",
       "      <td>0.566810</td>\n",
       "      <td>0.192870</td>\n",
       "    </tr>\n",
       "    <tr>\n",
       "      <th>4</th>\n",
       "      <td>0.205560</td>\n",
       "      <td>0.581871</td>\n",
       "      <td>0.240154</td>\n",
       "      <td>0.203238</td>\n",
       "      <td>0.592225</td>\n",
       "      <td>0.240437</td>\n",
       "      <td>0.203349</td>\n",
       "      <td>0.599506</td>\n",
       "      <td>0.243425</td>\n",
       "      <td>0.202471</td>\n",
       "      <td>...</td>\n",
       "      <td>0.255855</td>\n",
       "      <td>0.183691</td>\n",
       "      <td>0.614382</td>\n",
       "      <td>0.251409</td>\n",
       "      <td>0.181400</td>\n",
       "      <td>0.606482</td>\n",
       "      <td>0.248135</td>\n",
       "      <td>0.181390</td>\n",
       "      <td>0.601492</td>\n",
       "      <td>0.243138</td>\n",
       "    </tr>\n",
       "    <tr>\n",
       "      <th>...</th>\n",
       "      <td>...</td>\n",
       "      <td>...</td>\n",
       "      <td>...</td>\n",
       "      <td>...</td>\n",
       "      <td>...</td>\n",
       "      <td>...</td>\n",
       "      <td>...</td>\n",
       "      <td>...</td>\n",
       "      <td>...</td>\n",
       "      <td>...</td>\n",
       "      <td>...</td>\n",
       "      <td>...</td>\n",
       "      <td>...</td>\n",
       "      <td>...</td>\n",
       "      <td>...</td>\n",
       "      <td>...</td>\n",
       "      <td>...</td>\n",
       "      <td>...</td>\n",
       "      <td>...</td>\n",
       "      <td>...</td>\n",
       "      <td>...</td>\n",
       "    </tr>\n",
       "    <tr>\n",
       "      <th>1526</th>\n",
       "      <td>0.136420</td>\n",
       "      <td>0.563218</td>\n",
       "      <td>0.189601</td>\n",
       "      <td>0.142850</td>\n",
       "      <td>0.567043</td>\n",
       "      <td>0.199006</td>\n",
       "      <td>0.148132</td>\n",
       "      <td>0.574208</td>\n",
       "      <td>0.201018</td>\n",
       "      <td>0.144297</td>\n",
       "      <td>...</td>\n",
       "      <td>0.156228</td>\n",
       "      <td>0.114243</td>\n",
       "      <td>0.482261</td>\n",
       "      <td>0.159717</td>\n",
       "      <td>0.118566</td>\n",
       "      <td>0.487373</td>\n",
       "      <td>0.164250</td>\n",
       "      <td>0.118335</td>\n",
       "      <td>0.479779</td>\n",
       "      <td>0.160728</td>\n",
       "    </tr>\n",
       "    <tr>\n",
       "      <th>1527</th>\n",
       "      <td>0.106478</td>\n",
       "      <td>0.471000</td>\n",
       "      <td>0.144794</td>\n",
       "      <td>0.109557</td>\n",
       "      <td>0.482007</td>\n",
       "      <td>0.151879</td>\n",
       "      <td>0.116003</td>\n",
       "      <td>0.493869</td>\n",
       "      <td>0.158749</td>\n",
       "      <td>0.125853</td>\n",
       "      <td>...</td>\n",
       "      <td>0.160509</td>\n",
       "      <td>0.110079</td>\n",
       "      <td>0.495676</td>\n",
       "      <td>0.158603</td>\n",
       "      <td>0.112103</td>\n",
       "      <td>0.488334</td>\n",
       "      <td>0.155059</td>\n",
       "      <td>0.112166</td>\n",
       "      <td>0.474051</td>\n",
       "      <td>0.149857</td>\n",
       "    </tr>\n",
       "    <tr>\n",
       "      <th>1528</th>\n",
       "      <td>0.155460</td>\n",
       "      <td>0.497195</td>\n",
       "      <td>0.154524</td>\n",
       "      <td>0.156726</td>\n",
       "      <td>0.504703</td>\n",
       "      <td>0.155792</td>\n",
       "      <td>0.157340</td>\n",
       "      <td>0.514922</td>\n",
       "      <td>0.161861</td>\n",
       "      <td>0.163627</td>\n",
       "      <td>...</td>\n",
       "      <td>0.153296</td>\n",
       "      <td>0.123685</td>\n",
       "      <td>0.497488</td>\n",
       "      <td>0.148835</td>\n",
       "      <td>0.117435</td>\n",
       "      <td>0.486279</td>\n",
       "      <td>0.140191</td>\n",
       "      <td>0.115513</td>\n",
       "      <td>0.480266</td>\n",
       "      <td>0.134979</td>\n",
       "    </tr>\n",
       "    <tr>\n",
       "      <th>1529</th>\n",
       "      <td>0.230357</td>\n",
       "      <td>0.567656</td>\n",
       "      <td>0.136469</td>\n",
       "      <td>0.221792</td>\n",
       "      <td>0.574477</td>\n",
       "      <td>0.136979</td>\n",
       "      <td>0.228175</td>\n",
       "      <td>0.583402</td>\n",
       "      <td>0.146335</td>\n",
       "      <td>0.232112</td>\n",
       "      <td>...</td>\n",
       "      <td>0.102411</td>\n",
       "      <td>0.126379</td>\n",
       "      <td>0.470664</td>\n",
       "      <td>0.104949</td>\n",
       "      <td>0.128950</td>\n",
       "      <td>0.464809</td>\n",
       "      <td>0.102157</td>\n",
       "      <td>0.128156</td>\n",
       "      <td>0.456268</td>\n",
       "      <td>0.096224</td>\n",
       "    </tr>\n",
       "    <tr>\n",
       "      <th>1530</th>\n",
       "      <td>0.146447</td>\n",
       "      <td>0.476359</td>\n",
       "      <td>0.175379</td>\n",
       "      <td>0.151458</td>\n",
       "      <td>0.486339</td>\n",
       "      <td>0.181696</td>\n",
       "      <td>0.157324</td>\n",
       "      <td>0.496879</td>\n",
       "      <td>0.187580</td>\n",
       "      <td>0.158730</td>\n",
       "      <td>...</td>\n",
       "      <td>0.187209</td>\n",
       "      <td>0.151214</td>\n",
       "      <td>0.528120</td>\n",
       "      <td>0.180376</td>\n",
       "      <td>0.152756</td>\n",
       "      <td>0.519160</td>\n",
       "      <td>0.175594</td>\n",
       "      <td>0.156123</td>\n",
       "      <td>0.509827</td>\n",
       "      <td>0.168156</td>\n",
       "    </tr>\n",
       "  </tbody>\n",
       "</table>\n",
       "<p>1531 rows × 3072 columns</p>\n",
       "</div>"
      ],
      "text/plain": [
       "          0         1         2         3         4         5         6     \\\n",
       "0     0.503224  0.377374  0.236031  0.518100  0.387029  0.251523  0.491603   \n",
       "1     0.319037  0.259975  0.165347  0.326856  0.268294  0.171164  0.323741   \n",
       "2     0.036911  0.368087  0.055811  0.056346  0.408806  0.083943  0.075098   \n",
       "3     0.125703  0.488992  0.138961  0.121660  0.481484  0.135838  0.118317   \n",
       "4     0.205560  0.581871  0.240154  0.203238  0.592225  0.240437  0.203349   \n",
       "...        ...       ...       ...       ...       ...       ...       ...   \n",
       "1526  0.136420  0.563218  0.189601  0.142850  0.567043  0.199006  0.148132   \n",
       "1527  0.106478  0.471000  0.144794  0.109557  0.482007  0.151879  0.116003   \n",
       "1528  0.155460  0.497195  0.154524  0.156726  0.504703  0.155792  0.157340   \n",
       "1529  0.230357  0.567656  0.136469  0.221792  0.574477  0.136979  0.228175   \n",
       "1530  0.146447  0.476359  0.175379  0.151458  0.486339  0.181696  0.157324   \n",
       "\n",
       "          7         8         9     ...      3062      3063      3064  \\\n",
       "0     0.357519  0.236350  0.455322  ...  0.238196  0.150798  0.580239   \n",
       "1     0.263979  0.166947  0.320931  ...  0.061350  0.172970  0.513009   \n",
       "2     0.445834  0.102526  0.089386  ...  0.131510  0.108346  0.539049   \n",
       "3     0.473236  0.133216  0.119788  ...  0.176316  0.139181  0.553542   \n",
       "4     0.599506  0.243425  0.202471  ...  0.255855  0.183691  0.614382   \n",
       "...        ...       ...       ...  ...       ...       ...       ...   \n",
       "1526  0.574208  0.201018  0.144297  ...  0.156228  0.114243  0.482261   \n",
       "1527  0.493869  0.158749  0.125853  ...  0.160509  0.110079  0.495676   \n",
       "1528  0.514922  0.161861  0.163627  ...  0.153296  0.123685  0.497488   \n",
       "1529  0.583402  0.146335  0.232112  ...  0.102411  0.126379  0.470664   \n",
       "1530  0.496879  0.187580  0.158730  ...  0.187209  0.151214  0.528120   \n",
       "\n",
       "          3065      3066      3067      3068      3069      3070      3071  \n",
       "0     0.234891  0.145466  0.573147  0.228163  0.148683  0.576832  0.229349  \n",
       "1     0.062299  0.167966  0.507118  0.056535  0.166091  0.500336  0.054046  \n",
       "2     0.129968  0.110770  0.531741  0.129751  0.119076  0.519113  0.128266  \n",
       "3     0.190199  0.142746  0.568637  0.196002  0.136994  0.566810  0.192870  \n",
       "4     0.251409  0.181400  0.606482  0.248135  0.181390  0.601492  0.243138  \n",
       "...        ...       ...       ...       ...       ...       ...       ...  \n",
       "1526  0.159717  0.118566  0.487373  0.164250  0.118335  0.479779  0.160728  \n",
       "1527  0.158603  0.112103  0.488334  0.155059  0.112166  0.474051  0.149857  \n",
       "1528  0.148835  0.117435  0.486279  0.140191  0.115513  0.480266  0.134979  \n",
       "1529  0.104949  0.128950  0.464809  0.102157  0.128156  0.456268  0.096224  \n",
       "1530  0.180376  0.152756  0.519160  0.175594  0.156123  0.509827  0.168156  \n",
       "\n",
       "[1531 rows x 3072 columns]"
      ]
     },
     "execution_count": 94,
     "metadata": {},
     "output_type": "execute_result"
    }
   ],
   "source": [
    "x_train"
   ]
  },
  {
   "cell_type": "markdown",
   "id": "d15a3ded",
   "metadata": {},
   "source": [
    "#### 3 colors and augmented data"
   ]
  },
  {
   "cell_type": "code",
   "execution_count": 68,
   "id": "4609456f",
   "metadata": {},
   "outputs": [
    {
     "name": "stdout",
     "output_type": "stream",
     "text": [
      "Fitting 5 folds for each of 16 candidates, totalling 80 fits\n",
      "[CV 1/5] END ...C=0.1, gamma=0.0001, kernel=rbf;, score=0.342 total time=   5.2s\n",
      "[CV 2/5] END ...C=0.1, gamma=0.0001, kernel=rbf;, score=0.343 total time=   4.2s\n",
      "[CV 3/5] END ...C=0.1, gamma=0.0001, kernel=rbf;, score=0.343 total time=   4.0s\n",
      "[CV 4/5] END ...C=0.1, gamma=0.0001, kernel=rbf;, score=0.343 total time=   4.0s\n",
      "[CV 5/5] END ...C=0.1, gamma=0.0001, kernel=rbf;, score=0.343 total time=   4.6s\n",
      "[CV 1/5] END ....C=0.1, gamma=0.001, kernel=rbf;, score=0.472 total time=   4.6s\n",
      "[CV 2/5] END ....C=0.1, gamma=0.001, kernel=rbf;, score=0.500 total time=   4.4s\n",
      "[CV 3/5] END ....C=0.1, gamma=0.001, kernel=rbf;, score=0.474 total time=   4.2s\n",
      "[CV 4/5] END ....C=0.1, gamma=0.001, kernel=rbf;, score=0.526 total time=   4.1s\n",
      "[CV 5/5] END ....C=0.1, gamma=0.001, kernel=rbf;, score=0.471 total time=   4.3s\n",
      "[CV 1/5] END ......C=0.1, gamma=0.1, kernel=rbf;, score=0.342 total time=   3.9s\n",
      "[CV 2/5] END ......C=0.1, gamma=0.1, kernel=rbf;, score=0.343 total time=   4.3s\n",
      "[CV 3/5] END ......C=0.1, gamma=0.1, kernel=rbf;, score=0.343 total time=   4.2s\n",
      "[CV 4/5] END ......C=0.1, gamma=0.1, kernel=rbf;, score=0.343 total time=   4.2s\n",
      "[CV 5/5] END ......C=0.1, gamma=0.1, kernel=rbf;, score=0.343 total time=   4.1s\n",
      "[CV 1/5] END ........C=0.1, gamma=1, kernel=rbf;, score=0.342 total time=   4.6s\n",
      "[CV 2/5] END ........C=0.1, gamma=1, kernel=rbf;, score=0.343 total time=   4.1s\n",
      "[CV 3/5] END ........C=0.1, gamma=1, kernel=rbf;, score=0.343 total time=   4.3s\n",
      "[CV 4/5] END ........C=0.1, gamma=1, kernel=rbf;, score=0.343 total time=   4.4s\n",
      "[CV 5/5] END ........C=0.1, gamma=1, kernel=rbf;, score=0.343 total time=   4.2s\n",
      "[CV 1/5] END .....C=1, gamma=0.0001, kernel=rbf;, score=0.466 total time=   3.8s\n",
      "[CV 2/5] END .....C=1, gamma=0.0001, kernel=rbf;, score=0.503 total time=   3.7s\n",
      "[CV 3/5] END .....C=1, gamma=0.0001, kernel=rbf;, score=0.513 total time=   3.9s\n",
      "[CV 4/5] END .....C=1, gamma=0.0001, kernel=rbf;, score=0.526 total time=   3.9s\n",
      "[CV 5/5] END .....C=1, gamma=0.0001, kernel=rbf;, score=0.461 total time=   3.7s\n",
      "[CV 1/5] END ......C=1, gamma=0.001, kernel=rbf;, score=0.707 total time=   3.5s\n",
      "[CV 2/5] END ......C=1, gamma=0.001, kernel=rbf;, score=0.725 total time=   3.6s\n",
      "[CV 3/5] END ......C=1, gamma=0.001, kernel=rbf;, score=0.752 total time=   3.6s\n",
      "[CV 4/5] END ......C=1, gamma=0.001, kernel=rbf;, score=0.722 total time=   3.2s\n",
      "[CV 5/5] END ......C=1, gamma=0.001, kernel=rbf;, score=0.719 total time=   3.2s\n",
      "[CV 1/5] END ........C=1, gamma=0.1, kernel=rbf;, score=0.779 total time=   3.9s\n",
      "[CV 2/5] END ........C=1, gamma=0.1, kernel=rbf;, score=0.768 total time=   3.9s\n",
      "[CV 3/5] END ........C=1, gamma=0.1, kernel=rbf;, score=0.778 total time=   3.9s\n",
      "[CV 4/5] END ........C=1, gamma=0.1, kernel=rbf;, score=0.719 total time=   3.9s\n",
      "[CV 5/5] END ........C=1, gamma=0.1, kernel=rbf;, score=0.791 total time=   3.9s\n",
      "[CV 1/5] END ..........C=1, gamma=1, kernel=rbf;, score=0.371 total time=   3.9s\n",
      "[CV 2/5] END ..........C=1, gamma=1, kernel=rbf;, score=0.366 total time=   3.9s\n",
      "[CV 3/5] END ..........C=1, gamma=1, kernel=rbf;, score=0.369 total time=   4.1s\n",
      "[CV 4/5] END ..........C=1, gamma=1, kernel=rbf;, score=0.376 total time=   4.0s\n",
      "[CV 5/5] END ..........C=1, gamma=1, kernel=rbf;, score=0.376 total time=   4.4s\n",
      "[CV 1/5] END ....C=10, gamma=0.0001, kernel=rbf;, score=0.691 total time=   3.8s\n",
      "[CV 2/5] END ....C=10, gamma=0.0001, kernel=rbf;, score=0.703 total time=   3.4s\n",
      "[CV 3/5] END ....C=10, gamma=0.0001, kernel=rbf;, score=0.719 total time=   3.3s\n",
      "[CV 4/5] END ....C=10, gamma=0.0001, kernel=rbf;, score=0.693 total time=   3.4s\n",
      "[CV 5/5] END ....C=10, gamma=0.0001, kernel=rbf;, score=0.680 total time=   3.3s\n",
      "[CV 1/5] END .....C=10, gamma=0.001, kernel=rbf;, score=0.873 total time=   2.4s\n",
      "[CV 2/5] END .....C=10, gamma=0.001, kernel=rbf;, score=0.797 total time=   2.6s\n",
      "[CV 3/5] END .....C=10, gamma=0.001, kernel=rbf;, score=0.833 total time=   2.4s\n",
      "[CV 4/5] END .....C=10, gamma=0.001, kernel=rbf;, score=0.833 total time=   2.3s\n",
      "[CV 5/5] END .....C=10, gamma=0.001, kernel=rbf;, score=0.833 total time=   2.4s\n",
      "[CV 1/5] END .......C=10, gamma=0.1, kernel=rbf;, score=0.801 total time=   4.0s\n",
      "[CV 2/5] END .......C=10, gamma=0.1, kernel=rbf;, score=0.794 total time=   3.7s\n",
      "[CV 3/5] END .......C=10, gamma=0.1, kernel=rbf;, score=0.794 total time=   3.8s\n",
      "[CV 4/5] END .......C=10, gamma=0.1, kernel=rbf;, score=0.752 total time=   3.9s\n",
      "[CV 5/5] END .......C=10, gamma=0.1, kernel=rbf;, score=0.801 total time=   3.7s\n",
      "[CV 1/5] END .........C=10, gamma=1, kernel=rbf;, score=0.371 total time=   3.8s\n",
      "[CV 2/5] END .........C=10, gamma=1, kernel=rbf;, score=0.369 total time=   4.0s\n",
      "[CV 3/5] END .........C=10, gamma=1, kernel=rbf;, score=0.369 total time=   4.0s\n",
      "[CV 4/5] END .........C=10, gamma=1, kernel=rbf;, score=0.376 total time=   4.2s\n",
      "[CV 5/5] END .........C=10, gamma=1, kernel=rbf;, score=0.376 total time=   3.9s\n",
      "[CV 1/5] END ...C=100, gamma=0.0001, kernel=rbf;, score=0.798 total time=   2.4s\n",
      "[CV 2/5] END ...C=100, gamma=0.0001, kernel=rbf;, score=0.748 total time=   2.4s\n",
      "[CV 3/5] END ...C=100, gamma=0.0001, kernel=rbf;, score=0.794 total time=   2.4s\n",
      "[CV 4/5] END ...C=100, gamma=0.0001, kernel=rbf;, score=0.765 total time=   2.3s\n",
      "[CV 5/5] END ...C=100, gamma=0.0001, kernel=rbf;, score=0.814 total time=   2.4s\n",
      "[CV 1/5] END ....C=100, gamma=0.001, kernel=rbf;, score=0.925 total time=   2.1s\n",
      "[CV 2/5] END ....C=100, gamma=0.001, kernel=rbf;, score=0.863 total time=   2.0s\n",
      "[CV 3/5] END ....C=100, gamma=0.001, kernel=rbf;, score=0.866 total time=   2.0s\n",
      "[CV 4/5] END ....C=100, gamma=0.001, kernel=rbf;, score=0.837 total time=   2.0s\n",
      "[CV 5/5] END ....C=100, gamma=0.001, kernel=rbf;, score=0.879 total time=   2.1s\n",
      "[CV 1/5] END ......C=100, gamma=0.1, kernel=rbf;, score=0.801 total time=   4.1s\n",
      "[CV 2/5] END ......C=100, gamma=0.1, kernel=rbf;, score=0.794 total time=   3.8s\n",
      "[CV 3/5] END ......C=100, gamma=0.1, kernel=rbf;, score=0.794 total time=   3.8s\n",
      "[CV 4/5] END ......C=100, gamma=0.1, kernel=rbf;, score=0.752 total time=   3.7s\n",
      "[CV 5/5] END ......C=100, gamma=0.1, kernel=rbf;, score=0.801 total time=   3.7s\n",
      "[CV 1/5] END ........C=100, gamma=1, kernel=rbf;, score=0.371 total time=   3.7s\n",
      "[CV 2/5] END ........C=100, gamma=1, kernel=rbf;, score=0.369 total time=   3.7s\n",
      "[CV 3/5] END ........C=100, gamma=1, kernel=rbf;, score=0.369 total time=   3.8s\n",
      "[CV 4/5] END ........C=100, gamma=1, kernel=rbf;, score=0.376 total time=   3.9s\n",
      "[CV 5/5] END ........C=100, gamma=1, kernel=rbf;, score=0.376 total time=   4.0s\n"
     ]
    },
    {
     "data": {
      "text/plain": [
       "GridSearchCV(estimator=SVC(),\n",
       "             param_grid={'C': [0.1, 1, 10, 100],\n",
       "                         'gamma': [0.0001, 0.001, 0.1, 1], 'kernel': ['rbf']},\n",
       "             verbose=3)"
      ]
     },
     "execution_count": 68,
     "metadata": {},
     "output_type": "execute_result"
    }
   ],
   "source": [
    "from sklearn import svm\n",
    "from sklearn.model_selection import GridSearchCV\n",
    "from sklearn.svm import SVC\n",
    "\n",
    "param_grid={'C':[0.1,1,10,100],'gamma':[0.0001,0.001,0.1,1],'kernel':['rbf']}\n",
    "model=GridSearchCV(SVC(),param_grid,refit=True,verbose=3)\n",
    "model.fit(x_train, y_train)"
   ]
  },
  {
   "cell_type": "code",
   "execution_count": 69,
   "id": "e25b2a6d",
   "metadata": {},
   "outputs": [
    {
     "name": "stdout",
     "output_type": "stream",
     "text": [
      "Fitting 5 folds for each of 12 candidates, totalling 60 fits\n",
      "[CV 1/5] END ......C=0.1, degree=3, kernel=poly;, score=0.912 total time=   2.2s\n",
      "[CV 2/5] END ......C=0.1, degree=3, kernel=poly;, score=0.846 total time=   2.1s\n",
      "[CV 3/5] END ......C=0.1, degree=3, kernel=poly;, score=0.876 total time=   2.1s\n",
      "[CV 4/5] END ......C=0.1, degree=3, kernel=poly;, score=0.853 total time=   1.9s\n",
      "[CV 5/5] END ......C=0.1, degree=3, kernel=poly;, score=0.879 total time=   2.1s\n",
      "[CV 1/5] END ......C=0.1, degree=4, kernel=poly;, score=0.919 total time=   1.9s\n",
      "[CV 2/5] END ......C=0.1, degree=4, kernel=poly;, score=0.882 total time=   1.7s\n",
      "[CV 3/5] END ......C=0.1, degree=4, kernel=poly;, score=0.905 total time=   1.7s\n",
      "[CV 4/5] END ......C=0.1, degree=4, kernel=poly;, score=0.886 total time=   1.8s\n",
      "[CV 5/5] END ......C=0.1, degree=4, kernel=poly;, score=0.899 total time=   1.8s\n",
      "[CV 1/5] END ......C=0.1, degree=5, kernel=poly;, score=0.906 total time=   1.6s\n",
      "[CV 2/5] END ......C=0.1, degree=5, kernel=poly;, score=0.866 total time=   1.6s\n",
      "[CV 3/5] END ......C=0.1, degree=5, kernel=poly;, score=0.892 total time=   1.6s\n",
      "[CV 4/5] END ......C=0.1, degree=5, kernel=poly;, score=0.889 total time=   1.6s\n",
      "[CV 5/5] END ......C=0.1, degree=5, kernel=poly;, score=0.886 total time=   1.6s\n",
      "[CV 1/5] END ........C=1, degree=3, kernel=poly;, score=0.906 total time=   1.8s\n",
      "[CV 2/5] END ........C=1, degree=3, kernel=poly;, score=0.876 total time=   1.8s\n",
      "[CV 3/5] END ........C=1, degree=3, kernel=poly;, score=0.895 total time=   1.8s\n",
      "[CV 4/5] END ........C=1, degree=3, kernel=poly;, score=0.876 total time=   1.8s\n",
      "[CV 5/5] END ........C=1, degree=3, kernel=poly;, score=0.892 total time=   1.8s\n",
      "[CV 1/5] END ........C=1, degree=4, kernel=poly;, score=0.902 total time=   1.7s\n",
      "[CV 2/5] END ........C=1, degree=4, kernel=poly;, score=0.869 total time=   1.7s\n",
      "[CV 3/5] END ........C=1, degree=4, kernel=poly;, score=0.892 total time=   1.7s\n",
      "[CV 4/5] END ........C=1, degree=4, kernel=poly;, score=0.886 total time=   1.7s\n",
      "[CV 5/5] END ........C=1, degree=4, kernel=poly;, score=0.886 total time=   1.8s\n",
      "[CV 1/5] END ........C=1, degree=5, kernel=poly;, score=0.906 total time=   2.0s\n",
      "[CV 2/5] END ........C=1, degree=5, kernel=poly;, score=0.863 total time=   1.9s\n",
      "[CV 3/5] END ........C=1, degree=5, kernel=poly;, score=0.892 total time=   1.8s\n",
      "[CV 4/5] END ........C=1, degree=5, kernel=poly;, score=0.889 total time=   1.7s\n",
      "[CV 5/5] END ........C=1, degree=5, kernel=poly;, score=0.882 total time=   1.7s\n",
      "[CV 1/5] END .......C=10, degree=3, kernel=poly;, score=0.902 total time=   2.0s\n",
      "[CV 2/5] END .......C=10, degree=3, kernel=poly;, score=0.869 total time=   1.9s\n",
      "[CV 3/5] END .......C=10, degree=3, kernel=poly;, score=0.895 total time=   1.8s\n",
      "[CV 4/5] END .......C=10, degree=3, kernel=poly;, score=0.873 total time=   1.8s\n",
      "[CV 5/5] END .......C=10, degree=3, kernel=poly;, score=0.892 total time=   1.8s\n",
      "[CV 1/5] END .......C=10, degree=4, kernel=poly;, score=0.902 total time=   1.8s\n",
      "[CV 2/5] END .......C=10, degree=4, kernel=poly;, score=0.869 total time=   1.7s\n",
      "[CV 3/5] END .......C=10, degree=4, kernel=poly;, score=0.892 total time=   1.7s\n",
      "[CV 4/5] END .......C=10, degree=4, kernel=poly;, score=0.886 total time=   1.8s\n",
      "[CV 5/5] END .......C=10, degree=4, kernel=poly;, score=0.886 total time=   1.8s\n",
      "[CV 1/5] END .......C=10, degree=5, kernel=poly;, score=0.906 total time=   1.7s\n",
      "[CV 2/5] END .......C=10, degree=5, kernel=poly;, score=0.863 total time=   1.7s\n",
      "[CV 3/5] END .......C=10, degree=5, kernel=poly;, score=0.892 total time=   1.7s\n",
      "[CV 4/5] END .......C=10, degree=5, kernel=poly;, score=0.889 total time=   1.7s\n",
      "[CV 5/5] END .......C=10, degree=5, kernel=poly;, score=0.882 total time=   1.7s\n",
      "[CV 1/5] END ......C=100, degree=3, kernel=poly;, score=0.902 total time=   1.9s\n",
      "[CV 2/5] END ......C=100, degree=3, kernel=poly;, score=0.869 total time=   1.8s\n",
      "[CV 3/5] END ......C=100, degree=3, kernel=poly;, score=0.895 total time=   1.8s\n",
      "[CV 4/5] END ......C=100, degree=3, kernel=poly;, score=0.873 total time=   1.8s\n",
      "[CV 5/5] END ......C=100, degree=3, kernel=poly;, score=0.892 total time=   2.0s\n",
      "[CV 1/5] END ......C=100, degree=4, kernel=poly;, score=0.902 total time=   1.8s\n",
      "[CV 2/5] END ......C=100, degree=4, kernel=poly;, score=0.869 total time=   1.8s\n",
      "[CV 3/5] END ......C=100, degree=4, kernel=poly;, score=0.892 total time=   1.7s\n",
      "[CV 4/5] END ......C=100, degree=4, kernel=poly;, score=0.886 total time=   1.7s\n",
      "[CV 5/5] END ......C=100, degree=4, kernel=poly;, score=0.886 total time=   1.7s\n",
      "[CV 1/5] END ......C=100, degree=5, kernel=poly;, score=0.906 total time=   1.6s\n",
      "[CV 2/5] END ......C=100, degree=5, kernel=poly;, score=0.863 total time=   1.6s\n",
      "[CV 3/5] END ......C=100, degree=5, kernel=poly;, score=0.892 total time=   1.6s\n",
      "[CV 4/5] END ......C=100, degree=5, kernel=poly;, score=0.889 total time=   1.6s\n",
      "[CV 5/5] END ......C=100, degree=5, kernel=poly;, score=0.882 total time=   1.6s\n"
     ]
    },
    {
     "data": {
      "text/plain": [
       "GridSearchCV(estimator=SVC(),\n",
       "             param_grid={'C': [0.1, 1, 10, 100], 'degree': [3, 4, 5],\n",
       "                         'kernel': ['poly']},\n",
       "             verbose=3)"
      ]
     },
     "execution_count": 69,
     "metadata": {},
     "output_type": "execute_result"
    }
   ],
   "source": [
    "param_grid={'C':[0.1,1,10,100],'degree':[3,4,5],'kernel':['poly']}\n",
    "model=GridSearchCV(SVC(),param_grid,refit=True,verbose=3)\n",
    "model.fit(x_train, y_train)"
   ]
  },
  {
   "cell_type": "code",
   "execution_count": 70,
   "id": "f437d6ce",
   "metadata": {},
   "outputs": [
    {
     "name": "stdout",
     "output_type": "stream",
     "text": [
      "Fitting 5 folds for each of 4 candidates, totalling 20 fits\n",
      "[CV 1/5] END ..............C=0.1, kernel=linear;, score=0.837 total time=   2.1s\n",
      "[CV 2/5] END ..............C=0.1, kernel=linear;, score=0.761 total time=   2.0s\n",
      "[CV 3/5] END ..............C=0.1, kernel=linear;, score=0.778 total time=   2.0s\n",
      "[CV 4/5] END ..............C=0.1, kernel=linear;, score=0.755 total time=   2.0s\n",
      "[CV 5/5] END ..............C=0.1, kernel=linear;, score=0.797 total time=   2.0s\n",
      "[CV 1/5] END ................C=1, kernel=linear;, score=0.779 total time=   2.3s\n",
      "[CV 2/5] END ................C=1, kernel=linear;, score=0.680 total time=   2.2s\n",
      "[CV 3/5] END ................C=1, kernel=linear;, score=0.680 total time=   2.3s\n",
      "[CV 4/5] END ................C=1, kernel=linear;, score=0.709 total time=   2.2s\n",
      "[CV 5/5] END ................C=1, kernel=linear;, score=0.690 total time=   2.3s\n",
      "[CV 1/5] END ...............C=10, kernel=linear;, score=0.726 total time=   2.4s\n",
      "[CV 2/5] END ...............C=10, kernel=linear;, score=0.637 total time=   2.3s\n",
      "[CV 3/5] END ...............C=10, kernel=linear;, score=0.676 total time=   2.4s\n",
      "[CV 4/5] END ...............C=10, kernel=linear;, score=0.680 total time=   2.2s\n",
      "[CV 5/5] END ...............C=10, kernel=linear;, score=0.699 total time=   2.6s\n",
      "[CV 1/5] END ..............C=100, kernel=linear;, score=0.726 total time=   2.4s\n",
      "[CV 2/5] END ..............C=100, kernel=linear;, score=0.637 total time=   2.3s\n",
      "[CV 3/5] END ..............C=100, kernel=linear;, score=0.676 total time=   2.3s\n",
      "[CV 4/5] END ..............C=100, kernel=linear;, score=0.680 total time=   2.2s\n",
      "[CV 5/5] END ..............C=100, kernel=linear;, score=0.699 total time=   2.5s\n"
     ]
    },
    {
     "data": {
      "text/plain": [
       "GridSearchCV(estimator=SVC(),\n",
       "             param_grid={'C': [0.1, 1, 10, 100], 'kernel': ['linear']},\n",
       "             verbose=3)"
      ]
     },
     "execution_count": 70,
     "metadata": {},
     "output_type": "execute_result"
    }
   ],
   "source": [
    "param_grid={'C':[0.1,1,10,100],'kernel':['linear']}\n",
    "model=GridSearchCV(SVC(),param_grid,refit=True,verbose=3)\n",
    "model.fit(x_train, y_train)"
   ]
  },
  {
   "cell_type": "code",
   "execution_count": 71,
   "id": "64e88201",
   "metadata": {},
   "outputs": [
    {
     "name": "stdout",
     "output_type": "stream",
     "text": [
      "[[504   2   2]\n",
      " [  5 489   4]\n",
      " [  2   1 522]]\n",
      "              precision    recall  f1-score   support\n",
      "\n",
      "           0       0.99      0.99      0.99       508\n",
      "           1       0.99      0.98      0.99       498\n",
      "           2       0.99      0.99      0.99       525\n",
      "\n",
      "    accuracy                           0.99      1531\n",
      "   macro avg       0.99      0.99      0.99      1531\n",
      "weighted avg       0.99      0.99      0.99      1531\n",
      "\n"
     ]
    }
   ],
   "source": [
    "train_score(svm.SVC(C=100, gamma=0.001, kernel='rbf').fit(x_train, y_train))"
   ]
  },
  {
   "cell_type": "code",
   "execution_count": 72,
   "id": "3c95fc6b",
   "metadata": {},
   "outputs": [
    {
     "name": "stdout",
     "output_type": "stream",
     "text": [
      "[[104   1   4]\n",
      " [ 10  89   8]\n",
      " [  6   1 105]]\n",
      "              precision    recall  f1-score   support\n",
      "\n",
      "           0       0.87      0.95      0.91       109\n",
      "           1       0.98      0.83      0.90       107\n",
      "           2       0.90      0.94      0.92       112\n",
      "\n",
      "    accuracy                           0.91       328\n",
      "   macro avg       0.91      0.91      0.91       328\n",
      "weighted avg       0.91      0.91      0.91       328\n",
      "\n"
     ]
    }
   ],
   "source": [
    "val_score(svm.SVC(C=100, gamma=0.001, kernel='rbf').fit(x_train, y_train))"
   ]
  },
  {
   "cell_type": "code",
   "execution_count": 73,
   "id": "e9cf9fdb",
   "metadata": {},
   "outputs": [
    {
     "name": "stdout",
     "output_type": "stream",
     "text": [
      "[[508   0   0]\n",
      " [  0 498   0]\n",
      " [  0   0 525]]\n",
      "              precision    recall  f1-score   support\n",
      "\n",
      "           0       1.00      1.00      1.00       508\n",
      "           1       1.00      1.00      1.00       498\n",
      "           2       1.00      1.00      1.00       525\n",
      "\n",
      "    accuracy                           1.00      1531\n",
      "   macro avg       1.00      1.00      1.00      1531\n",
      "weighted avg       1.00      1.00      1.00      1531\n",
      "\n"
     ]
    }
   ],
   "source": [
    "train_score(svm.SVC(C=0.1, degree=5, kernel='poly').fit(x_train, y_train))"
   ]
  },
  {
   "cell_type": "code",
   "execution_count": 74,
   "id": "a806baf4",
   "metadata": {},
   "outputs": [
    {
     "name": "stdout",
     "output_type": "stream",
     "text": [
      "[[104   3   2]\n",
      " [ 10  89   8]\n",
      " [  6   2 104]]\n",
      "              precision    recall  f1-score   support\n",
      "\n",
      "           0       0.87      0.95      0.91       109\n",
      "           1       0.95      0.83      0.89       107\n",
      "           2       0.91      0.93      0.92       112\n",
      "\n",
      "    accuracy                           0.91       328\n",
      "   macro avg       0.91      0.90      0.90       328\n",
      "weighted avg       0.91      0.91      0.91       328\n",
      "\n"
     ]
    }
   ],
   "source": [
    "val_score(svm.SVC(C=0.1, degree=5, kernel='poly').fit(x_train, y_train))"
   ]
  },
  {
   "cell_type": "code",
   "execution_count": 75,
   "id": "02992bc9",
   "metadata": {},
   "outputs": [
    {
     "name": "stdout",
     "output_type": "stream",
     "text": [
      "[[438  10  60]\n",
      " [ 17 446  35]\n",
      " [ 39  22 464]]\n",
      "              precision    recall  f1-score   support\n",
      "\n",
      "           0       0.89      0.86      0.87       508\n",
      "           1       0.93      0.90      0.91       498\n",
      "           2       0.83      0.88      0.86       525\n",
      "\n",
      "    accuracy                           0.88      1531\n",
      "   macro avg       0.88      0.88      0.88      1531\n",
      "weighted avg       0.88      0.88      0.88      1531\n",
      "\n"
     ]
    }
   ],
   "source": [
    "train_score(svm.SVC(C=0.1, kernel='linear').fit(x_train, y_train))"
   ]
  },
  {
   "cell_type": "code",
   "execution_count": 76,
   "id": "4a293e88",
   "metadata": {},
   "outputs": [
    {
     "name": "stdout",
     "output_type": "stream",
     "text": [
      "[[80  3 26]\n",
      " [14 79 14]\n",
      " [18  4 90]]\n",
      "              precision    recall  f1-score   support\n",
      "\n",
      "           0       0.71      0.73      0.72       109\n",
      "           1       0.92      0.74      0.82       107\n",
      "           2       0.69      0.80      0.74       112\n",
      "\n",
      "    accuracy                           0.76       328\n",
      "   macro avg       0.78      0.76      0.76       328\n",
      "weighted avg       0.77      0.76      0.76       328\n",
      "\n"
     ]
    }
   ],
   "source": [
    "val_score(svm.SVC(C=0.1, kernel='linear').fit(x_train, y_train))"
   ]
  },
  {
   "cell_type": "code",
   "execution_count": 86,
   "id": "b131c051",
   "metadata": {},
   "outputs": [
    {
     "name": "stdout",
     "output_type": "stream",
     "text": [
      "[[104   3   2]\n",
      " [  7  96   4]\n",
      " [  7   1 105]]\n",
      "              precision    recall  f1-score   support\n",
      "\n",
      "           0       0.88      0.95      0.92       109\n",
      "           1       0.96      0.90      0.93       107\n",
      "           2       0.95      0.93      0.94       113\n",
      "\n",
      "    accuracy                           0.93       329\n",
      "   macro avg       0.93      0.93      0.93       329\n",
      "weighted avg       0.93      0.93      0.93       329\n",
      "\n"
     ]
    }
   ],
   "source": [
    "test_score(svm.SVC(C=100, gamma=0.001, kernel='rbf').fit(x_train, y_train))"
   ]
  },
  {
   "cell_type": "markdown",
   "id": "2068a266",
   "metadata": {},
   "source": [
    "#### Real Images"
   ]
  },
  {
   "cell_type": "code",
   "execution_count": 87,
   "id": "1bb6f3b9",
   "metadata": {},
   "outputs": [
    {
     "name": "stdout",
     "output_type": "stream",
     "text": [
      "[[0 0 5]\n",
      " [0 0 5]\n",
      " [0 0 4]]\n",
      "              precision    recall  f1-score   support\n",
      "\n",
      "           0       0.00      0.00      0.00         5\n",
      "           1       0.00      0.00      0.00         5\n",
      "           2       0.29      1.00      0.44         4\n",
      "\n",
      "    accuracy                           0.29        14\n",
      "   macro avg       0.10      0.33      0.15        14\n",
      "weighted avg       0.08      0.29      0.13        14\n",
      "\n"
     ]
    },
    {
     "name": "stderr",
     "output_type": "stream",
     "text": [
      "C:\\Users\\jcrul\\anaconda3\\lib\\site-packages\\sklearn\\metrics\\_classification.py:1318: UndefinedMetricWarning: Precision and F-score are ill-defined and being set to 0.0 in labels with no predicted samples. Use `zero_division` parameter to control this behavior.\n",
      "  _warn_prf(average, modifier, msg_start, len(result))\n",
      "C:\\Users\\jcrul\\anaconda3\\lib\\site-packages\\sklearn\\metrics\\_classification.py:1318: UndefinedMetricWarning: Precision and F-score are ill-defined and being set to 0.0 in labels with no predicted samples. Use `zero_division` parameter to control this behavior.\n",
      "  _warn_prf(average, modifier, msg_start, len(result))\n",
      "C:\\Users\\jcrul\\anaconda3\\lib\\site-packages\\sklearn\\metrics\\_classification.py:1318: UndefinedMetricWarning: Precision and F-score are ill-defined and being set to 0.0 in labels with no predicted samples. Use `zero_division` parameter to control this behavior.\n",
      "  _warn_prf(average, modifier, msg_start, len(result))\n"
     ]
    }
   ],
   "source": [
    "rbf_model = svm.SVC(C=100, gamma=0.001, kernel='rbf').fit(x_train, y_train)\n",
    "print(confusion_matrix(y_self_test,rbf_model.predict(self_test)))\n",
    "print(classification_report(y_self_test,rbf_model.predict(self_test)))"
   ]
  },
  {
   "cell_type": "code",
   "execution_count": 95,
   "id": "3156eba1",
   "metadata": {},
   "outputs": [
    {
     "name": "stdout",
     "output_type": "stream",
     "text": [
      "[[0 0 5]\n",
      " [2 0 3]\n",
      " [0 0 4]]\n",
      "              precision    recall  f1-score   support\n",
      "\n",
      "           0       0.00      0.00      0.00         5\n",
      "           1       0.00      0.00      0.00         5\n",
      "           2       0.33      1.00      0.50         4\n",
      "\n",
      "    accuracy                           0.29        14\n",
      "   macro avg       0.11      0.33      0.17        14\n",
      "weighted avg       0.10      0.29      0.14        14\n",
      "\n"
     ]
    },
    {
     "name": "stderr",
     "output_type": "stream",
     "text": [
      "C:\\Users\\jcrul\\anaconda3\\lib\\site-packages\\sklearn\\metrics\\_classification.py:1318: UndefinedMetricWarning: Precision and F-score are ill-defined and being set to 0.0 in labels with no predicted samples. Use `zero_division` parameter to control this behavior.\n",
      "  _warn_prf(average, modifier, msg_start, len(result))\n",
      "C:\\Users\\jcrul\\anaconda3\\lib\\site-packages\\sklearn\\metrics\\_classification.py:1318: UndefinedMetricWarning: Precision and F-score are ill-defined and being set to 0.0 in labels with no predicted samples. Use `zero_division` parameter to control this behavior.\n",
      "  _warn_prf(average, modifier, msg_start, len(result))\n",
      "C:\\Users\\jcrul\\anaconda3\\lib\\site-packages\\sklearn\\metrics\\_classification.py:1318: UndefinedMetricWarning: Precision and F-score are ill-defined and being set to 0.0 in labels with no predicted samples. Use `zero_division` parameter to control this behavior.\n",
      "  _warn_prf(average, modifier, msg_start, len(result))\n"
     ]
    }
   ],
   "source": [
    "poly_model = svm.SVC(C=0.1, degree=5, kernel='poly').fit(x_train, y_train)\n",
    "print(confusion_matrix(y_self_test,poly_model.predict(self_test)))\n",
    "print(classification_report(y_self_test,poly_model.predict(self_test)))"
   ]
  },
  {
   "cell_type": "code",
   "execution_count": 96,
   "id": "1d869cb3",
   "metadata": {},
   "outputs": [
    {
     "name": "stdout",
     "output_type": "stream",
     "text": [
      "[[0 0 5]\n",
      " [1 0 4]\n",
      " [0 0 4]]\n",
      "              precision    recall  f1-score   support\n",
      "\n",
      "           0       0.00      0.00      0.00         5\n",
      "           1       0.00      0.00      0.00         5\n",
      "           2       0.31      1.00      0.47         4\n",
      "\n",
      "    accuracy                           0.29        14\n",
      "   macro avg       0.10      0.33      0.16        14\n",
      "weighted avg       0.09      0.29      0.13        14\n",
      "\n"
     ]
    },
    {
     "name": "stderr",
     "output_type": "stream",
     "text": [
      "C:\\Users\\jcrul\\anaconda3\\lib\\site-packages\\sklearn\\metrics\\_classification.py:1318: UndefinedMetricWarning: Precision and F-score are ill-defined and being set to 0.0 in labels with no predicted samples. Use `zero_division` parameter to control this behavior.\n",
      "  _warn_prf(average, modifier, msg_start, len(result))\n",
      "C:\\Users\\jcrul\\anaconda3\\lib\\site-packages\\sklearn\\metrics\\_classification.py:1318: UndefinedMetricWarning: Precision and F-score are ill-defined and being set to 0.0 in labels with no predicted samples. Use `zero_division` parameter to control this behavior.\n",
      "  _warn_prf(average, modifier, msg_start, len(result))\n",
      "C:\\Users\\jcrul\\anaconda3\\lib\\site-packages\\sklearn\\metrics\\_classification.py:1318: UndefinedMetricWarning: Precision and F-score are ill-defined and being set to 0.0 in labels with no predicted samples. Use `zero_division` parameter to control this behavior.\n",
      "  _warn_prf(average, modifier, msg_start, len(result))\n"
     ]
    }
   ],
   "source": [
    "linear_model = svm.SVC(C=0.1, kernel='linear').fit(x_train, y_train)\n",
    "print(confusion_matrix(y_self_test,linear_model.predict(self_test)))\n",
    "print(classification_report(y_self_test,linear_model.predict(self_test)))"
   ]
  },
  {
   "cell_type": "markdown",
   "id": "8754f1fb",
   "metadata": {},
   "source": [
    "### Moving from grayscale to 3 color channels improves accuracy on both dataset and real data. Augmenting images with 3 color channels performs similarly to untransformed grayscale"
   ]
  },
  {
   "cell_type": "code",
   "execution_count": 40,
   "id": "27d204ca",
   "metadata": {},
   "outputs": [
    {
     "name": "stdout",
     "output_type": "stream",
     "text": [
      "Collecting Augmentor\n",
      "  Downloading Augmentor-0.2.11-py2.py3-none-any.whl (38 kB)\n",
      "Requirement already satisfied: Pillow>=5.2.0 in c:\\users\\jcrul\\anaconda3\\lib\\site-packages (from Augmentor) (9.0.1)\n",
      "Requirement already satisfied: tqdm>=4.9.0 in c:\\users\\jcrul\\anaconda3\\lib\\site-packages (from Augmentor) (4.64.0)\n",
      "Requirement already satisfied: colorama in c:\\users\\jcrul\\anaconda3\\lib\\site-packages (from tqdm>=4.9.0->Augmentor) (0.4.4)\n",
      "Installing collected packages: Augmentor\n",
      "Successfully installed Augmentor-0.2.11\n",
      "Note: you may need to restart the kernel to use updated packages.\n"
     ]
    }
   ],
   "source": [
    "%pip install Augmentor"
   ]
  }
 ],
 "metadata": {
  "kernelspec": {
   "display_name": "Python 3 (ipykernel)",
   "language": "python",
   "name": "python3"
  },
  "language_info": {
   "codemirror_mode": {
    "name": "ipython",
    "version": 3
   },
   "file_extension": ".py",
   "mimetype": "text/x-python",
   "name": "python",
   "nbconvert_exporter": "python",
   "pygments_lexer": "ipython3",
   "version": "3.9.12"
  }
 },
 "nbformat": 4,
 "nbformat_minor": 5
}
