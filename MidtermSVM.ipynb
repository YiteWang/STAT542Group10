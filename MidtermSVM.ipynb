{
 "cells": [
  {
   "cell_type": "code",
   "execution_count": 1,
   "id": "7508d0fd",
   "metadata": {},
   "outputs": [],
   "source": [
    "import numpy as np\n",
    "import pandas as pd\n",
    "import matplotlib.pyplot as plt\n",
    "import os\n",
    "from tensorflow.keras.preprocessing.image import ImageDataGenerator, load_img\n",
    "import cv2\n",
    "from skimage.transform import resize\n",
    "from skimage.io import imread\n",
    "from sklearn.utils import shuffle\n",
    "import random\n",
    "from sklearn.metrics import classification_report, confusion_matrix, accuracy_score\n",
    "from sklearn import svm\n",
    "from sklearn.model_selection import GridSearchCV\n",
    "from sklearn.svm import SVC"
   ]
  },
  {
   "cell_type": "markdown",
   "id": "dfcd7318",
   "metadata": {},
   "source": [
    "### Loading Images"
   ]
  },
  {
   "cell_type": "code",
   "execution_count": 2,
   "id": "a198d47b",
   "metadata": {
    "scrolled": true
   },
   "outputs": [
    {
     "name": "stdout",
     "output_type": "stream",
     "text": [
      "loaded category:rock successfully for train\n",
      "loaded category:paper successfully for train\n",
      "loaded category:scissors successfully for train\n",
      "loaded category:rock successfully for test\n",
      "loaded category:paper successfully for test\n",
      "loaded category:scissors successfully for test\n",
      "loaded category:rock successfully for val\n",
      "loaded category:paper successfully for val\n",
      "loaded category:scissors successfully for val\n"
     ]
    }
   ],
   "source": [
    "Categories=['rock','paper','scissors']\n",
    "train_dir = 'rps-split\\\\train'\n",
    "test_dir = 'rps-split\\\\test'\n",
    "val_dir = 'rps-split\\\\val'\n",
    "\n",
    "flat_data_arr=[] #input array\n",
    "target_arr=[] #output array\n",
    "for i in Categories:\n",
    "    path=os.path.join(train_dir,i)\n",
    "    for img in os.listdir(path):\n",
    "        img_array=imread(os.path.join(path,img))\n",
    "        img_resized=resize(img_array,(150,150,1))\n",
    "        flat_data_arr.append(img_resized.flatten())\n",
    "        target_arr.append(Categories.index(i))\n",
    "    print(f'loaded category:{i} successfully for train')\n",
    "flat_data=np.array(flat_data_arr)\n",
    "target=np.array(target_arr)\n",
    "df=pd.DataFrame(flat_data) #dataframe\n",
    "df['Target']=target\n",
    "x_train=df.iloc[:,:-1] #input data \n",
    "y_train=df.iloc[:,-1] #output data\n",
    "x_train=x_train.sample(frac=1, random_state=42).reset_index(drop=True)\n",
    "y_train=y_train.sample(frac=1, random_state=42).reset_index(drop=True)\n",
    "\n",
    "\n",
    "\n",
    "flat_data_arr=[] #input array\n",
    "target_arr=[] #output array\n",
    "for i in Categories:\n",
    "    path=os.path.join(test_dir,i)\n",
    "    for img in os.listdir(path):\n",
    "        img_array=imread(os.path.join(path,img))\n",
    "        img_resized=resize(img_array,(150,150,1))\n",
    "        flat_data_arr.append(img_resized.flatten())\n",
    "        target_arr.append(Categories.index(i))\n",
    "    print(f'loaded category:{i} successfully for test')\n",
    "flat_data=np.array(flat_data_arr)\n",
    "target=np.array(target_arr)\n",
    "df=pd.DataFrame(flat_data) #dataframe\n",
    "df['Target']=target\n",
    "x_test=df.iloc[:,:-1] #input data \n",
    "y_test=df.iloc[:,-1] #output data\n",
    "\n",
    "flat_data_arr=[] #input array\n",
    "target_arr=[] #output array\n",
    "for i in Categories:\n",
    "    path=os.path.join(val_dir,i)\n",
    "    for img in os.listdir(path):\n",
    "        img_array=imread(os.path.join(path,img))\n",
    "        img_resized=resize(img_array,(150,150,1))\n",
    "        flat_data_arr.append(img_resized.flatten())\n",
    "        target_arr.append(Categories.index(i))\n",
    "    print(f'loaded category:{i} successfully for val')\n",
    "flat_data=np.array(flat_data_arr)\n",
    "target=np.array(target_arr)\n",
    "df=pd.DataFrame(flat_data) #dataframe\n",
    "df['Target']=target\n",
    "x_val=df.iloc[:,:-1] #input data \n",
    "y_val=df.iloc[:,-1] #output data"
   ]
  },
  {
   "cell_type": "code",
   "execution_count": 3,
   "id": "5f59f357",
   "metadata": {},
   "outputs": [
    {
     "data": {
      "text/plain": [
       "(1531, 22500)"
      ]
     },
     "execution_count": 3,
     "metadata": {},
     "output_type": "execute_result"
    }
   ],
   "source": [
    "x_train.shape"
   ]
  },
  {
   "cell_type": "code",
   "execution_count": 4,
   "id": "5d2fdbeb",
   "metadata": {},
   "outputs": [
    {
     "data": {
      "text/html": [
       "<div>\n",
       "<style scoped>\n",
       "    .dataframe tbody tr th:only-of-type {\n",
       "        vertical-align: middle;\n",
       "    }\n",
       "\n",
       "    .dataframe tbody tr th {\n",
       "        vertical-align: top;\n",
       "    }\n",
       "\n",
       "    .dataframe thead th {\n",
       "        text-align: right;\n",
       "    }\n",
       "</style>\n",
       "<table border=\"1\" class=\"dataframe\">\n",
       "  <thead>\n",
       "    <tr style=\"text-align: right;\">\n",
       "      <th></th>\n",
       "      <th>0</th>\n",
       "      <th>1</th>\n",
       "      <th>2</th>\n",
       "      <th>3</th>\n",
       "      <th>4</th>\n",
       "      <th>5</th>\n",
       "      <th>6</th>\n",
       "      <th>7</th>\n",
       "      <th>8</th>\n",
       "      <th>9</th>\n",
       "      <th>...</th>\n",
       "      <th>22490</th>\n",
       "      <th>22491</th>\n",
       "      <th>22492</th>\n",
       "      <th>22493</th>\n",
       "      <th>22494</th>\n",
       "      <th>22495</th>\n",
       "      <th>22496</th>\n",
       "      <th>22497</th>\n",
       "      <th>22498</th>\n",
       "      <th>22499</th>\n",
       "    </tr>\n",
       "  </thead>\n",
       "  <tbody>\n",
       "    <tr>\n",
       "      <th>0</th>\n",
       "      <td>0.282439</td>\n",
       "      <td>0.289924</td>\n",
       "      <td>0.293366</td>\n",
       "      <td>0.300145</td>\n",
       "      <td>0.303655</td>\n",
       "      <td>0.308242</td>\n",
       "      <td>0.314224</td>\n",
       "      <td>0.317845</td>\n",
       "      <td>0.324846</td>\n",
       "      <td>0.325541</td>\n",
       "      <td>...</td>\n",
       "      <td>0.309310</td>\n",
       "      <td>0.307258</td>\n",
       "      <td>0.305002</td>\n",
       "      <td>0.299647</td>\n",
       "      <td>0.298464</td>\n",
       "      <td>0.293929</td>\n",
       "      <td>0.289883</td>\n",
       "      <td>0.283850</td>\n",
       "      <td>0.283182</td>\n",
       "      <td>0.269569</td>\n",
       "    </tr>\n",
       "    <tr>\n",
       "      <th>1</th>\n",
       "      <td>0.307829</td>\n",
       "      <td>0.299331</td>\n",
       "      <td>0.296886</td>\n",
       "      <td>0.301255</td>\n",
       "      <td>0.296857</td>\n",
       "      <td>0.306606</td>\n",
       "      <td>0.309610</td>\n",
       "      <td>0.308545</td>\n",
       "      <td>0.304403</td>\n",
       "      <td>0.308739</td>\n",
       "      <td>...</td>\n",
       "      <td>0.333674</td>\n",
       "      <td>0.332998</td>\n",
       "      <td>0.328856</td>\n",
       "      <td>0.331649</td>\n",
       "      <td>0.324068</td>\n",
       "      <td>0.326655</td>\n",
       "      <td>0.321872</td>\n",
       "      <td>0.321227</td>\n",
       "      <td>0.318055</td>\n",
       "      <td>0.321791</td>\n",
       "    </tr>\n",
       "    <tr>\n",
       "      <th>2</th>\n",
       "      <td>0.259973</td>\n",
       "      <td>0.268775</td>\n",
       "      <td>0.275280</td>\n",
       "      <td>0.280152</td>\n",
       "      <td>0.285039</td>\n",
       "      <td>0.285782</td>\n",
       "      <td>0.288814</td>\n",
       "      <td>0.292053</td>\n",
       "      <td>0.299367</td>\n",
       "      <td>0.303309</td>\n",
       "      <td>...</td>\n",
       "      <td>0.289264</td>\n",
       "      <td>0.288739</td>\n",
       "      <td>0.285866</td>\n",
       "      <td>0.280724</td>\n",
       "      <td>0.279225</td>\n",
       "      <td>0.273654</td>\n",
       "      <td>0.267650</td>\n",
       "      <td>0.263894</td>\n",
       "      <td>0.262009</td>\n",
       "      <td>0.252174</td>\n",
       "    </tr>\n",
       "    <tr>\n",
       "      <th>3</th>\n",
       "      <td>0.306726</td>\n",
       "      <td>0.303777</td>\n",
       "      <td>0.305048</td>\n",
       "      <td>0.305458</td>\n",
       "      <td>0.303881</td>\n",
       "      <td>0.309817</td>\n",
       "      <td>0.311885</td>\n",
       "      <td>0.309504</td>\n",
       "      <td>0.310891</td>\n",
       "      <td>0.314309</td>\n",
       "      <td>...</td>\n",
       "      <td>0.334475</td>\n",
       "      <td>0.337161</td>\n",
       "      <td>0.331765</td>\n",
       "      <td>0.335954</td>\n",
       "      <td>0.328828</td>\n",
       "      <td>0.325748</td>\n",
       "      <td>0.328762</td>\n",
       "      <td>0.326534</td>\n",
       "      <td>0.322945</td>\n",
       "      <td>0.324864</td>\n",
       "    </tr>\n",
       "    <tr>\n",
       "      <th>4</th>\n",
       "      <td>0.216188</td>\n",
       "      <td>0.223491</td>\n",
       "      <td>0.231423</td>\n",
       "      <td>0.240872</td>\n",
       "      <td>0.241220</td>\n",
       "      <td>0.249937</td>\n",
       "      <td>0.252278</td>\n",
       "      <td>0.255959</td>\n",
       "      <td>0.261174</td>\n",
       "      <td>0.265196</td>\n",
       "      <td>...</td>\n",
       "      <td>0.228960</td>\n",
       "      <td>0.225911</td>\n",
       "      <td>0.219907</td>\n",
       "      <td>0.219417</td>\n",
       "      <td>0.212889</td>\n",
       "      <td>0.205368</td>\n",
       "      <td>0.205186</td>\n",
       "      <td>0.201541</td>\n",
       "      <td>0.197776</td>\n",
       "      <td>0.189999</td>\n",
       "    </tr>\n",
       "    <tr>\n",
       "      <th>...</th>\n",
       "      <td>...</td>\n",
       "      <td>...</td>\n",
       "      <td>...</td>\n",
       "      <td>...</td>\n",
       "      <td>...</td>\n",
       "      <td>...</td>\n",
       "      <td>...</td>\n",
       "      <td>...</td>\n",
       "      <td>...</td>\n",
       "      <td>...</td>\n",
       "      <td>...</td>\n",
       "      <td>...</td>\n",
       "      <td>...</td>\n",
       "      <td>...</td>\n",
       "      <td>...</td>\n",
       "      <td>...</td>\n",
       "      <td>...</td>\n",
       "      <td>...</td>\n",
       "      <td>...</td>\n",
       "      <td>...</td>\n",
       "      <td>...</td>\n",
       "    </tr>\n",
       "    <tr>\n",
       "      <th>1526</th>\n",
       "      <td>0.316758</td>\n",
       "      <td>0.319122</td>\n",
       "      <td>0.315090</td>\n",
       "      <td>0.317579</td>\n",
       "      <td>0.319337</td>\n",
       "      <td>0.326543</td>\n",
       "      <td>0.325820</td>\n",
       "      <td>0.322612</td>\n",
       "      <td>0.325771</td>\n",
       "      <td>0.332192</td>\n",
       "      <td>...</td>\n",
       "      <td>0.344872</td>\n",
       "      <td>0.343667</td>\n",
       "      <td>0.348252</td>\n",
       "      <td>0.339113</td>\n",
       "      <td>0.332841</td>\n",
       "      <td>0.333563</td>\n",
       "      <td>0.330319</td>\n",
       "      <td>0.335869</td>\n",
       "      <td>0.335691</td>\n",
       "      <td>0.332603</td>\n",
       "    </tr>\n",
       "    <tr>\n",
       "      <th>1527</th>\n",
       "      <td>0.382267</td>\n",
       "      <td>0.381571</td>\n",
       "      <td>0.378451</td>\n",
       "      <td>0.383468</td>\n",
       "      <td>0.384683</td>\n",
       "      <td>0.388388</td>\n",
       "      <td>0.387331</td>\n",
       "      <td>0.394883</td>\n",
       "      <td>0.393906</td>\n",
       "      <td>0.397792</td>\n",
       "      <td>...</td>\n",
       "      <td>0.425765</td>\n",
       "      <td>0.420005</td>\n",
       "      <td>0.422743</td>\n",
       "      <td>0.420270</td>\n",
       "      <td>0.416993</td>\n",
       "      <td>0.414020</td>\n",
       "      <td>0.414914</td>\n",
       "      <td>0.414313</td>\n",
       "      <td>0.415321</td>\n",
       "      <td>0.415032</td>\n",
       "    </tr>\n",
       "    <tr>\n",
       "      <th>1528</th>\n",
       "      <td>0.293139</td>\n",
       "      <td>0.287507</td>\n",
       "      <td>0.286387</td>\n",
       "      <td>0.289640</td>\n",
       "      <td>0.288580</td>\n",
       "      <td>0.296019</td>\n",
       "      <td>0.298054</td>\n",
       "      <td>0.285896</td>\n",
       "      <td>0.290841</td>\n",
       "      <td>0.299751</td>\n",
       "      <td>...</td>\n",
       "      <td>0.316646</td>\n",
       "      <td>0.314835</td>\n",
       "      <td>0.314268</td>\n",
       "      <td>0.311509</td>\n",
       "      <td>0.305610</td>\n",
       "      <td>0.309481</td>\n",
       "      <td>0.307940</td>\n",
       "      <td>0.304920</td>\n",
       "      <td>0.302529</td>\n",
       "      <td>0.301563</td>\n",
       "    </tr>\n",
       "    <tr>\n",
       "      <th>1529</th>\n",
       "      <td>0.304618</td>\n",
       "      <td>0.297201</td>\n",
       "      <td>0.304142</td>\n",
       "      <td>0.305809</td>\n",
       "      <td>0.306728</td>\n",
       "      <td>0.308514</td>\n",
       "      <td>0.317587</td>\n",
       "      <td>0.312711</td>\n",
       "      <td>0.313207</td>\n",
       "      <td>0.312118</td>\n",
       "      <td>...</td>\n",
       "      <td>0.332991</td>\n",
       "      <td>0.327786</td>\n",
       "      <td>0.325019</td>\n",
       "      <td>0.329533</td>\n",
       "      <td>0.324487</td>\n",
       "      <td>0.320900</td>\n",
       "      <td>0.321537</td>\n",
       "      <td>0.317153</td>\n",
       "      <td>0.316885</td>\n",
       "      <td>0.318734</td>\n",
       "    </tr>\n",
       "    <tr>\n",
       "      <th>1530</th>\n",
       "      <td>0.365245</td>\n",
       "      <td>0.362014</td>\n",
       "      <td>0.358566</td>\n",
       "      <td>0.363505</td>\n",
       "      <td>0.365937</td>\n",
       "      <td>0.370626</td>\n",
       "      <td>0.369646</td>\n",
       "      <td>0.366513</td>\n",
       "      <td>0.364120</td>\n",
       "      <td>0.372314</td>\n",
       "      <td>...</td>\n",
       "      <td>0.414483</td>\n",
       "      <td>0.408990</td>\n",
       "      <td>0.411071</td>\n",
       "      <td>0.402824</td>\n",
       "      <td>0.396042</td>\n",
       "      <td>0.404752</td>\n",
       "      <td>0.404763</td>\n",
       "      <td>0.404851</td>\n",
       "      <td>0.402566</td>\n",
       "      <td>0.406675</td>\n",
       "    </tr>\n",
       "  </tbody>\n",
       "</table>\n",
       "<p>1531 rows × 22500 columns</p>\n",
       "</div>"
      ],
      "text/plain": [
       "         0         1         2         3         4         5         6      \\\n",
       "0     0.282439  0.289924  0.293366  0.300145  0.303655  0.308242  0.314224   \n",
       "1     0.307829  0.299331  0.296886  0.301255  0.296857  0.306606  0.309610   \n",
       "2     0.259973  0.268775  0.275280  0.280152  0.285039  0.285782  0.288814   \n",
       "3     0.306726  0.303777  0.305048  0.305458  0.303881  0.309817  0.311885   \n",
       "4     0.216188  0.223491  0.231423  0.240872  0.241220  0.249937  0.252278   \n",
       "...        ...       ...       ...       ...       ...       ...       ...   \n",
       "1526  0.316758  0.319122  0.315090  0.317579  0.319337  0.326543  0.325820   \n",
       "1527  0.382267  0.381571  0.378451  0.383468  0.384683  0.388388  0.387331   \n",
       "1528  0.293139  0.287507  0.286387  0.289640  0.288580  0.296019  0.298054   \n",
       "1529  0.304618  0.297201  0.304142  0.305809  0.306728  0.308514  0.317587   \n",
       "1530  0.365245  0.362014  0.358566  0.363505  0.365937  0.370626  0.369646   \n",
       "\n",
       "         7         8         9      ...     22490     22491     22492  \\\n",
       "0     0.317845  0.324846  0.325541  ...  0.309310  0.307258  0.305002   \n",
       "1     0.308545  0.304403  0.308739  ...  0.333674  0.332998  0.328856   \n",
       "2     0.292053  0.299367  0.303309  ...  0.289264  0.288739  0.285866   \n",
       "3     0.309504  0.310891  0.314309  ...  0.334475  0.337161  0.331765   \n",
       "4     0.255959  0.261174  0.265196  ...  0.228960  0.225911  0.219907   \n",
       "...        ...       ...       ...  ...       ...       ...       ...   \n",
       "1526  0.322612  0.325771  0.332192  ...  0.344872  0.343667  0.348252   \n",
       "1527  0.394883  0.393906  0.397792  ...  0.425765  0.420005  0.422743   \n",
       "1528  0.285896  0.290841  0.299751  ...  0.316646  0.314835  0.314268   \n",
       "1529  0.312711  0.313207  0.312118  ...  0.332991  0.327786  0.325019   \n",
       "1530  0.366513  0.364120  0.372314  ...  0.414483  0.408990  0.411071   \n",
       "\n",
       "         22493     22494     22495     22496     22497     22498     22499  \n",
       "0     0.299647  0.298464  0.293929  0.289883  0.283850  0.283182  0.269569  \n",
       "1     0.331649  0.324068  0.326655  0.321872  0.321227  0.318055  0.321791  \n",
       "2     0.280724  0.279225  0.273654  0.267650  0.263894  0.262009  0.252174  \n",
       "3     0.335954  0.328828  0.325748  0.328762  0.326534  0.322945  0.324864  \n",
       "4     0.219417  0.212889  0.205368  0.205186  0.201541  0.197776  0.189999  \n",
       "...        ...       ...       ...       ...       ...       ...       ...  \n",
       "1526  0.339113  0.332841  0.333563  0.330319  0.335869  0.335691  0.332603  \n",
       "1527  0.420270  0.416993  0.414020  0.414914  0.414313  0.415321  0.415032  \n",
       "1528  0.311509  0.305610  0.309481  0.307940  0.304920  0.302529  0.301563  \n",
       "1529  0.329533  0.324487  0.320900  0.321537  0.317153  0.316885  0.318734  \n",
       "1530  0.402824  0.396042  0.404752  0.404763  0.404851  0.402566  0.406675  \n",
       "\n",
       "[1531 rows x 22500 columns]"
      ]
     },
     "execution_count": 4,
     "metadata": {},
     "output_type": "execute_result"
    }
   ],
   "source": [
    "x_train"
   ]
  },
  {
   "cell_type": "code",
   "execution_count": 5,
   "id": "857b9476",
   "metadata": {
    "scrolled": true
   },
   "outputs": [
    {
     "data": {
      "text/plain": [
       "0       1\n",
       "1       0\n",
       "2       0\n",
       "3       2\n",
       "4       1\n",
       "       ..\n",
       "1526    2\n",
       "1527    2\n",
       "1528    1\n",
       "1529    2\n",
       "1530    2\n",
       "Name: Target, Length: 1531, dtype: int32"
      ]
     },
     "execution_count": 5,
     "metadata": {},
     "output_type": "execute_result"
    }
   ],
   "source": [
    "y_train"
   ]
  },
  {
   "cell_type": "markdown",
   "id": "7443e956",
   "metadata": {},
   "source": [
    "### Searching for best-performing model on training set"
   ]
  },
  {
   "cell_type": "code",
   "execution_count": 146,
   "id": "1fded43a",
   "metadata": {},
   "outputs": [
    {
     "name": "stdout",
     "output_type": "stream",
     "text": [
      "Fitting 5 folds for each of 32 candidates, totalling 160 fits\n",
      "[CV 1/5] END ...C=0.1, gamma=0.0001, kernel=rbf;, score=0.342 total time=  32.1s\n",
      "[CV 2/5] END ...C=0.1, gamma=0.0001, kernel=rbf;, score=0.343 total time=  30.8s\n",
      "[CV 3/5] END ...C=0.1, gamma=0.0001, kernel=rbf;, score=0.343 total time=  30.4s\n",
      "[CV 4/5] END ...C=0.1, gamma=0.0001, kernel=rbf;, score=0.343 total time=  41.5s\n",
      "[CV 5/5] END ...C=0.1, gamma=0.0001, kernel=rbf;, score=0.343 total time=  33.5s\n",
      "[CV 1/5] END ..C=0.1, gamma=0.0001, kernel=poly;, score=0.342 total time=  26.5s\n",
      "[CV 2/5] END ..C=0.1, gamma=0.0001, kernel=poly;, score=0.343 total time=  24.0s\n",
      "[CV 3/5] END ..C=0.1, gamma=0.0001, kernel=poly;, score=0.343 total time=  20.9s\n",
      "[CV 4/5] END ..C=0.1, gamma=0.0001, kernel=poly;, score=0.343 total time=  23.4s\n",
      "[CV 5/5] END ..C=0.1, gamma=0.0001, kernel=poly;, score=0.343 total time=  21.1s\n",
      "[CV 1/5] END ....C=0.1, gamma=0.001, kernel=rbf;, score=0.704 total time=  32.7s\n",
      "[CV 2/5] END ....C=0.1, gamma=0.001, kernel=rbf;, score=0.641 total time=  35.4s\n",
      "[CV 3/5] END ....C=0.1, gamma=0.001, kernel=rbf;, score=0.706 total time=  33.8s\n",
      "[CV 4/5] END ....C=0.1, gamma=0.001, kernel=rbf;, score=0.634 total time=  38.4s\n",
      "[CV 5/5] END ....C=0.1, gamma=0.001, kernel=rbf;, score=0.725 total time=  37.8s\n",
      "[CV 1/5] END ...C=0.1, gamma=0.001, kernel=poly;, score=0.792 total time=  12.7s\n",
      "[CV 2/5] END ...C=0.1, gamma=0.001, kernel=poly;, score=0.778 total time=  11.9s\n",
      "[CV 3/5] END ...C=0.1, gamma=0.001, kernel=poly;, score=0.804 total time=  15.3s\n",
      "[CV 4/5] END ...C=0.1, gamma=0.001, kernel=poly;, score=0.758 total time=  12.0s\n",
      "[CV 5/5] END ...C=0.1, gamma=0.001, kernel=poly;, score=0.794 total time=  11.9s\n",
      "[CV 1/5] END ......C=0.1, gamma=0.1, kernel=rbf;, score=0.342 total time=  40.6s\n",
      "[CV 2/5] END ......C=0.1, gamma=0.1, kernel=rbf;, score=0.343 total time=  36.3s\n",
      "[CV 3/5] END ......C=0.1, gamma=0.1, kernel=rbf;, score=0.343 total time=  32.4s\n",
      "[CV 4/5] END ......C=0.1, gamma=0.1, kernel=rbf;, score=0.343 total time=  37.1s\n",
      "[CV 5/5] END ......C=0.1, gamma=0.1, kernel=rbf;, score=0.343 total time=  32.2s\n",
      "[CV 1/5] END .....C=0.1, gamma=0.1, kernel=poly;, score=0.844 total time=  13.9s\n",
      "[CV 2/5] END .....C=0.1, gamma=0.1, kernel=poly;, score=0.824 total time=  13.7s\n",
      "[CV 3/5] END .....C=0.1, gamma=0.1, kernel=poly;, score=0.827 total time=  11.8s\n",
      "[CV 4/5] END .....C=0.1, gamma=0.1, kernel=poly;, score=0.837 total time=  15.3s\n",
      "[CV 5/5] END .....C=0.1, gamma=0.1, kernel=poly;, score=0.850 total time=  12.7s\n",
      "[CV 1/5] END ........C=0.1, gamma=1, kernel=rbf;, score=0.342 total time=  36.5s\n",
      "[CV 2/5] END ........C=0.1, gamma=1, kernel=rbf;, score=0.343 total time=  36.5s\n",
      "[CV 3/5] END ........C=0.1, gamma=1, kernel=rbf;, score=0.343 total time=  31.7s\n",
      "[CV 4/5] END ........C=0.1, gamma=1, kernel=rbf;, score=0.343 total time=  37.9s\n",
      "[CV 5/5] END ........C=0.1, gamma=1, kernel=rbf;, score=0.343 total time=  40.0s\n",
      "[CV 1/5] END .......C=0.1, gamma=1, kernel=poly;, score=0.844 total time=  12.6s\n",
      "[CV 2/5] END .......C=0.1, gamma=1, kernel=poly;, score=0.824 total time=  13.7s\n",
      "[CV 3/5] END .......C=0.1, gamma=1, kernel=poly;, score=0.827 total time=  13.7s\n",
      "[CV 4/5] END .......C=0.1, gamma=1, kernel=poly;, score=0.837 total time=  13.9s\n",
      "[CV 5/5] END .......C=0.1, gamma=1, kernel=poly;, score=0.850 total time=  11.8s\n",
      "[CV 1/5] END .....C=1, gamma=0.0001, kernel=rbf;, score=0.678 total time=  29.9s\n",
      "[CV 2/5] END .....C=1, gamma=0.0001, kernel=rbf;, score=0.614 total time=  29.7s\n",
      "[CV 3/5] END .....C=1, gamma=0.0001, kernel=rbf;, score=0.686 total time=  32.6s\n",
      "[CV 4/5] END .....C=1, gamma=0.0001, kernel=rbf;, score=0.608 total time=  29.3s\n",
      "[CV 5/5] END .....C=1, gamma=0.0001, kernel=rbf;, score=0.693 total time=  30.2s\n",
      "[CV 1/5] END ....C=1, gamma=0.0001, kernel=poly;, score=0.381 total time=  26.6s\n",
      "[CV 2/5] END ....C=1, gamma=0.0001, kernel=poly;, score=0.428 total time=  18.6s\n",
      "[CV 3/5] END ....C=1, gamma=0.0001, kernel=poly;, score=0.415 total time=  18.2s\n",
      "[CV 4/5] END ....C=1, gamma=0.0001, kernel=poly;, score=0.379 total time=  18.0s\n",
      "[CV 5/5] END ....C=1, gamma=0.0001, kernel=poly;, score=0.425 total time=  18.0s\n",
      "[CV 1/5] END ......C=1, gamma=0.001, kernel=rbf;, score=0.821 total time=  21.5s\n",
      "[CV 2/5] END ......C=1, gamma=0.001, kernel=rbf;, score=0.801 total time=  21.1s\n",
      "[CV 3/5] END ......C=1, gamma=0.001, kernel=rbf;, score=0.843 total time=  23.1s\n",
      "[CV 4/5] END ......C=1, gamma=0.001, kernel=rbf;, score=0.804 total time=  31.1s\n",
      "[CV 5/5] END ......C=1, gamma=0.001, kernel=rbf;, score=0.837 total time=  31.3s\n",
      "[CV 1/5] END .....C=1, gamma=0.001, kernel=poly;, score=0.863 total time=  13.7s\n",
      "[CV 2/5] END .....C=1, gamma=0.001, kernel=poly;, score=0.827 total time=  11.4s\n",
      "[CV 3/5] END .....C=1, gamma=0.001, kernel=poly;, score=0.853 total time=  12.1s\n",
      "[CV 4/5] END .....C=1, gamma=0.001, kernel=poly;, score=0.850 total time=  15.1s\n",
      "[CV 5/5] END .....C=1, gamma=0.001, kernel=poly;, score=0.879 total time=  12.8s\n",
      "[CV 1/5] END ........C=1, gamma=0.1, kernel=rbf;, score=0.381 total time=  38.3s\n",
      "[CV 2/5] END ........C=1, gamma=0.1, kernel=rbf;, score=0.376 total time=  35.8s\n",
      "[CV 3/5] END ........C=1, gamma=0.1, kernel=rbf;, score=0.376 total time=  38.7s\n",
      "[CV 4/5] END ........C=1, gamma=0.1, kernel=rbf;, score=0.369 total time=  35.8s\n",
      "[CV 5/5] END ........C=1, gamma=0.1, kernel=rbf;, score=0.350 total time=  33.7s\n",
      "[CV 1/5] END .......C=1, gamma=0.1, kernel=poly;, score=0.844 total time=  10.9s\n",
      "[CV 2/5] END .......C=1, gamma=0.1, kernel=poly;, score=0.824 total time=  13.2s\n",
      "[CV 3/5] END .......C=1, gamma=0.1, kernel=poly;, score=0.827 total time=  12.1s\n",
      "[CV 4/5] END .......C=1, gamma=0.1, kernel=poly;, score=0.837 total time=  15.8s\n",
      "[CV 5/5] END .......C=1, gamma=0.1, kernel=poly;, score=0.850 total time=  10.8s\n",
      "[CV 1/5] END ..........C=1, gamma=1, kernel=rbf;, score=0.342 total time=  33.0s\n",
      "[CV 2/5] END ..........C=1, gamma=1, kernel=rbf;, score=0.343 total time=  32.7s\n",
      "[CV 3/5] END ..........C=1, gamma=1, kernel=rbf;, score=0.343 total time=  37.9s\n",
      "[CV 4/5] END ..........C=1, gamma=1, kernel=rbf;, score=0.343 total time=  36.5s\n",
      "[CV 5/5] END ..........C=1, gamma=1, kernel=rbf;, score=0.343 total time=  37.5s\n",
      "[CV 1/5] END .........C=1, gamma=1, kernel=poly;, score=0.844 total time=  16.4s\n",
      "[CV 2/5] END .........C=1, gamma=1, kernel=poly;, score=0.824 total time=  14.2s\n",
      "[CV 3/5] END .........C=1, gamma=1, kernel=poly;, score=0.827 total time=  18.3s\n",
      "[CV 4/5] END .........C=1, gamma=1, kernel=poly;, score=0.837 total time=  15.5s\n",
      "[CV 5/5] END .........C=1, gamma=1, kernel=poly;, score=0.850 total time=  13.7s\n",
      "[CV 1/5] END ....C=10, gamma=0.0001, kernel=rbf;, score=0.746 total time=  25.1s\n",
      "[CV 2/5] END ....C=10, gamma=0.0001, kernel=rbf;, score=0.735 total time=  25.1s\n",
      "[CV 3/5] END ....C=10, gamma=0.0001, kernel=rbf;, score=0.775 total time=  22.3s\n",
      "[CV 4/5] END ....C=10, gamma=0.0001, kernel=rbf;, score=0.732 total time=  21.1s\n",
      "[CV 5/5] END ....C=10, gamma=0.0001, kernel=rbf;, score=0.765 total time=  22.2s\n",
      "[CV 1/5] END ...C=10, gamma=0.0001, kernel=poly;, score=0.697 total time=  20.5s\n",
      "[CV 2/5] END ...C=10, gamma=0.0001, kernel=poly;, score=0.670 total time=  15.7s\n",
      "[CV 3/5] END ...C=10, gamma=0.0001, kernel=poly;, score=0.729 total time=  15.3s\n",
      "[CV 4/5] END ...C=10, gamma=0.0001, kernel=poly;, score=0.647 total time=  17.5s\n",
      "[CV 5/5] END ...C=10, gamma=0.0001, kernel=poly;, score=0.719 total time=  16.0s\n",
      "[CV 1/5] END .....C=10, gamma=0.001, kernel=rbf;, score=0.889 total time=  17.5s\n",
      "[CV 2/5] END .....C=10, gamma=0.001, kernel=rbf;, score=0.902 total time=  16.7s\n",
      "[CV 3/5] END .....C=10, gamma=0.001, kernel=rbf;, score=0.915 total time=  17.2s\n",
      "[CV 4/5] END .....C=10, gamma=0.001, kernel=rbf;, score=0.908 total time=  16.9s\n",
      "[CV 5/5] END .....C=10, gamma=0.001, kernel=rbf;, score=0.902 total time=  16.8s\n",
      "[CV 1/5] END ....C=10, gamma=0.001, kernel=poly;, score=0.844 total time=  10.6s\n",
      "[CV 2/5] END ....C=10, gamma=0.001, kernel=poly;, score=0.824 total time=  13.1s\n",
      "[CV 3/5] END ....C=10, gamma=0.001, kernel=poly;, score=0.827 total time=  12.2s\n",
      "[CV 4/5] END ....C=10, gamma=0.001, kernel=poly;, score=0.837 total time=  12.8s\n",
      "[CV 5/5] END ....C=10, gamma=0.001, kernel=poly;, score=0.850 total time=  10.6s\n",
      "[CV 1/5] END .......C=10, gamma=0.1, kernel=rbf;, score=0.404 total time=  30.7s\n"
     ]
    },
    {
     "name": "stdout",
     "output_type": "stream",
     "text": [
      "[CV 2/5] END .......C=10, gamma=0.1, kernel=rbf;, score=0.392 total time=  32.3s\n",
      "[CV 3/5] END .......C=10, gamma=0.1, kernel=rbf;, score=0.395 total time=  36.6s\n",
      "[CV 4/5] END .......C=10, gamma=0.1, kernel=rbf;, score=0.392 total time=  31.5s\n",
      "[CV 5/5] END .......C=10, gamma=0.1, kernel=rbf;, score=0.363 total time=  30.5s\n",
      "[CV 1/5] END ......C=10, gamma=0.1, kernel=poly;, score=0.844 total time=  10.2s\n",
      "[CV 2/5] END ......C=10, gamma=0.1, kernel=poly;, score=0.824 total time=  15.9s\n",
      "[CV 3/5] END ......C=10, gamma=0.1, kernel=poly;, score=0.827 total time=  14.5s\n",
      "[CV 4/5] END ......C=10, gamma=0.1, kernel=poly;, score=0.837 total time=  16.3s\n",
      "[CV 5/5] END ......C=10, gamma=0.1, kernel=poly;, score=0.850 total time=   9.4s\n",
      "[CV 1/5] END .........C=10, gamma=1, kernel=rbf;, score=0.342 total time=  28.8s\n",
      "[CV 2/5] END .........C=10, gamma=1, kernel=rbf;, score=0.343 total time=  27.1s\n",
      "[CV 3/5] END .........C=10, gamma=1, kernel=rbf;, score=0.343 total time=  32.2s\n",
      "[CV 4/5] END .........C=10, gamma=1, kernel=rbf;, score=0.343 total time=  29.7s\n",
      "[CV 5/5] END .........C=10, gamma=1, kernel=rbf;, score=0.343 total time=  28.2s\n",
      "[CV 1/5] END ........C=10, gamma=1, kernel=poly;, score=0.844 total time=   9.1s\n",
      "[CV 2/5] END ........C=10, gamma=1, kernel=poly;, score=0.824 total time=  11.3s\n",
      "[CV 3/5] END ........C=10, gamma=1, kernel=poly;, score=0.827 total time=  10.0s\n",
      "[CV 4/5] END ........C=10, gamma=1, kernel=poly;, score=0.837 total time=  11.3s\n",
      "[CV 5/5] END ........C=10, gamma=1, kernel=poly;, score=0.850 total time=   9.6s\n",
      "[CV 1/5] END ...C=100, gamma=0.0001, kernel=rbf;, score=0.814 total time=  16.9s\n",
      "[CV 2/5] END ...C=100, gamma=0.0001, kernel=rbf;, score=0.781 total time=  16.9s\n",
      "[CV 3/5] END ...C=100, gamma=0.0001, kernel=rbf;, score=0.817 total time=  17.2s\n",
      "[CV 4/5] END ...C=100, gamma=0.0001, kernel=rbf;, score=0.824 total time=  16.9s\n",
      "[CV 5/5] END ...C=100, gamma=0.0001, kernel=rbf;, score=0.817 total time=  17.0s\n",
      "[CV 1/5] END ..C=100, gamma=0.0001, kernel=poly;, score=0.792 total time=  10.2s\n",
      "[CV 2/5] END ..C=100, gamma=0.0001, kernel=poly;, score=0.778 total time=   9.9s\n",
      "[CV 3/5] END ..C=100, gamma=0.0001, kernel=poly;, score=0.804 total time=  10.2s\n",
      "[CV 4/5] END ..C=100, gamma=0.0001, kernel=poly;, score=0.758 total time=  10.1s\n",
      "[CV 5/5] END ..C=100, gamma=0.0001, kernel=poly;, score=0.794 total time=  10.0s\n",
      "[CV 1/5] END ....C=100, gamma=0.001, kernel=rbf;, score=0.896 total time=  15.2s\n",
      "[CV 2/5] END ....C=100, gamma=0.001, kernel=rbf;, score=0.908 total time=  15.7s\n",
      "[CV 3/5] END ....C=100, gamma=0.001, kernel=rbf;, score=0.915 total time=  17.1s\n",
      "[CV 4/5] END ....C=100, gamma=0.001, kernel=rbf;, score=0.902 total time=  16.2s\n",
      "[CV 5/5] END ....C=100, gamma=0.001, kernel=rbf;, score=0.902 total time=  16.6s\n",
      "[CV 1/5] END ...C=100, gamma=0.001, kernel=poly;, score=0.844 total time=   9.5s\n",
      "[CV 2/5] END ...C=100, gamma=0.001, kernel=poly;, score=0.824 total time=  11.6s\n",
      "[CV 3/5] END ...C=100, gamma=0.001, kernel=poly;, score=0.827 total time=  10.1s\n",
      "[CV 4/5] END ...C=100, gamma=0.001, kernel=poly;, score=0.837 total time=  11.2s\n",
      "[CV 5/5] END ...C=100, gamma=0.001, kernel=poly;, score=0.850 total time=   9.1s\n",
      "[CV 1/5] END ......C=100, gamma=0.1, kernel=rbf;, score=0.404 total time=  28.6s\n",
      "[CV 2/5] END ......C=100, gamma=0.1, kernel=rbf;, score=0.392 total time=  28.5s\n",
      "[CV 3/5] END ......C=100, gamma=0.1, kernel=rbf;, score=0.395 total time=  29.3s\n",
      "[CV 4/5] END ......C=100, gamma=0.1, kernel=rbf;, score=0.392 total time=  28.7s\n",
      "[CV 5/5] END ......C=100, gamma=0.1, kernel=rbf;, score=0.363 total time=  29.6s\n",
      "[CV 1/5] END .....C=100, gamma=0.1, kernel=poly;, score=0.844 total time=  10.4s\n",
      "[CV 2/5] END .....C=100, gamma=0.1, kernel=poly;, score=0.824 total time=  11.8s\n",
      "[CV 3/5] END .....C=100, gamma=0.1, kernel=poly;, score=0.827 total time=  10.9s\n",
      "[CV 4/5] END .....C=100, gamma=0.1, kernel=poly;, score=0.837 total time=  11.3s\n",
      "[CV 5/5] END .....C=100, gamma=0.1, kernel=poly;, score=0.850 total time=   9.9s\n",
      "[CV 1/5] END ........C=100, gamma=1, kernel=rbf;, score=0.342 total time=  30.3s\n",
      "[CV 2/5] END ........C=100, gamma=1, kernel=rbf;, score=0.343 total time=  28.3s\n",
      "[CV 3/5] END ........C=100, gamma=1, kernel=rbf;, score=0.343 total time=  27.2s\n",
      "[CV 4/5] END ........C=100, gamma=1, kernel=rbf;, score=0.343 total time=  27.6s\n",
      "[CV 5/5] END ........C=100, gamma=1, kernel=rbf;, score=0.343 total time=  27.8s\n",
      "[CV 1/5] END .......C=100, gamma=1, kernel=poly;, score=0.844 total time=   8.8s\n",
      "[CV 2/5] END .......C=100, gamma=1, kernel=poly;, score=0.824 total time=   9.9s\n",
      "[CV 3/5] END .......C=100, gamma=1, kernel=poly;, score=0.827 total time=   9.7s\n",
      "[CV 4/5] END .......C=100, gamma=1, kernel=poly;, score=0.837 total time=  10.9s\n",
      "[CV 5/5] END .......C=100, gamma=1, kernel=poly;, score=0.850 total time=   8.8s\n"
     ]
    },
    {
     "data": {
      "text/plain": [
       "GridSearchCV(estimator=SVC(),\n",
       "             param_grid={'C': [0.1, 1, 10, 100],\n",
       "                         'gamma': [0.0001, 0.001, 0.1, 1],\n",
       "                         'kernel': ['rbf', 'poly']},\n",
       "             verbose=3)"
      ]
     },
     "execution_count": 146,
     "metadata": {},
     "output_type": "execute_result"
    }
   ],
   "source": [
    "from sklearn import svm\n",
    "from sklearn.model_selection import GridSearchCV\n",
    "from sklearn.svm import SVC\n",
    "\n",
    "param_grid={'C':[0.1,1,10,100],'gamma':[0.0001,0.001,0.1,1],'kernel':['rbf','poly']}\n",
    "#param_grid={'C':[0.1],'gamma':[0.0001],'kernel':['rbf','poly']}\n",
    "model=GridSearchCV(SVC(),param_grid,refit=True,verbose=3)\n",
    "model.fit(x_train, y_train)"
   ]
  },
  {
   "cell_type": "code",
   "execution_count": 147,
   "id": "0792b4eb",
   "metadata": {},
   "outputs": [
    {
     "name": "stdout",
     "output_type": "stream",
     "text": [
      "{'C': 100, 'gamma': 0.001, 'kernel': 'rbf'}\n"
     ]
    }
   ],
   "source": [
    "print(model.best_params_)"
   ]
  },
  {
   "cell_type": "code",
   "execution_count": 14,
   "id": "5f330bfb",
   "metadata": {},
   "outputs": [
    {
     "name": "stdout",
     "output_type": "stream",
     "text": [
      "Fitting 5 folds for each of 18 candidates, totalling 90 fits\n",
      "[CV 1/5] END C=10, degree=3, gamma=0.001, kernel=rbf;, score=0.889 total time=  18.5s\n",
      "[CV 2/5] END C=10, degree=3, gamma=0.001, kernel=rbf;, score=0.902 total time=  15.5s\n",
      "[CV 3/5] END C=10, degree=3, gamma=0.001, kernel=rbf;, score=0.915 total time=  15.7s\n",
      "[CV 4/5] END C=10, degree=3, gamma=0.001, kernel=rbf;, score=0.908 total time=  15.6s\n",
      "[CV 5/5] END C=10, degree=3, gamma=0.001, kernel=rbf;, score=0.902 total time=  15.5s\n",
      "[CV 1/5] END C=10, degree=3, gamma=0.001, kernel=poly;, score=0.844 total time=  10.5s\n",
      "[CV 2/5] END C=10, degree=3, gamma=0.001, kernel=poly;, score=0.824 total time=  13.1s\n",
      "[CV 3/5] END C=10, degree=3, gamma=0.001, kernel=poly;, score=0.827 total time=  11.7s\n",
      "[CV 4/5] END C=10, degree=3, gamma=0.001, kernel=poly;, score=0.837 total time=  12.6s\n",
      "[CV 5/5] END C=10, degree=3, gamma=0.001, kernel=poly;, score=0.850 total time=  10.5s\n",
      "[CV 1/5] END C=10, degree=4, gamma=0.001, kernel=rbf;, score=0.889 total time=  15.4s\n",
      "[CV 2/5] END C=10, degree=4, gamma=0.001, kernel=rbf;, score=0.902 total time=  15.4s\n",
      "[CV 3/5] END C=10, degree=4, gamma=0.001, kernel=rbf;, score=0.915 total time=  15.4s\n",
      "[CV 4/5] END C=10, degree=4, gamma=0.001, kernel=rbf;, score=0.908 total time=  15.5s\n",
      "[CV 5/5] END C=10, degree=4, gamma=0.001, kernel=rbf;, score=0.902 total time=  15.4s\n",
      "[CV 1/5] END C=10, degree=4, gamma=0.001, kernel=poly;, score=0.857 total time=   9.8s\n",
      "[CV 2/5] END C=10, degree=4, gamma=0.001, kernel=poly;, score=0.843 total time=  10.2s\n",
      "[CV 3/5] END C=10, degree=4, gamma=0.001, kernel=poly;, score=0.840 total time=   9.8s\n",
      "[CV 4/5] END C=10, degree=4, gamma=0.001, kernel=poly;, score=0.859 total time=   9.9s\n",
      "[CV 5/5] END C=10, degree=4, gamma=0.001, kernel=poly;, score=0.856 total time=  10.0s\n",
      "[CV 1/5] END C=10, degree=5, gamma=0.001, kernel=rbf;, score=0.889 total time=  15.5s\n",
      "[CV 2/5] END C=10, degree=5, gamma=0.001, kernel=rbf;, score=0.902 total time=  15.4s\n",
      "[CV 3/5] END C=10, degree=5, gamma=0.001, kernel=rbf;, score=0.915 total time=  15.4s\n",
      "[CV 4/5] END C=10, degree=5, gamma=0.001, kernel=rbf;, score=0.908 total time=  15.4s\n",
      "[CV 5/5] END C=10, degree=5, gamma=0.001, kernel=rbf;, score=0.902 total time=  15.4s\n",
      "[CV 1/5] END C=10, degree=5, gamma=0.001, kernel=poly;, score=0.863 total time=   9.9s\n",
      "[CV 2/5] END C=10, degree=5, gamma=0.001, kernel=poly;, score=0.837 total time=   9.8s\n",
      "[CV 3/5] END C=10, degree=5, gamma=0.001, kernel=poly;, score=0.843 total time=   9.7s\n",
      "[CV 4/5] END C=10, degree=5, gamma=0.001, kernel=poly;, score=0.866 total time=   9.7s\n",
      "[CV 5/5] END C=10, degree=5, gamma=0.001, kernel=poly;, score=0.856 total time=   9.3s\n",
      "[CV 1/5] END C=100, degree=3, gamma=0.001, kernel=rbf;, score=0.896 total time=  15.2s\n",
      "[CV 2/5] END C=100, degree=3, gamma=0.001, kernel=rbf;, score=0.908 total time=  15.1s\n",
      "[CV 3/5] END C=100, degree=3, gamma=0.001, kernel=rbf;, score=0.915 total time=  14.9s\n",
      "[CV 4/5] END C=100, degree=3, gamma=0.001, kernel=rbf;, score=0.902 total time=  15.1s\n",
      "[CV 5/5] END C=100, degree=3, gamma=0.001, kernel=rbf;, score=0.902 total time=  15.0s\n",
      "[CV 1/5] END C=100, degree=3, gamma=0.001, kernel=poly;, score=0.844 total time=  10.4s\n",
      "[CV 2/5] END C=100, degree=3, gamma=0.001, kernel=poly;, score=0.824 total time=  12.8s\n",
      "[CV 3/5] END C=100, degree=3, gamma=0.001, kernel=poly;, score=0.827 total time=  11.5s\n",
      "[CV 4/5] END C=100, degree=3, gamma=0.001, kernel=poly;, score=0.837 total time=  12.7s\n",
      "[CV 5/5] END C=100, degree=3, gamma=0.001, kernel=poly;, score=0.850 total time=  10.5s\n",
      "[CV 1/5] END C=100, degree=4, gamma=0.001, kernel=rbf;, score=0.896 total time=  16.0s\n",
      "[CV 2/5] END C=100, degree=4, gamma=0.001, kernel=rbf;, score=0.908 total time=  18.0s\n",
      "[CV 3/5] END C=100, degree=4, gamma=0.001, kernel=rbf;, score=0.915 total time=  15.3s\n",
      "[CV 4/5] END C=100, degree=4, gamma=0.001, kernel=rbf;, score=0.902 total time=  15.7s\n",
      "[CV 5/5] END C=100, degree=4, gamma=0.001, kernel=rbf;, score=0.902 total time=  15.1s\n",
      "[CV 1/5] END C=100, degree=4, gamma=0.001, kernel=poly;, score=0.857 total time=  16.0s\n",
      "[CV 2/5] END C=100, degree=4, gamma=0.001, kernel=poly;, score=0.843 total time=  11.1s\n",
      "[CV 3/5] END C=100, degree=4, gamma=0.001, kernel=poly;, score=0.840 total time=  16.8s\n",
      "[CV 4/5] END C=100, degree=4, gamma=0.001, kernel=poly;, score=0.859 total time=  12.8s\n",
      "[CV 5/5] END C=100, degree=4, gamma=0.001, kernel=poly;, score=0.856 total time=  11.6s\n",
      "[CV 1/5] END C=100, degree=5, gamma=0.001, kernel=rbf;, score=0.896 total time=  18.1s\n",
      "[CV 2/5] END C=100, degree=5, gamma=0.001, kernel=rbf;, score=0.908 total time=  16.5s\n",
      "[CV 3/5] END C=100, degree=5, gamma=0.001, kernel=rbf;, score=0.915 total time=  16.6s\n",
      "[CV 4/5] END C=100, degree=5, gamma=0.001, kernel=rbf;, score=0.902 total time=  17.1s\n",
      "[CV 5/5] END C=100, degree=5, gamma=0.001, kernel=rbf;, score=0.902 total time=  16.1s\n",
      "[CV 1/5] END C=100, degree=5, gamma=0.001, kernel=poly;, score=0.863 total time=  10.2s\n",
      "[CV 2/5] END C=100, degree=5, gamma=0.001, kernel=poly;, score=0.837 total time=  12.6s\n",
      "[CV 3/5] END C=100, degree=5, gamma=0.001, kernel=poly;, score=0.843 total time=  11.2s\n",
      "[CV 4/5] END C=100, degree=5, gamma=0.001, kernel=poly;, score=0.866 total time=  11.9s\n",
      "[CV 5/5] END C=100, degree=5, gamma=0.001, kernel=poly;, score=0.856 total time=  12.3s\n",
      "[CV 1/5] END C=1000, degree=3, gamma=0.001, kernel=rbf;, score=0.896 total time=  16.7s\n",
      "[CV 2/5] END C=1000, degree=3, gamma=0.001, kernel=rbf;, score=0.908 total time=  15.7s\n",
      "[CV 3/5] END C=1000, degree=3, gamma=0.001, kernel=rbf;, score=0.915 total time=  15.4s\n",
      "[CV 4/5] END C=1000, degree=3, gamma=0.001, kernel=rbf;, score=0.902 total time=  15.9s\n",
      "[CV 5/5] END C=1000, degree=3, gamma=0.001, kernel=rbf;, score=0.902 total time=  15.8s\n",
      "[CV 1/5] END C=1000, degree=3, gamma=0.001, kernel=poly;, score=0.844 total time=  10.5s\n",
      "[CV 2/5] END C=1000, degree=3, gamma=0.001, kernel=poly;, score=0.824 total time=  13.2s\n",
      "[CV 3/5] END C=1000, degree=3, gamma=0.001, kernel=poly;, score=0.827 total time=  11.8s\n",
      "[CV 4/5] END C=1000, degree=3, gamma=0.001, kernel=poly;, score=0.837 total time=  12.8s\n",
      "[CV 5/5] END C=1000, degree=3, gamma=0.001, kernel=poly;, score=0.850 total time=  10.8s\n",
      "[CV 1/5] END C=1000, degree=4, gamma=0.001, kernel=rbf;, score=0.896 total time=  15.5s\n",
      "[CV 2/5] END C=1000, degree=4, gamma=0.001, kernel=rbf;, score=0.908 total time=  15.4s\n",
      "[CV 3/5] END C=1000, degree=4, gamma=0.001, kernel=rbf;, score=0.915 total time=  15.4s\n",
      "[CV 4/5] END C=1000, degree=4, gamma=0.001, kernel=rbf;, score=0.902 total time=  15.6s\n",
      "[CV 5/5] END C=1000, degree=4, gamma=0.001, kernel=rbf;, score=0.902 total time=  16.3s\n",
      "[CV 1/5] END C=1000, degree=4, gamma=0.001, kernel=poly;, score=0.857 total time=  11.3s\n",
      "[CV 2/5] END C=1000, degree=4, gamma=0.001, kernel=poly;, score=0.843 total time=   8.9s\n",
      "[CV 3/5] END C=1000, degree=4, gamma=0.001, kernel=poly;, score=0.840 total time=   8.7s\n",
      "[CV 4/5] END C=1000, degree=4, gamma=0.001, kernel=poly;, score=0.859 total time=   8.5s\n",
      "[CV 5/5] END C=1000, degree=4, gamma=0.001, kernel=poly;, score=0.856 total time=   8.2s\n",
      "[CV 1/5] END C=1000, degree=5, gamma=0.001, kernel=rbf;, score=0.896 total time=  13.4s\n",
      "[CV 2/5] END C=1000, degree=5, gamma=0.001, kernel=rbf;, score=0.908 total time=  13.5s\n",
      "[CV 3/5] END C=1000, degree=5, gamma=0.001, kernel=rbf;, score=0.915 total time=  13.7s\n",
      "[CV 4/5] END C=1000, degree=5, gamma=0.001, kernel=rbf;, score=0.902 total time=  14.2s\n",
      "[CV 5/5] END C=1000, degree=5, gamma=0.001, kernel=rbf;, score=0.902 total time=  14.0s\n",
      "[CV 1/5] END C=1000, degree=5, gamma=0.001, kernel=poly;, score=0.863 total time=   8.3s\n",
      "[CV 2/5] END C=1000, degree=5, gamma=0.001, kernel=poly;, score=0.837 total time=   8.4s\n",
      "[CV 3/5] END C=1000, degree=5, gamma=0.001, kernel=poly;, score=0.843 total time=   8.5s\n",
      "[CV 4/5] END C=1000, degree=5, gamma=0.001, kernel=poly;, score=0.866 total time=   8.7s\n",
      "[CV 5/5] END C=1000, degree=5, gamma=0.001, kernel=poly;, score=0.856 total time=   8.4s\n"
     ]
    },
    {
     "data": {
      "text/plain": [
       "GridSearchCV(estimator=SVC(),\n",
       "             param_grid={'C': [10, 100, 1000], 'degree': [3, 4, 5],\n",
       "                         'gamma': [0.001], 'kernel': ['rbf', 'poly']},\n",
       "             verbose=3)"
      ]
     },
     "execution_count": 14,
     "metadata": {},
     "output_type": "execute_result"
    }
   ],
   "source": [
    "param_grid={'C':[10,100,1000],'gamma':[0.001],'kernel':['rbf','poly'],'degree':[3,4,5]}\n",
    "#param_grid={'C':[0.1],'gamma':[0.0001],'kernel':['rbf','poly']}\n",
    "model=GridSearchCV(SVC(),param_grid,refit=True,verbose=3)\n",
    "model.fit(x_train, y_train)"
   ]
  },
  {
   "cell_type": "code",
   "execution_count": 15,
   "id": "3ee45032",
   "metadata": {},
   "outputs": [
    {
     "name": "stdout",
     "output_type": "stream",
     "text": [
      "{'C': 100, 'degree': 3, 'gamma': 0.001, 'kernel': 'rbf'}\n"
     ]
    }
   ],
   "source": [
    "print(model.best_params_)"
   ]
  },
  {
   "cell_type": "code",
   "execution_count": 34,
   "id": "27dd8772",
   "metadata": {},
   "outputs": [
    {
     "name": "stdout",
     "output_type": "stream",
     "text": [
      "Fitting 5 folds for each of 5 candidates, totalling 25 fits\n",
      "[CV 1/5] END ..............C=0.1, kernel=linear;, score=0.733 total time=  12.9s\n",
      "[CV 2/5] END ..............C=0.1, kernel=linear;, score=0.696 total time=  10.8s\n",
      "[CV 3/5] END ..............C=0.1, kernel=linear;, score=0.739 total time=  10.6s\n",
      "[CV 4/5] END ..............C=0.1, kernel=linear;, score=0.686 total time=  10.7s\n",
      "[CV 5/5] END ..............C=0.1, kernel=linear;, score=0.709 total time=  10.2s\n",
      "[CV 1/5] END ................C=1, kernel=linear;, score=0.658 total time=  12.7s\n",
      "[CV 2/5] END ................C=1, kernel=linear;, score=0.683 total time=  13.7s\n",
      "[CV 3/5] END ................C=1, kernel=linear;, score=0.683 total time=  11.8s\n",
      "[CV 4/5] END ................C=1, kernel=linear;, score=0.647 total time=  12.7s\n",
      "[CV 5/5] END ................C=1, kernel=linear;, score=0.683 total time=  12.6s\n",
      "[CV 1/5] END ...............C=10, kernel=linear;, score=0.658 total time=  12.3s\n",
      "[CV 2/5] END ...............C=10, kernel=linear;, score=0.683 total time=  12.6s\n",
      "[CV 3/5] END ...............C=10, kernel=linear;, score=0.683 total time=  11.6s\n",
      "[CV 4/5] END ...............C=10, kernel=linear;, score=0.647 total time=  11.5s\n",
      "[CV 5/5] END ...............C=10, kernel=linear;, score=0.683 total time=  12.4s\n",
      "[CV 1/5] END ..............C=100, kernel=linear;, score=0.658 total time=  12.7s\n",
      "[CV 2/5] END ..............C=100, kernel=linear;, score=0.683 total time=  12.7s\n",
      "[CV 3/5] END ..............C=100, kernel=linear;, score=0.683 total time=  12.0s\n",
      "[CV 4/5] END ..............C=100, kernel=linear;, score=0.647 total time=  12.1s\n",
      "[CV 5/5] END ..............C=100, kernel=linear;, score=0.683 total time=  12.4s\n",
      "[CV 1/5] END .............C=1000, kernel=linear;, score=0.658 total time=  12.2s\n",
      "[CV 2/5] END .............C=1000, kernel=linear;, score=0.683 total time=  12.9s\n",
      "[CV 3/5] END .............C=1000, kernel=linear;, score=0.683 total time=  12.1s\n",
      "[CV 4/5] END .............C=1000, kernel=linear;, score=0.647 total time=  12.0s\n",
      "[CV 5/5] END .............C=1000, kernel=linear;, score=0.683 total time=  12.2s\n"
     ]
    },
    {
     "data": {
      "text/plain": [
       "GridSearchCV(estimator=SVC(),\n",
       "             param_grid={'C': [0.1, 1, 10, 100, 1000], 'kernel': ['linear']},\n",
       "             verbose=3)"
      ]
     },
     "execution_count": 34,
     "metadata": {},
     "output_type": "execute_result"
    }
   ],
   "source": [
    "param_grid={'C':[0.1,1,10,100,1000],'kernel':['linear']}\n",
    "model=GridSearchCV(SVC(),param_grid,refit=True,verbose=3)\n",
    "model.fit(x_train, y_train)"
   ]
  },
  {
   "cell_type": "markdown",
   "id": "3d822f21",
   "metadata": {},
   "source": [
    "### RBF with c=100, gamma=0.001 performs best on training set\n",
    "### Changing polynomial dimensions does not have significant impact on training accuracy"
   ]
  },
  {
   "cell_type": "code",
   "execution_count": 6,
   "id": "961ccb26",
   "metadata": {},
   "outputs": [],
   "source": [
    "best_train_model = svm.SVC(kernel='rbf', gamma=0.001, C=100).fit(x_train, y_train)"
   ]
  },
  {
   "cell_type": "code",
   "execution_count": 7,
   "id": "5b8e0ed7",
   "metadata": {},
   "outputs": [
    {
     "name": "stdout",
     "output_type": "stream",
     "text": [
      "The predicted Data is :\n",
      "[0 0 0 0 0 0 0 0 0 0 0 0 0 0 0 0 0 0 0 0 0 0 0 0 0 0 0 0 0 0 0 0 0 0 0 0 0\n",
      " 0 0 0 0 2 0 0 0 0 0 0 0 0 0 0 0 0 0 0 0 0 0 0 0 0 0 0 0 0 0 2 0 0 0 1 0 0\n",
      " 0 0 0 2 0 0 0 0 0 0 0 2 0 2 0 0 0 0 0 0 0 0 0 0 0 0 0 0 0 0 0 0 0 0 0 1 1\n",
      " 1 0 2 1 1 1 1 1 1 1 1 1 1 1 1 2 1 1 0 1 1 1 1 0 1 1 1 2 1 0 1 1 1 2 1 1 1\n",
      " 1 1 1 1 2 1 1 1 0 1 1 1 1 1 1 1 1 1 1 1 1 1 1 0 0 1 1 1 1 1 1 1 1 1 1 1 1\n",
      " 1 1 1 1 1 1 1 1 1 1 1 1 1 1 1 1 1 1 1 1 1 1 1 1 1 1 2 2 1 1 1 2 2 2 2 2 0\n",
      " 2 2 2 2 2 2 2 1 2 0 2 2 2 2 2 2 0 2 2 2 2 2 2 2 2 2 2 2 2 2 0 2 2 2 2 2 2\n",
      " 2 2 0 2 2 2 2 2 2 2 2 2 2 2 0 2 2 2 2 2 2 2 2 2 2 2 2 2 2 2 2 2 2 2 2 2 2\n",
      " 2 2 2 2 2 2 0 2 2 2 2 2 2 2 2 2 2 2 2 2 2 2 2 2 2 2 2 2 2 2 2 2 2]\n",
      "The actual data is:\n",
      "[0 0 0 0 0 0 0 0 0 0 0 0 0 0 0 0 0 0 0 0 0 0 0 0 0 0 0 0 0 0 0 0 0 0 0 0 0\n",
      " 0 0 0 0 0 0 0 0 0 0 0 0 0 0 0 0 0 0 0 0 0 0 0 0 0 0 0 0 0 0 0 0 0 0 0 0 0\n",
      " 0 0 0 0 0 0 0 0 0 0 0 0 0 0 0 0 0 0 0 0 0 0 0 0 0 0 0 0 0 0 0 0 0 0 0 1 1\n",
      " 1 1 1 1 1 1 1 1 1 1 1 1 1 1 1 1 1 1 1 1 1 1 1 1 1 1 1 1 1 1 1 1 1 1 1 1 1\n",
      " 1 1 1 1 1 1 1 1 1 1 1 1 1 1 1 1 1 1 1 1 1 1 1 1 1 1 1 1 1 1 1 1 1 1 1 1 1\n",
      " 1 1 1 1 1 1 1 1 1 1 1 1 1 1 1 1 1 1 1 1 1 1 1 1 1 1 1 1 1 1 1 2 2 2 2 2 2\n",
      " 2 2 2 2 2 2 2 2 2 2 2 2 2 2 2 2 2 2 2 2 2 2 2 2 2 2 2 2 2 2 2 2 2 2 2 2 2\n",
      " 2 2 2 2 2 2 2 2 2 2 2 2 2 2 2 2 2 2 2 2 2 2 2 2 2 2 2 2 2 2 2 2 2 2 2 2 2\n",
      " 2 2 2 2 2 2 2 2 2 2 2 2 2 2 2 2 2 2 2 2 2 2 2 2 2 2 2 2 2 2 2 2 2]\n"
     ]
    }
   ],
   "source": [
    "#model.fit(x_train,y_train)\n",
    "y_pred=best_train_model.predict(x_test)\n",
    "print(\"The predicted Data is :\")\n",
    "print(y_pred)\n",
    "print(\"The actual data is:\")\n",
    "print(np.array(y_test))\n",
    "#print(f\"The model is {accuracy_score(y_pred,y_test)*100}% accurate\")"
   ]
  },
  {
   "cell_type": "code",
   "execution_count": 9,
   "id": "25d711da",
   "metadata": {},
   "outputs": [],
   "source": [
    "def test_score(trained_model):\n",
    "    pred_y = trained_model.predict(x_test)\n",
    "    print(confusion_matrix(y_test,pred_y))\n",
    "    print(classification_report(y_test,pred_y))"
   ]
  },
  {
   "cell_type": "code",
   "execution_count": 10,
   "id": "dbf3e8f8",
   "metadata": {},
   "outputs": [],
   "source": [
    "def train_score(trained_model):\n",
    "    pred_y = trained_model.predict(x_train)\n",
    "    print(confusion_matrix(y_train,pred_y))\n",
    "    print(classification_report(y_train,pred_y))"
   ]
  },
  {
   "cell_type": "code",
   "execution_count": 11,
   "id": "ac02321d",
   "metadata": {},
   "outputs": [],
   "source": [
    "def val_score(trained_model):\n",
    "    pred_y = trained_model.predict(x_val)\n",
    "    print(confusion_matrix(y_val,pred_y))\n",
    "    print(classification_report(y_val,pred_y))"
   ]
  },
  {
   "cell_type": "code",
   "execution_count": 13,
   "id": "8ac18fd2",
   "metadata": {},
   "outputs": [
    {
     "name": "stdout",
     "output_type": "stream",
     "text": [
      "[[ 98   3   8]\n",
      " [  4  92  11]\n",
      " [  3   1 108]]\n",
      "              precision    recall  f1-score   support\n",
      "\n",
      "           0       0.93      0.90      0.92       109\n",
      "           1       0.96      0.86      0.91       107\n",
      "           2       0.85      0.96      0.90       112\n",
      "\n",
      "    accuracy                           0.91       328\n",
      "   macro avg       0.91      0.91      0.91       328\n",
      "weighted avg       0.91      0.91      0.91       328\n",
      "\n"
     ]
    }
   ],
   "source": [
    "#C=100, gamma=0.001, kernel=rbf\n",
    "val_score(best_train_model)"
   ]
  },
  {
   "cell_type": "code",
   "execution_count": 14,
   "id": "9d51644f",
   "metadata": {},
   "outputs": [
    {
     "name": "stdout",
     "output_type": "stream",
     "text": [
      "[[508   0   0]\n",
      " [  0 498   0]\n",
      " [  0   0 525]]\n",
      "              precision    recall  f1-score   support\n",
      "\n",
      "           0       1.00      1.00      1.00       508\n",
      "           1       1.00      1.00      1.00       498\n",
      "           2       1.00      1.00      1.00       525\n",
      "\n",
      "    accuracy                           1.00      1531\n",
      "   macro avg       1.00      1.00      1.00      1531\n",
      "weighted avg       1.00      1.00      1.00      1531\n",
      "\n"
     ]
    }
   ],
   "source": [
    "train_score(best_train_model)"
   ]
  },
  {
   "cell_type": "markdown",
   "id": "dfe73cfa",
   "metadata": {},
   "source": [
    "### Testing alternative models"
   ]
  },
  {
   "cell_type": "code",
   "execution_count": 15,
   "id": "d9f2cd83",
   "metadata": {},
   "outputs": [
    {
     "name": "stdout",
     "output_type": "stream",
     "text": [
      "[[ 98   3   8]\n",
      " [  4  92  11]\n",
      " [  3   1 108]]\n",
      "              precision    recall  f1-score   support\n",
      "\n",
      "           0       0.93      0.90      0.92       109\n",
      "           1       0.96      0.86      0.91       107\n",
      "           2       0.85      0.96      0.90       112\n",
      "\n",
      "    accuracy                           0.91       328\n",
      "   macro avg       0.91      0.91      0.91       328\n",
      "weighted avg       0.91      0.91      0.91       328\n",
      "\n"
     ]
    }
   ],
   "source": [
    "val_score(svm.SVC(C=1000,kernel='rbf',gamma=0.001).fit(x_train, y_train))"
   ]
  },
  {
   "cell_type": "code",
   "execution_count": 16,
   "id": "4e28569b",
   "metadata": {},
   "outputs": [
    {
     "name": "stdout",
     "output_type": "stream",
     "text": [
      "[[97  3  9]\n",
      " [10 88  9]\n",
      " [10  5 97]]\n",
      "              precision    recall  f1-score   support\n",
      "\n",
      "           0       0.83      0.89      0.86       109\n",
      "           1       0.92      0.82      0.87       107\n",
      "           2       0.84      0.87      0.85       112\n",
      "\n",
      "    accuracy                           0.86       328\n",
      "   macro avg       0.86      0.86      0.86       328\n",
      "weighted avg       0.86      0.86      0.86       328\n",
      "\n"
     ]
    }
   ],
   "source": [
    "#C=0.1, gamma=0.001, kernel=poly\n",
    "val_score(svm.SVC(C=0.1, kernel='poly').fit(x_train, y_train))"
   ]
  },
  {
   "cell_type": "code",
   "execution_count": 17,
   "id": "be75f66f",
   "metadata": {},
   "outputs": [
    {
     "name": "stdout",
     "output_type": "stream",
     "text": [
      "[[98  4  7]\n",
      " [10 88  9]\n",
      " [10  4 98]]\n",
      "              precision    recall  f1-score   support\n",
      "\n",
      "           0       0.83      0.90      0.86       109\n",
      "           1       0.92      0.82      0.87       107\n",
      "           2       0.86      0.88      0.87       112\n",
      "\n",
      "    accuracy                           0.87       328\n",
      "   macro avg       0.87      0.87      0.87       328\n",
      "weighted avg       0.87      0.87      0.87       328\n",
      "\n"
     ]
    }
   ],
   "source": [
    "val_score(svm.SVC(C=1, kernel='poly').fit(x_train, y_train))"
   ]
  },
  {
   "cell_type": "code",
   "execution_count": 18,
   "id": "72e38b4a",
   "metadata": {},
   "outputs": [
    {
     "name": "stdout",
     "output_type": "stream",
     "text": [
      "[[98  4  7]\n",
      " [10 88  9]\n",
      " [10  4 98]]\n",
      "              precision    recall  f1-score   support\n",
      "\n",
      "           0       0.83      0.90      0.86       109\n",
      "           1       0.92      0.82      0.87       107\n",
      "           2       0.86      0.88      0.87       112\n",
      "\n",
      "    accuracy                           0.87       328\n",
      "   macro avg       0.87      0.87      0.87       328\n",
      "weighted avg       0.87      0.87      0.87       328\n",
      "\n"
     ]
    }
   ],
   "source": [
    "val_score(svm.SVC(C=10, kernel='poly').fit(x_train, y_train))"
   ]
  },
  {
   "cell_type": "code",
   "execution_count": 19,
   "id": "89e37fd4",
   "metadata": {},
   "outputs": [
    {
     "name": "stdout",
     "output_type": "stream",
     "text": [
      "[[98  4  7]\n",
      " [10 88  9]\n",
      " [10  4 98]]\n",
      "              precision    recall  f1-score   support\n",
      "\n",
      "           0       0.83      0.90      0.86       109\n",
      "           1       0.92      0.82      0.87       107\n",
      "           2       0.86      0.88      0.87       112\n",
      "\n",
      "    accuracy                           0.87       328\n",
      "   macro avg       0.87      0.87      0.87       328\n",
      "weighted avg       0.87      0.87      0.87       328\n",
      "\n"
     ]
    }
   ],
   "source": [
    "val_score(svm.SVC(C=100, kernel='poly').fit(x_train, y_train))"
   ]
  },
  {
   "cell_type": "code",
   "execution_count": 20,
   "id": "9d33b65e",
   "metadata": {},
   "outputs": [
    {
     "name": "stdout",
     "output_type": "stream",
     "text": [
      "[[72 10 27]\n",
      " [10 72 25]\n",
      " [18  4 90]]\n",
      "              precision    recall  f1-score   support\n",
      "\n",
      "           0       0.72      0.66      0.69       109\n",
      "           1       0.84      0.67      0.75       107\n",
      "           2       0.63      0.80      0.71       112\n",
      "\n",
      "    accuracy                           0.71       328\n",
      "   macro avg       0.73      0.71      0.71       328\n",
      "weighted avg       0.73      0.71      0.71       328\n",
      "\n"
     ]
    }
   ],
   "source": [
    "val_score(svm.SVC(C=0.1, gamma=0.001, kernel='rbf').fit(x_train, y_train))"
   ]
  },
  {
   "cell_type": "code",
   "execution_count": 21,
   "id": "8eb97f84",
   "metadata": {},
   "outputs": [
    {
     "name": "stdout",
     "output_type": "stream",
     "text": [
      "[[346  61 101]\n",
      " [ 50 323 125]\n",
      " [ 79  19 427]]\n",
      "              precision    recall  f1-score   support\n",
      "\n",
      "           0       0.73      0.68      0.70       508\n",
      "           1       0.80      0.65      0.72       498\n",
      "           2       0.65      0.81      0.72       525\n",
      "\n",
      "    accuracy                           0.72      1531\n",
      "   macro avg       0.73      0.71      0.72      1531\n",
      "weighted avg       0.73      0.72      0.72      1531\n",
      "\n"
     ]
    }
   ],
   "source": [
    "train_score(svm.SVC(C=0.1, gamma=0.001, kernel='rbf').fit(x_train, y_train))"
   ]
  },
  {
   "cell_type": "code",
   "execution_count": 22,
   "id": "73ef6b2b",
   "metadata": {},
   "outputs": [
    {
     "name": "stdout",
     "output_type": "stream",
     "text": [
      "[[85  5 19]\n",
      " [ 7 85 15]\n",
      " [12  5 95]]\n",
      "              precision    recall  f1-score   support\n",
      "\n",
      "           0       0.82      0.78      0.80       109\n",
      "           1       0.89      0.79      0.84       107\n",
      "           2       0.74      0.85      0.79       112\n",
      "\n",
      "    accuracy                           0.81       328\n",
      "   macro avg       0.82      0.81      0.81       328\n",
      "weighted avg       0.81      0.81      0.81       328\n",
      "\n"
     ]
    }
   ],
   "source": [
    "val_score(svm.SVC(C=1, gamma=0.001, kernel='rbf').fit(x_train, y_train))"
   ]
  },
  {
   "cell_type": "code",
   "execution_count": 23,
   "id": "de616e83",
   "metadata": {},
   "outputs": [
    {
     "name": "stdout",
     "output_type": "stream",
     "text": [
      "[[ 95   3  11]\n",
      " [  5  92  10]\n",
      " [  5   2 105]]\n",
      "              precision    recall  f1-score   support\n",
      "\n",
      "           0       0.90      0.87      0.89       109\n",
      "           1       0.95      0.86      0.90       107\n",
      "           2       0.83      0.94      0.88       112\n",
      "\n",
      "    accuracy                           0.89       328\n",
      "   macro avg       0.90      0.89      0.89       328\n",
      "weighted avg       0.89      0.89      0.89       328\n",
      "\n"
     ]
    }
   ],
   "source": [
    "val_score(svm.SVC(C=10, gamma=0.001, kernel='rbf').fit(x_train, y_train))"
   ]
  },
  {
   "cell_type": "code",
   "execution_count": 24,
   "id": "4f351502",
   "metadata": {},
   "outputs": [
    {
     "name": "stdout",
     "output_type": "stream",
     "text": [
      "[[98  4  7]\n",
      " [10 88  9]\n",
      " [10  4 98]]\n",
      "              precision    recall  f1-score   support\n",
      "\n",
      "           0       0.83      0.90      0.86       109\n",
      "           1       0.92      0.82      0.87       107\n",
      "           2       0.86      0.88      0.87       112\n",
      "\n",
      "    accuracy                           0.87       328\n",
      "   macro avg       0.87      0.87      0.87       328\n",
      "weighted avg       0.87      0.87      0.87       328\n",
      "\n"
     ]
    }
   ],
   "source": [
    "val_score(svm.SVC(C=100, degree=3, kernel='poly').fit(x_train, y_train))"
   ]
  },
  {
   "cell_type": "code",
   "execution_count": 25,
   "id": "b07d7614",
   "metadata": {},
   "outputs": [
    {
     "name": "stdout",
     "output_type": "stream",
     "text": [
      "[[96  4  9]\n",
      " [10 89  8]\n",
      " [ 9  4 99]]\n",
      "              precision    recall  f1-score   support\n",
      "\n",
      "           0       0.83      0.88      0.86       109\n",
      "           1       0.92      0.83      0.87       107\n",
      "           2       0.85      0.88      0.87       112\n",
      "\n",
      "    accuracy                           0.87       328\n",
      "   macro avg       0.87      0.87      0.87       328\n",
      "weighted avg       0.87      0.87      0.87       328\n",
      "\n"
     ]
    }
   ],
   "source": [
    "val_score(svm.SVC(C=100, degree=4, kernel='poly').fit(x_train, y_train))"
   ]
  },
  {
   "cell_type": "code",
   "execution_count": 26,
   "id": "ce572aaf",
   "metadata": {},
   "outputs": [
    {
     "name": "stdout",
     "output_type": "stream",
     "text": [
      "[[96  4  9]\n",
      " [10 89  8]\n",
      " [ 8  6 98]]\n",
      "              precision    recall  f1-score   support\n",
      "\n",
      "           0       0.84      0.88      0.86       109\n",
      "           1       0.90      0.83      0.86       107\n",
      "           2       0.85      0.88      0.86       112\n",
      "\n",
      "    accuracy                           0.86       328\n",
      "   macro avg       0.86      0.86      0.86       328\n",
      "weighted avg       0.86      0.86      0.86       328\n",
      "\n"
     ]
    }
   ],
   "source": [
    "val_score(svm.SVC(C=100, degree=5, kernel='poly').fit(x_train, y_train))"
   ]
  },
  {
   "cell_type": "code",
   "execution_count": 36,
   "id": "e530e313",
   "metadata": {},
   "outputs": [
    {
     "name": "stdout",
     "output_type": "stream",
     "text": [
      "[[508   0   0]\n",
      " [  0 498   0]\n",
      " [  0   0 525]]\n",
      "              precision    recall  f1-score   support\n",
      "\n",
      "           0       1.00      1.00      1.00       508\n",
      "           1       1.00      1.00      1.00       498\n",
      "           2       1.00      1.00      1.00       525\n",
      "\n",
      "    accuracy                           1.00      1531\n",
      "   macro avg       1.00      1.00      1.00      1531\n",
      "weighted avg       1.00      1.00      1.00      1531\n",
      "\n"
     ]
    }
   ],
   "source": [
    "train_score(svm.SVC(C=100, degree=5, kernel='poly').fit(x_train, y_train))"
   ]
  },
  {
   "cell_type": "code",
   "execution_count": 27,
   "id": "e29fde64",
   "metadata": {},
   "outputs": [
    {
     "name": "stdout",
     "output_type": "stream",
     "text": [
      "[[82  5 22]\n",
      " [20 75 12]\n",
      " [24 13 75]]\n",
      "              precision    recall  f1-score   support\n",
      "\n",
      "           0       0.65      0.75      0.70       109\n",
      "           1       0.81      0.70      0.75       107\n",
      "           2       0.69      0.67      0.68       112\n",
      "\n",
      "    accuracy                           0.71       328\n",
      "   macro avg       0.72      0.71      0.71       328\n",
      "weighted avg       0.71      0.71      0.71       328\n",
      "\n"
     ]
    }
   ],
   "source": [
    "val_score(svm.SVC(C=0.1, kernel='linear').fit(x_train, y_train))"
   ]
  },
  {
   "cell_type": "code",
   "execution_count": 28,
   "id": "4e6e268a",
   "metadata": {},
   "outputs": [
    {
     "name": "stdout",
     "output_type": "stream",
     "text": [
      "[[481  10  17]\n",
      " [  1 489   8]\n",
      " [ 12   0 513]]\n",
      "              precision    recall  f1-score   support\n",
      "\n",
      "           0       0.97      0.95      0.96       508\n",
      "           1       0.98      0.98      0.98       498\n",
      "           2       0.95      0.98      0.97       525\n",
      "\n",
      "    accuracy                           0.97      1531\n",
      "   macro avg       0.97      0.97      0.97      1531\n",
      "weighted avg       0.97      0.97      0.97      1531\n",
      "\n"
     ]
    }
   ],
   "source": [
    "train_score(svm.SVC(C=0.1, kernel='linear').fit(x_train, y_train))"
   ]
  },
  {
   "cell_type": "markdown",
   "id": "fa8a88db",
   "metadata": {},
   "source": [
    "### Increasing polynomial dimensions marginally improves testing accuracy"
   ]
  },
  {
   "cell_type": "code",
   "execution_count": 29,
   "id": "dd3495e5",
   "metadata": {},
   "outputs": [
    {
     "name": "stdout",
     "output_type": "stream",
     "text": [
      "[[  1   0 108]\n",
      " [  0   0 107]\n",
      " [  0   0 112]]\n",
      "              precision    recall  f1-score   support\n",
      "\n",
      "           0       1.00      0.01      0.02       109\n",
      "           1       0.00      0.00      0.00       107\n",
      "           2       0.34      1.00      0.51       112\n",
      "\n",
      "    accuracy                           0.34       328\n",
      "   macro avg       0.45      0.34      0.18       328\n",
      "weighted avg       0.45      0.34      0.18       328\n",
      "\n"
     ]
    },
    {
     "name": "stderr",
     "output_type": "stream",
     "text": [
      "C:\\Users\\jcrul\\anaconda3\\lib\\site-packages\\sklearn\\metrics\\_classification.py:1318: UndefinedMetricWarning: Precision and F-score are ill-defined and being set to 0.0 in labels with no predicted samples. Use `zero_division` parameter to control this behavior.\n",
      "  _warn_prf(average, modifier, msg_start, len(result))\n",
      "C:\\Users\\jcrul\\anaconda3\\lib\\site-packages\\sklearn\\metrics\\_classification.py:1318: UndefinedMetricWarning: Precision and F-score are ill-defined and being set to 0.0 in labels with no predicted samples. Use `zero_division` parameter to control this behavior.\n",
      "  _warn_prf(average, modifier, msg_start, len(result))\n",
      "C:\\Users\\jcrul\\anaconda3\\lib\\site-packages\\sklearn\\metrics\\_classification.py:1318: UndefinedMetricWarning: Precision and F-score are ill-defined and being set to 0.0 in labels with no predicted samples. Use `zero_division` parameter to control this behavior.\n",
      "  _warn_prf(average, modifier, msg_start, len(result))\n"
     ]
    }
   ],
   "source": [
    "val_score(svm.SVC(C=0.1, gamma=0.0001, kernel='rbf').fit(x_train, y_train))"
   ]
  },
  {
   "cell_type": "code",
   "execution_count": 30,
   "id": "4720eed6",
   "metadata": {},
   "outputs": [
    {
     "name": "stdout",
     "output_type": "stream",
     "text": [
      "[[  3   0 505]\n",
      " [  0   0 498]\n",
      " [  0   0 525]]\n",
      "              precision    recall  f1-score   support\n",
      "\n",
      "           0       1.00      0.01      0.01       508\n",
      "           1       0.00      0.00      0.00       498\n",
      "           2       0.34      1.00      0.51       525\n",
      "\n",
      "    accuracy                           0.34      1531\n",
      "   macro avg       0.45      0.34      0.17      1531\n",
      "weighted avg       0.45      0.34      0.18      1531\n",
      "\n"
     ]
    },
    {
     "name": "stderr",
     "output_type": "stream",
     "text": [
      "C:\\Users\\jcrul\\anaconda3\\lib\\site-packages\\sklearn\\metrics\\_classification.py:1318: UndefinedMetricWarning: Precision and F-score are ill-defined and being set to 0.0 in labels with no predicted samples. Use `zero_division` parameter to control this behavior.\n",
      "  _warn_prf(average, modifier, msg_start, len(result))\n",
      "C:\\Users\\jcrul\\anaconda3\\lib\\site-packages\\sklearn\\metrics\\_classification.py:1318: UndefinedMetricWarning: Precision and F-score are ill-defined and being set to 0.0 in labels with no predicted samples. Use `zero_division` parameter to control this behavior.\n",
      "  _warn_prf(average, modifier, msg_start, len(result))\n",
      "C:\\Users\\jcrul\\anaconda3\\lib\\site-packages\\sklearn\\metrics\\_classification.py:1318: UndefinedMetricWarning: Precision and F-score are ill-defined and being set to 0.0 in labels with no predicted samples. Use `zero_division` parameter to control this behavior.\n",
      "  _warn_prf(average, modifier, msg_start, len(result))\n"
     ]
    }
   ],
   "source": [
    "train_score(svm.SVC(C=0.1, gamma=0.0001, kernel='rbf').fit(x_train, y_train))"
   ]
  },
  {
   "cell_type": "markdown",
   "id": "7512dc89",
   "metadata": {},
   "source": [
    "### RBF with c=100, gamma=0.001 still the most accurate with 91-92% on testing data and 100% on training data\n",
    "### c=0.001 classifies all into scissors"
   ]
  },
  {
   "cell_type": "markdown",
   "id": "15b4aa53",
   "metadata": {},
   "source": [
    "## Decrease image quality from 150x150 to 32x32 for better comparison to neural nets"
   ]
  },
  {
   "cell_type": "code",
   "execution_count": 14,
   "id": "6637b1dc",
   "metadata": {},
   "outputs": [
    {
     "name": "stdout",
     "output_type": "stream",
     "text": [
      "loaded category:rock successfully for train\n",
      "loaded category:paper successfully for train\n",
      "loaded category:scissors successfully for train\n",
      "loaded category:rock successfully for test\n",
      "loaded category:paper successfully for test\n",
      "loaded category:scissors successfully for test\n",
      "loaded category:rock successfully for val\n",
      "loaded category:paper successfully for val\n",
      "loaded category:scissors successfully for val\n"
     ]
    }
   ],
   "source": [
    "Categories=['rock','paper','scissors']\n",
    "train_dir = 'rps-split\\\\train'\n",
    "test_dir = 'rps-split\\\\test'\n",
    "val_dir = 'rps-split\\\\val'\n",
    "\n",
    "flat_data_arr=[] #input array\n",
    "target_arr=[] #output array\n",
    "for i in Categories:\n",
    "    path=os.path.join(train_dir,i)\n",
    "    for img in os.listdir(path):\n",
    "        img_array=imread(os.path.join(path,img))\n",
    "        img_resized=resize(img_array,(32,32,1))\n",
    "        flat_data_arr.append(img_resized.flatten())\n",
    "        target_arr.append(Categories.index(i))\n",
    "    print(f'loaded category:{i} successfully for train')\n",
    "flat_data=np.array(flat_data_arr)\n",
    "target=np.array(target_arr)\n",
    "df=pd.DataFrame(flat_data) #dataframe\n",
    "df['Target']=target\n",
    "x_train=df.iloc[:,:-1] #input data \n",
    "y_train=df.iloc[:,-1] #output data\n",
    "x_train=x_train.sample(frac=1, random_state=42).reset_index(drop=True)\n",
    "y_train=y_train.sample(frac=1, random_state=42).reset_index(drop=True)\n",
    "\n",
    "\n",
    "\n",
    "flat_data_arr=[] #input array\n",
    "target_arr=[] #output array\n",
    "for i in Categories:\n",
    "    path=os.path.join(test_dir,i)\n",
    "    for img in os.listdir(path):\n",
    "        img_array=imread(os.path.join(path,img))\n",
    "        img_resized=resize(img_array,(32,32,1))\n",
    "        flat_data_arr.append(img_resized.flatten())\n",
    "        target_arr.append(Categories.index(i))\n",
    "    print(f'loaded category:{i} successfully for test')\n",
    "flat_data=np.array(flat_data_arr)\n",
    "target=np.array(target_arr)\n",
    "df=pd.DataFrame(flat_data) #dataframe\n",
    "df['Target']=target\n",
    "x_test=df.iloc[:,:-1] #input data \n",
    "y_test=df.iloc[:,-1] #output data\n",
    "\n",
    "flat_data_arr=[] #input array\n",
    "target_arr=[] #output array\n",
    "for i in Categories:\n",
    "    path=os.path.join(val_dir,i)\n",
    "    for img in os.listdir(path):\n",
    "        img_array=imread(os.path.join(path,img))\n",
    "        img_resized=resize(img_array,(32,32,1))\n",
    "        flat_data_arr.append(img_resized.flatten())\n",
    "        target_arr.append(Categories.index(i))\n",
    "    print(f'loaded category:{i} successfully for val')\n",
    "flat_data=np.array(flat_data_arr)\n",
    "target=np.array(target_arr)\n",
    "df=pd.DataFrame(flat_data) #dataframe\n",
    "df['Target']=target\n",
    "x_val=df.iloc[:,:-1] #input data \n",
    "y_val=df.iloc[:,-1] #output data"
   ]
  },
  {
   "cell_type": "code",
   "execution_count": 15,
   "id": "ac00ba72",
   "metadata": {},
   "outputs": [
    {
     "data": {
      "text/plain": [
       "(1531, 1024)"
      ]
     },
     "execution_count": 15,
     "metadata": {},
     "output_type": "execute_result"
    }
   ],
   "source": [
    "x_train.shape"
   ]
  },
  {
   "cell_type": "code",
   "execution_count": 33,
   "id": "0cf9015f",
   "metadata": {},
   "outputs": [
    {
     "data": {
      "text/html": [
       "<div>\n",
       "<style scoped>\n",
       "    .dataframe tbody tr th:only-of-type {\n",
       "        vertical-align: middle;\n",
       "    }\n",
       "\n",
       "    .dataframe tbody tr th {\n",
       "        vertical-align: top;\n",
       "    }\n",
       "\n",
       "    .dataframe thead th {\n",
       "        text-align: right;\n",
       "    }\n",
       "</style>\n",
       "<table border=\"1\" class=\"dataframe\">\n",
       "  <thead>\n",
       "    <tr style=\"text-align: right;\">\n",
       "      <th></th>\n",
       "      <th>0</th>\n",
       "      <th>1</th>\n",
       "      <th>2</th>\n",
       "      <th>3</th>\n",
       "      <th>4</th>\n",
       "      <th>5</th>\n",
       "      <th>6</th>\n",
       "      <th>7</th>\n",
       "      <th>8</th>\n",
       "      <th>9</th>\n",
       "      <th>...</th>\n",
       "      <th>1014</th>\n",
       "      <th>1015</th>\n",
       "      <th>1016</th>\n",
       "      <th>1017</th>\n",
       "      <th>1018</th>\n",
       "      <th>1019</th>\n",
       "      <th>1020</th>\n",
       "      <th>1021</th>\n",
       "      <th>1022</th>\n",
       "      <th>1023</th>\n",
       "    </tr>\n",
       "  </thead>\n",
       "  <tbody>\n",
       "    <tr>\n",
       "      <th>0</th>\n",
       "      <td>0.300570</td>\n",
       "      <td>0.321333</td>\n",
       "      <td>0.339861</td>\n",
       "      <td>0.356015</td>\n",
       "      <td>0.368621</td>\n",
       "      <td>0.375393</td>\n",
       "      <td>0.386557</td>\n",
       "      <td>0.392265</td>\n",
       "      <td>0.396568</td>\n",
       "      <td>0.401079</td>\n",
       "      <td>...</td>\n",
       "      <td>0.366491</td>\n",
       "      <td>0.364223</td>\n",
       "      <td>0.361065</td>\n",
       "      <td>0.355037</td>\n",
       "      <td>0.347758</td>\n",
       "      <td>0.338876</td>\n",
       "      <td>0.328757</td>\n",
       "      <td>0.317450</td>\n",
       "      <td>0.305523</td>\n",
       "      <td>0.289068</td>\n",
       "    </tr>\n",
       "    <tr>\n",
       "      <th>1</th>\n",
       "      <td>0.305769</td>\n",
       "      <td>0.309675</td>\n",
       "      <td>0.316426</td>\n",
       "      <td>0.327396</td>\n",
       "      <td>0.332671</td>\n",
       "      <td>0.341594</td>\n",
       "      <td>0.347691</td>\n",
       "      <td>0.352916</td>\n",
       "      <td>0.357916</td>\n",
       "      <td>0.363374</td>\n",
       "      <td>...</td>\n",
       "      <td>0.371226</td>\n",
       "      <td>0.368799</td>\n",
       "      <td>0.363895</td>\n",
       "      <td>0.358266</td>\n",
       "      <td>0.353350</td>\n",
       "      <td>0.345255</td>\n",
       "      <td>0.337634</td>\n",
       "      <td>0.334755</td>\n",
       "      <td>0.330602</td>\n",
       "      <td>0.322242</td>\n",
       "    </tr>\n",
       "    <tr>\n",
       "      <th>2</th>\n",
       "      <td>0.279768</td>\n",
       "      <td>0.298246</td>\n",
       "      <td>0.317711</td>\n",
       "      <td>0.332790</td>\n",
       "      <td>0.345631</td>\n",
       "      <td>0.352844</td>\n",
       "      <td>0.363831</td>\n",
       "      <td>0.369659</td>\n",
       "      <td>0.374380</td>\n",
       "      <td>0.378595</td>\n",
       "      <td>...</td>\n",
       "      <td>0.352845</td>\n",
       "      <td>0.349581</td>\n",
       "      <td>0.346031</td>\n",
       "      <td>0.339196</td>\n",
       "      <td>0.330828</td>\n",
       "      <td>0.320949</td>\n",
       "      <td>0.309510</td>\n",
       "      <td>0.298604</td>\n",
       "      <td>0.285769</td>\n",
       "      <td>0.269304</td>\n",
       "    </tr>\n",
       "    <tr>\n",
       "      <th>3</th>\n",
       "      <td>0.309114</td>\n",
       "      <td>0.312441</td>\n",
       "      <td>0.320083</td>\n",
       "      <td>0.330972</td>\n",
       "      <td>0.337421</td>\n",
       "      <td>0.344661</td>\n",
       "      <td>0.348730</td>\n",
       "      <td>0.355505</td>\n",
       "      <td>0.360473</td>\n",
       "      <td>0.367050</td>\n",
       "      <td>...</td>\n",
       "      <td>0.369720</td>\n",
       "      <td>0.368379</td>\n",
       "      <td>0.364475</td>\n",
       "      <td>0.357779</td>\n",
       "      <td>0.353295</td>\n",
       "      <td>0.345417</td>\n",
       "      <td>0.341060</td>\n",
       "      <td>0.337860</td>\n",
       "      <td>0.332617</td>\n",
       "      <td>0.324913</td>\n",
       "    </tr>\n",
       "    <tr>\n",
       "      <th>4</th>\n",
       "      <td>0.238294</td>\n",
       "      <td>0.259614</td>\n",
       "      <td>0.275919</td>\n",
       "      <td>0.290672</td>\n",
       "      <td>0.297517</td>\n",
       "      <td>0.306122</td>\n",
       "      <td>0.314081</td>\n",
       "      <td>0.321606</td>\n",
       "      <td>0.325926</td>\n",
       "      <td>0.328438</td>\n",
       "      <td>...</td>\n",
       "      <td>0.252287</td>\n",
       "      <td>0.253382</td>\n",
       "      <td>0.257844</td>\n",
       "      <td>0.265044</td>\n",
       "      <td>0.265494</td>\n",
       "      <td>0.258059</td>\n",
       "      <td>0.249070</td>\n",
       "      <td>0.238190</td>\n",
       "      <td>0.221616</td>\n",
       "      <td>0.203713</td>\n",
       "    </tr>\n",
       "    <tr>\n",
       "      <th>...</th>\n",
       "      <td>...</td>\n",
       "      <td>...</td>\n",
       "      <td>...</td>\n",
       "      <td>...</td>\n",
       "      <td>...</td>\n",
       "      <td>...</td>\n",
       "      <td>...</td>\n",
       "      <td>...</td>\n",
       "      <td>...</td>\n",
       "      <td>...</td>\n",
       "      <td>...</td>\n",
       "      <td>...</td>\n",
       "      <td>...</td>\n",
       "      <td>...</td>\n",
       "      <td>...</td>\n",
       "      <td>...</td>\n",
       "      <td>...</td>\n",
       "      <td>...</td>\n",
       "      <td>...</td>\n",
       "      <td>...</td>\n",
       "      <td>...</td>\n",
       "    </tr>\n",
       "    <tr>\n",
       "      <th>1526</th>\n",
       "      <td>0.320905</td>\n",
       "      <td>0.328758</td>\n",
       "      <td>0.336999</td>\n",
       "      <td>0.347664</td>\n",
       "      <td>0.354435</td>\n",
       "      <td>0.363455</td>\n",
       "      <td>0.368484</td>\n",
       "      <td>0.373455</td>\n",
       "      <td>0.379199</td>\n",
       "      <td>0.384777</td>\n",
       "      <td>...</td>\n",
       "      <td>0.386852</td>\n",
       "      <td>0.385306</td>\n",
       "      <td>0.381406</td>\n",
       "      <td>0.377614</td>\n",
       "      <td>0.370012</td>\n",
       "      <td>0.362756</td>\n",
       "      <td>0.356964</td>\n",
       "      <td>0.349564</td>\n",
       "      <td>0.344221</td>\n",
       "      <td>0.338484</td>\n",
       "    </tr>\n",
       "    <tr>\n",
       "      <th>1527</th>\n",
       "      <td>0.389369</td>\n",
       "      <td>0.392769</td>\n",
       "      <td>0.389571</td>\n",
       "      <td>0.386150</td>\n",
       "      <td>0.392524</td>\n",
       "      <td>0.402755</td>\n",
       "      <td>0.406559</td>\n",
       "      <td>0.410655</td>\n",
       "      <td>0.418259</td>\n",
       "      <td>0.437901</td>\n",
       "      <td>...</td>\n",
       "      <td>0.456071</td>\n",
       "      <td>0.454156</td>\n",
       "      <td>0.450985</td>\n",
       "      <td>0.448131</td>\n",
       "      <td>0.443195</td>\n",
       "      <td>0.436381</td>\n",
       "      <td>0.431848</td>\n",
       "      <td>0.426035</td>\n",
       "      <td>0.423116</td>\n",
       "      <td>0.421126</td>\n",
       "    </tr>\n",
       "    <tr>\n",
       "      <th>1528</th>\n",
       "      <td>0.292997</td>\n",
       "      <td>0.296107</td>\n",
       "      <td>0.303562</td>\n",
       "      <td>0.315029</td>\n",
       "      <td>0.321099</td>\n",
       "      <td>0.329147</td>\n",
       "      <td>0.333897</td>\n",
       "      <td>0.339125</td>\n",
       "      <td>0.344243</td>\n",
       "      <td>0.350723</td>\n",
       "      <td>...</td>\n",
       "      <td>0.356617</td>\n",
       "      <td>0.356413</td>\n",
       "      <td>0.350368</td>\n",
       "      <td>0.343588</td>\n",
       "      <td>0.339844</td>\n",
       "      <td>0.331346</td>\n",
       "      <td>0.324399</td>\n",
       "      <td>0.320611</td>\n",
       "      <td>0.314091</td>\n",
       "      <td>0.307539</td>\n",
       "    </tr>\n",
       "    <tr>\n",
       "      <th>1529</th>\n",
       "      <td>0.308246</td>\n",
       "      <td>0.313464</td>\n",
       "      <td>0.319537</td>\n",
       "      <td>0.331429</td>\n",
       "      <td>0.337286</td>\n",
       "      <td>0.345225</td>\n",
       "      <td>0.350081</td>\n",
       "      <td>0.354131</td>\n",
       "      <td>0.357728</td>\n",
       "      <td>0.363382</td>\n",
       "      <td>...</td>\n",
       "      <td>0.369423</td>\n",
       "      <td>0.367132</td>\n",
       "      <td>0.361423</td>\n",
       "      <td>0.354030</td>\n",
       "      <td>0.349208</td>\n",
       "      <td>0.340947</td>\n",
       "      <td>0.335438</td>\n",
       "      <td>0.333584</td>\n",
       "      <td>0.329611</td>\n",
       "      <td>0.323610</td>\n",
       "    </tr>\n",
       "    <tr>\n",
       "      <th>1530</th>\n",
       "      <td>0.366861</td>\n",
       "      <td>0.371842</td>\n",
       "      <td>0.378550</td>\n",
       "      <td>0.385710</td>\n",
       "      <td>0.393506</td>\n",
       "      <td>0.397996</td>\n",
       "      <td>0.392798</td>\n",
       "      <td>0.395073</td>\n",
       "      <td>0.401743</td>\n",
       "      <td>0.417879</td>\n",
       "      <td>...</td>\n",
       "      <td>0.446343</td>\n",
       "      <td>0.442008</td>\n",
       "      <td>0.437226</td>\n",
       "      <td>0.435007</td>\n",
       "      <td>0.428910</td>\n",
       "      <td>0.423053</td>\n",
       "      <td>0.418466</td>\n",
       "      <td>0.414347</td>\n",
       "      <td>0.411190</td>\n",
       "      <td>0.409410</td>\n",
       "    </tr>\n",
       "  </tbody>\n",
       "</table>\n",
       "<p>1531 rows × 1024 columns</p>\n",
       "</div>"
      ],
      "text/plain": [
       "          0         1         2         3         4         5         6     \\\n",
       "0     0.300570  0.321333  0.339861  0.356015  0.368621  0.375393  0.386557   \n",
       "1     0.305769  0.309675  0.316426  0.327396  0.332671  0.341594  0.347691   \n",
       "2     0.279768  0.298246  0.317711  0.332790  0.345631  0.352844  0.363831   \n",
       "3     0.309114  0.312441  0.320083  0.330972  0.337421  0.344661  0.348730   \n",
       "4     0.238294  0.259614  0.275919  0.290672  0.297517  0.306122  0.314081   \n",
       "...        ...       ...       ...       ...       ...       ...       ...   \n",
       "1526  0.320905  0.328758  0.336999  0.347664  0.354435  0.363455  0.368484   \n",
       "1527  0.389369  0.392769  0.389571  0.386150  0.392524  0.402755  0.406559   \n",
       "1528  0.292997  0.296107  0.303562  0.315029  0.321099  0.329147  0.333897   \n",
       "1529  0.308246  0.313464  0.319537  0.331429  0.337286  0.345225  0.350081   \n",
       "1530  0.366861  0.371842  0.378550  0.385710  0.393506  0.397996  0.392798   \n",
       "\n",
       "          7         8         9     ...      1014      1015      1016  \\\n",
       "0     0.392265  0.396568  0.401079  ...  0.366491  0.364223  0.361065   \n",
       "1     0.352916  0.357916  0.363374  ...  0.371226  0.368799  0.363895   \n",
       "2     0.369659  0.374380  0.378595  ...  0.352845  0.349581  0.346031   \n",
       "3     0.355505  0.360473  0.367050  ...  0.369720  0.368379  0.364475   \n",
       "4     0.321606  0.325926  0.328438  ...  0.252287  0.253382  0.257844   \n",
       "...        ...       ...       ...  ...       ...       ...       ...   \n",
       "1526  0.373455  0.379199  0.384777  ...  0.386852  0.385306  0.381406   \n",
       "1527  0.410655  0.418259  0.437901  ...  0.456071  0.454156  0.450985   \n",
       "1528  0.339125  0.344243  0.350723  ...  0.356617  0.356413  0.350368   \n",
       "1529  0.354131  0.357728  0.363382  ...  0.369423  0.367132  0.361423   \n",
       "1530  0.395073  0.401743  0.417879  ...  0.446343  0.442008  0.437226   \n",
       "\n",
       "          1017      1018      1019      1020      1021      1022      1023  \n",
       "0     0.355037  0.347758  0.338876  0.328757  0.317450  0.305523  0.289068  \n",
       "1     0.358266  0.353350  0.345255  0.337634  0.334755  0.330602  0.322242  \n",
       "2     0.339196  0.330828  0.320949  0.309510  0.298604  0.285769  0.269304  \n",
       "3     0.357779  0.353295  0.345417  0.341060  0.337860  0.332617  0.324913  \n",
       "4     0.265044  0.265494  0.258059  0.249070  0.238190  0.221616  0.203713  \n",
       "...        ...       ...       ...       ...       ...       ...       ...  \n",
       "1526  0.377614  0.370012  0.362756  0.356964  0.349564  0.344221  0.338484  \n",
       "1527  0.448131  0.443195  0.436381  0.431848  0.426035  0.423116  0.421126  \n",
       "1528  0.343588  0.339844  0.331346  0.324399  0.320611  0.314091  0.307539  \n",
       "1529  0.354030  0.349208  0.340947  0.335438  0.333584  0.329611  0.323610  \n",
       "1530  0.435007  0.428910  0.423053  0.418466  0.414347  0.411190  0.409410  \n",
       "\n",
       "[1531 rows x 1024 columns]"
      ]
     },
     "execution_count": 33,
     "metadata": {},
     "output_type": "execute_result"
    }
   ],
   "source": [
    "x_train"
   ]
  },
  {
   "cell_type": "code",
   "execution_count": 22,
   "id": "9da2d47a",
   "metadata": {
    "scrolled": false
   },
   "outputs": [
    {
     "name": "stdout",
     "output_type": "stream",
     "text": [
      "Fitting 5 folds for each of 16 candidates, totalling 80 fits\n",
      "[CV 1/5] END ...C=0.1, gamma=0.0001, kernel=rbf;, score=0.342 total time=   1.2s\n",
      "[CV 2/5] END ...C=0.1, gamma=0.0001, kernel=rbf;, score=0.343 total time=   1.2s\n",
      "[CV 3/5] END ...C=0.1, gamma=0.0001, kernel=rbf;, score=0.343 total time=   1.3s\n",
      "[CV 4/5] END ...C=0.1, gamma=0.0001, kernel=rbf;, score=0.343 total time=   1.2s\n",
      "[CV 5/5] END ...C=0.1, gamma=0.0001, kernel=rbf;, score=0.343 total time=   1.2s\n",
      "[CV 1/5] END ....C=0.1, gamma=0.001, kernel=rbf;, score=0.342 total time=   1.2s\n",
      "[CV 2/5] END ....C=0.1, gamma=0.001, kernel=rbf;, score=0.343 total time=   1.2s\n",
      "[CV 3/5] END ....C=0.1, gamma=0.001, kernel=rbf;, score=0.343 total time=   1.2s\n",
      "[CV 4/5] END ....C=0.1, gamma=0.001, kernel=rbf;, score=0.343 total time=   1.2s\n",
      "[CV 5/5] END ....C=0.1, gamma=0.001, kernel=rbf;, score=0.343 total time=   1.2s\n",
      "[CV 1/5] END ......C=0.1, gamma=0.1, kernel=rbf;, score=0.795 total time=   1.1s\n",
      "[CV 2/5] END ......C=0.1, gamma=0.1, kernel=rbf;, score=0.765 total time=   1.0s\n",
      "[CV 3/5] END ......C=0.1, gamma=0.1, kernel=rbf;, score=0.791 total time=   1.1s\n",
      "[CV 4/5] END ......C=0.1, gamma=0.1, kernel=rbf;, score=0.755 total time=   1.1s\n",
      "[CV 5/5] END ......C=0.1, gamma=0.1, kernel=rbf;, score=0.761 total time=   1.1s\n",
      "[CV 1/5] END ........C=0.1, gamma=1, kernel=rbf;, score=0.342 total time=   1.2s\n",
      "[CV 2/5] END ........C=0.1, gamma=1, kernel=rbf;, score=0.343 total time=   1.2s\n",
      "[CV 3/5] END ........C=0.1, gamma=1, kernel=rbf;, score=0.343 total time=   1.2s\n",
      "[CV 4/5] END ........C=0.1, gamma=1, kernel=rbf;, score=0.343 total time=   1.2s\n",
      "[CV 5/5] END ........C=0.1, gamma=1, kernel=rbf;, score=0.343 total time=   1.2s\n",
      "[CV 1/5] END .....C=1, gamma=0.0001, kernel=rbf;, score=0.342 total time=   1.2s\n",
      "[CV 2/5] END .....C=1, gamma=0.0001, kernel=rbf;, score=0.343 total time=   1.2s\n",
      "[CV 3/5] END .....C=1, gamma=0.0001, kernel=rbf;, score=0.343 total time=   1.3s\n",
      "[CV 4/5] END .....C=1, gamma=0.0001, kernel=rbf;, score=0.343 total time=   1.2s\n",
      "[CV 5/5] END .....C=1, gamma=0.0001, kernel=rbf;, score=0.343 total time=   1.2s\n",
      "[CV 1/5] END ......C=1, gamma=0.001, kernel=rbf;, score=0.547 total time=   1.2s\n",
      "[CV 2/5] END ......C=1, gamma=0.001, kernel=rbf;, score=0.523 total time=   1.2s\n",
      "[CV 3/5] END ......C=1, gamma=0.001, kernel=rbf;, score=0.569 total time=   1.2s\n",
      "[CV 4/5] END ......C=1, gamma=0.001, kernel=rbf;, score=0.503 total time=   1.2s\n",
      "[CV 5/5] END ......C=1, gamma=0.001, kernel=rbf;, score=0.588 total time=   1.2s\n",
      "[CV 1/5] END ........C=1, gamma=0.1, kernel=rbf;, score=0.896 total time=   0.7s\n",
      "[CV 2/5] END ........C=1, gamma=0.1, kernel=rbf;, score=0.908 total time=   0.7s\n",
      "[CV 3/5] END ........C=1, gamma=0.1, kernel=rbf;, score=0.922 total time=   0.7s\n",
      "[CV 4/5] END ........C=1, gamma=0.1, kernel=rbf;, score=0.908 total time=   0.7s\n",
      "[CV 5/5] END ........C=1, gamma=0.1, kernel=rbf;, score=0.892 total time=   0.7s\n",
      "[CV 1/5] END ..........C=1, gamma=1, kernel=rbf;, score=0.756 total time=   1.2s\n",
      "[CV 2/5] END ..........C=1, gamma=1, kernel=rbf;, score=0.755 total time=   1.2s\n",
      "[CV 3/5] END ..........C=1, gamma=1, kernel=rbf;, score=0.761 total time=   1.2s\n",
      "[CV 4/5] END ..........C=1, gamma=1, kernel=rbf;, score=0.807 total time=   1.2s\n",
      "[CV 5/5] END ..........C=1, gamma=1, kernel=rbf;, score=0.748 total time=   1.2s\n",
      "[CV 1/5] END ....C=10, gamma=0.0001, kernel=rbf;, score=0.541 total time=   1.2s\n",
      "[CV 2/5] END ....C=10, gamma=0.0001, kernel=rbf;, score=0.523 total time=   1.2s\n",
      "[CV 3/5] END ....C=10, gamma=0.0001, kernel=rbf;, score=0.572 total time=   1.2s\n",
      "[CV 4/5] END ....C=10, gamma=0.0001, kernel=rbf;, score=0.503 total time=   1.2s\n",
      "[CV 5/5] END ....C=10, gamma=0.0001, kernel=rbf;, score=0.588 total time=   1.2s\n",
      "[CV 1/5] END .....C=10, gamma=0.001, kernel=rbf;, score=0.710 total time=   0.9s\n",
      "[CV 2/5] END .....C=10, gamma=0.001, kernel=rbf;, score=0.683 total time=   0.9s\n",
      "[CV 3/5] END .....C=10, gamma=0.001, kernel=rbf;, score=0.735 total time=   0.9s\n",
      "[CV 4/5] END .....C=10, gamma=0.001, kernel=rbf;, score=0.683 total time=   0.9s\n",
      "[CV 5/5] END .....C=10, gamma=0.001, kernel=rbf;, score=0.735 total time=   0.9s\n",
      "[CV 1/5] END .......C=10, gamma=0.1, kernel=rbf;, score=0.906 total time=   0.7s\n",
      "[CV 2/5] END .......C=10, gamma=0.1, kernel=rbf;, score=0.935 total time=   0.7s\n",
      "[CV 3/5] END .......C=10, gamma=0.1, kernel=rbf;, score=0.938 total time=   0.7s\n",
      "[CV 4/5] END .......C=10, gamma=0.1, kernel=rbf;, score=0.931 total time=   0.7s\n",
      "[CV 5/5] END .......C=10, gamma=0.1, kernel=rbf;, score=0.908 total time=   0.7s\n",
      "[CV 1/5] END .........C=10, gamma=1, kernel=rbf;, score=0.779 total time=   1.2s\n",
      "[CV 2/5] END .........C=10, gamma=1, kernel=rbf;, score=0.775 total time=   1.3s\n",
      "[CV 3/5] END .........C=10, gamma=1, kernel=rbf;, score=0.791 total time=   1.2s\n",
      "[CV 4/5] END .........C=10, gamma=1, kernel=rbf;, score=0.820 total time=   1.3s\n",
      "[CV 5/5] END .........C=10, gamma=1, kernel=rbf;, score=0.768 total time=   1.2s\n",
      "[CV 1/5] END ...C=100, gamma=0.0001, kernel=rbf;, score=0.704 total time=   0.9s\n",
      "[CV 2/5] END ...C=100, gamma=0.0001, kernel=rbf;, score=0.683 total time=   0.9s\n",
      "[CV 3/5] END ...C=100, gamma=0.0001, kernel=rbf;, score=0.732 total time=   0.9s\n",
      "[CV 4/5] END ...C=100, gamma=0.0001, kernel=rbf;, score=0.680 total time=   0.9s\n",
      "[CV 5/5] END ...C=100, gamma=0.0001, kernel=rbf;, score=0.716 total time=   0.9s\n",
      "[CV 1/5] END ....C=100, gamma=0.001, kernel=rbf;, score=0.788 total time=   0.7s\n",
      "[CV 2/5] END ....C=100, gamma=0.001, kernel=rbf;, score=0.784 total time=   0.7s\n",
      "[CV 3/5] END ....C=100, gamma=0.001, kernel=rbf;, score=0.791 total time=   0.7s\n",
      "[CV 4/5] END ....C=100, gamma=0.001, kernel=rbf;, score=0.761 total time=   0.7s\n",
      "[CV 5/5] END ....C=100, gamma=0.001, kernel=rbf;, score=0.801 total time=   0.7s\n",
      "[CV 1/5] END ......C=100, gamma=0.1, kernel=rbf;, score=0.906 total time=   0.7s\n",
      "[CV 2/5] END ......C=100, gamma=0.1, kernel=rbf;, score=0.935 total time=   0.7s\n",
      "[CV 3/5] END ......C=100, gamma=0.1, kernel=rbf;, score=0.938 total time=   0.7s\n",
      "[CV 4/5] END ......C=100, gamma=0.1, kernel=rbf;, score=0.931 total time=   0.7s\n",
      "[CV 5/5] END ......C=100, gamma=0.1, kernel=rbf;, score=0.908 total time=   0.7s\n",
      "[CV 1/5] END ........C=100, gamma=1, kernel=rbf;, score=0.779 total time=   1.3s\n",
      "[CV 2/5] END ........C=100, gamma=1, kernel=rbf;, score=0.775 total time=   1.2s\n",
      "[CV 3/5] END ........C=100, gamma=1, kernel=rbf;, score=0.791 total time=   1.2s\n",
      "[CV 4/5] END ........C=100, gamma=1, kernel=rbf;, score=0.820 total time=   1.2s\n",
      "[CV 5/5] END ........C=100, gamma=1, kernel=rbf;, score=0.768 total time=   1.3s\n"
     ]
    },
    {
     "data": {
      "text/plain": [
       "GridSearchCV(estimator=SVC(),\n",
       "             param_grid={'C': [0.1, 1, 10, 100],\n",
       "                         'gamma': [0.0001, 0.001, 0.1, 1], 'kernel': ['rbf']},\n",
       "             verbose=3)"
      ]
     },
     "execution_count": 22,
     "metadata": {},
     "output_type": "execute_result"
    }
   ],
   "source": [
    "from sklearn import svm\n",
    "from sklearn.model_selection import GridSearchCV\n",
    "from sklearn.svm import SVC\n",
    "\n",
    "param_grid={'C':[0.1,1,10,100],'gamma':[0.0001,0.001,0.1,1],'kernel':['rbf']}\n",
    "model=GridSearchCV(SVC(),param_grid,refit=True,verbose=3)\n",
    "model.fit(x_train, y_train)"
   ]
  },
  {
   "cell_type": "code",
   "execution_count": 23,
   "id": "059d66a1",
   "metadata": {},
   "outputs": [
    {
     "name": "stdout",
     "output_type": "stream",
     "text": [
      "{'C': 10, 'gamma': 0.1, 'kernel': 'rbf'}\n"
     ]
    }
   ],
   "source": [
    "print(model.best_params_)"
   ]
  },
  {
   "cell_type": "code",
   "execution_count": 24,
   "id": "5c6af6a1",
   "metadata": {},
   "outputs": [
    {
     "name": "stdout",
     "output_type": "stream",
     "text": [
      "Fitting 5 folds for each of 12 candidates, totalling 60 fits\n",
      "[CV 1/5] END ......C=0.1, degree=3, kernel=poly;, score=0.853 total time=   0.5s\n",
      "[CV 2/5] END ......C=0.1, degree=3, kernel=poly;, score=0.846 total time=   0.6s\n",
      "[CV 3/5] END ......C=0.1, degree=3, kernel=poly;, score=0.846 total time=   0.6s\n",
      "[CV 4/5] END ......C=0.1, degree=3, kernel=poly;, score=0.846 total time=   0.6s\n",
      "[CV 5/5] END ......C=0.1, degree=3, kernel=poly;, score=0.863 total time=   0.6s\n",
      "[CV 1/5] END ......C=0.1, degree=4, kernel=poly;, score=0.863 total time=   0.5s\n",
      "[CV 2/5] END ......C=0.1, degree=4, kernel=poly;, score=0.859 total time=   0.5s\n",
      "[CV 3/5] END ......C=0.1, degree=4, kernel=poly;, score=0.843 total time=   0.5s\n",
      "[CV 4/5] END ......C=0.1, degree=4, kernel=poly;, score=0.876 total time=   0.5s\n",
      "[CV 5/5] END ......C=0.1, degree=4, kernel=poly;, score=0.876 total time=   0.5s\n",
      "[CV 1/5] END ......C=0.1, degree=5, kernel=poly;, score=0.857 total time=   0.5s\n",
      "[CV 2/5] END ......C=0.1, degree=5, kernel=poly;, score=0.879 total time=   0.5s\n",
      "[CV 3/5] END ......C=0.1, degree=5, kernel=poly;, score=0.840 total time=   0.5s\n",
      "[CV 4/5] END ......C=0.1, degree=5, kernel=poly;, score=0.882 total time=   0.5s\n",
      "[CV 5/5] END ......C=0.1, degree=5, kernel=poly;, score=0.879 total time=   0.5s\n",
      "[CV 1/5] END ........C=1, degree=3, kernel=poly;, score=0.857 total time=   0.6s\n",
      "[CV 2/5] END ........C=1, degree=3, kernel=poly;, score=0.853 total time=   0.6s\n",
      "[CV 3/5] END ........C=1, degree=3, kernel=poly;, score=0.837 total time=   0.5s\n",
      "[CV 4/5] END ........C=1, degree=3, kernel=poly;, score=0.866 total time=   0.5s\n",
      "[CV 5/5] END ........C=1, degree=3, kernel=poly;, score=0.856 total time=   0.5s\n",
      "[CV 1/5] END ........C=1, degree=4, kernel=poly;, score=0.863 total time=   0.5s\n",
      "[CV 2/5] END ........C=1, degree=4, kernel=poly;, score=0.859 total time=   0.5s\n",
      "[CV 3/5] END ........C=1, degree=4, kernel=poly;, score=0.843 total time=   0.5s\n",
      "[CV 4/5] END ........C=1, degree=4, kernel=poly;, score=0.876 total time=   0.5s\n",
      "[CV 5/5] END ........C=1, degree=4, kernel=poly;, score=0.876 total time=   0.5s\n",
      "[CV 1/5] END ........C=1, degree=5, kernel=poly;, score=0.857 total time=   0.5s\n",
      "[CV 2/5] END ........C=1, degree=5, kernel=poly;, score=0.879 total time=   0.5s\n",
      "[CV 3/5] END ........C=1, degree=5, kernel=poly;, score=0.840 total time=   0.5s\n",
      "[CV 4/5] END ........C=1, degree=5, kernel=poly;, score=0.882 total time=   0.5s\n",
      "[CV 5/5] END ........C=1, degree=5, kernel=poly;, score=0.879 total time=   0.5s\n",
      "[CV 1/5] END .......C=10, degree=3, kernel=poly;, score=0.857 total time=   0.6s\n",
      "[CV 2/5] END .......C=10, degree=3, kernel=poly;, score=0.853 total time=   0.6s\n",
      "[CV 3/5] END .......C=10, degree=3, kernel=poly;, score=0.837 total time=   0.5s\n",
      "[CV 4/5] END .......C=10, degree=3, kernel=poly;, score=0.866 total time=   0.6s\n",
      "[CV 5/5] END .......C=10, degree=3, kernel=poly;, score=0.856 total time=   0.5s\n",
      "[CV 1/5] END .......C=10, degree=4, kernel=poly;, score=0.863 total time=   0.5s\n",
      "[CV 2/5] END .......C=10, degree=4, kernel=poly;, score=0.859 total time=   0.5s\n",
      "[CV 3/5] END .......C=10, degree=4, kernel=poly;, score=0.843 total time=   0.5s\n",
      "[CV 4/5] END .......C=10, degree=4, kernel=poly;, score=0.876 total time=   0.5s\n",
      "[CV 5/5] END .......C=10, degree=4, kernel=poly;, score=0.876 total time=   0.5s\n",
      "[CV 1/5] END .......C=10, degree=5, kernel=poly;, score=0.857 total time=   0.5s\n",
      "[CV 2/5] END .......C=10, degree=5, kernel=poly;, score=0.879 total time=   0.5s\n",
      "[CV 3/5] END .......C=10, degree=5, kernel=poly;, score=0.840 total time=   0.5s\n",
      "[CV 4/5] END .......C=10, degree=5, kernel=poly;, score=0.882 total time=   0.5s\n",
      "[CV 5/5] END .......C=10, degree=5, kernel=poly;, score=0.879 total time=   0.5s\n",
      "[CV 1/5] END ......C=100, degree=3, kernel=poly;, score=0.857 total time=   0.6s\n",
      "[CV 2/5] END ......C=100, degree=3, kernel=poly;, score=0.853 total time=   0.6s\n",
      "[CV 3/5] END ......C=100, degree=3, kernel=poly;, score=0.837 total time=   0.5s\n",
      "[CV 4/5] END ......C=100, degree=3, kernel=poly;, score=0.866 total time=   0.6s\n",
      "[CV 5/5] END ......C=100, degree=3, kernel=poly;, score=0.856 total time=   0.6s\n",
      "[CV 1/5] END ......C=100, degree=4, kernel=poly;, score=0.863 total time=   0.5s\n",
      "[CV 2/5] END ......C=100, degree=4, kernel=poly;, score=0.859 total time=   0.5s\n",
      "[CV 3/5] END ......C=100, degree=4, kernel=poly;, score=0.843 total time=   0.5s\n",
      "[CV 4/5] END ......C=100, degree=4, kernel=poly;, score=0.876 total time=   0.5s\n",
      "[CV 5/5] END ......C=100, degree=4, kernel=poly;, score=0.876 total time=   0.5s\n",
      "[CV 1/5] END ......C=100, degree=5, kernel=poly;, score=0.857 total time=   0.5s\n",
      "[CV 2/5] END ......C=100, degree=5, kernel=poly;, score=0.879 total time=   0.5s\n",
      "[CV 3/5] END ......C=100, degree=5, kernel=poly;, score=0.840 total time=   0.5s\n",
      "[CV 4/5] END ......C=100, degree=5, kernel=poly;, score=0.882 total time=   0.5s\n",
      "[CV 5/5] END ......C=100, degree=5, kernel=poly;, score=0.879 total time=   0.5s\n"
     ]
    },
    {
     "data": {
      "text/plain": [
       "GridSearchCV(estimator=SVC(),\n",
       "             param_grid={'C': [0.1, 1, 10, 100], 'degree': [3, 4, 5],\n",
       "                         'kernel': ['poly']},\n",
       "             verbose=3)"
      ]
     },
     "execution_count": 24,
     "metadata": {},
     "output_type": "execute_result"
    }
   ],
   "source": [
    "param_grid={'C':[0.1,1,10,100],'degree':[3,4,5],'kernel':['poly']}\n",
    "model=GridSearchCV(SVC(),param_grid,refit=True,verbose=3)\n",
    "model.fit(x_train, y_train)"
   ]
  },
  {
   "cell_type": "code",
   "execution_count": 25,
   "id": "7975b1cd",
   "metadata": {},
   "outputs": [
    {
     "name": "stdout",
     "output_type": "stream",
     "text": [
      "{'C': 0.1, 'degree': 5, 'kernel': 'poly'}\n"
     ]
    }
   ],
   "source": [
    "print(model.best_params_)"
   ]
  },
  {
   "cell_type": "markdown",
   "id": "6c35f268",
   "metadata": {},
   "source": [
    "### Compare with linear kernel"
   ]
  },
  {
   "cell_type": "code",
   "execution_count": 3,
   "id": "12438b10",
   "metadata": {},
   "outputs": [
    {
     "name": "stdout",
     "output_type": "stream",
     "text": [
      "Fitting 5 folds for each of 4 candidates, totalling 20 fits\n",
      "[CV 1/5] END ..............C=0.1, kernel=linear;, score=0.746 total time=   1.4s\n",
      "[CV 2/5] END ..............C=0.1, kernel=linear;, score=0.729 total time=   1.2s\n",
      "[CV 3/5] END ..............C=0.1, kernel=linear;, score=0.755 total time=   0.9s\n",
      "[CV 4/5] END ..............C=0.1, kernel=linear;, score=0.719 total time=   0.8s\n",
      "[CV 5/5] END ..............C=0.1, kernel=linear;, score=0.748 total time=   0.8s\n",
      "[CV 1/5] END ................C=1, kernel=linear;, score=0.772 total time=   0.9s\n",
      "[CV 2/5] END ................C=1, kernel=linear;, score=0.745 total time=   0.8s\n",
      "[CV 3/5] END ................C=1, kernel=linear;, score=0.775 total time=   0.8s\n",
      "[CV 4/5] END ................C=1, kernel=linear;, score=0.729 total time=   0.8s\n",
      "[CV 5/5] END ................C=1, kernel=linear;, score=0.761 total time=   0.8s\n",
      "[CV 1/5] END ...............C=10, kernel=linear;, score=0.717 total time=   0.9s\n",
      "[CV 2/5] END ...............C=10, kernel=linear;, score=0.660 total time=   0.9s\n",
      "[CV 3/5] END ...............C=10, kernel=linear;, score=0.709 total time=   0.9s\n",
      "[CV 4/5] END ...............C=10, kernel=linear;, score=0.696 total time=   0.8s\n",
      "[CV 5/5] END ...............C=10, kernel=linear;, score=0.690 total time=   0.9s\n",
      "[CV 1/5] END ..............C=100, kernel=linear;, score=0.678 total time=   1.1s\n",
      "[CV 2/5] END ..............C=100, kernel=linear;, score=0.631 total time=   1.0s\n",
      "[CV 3/5] END ..............C=100, kernel=linear;, score=0.631 total time=   1.0s\n",
      "[CV 4/5] END ..............C=100, kernel=linear;, score=0.676 total time=   1.1s\n",
      "[CV 5/5] END ..............C=100, kernel=linear;, score=0.670 total time=   1.0s\n"
     ]
    },
    {
     "data": {
      "text/plain": [
       "GridSearchCV(estimator=SVC(),\n",
       "             param_grid={'C': [0.1, 1, 10, 100], 'kernel': ['linear']},\n",
       "             verbose=3)"
      ]
     },
     "execution_count": 3,
     "metadata": {},
     "output_type": "execute_result"
    }
   ],
   "source": [
    "from sklearn import svm\n",
    "from sklearn.model_selection import GridSearchCV\n",
    "from sklearn.svm import SVC\n",
    "\n",
    "param_grid={'C':[0.1,1,10,100],'kernel':['linear']}\n",
    "model=GridSearchCV(SVC(),param_grid,refit=True,verbose=3)\n",
    "model.fit(x_train, y_train)"
   ]
  },
  {
   "cell_type": "markdown",
   "id": "80c2a604",
   "metadata": {},
   "source": [
    "### Lower-quality images: best gamma 0.1 instead of 0.001, best C 10 instead of 100"
   ]
  },
  {
   "cell_type": "code",
   "execution_count": 34,
   "id": "779ed1e4",
   "metadata": {},
   "outputs": [
    {
     "name": "stdout",
     "output_type": "stream",
     "text": [
      "[[101   2   6]\n",
      " [  4  94   9]\n",
      " [  3   1 108]]\n",
      "              precision    recall  f1-score   support\n",
      "\n",
      "           0       0.94      0.93      0.93       109\n",
      "           1       0.97      0.88      0.92       107\n",
      "           2       0.88      0.96      0.92       112\n",
      "\n",
      "    accuracy                           0.92       328\n",
      "   macro avg       0.93      0.92      0.92       328\n",
      "weighted avg       0.93      0.92      0.92       328\n",
      "\n"
     ]
    }
   ],
   "source": [
    "val_score(svm.SVC(C=10, gamma=0.1, kernel='rbf').fit(x_train, y_train))"
   ]
  },
  {
   "cell_type": "code",
   "execution_count": 44,
   "id": "1a42ac98",
   "metadata": {},
   "outputs": [
    {
     "name": "stdout",
     "output_type": "stream",
     "text": [
      "[[508   0   0]\n",
      " [  0 498   0]\n",
      " [  0   0 525]]\n",
      "              precision    recall  f1-score   support\n",
      "\n",
      "           0       1.00      1.00      1.00       508\n",
      "           1       1.00      1.00      1.00       498\n",
      "           2       1.00      1.00      1.00       525\n",
      "\n",
      "    accuracy                           1.00      1531\n",
      "   macro avg       1.00      1.00      1.00      1531\n",
      "weighted avg       1.00      1.00      1.00      1531\n",
      "\n"
     ]
    }
   ],
   "source": [
    "train_score(svm.SVC(C=10, gamma=0.1, kernel='rbf').fit(x_train, y_train))"
   ]
  },
  {
   "cell_type": "code",
   "execution_count": 39,
   "id": "b4e06b0f",
   "metadata": {},
   "outputs": [
    {
     "name": "stdout",
     "output_type": "stream",
     "text": [
      "[[102   0   7]\n",
      " [  3  98   6]\n",
      " [  5   2 106]]\n",
      "              precision    recall  f1-score   support\n",
      "\n",
      "           0       0.93      0.94      0.93       109\n",
      "           1       0.98      0.92      0.95       107\n",
      "           2       0.89      0.94      0.91       113\n",
      "\n",
      "    accuracy                           0.93       329\n",
      "   macro avg       0.93      0.93      0.93       329\n",
      "weighted avg       0.93      0.93      0.93       329\n",
      "\n"
     ]
    }
   ],
   "source": [
    "test_score(svm.SVC(kernel='rbf', gamma=0.1, C=10).fit(x_train, y_train))"
   ]
  },
  {
   "cell_type": "code",
   "execution_count": 36,
   "id": "a142fea6",
   "metadata": {},
   "outputs": [
    {
     "name": "stdout",
     "output_type": "stream",
     "text": [
      "[[76  8 25]\n",
      " [10 77 20]\n",
      " [16  9 87]]\n",
      "              precision    recall  f1-score   support\n",
      "\n",
      "           0       0.75      0.70      0.72       109\n",
      "           1       0.82      0.72      0.77       107\n",
      "           2       0.66      0.78      0.71       112\n",
      "\n",
      "    accuracy                           0.73       328\n",
      "   macro avg       0.74      0.73      0.73       328\n",
      "weighted avg       0.74      0.73      0.73       328\n",
      "\n"
     ]
    }
   ],
   "source": [
    "val_score(svm.SVC(C=10, gamma=0.001, kernel='rbf').fit(x_train, y_train))"
   ]
  },
  {
   "cell_type": "code",
   "execution_count": 37,
   "id": "4512c2af",
   "metadata": {},
   "outputs": [
    {
     "name": "stdout",
     "output_type": "stream",
     "text": [
      "[[101   2   6]\n",
      " [  4  94   9]\n",
      " [  3   1 108]]\n",
      "              precision    recall  f1-score   support\n",
      "\n",
      "           0       0.94      0.93      0.93       109\n",
      "           1       0.97      0.88      0.92       107\n",
      "           2       0.88      0.96      0.92       112\n",
      "\n",
      "    accuracy                           0.92       328\n",
      "   macro avg       0.93      0.92      0.92       328\n",
      "weighted avg       0.93      0.92      0.92       328\n",
      "\n"
     ]
    }
   ],
   "source": [
    "val_score(svm.SVC(C=100, gamma=0.1, kernel='rbf').fit(x_train, y_train))"
   ]
  },
  {
   "cell_type": "code",
   "execution_count": 45,
   "id": "e95fdae7",
   "metadata": {},
   "outputs": [
    {
     "name": "stdout",
     "output_type": "stream",
     "text": [
      "[[102   0   7]\n",
      " [  3  98   6]\n",
      " [  5   2 106]]\n",
      "              precision    recall  f1-score   support\n",
      "\n",
      "           0       0.93      0.94      0.93       109\n",
      "           1       0.98      0.92      0.95       107\n",
      "           2       0.89      0.94      0.91       113\n",
      "\n",
      "    accuracy                           0.93       329\n",
      "   macro avg       0.93      0.93      0.93       329\n",
      "weighted avg       0.93      0.93      0.93       329\n",
      "\n"
     ]
    }
   ],
   "source": [
    "test_score(svm.SVC(C=100, gamma=0.1, kernel='rbf').fit(x_train, y_train))"
   ]
  },
  {
   "cell_type": "code",
   "execution_count": 45,
   "id": "eeb08b4f",
   "metadata": {},
   "outputs": [
    {
     "name": "stdout",
     "output_type": "stream",
     "text": [
      "[[406  38  64]\n",
      " [ 39 369  90]\n",
      " [ 62  29 434]]\n",
      "              precision    recall  f1-score   support\n",
      "\n",
      "           0       0.80      0.80      0.80       508\n",
      "           1       0.85      0.74      0.79       498\n",
      "           2       0.74      0.83      0.78       525\n",
      "\n",
      "    accuracy                           0.79      1531\n",
      "   macro avg       0.80      0.79      0.79      1531\n",
      "weighted avg       0.79      0.79      0.79      1531\n",
      "\n"
     ]
    }
   ],
   "source": [
    "train_score(svm.SVC(C=0.1, kernel='linear').fit(x_train, y_train))"
   ]
  },
  {
   "cell_type": "code",
   "execution_count": 40,
   "id": "8131a5c7",
   "metadata": {},
   "outputs": [
    {
     "name": "stdout",
     "output_type": "stream",
     "text": [
      "[[83  4 22]\n",
      " [14 78 15]\n",
      " [14 11 87]]\n",
      "              precision    recall  f1-score   support\n",
      "\n",
      "           0       0.75      0.76      0.75       109\n",
      "           1       0.84      0.73      0.78       107\n",
      "           2       0.70      0.78      0.74       112\n",
      "\n",
      "    accuracy                           0.76       328\n",
      "   macro avg       0.76      0.76      0.76       328\n",
      "weighted avg       0.76      0.76      0.76       328\n",
      "\n"
     ]
    }
   ],
   "source": [
    "val_score(svm.SVC(C=0.1, kernel='linear').fit(x_train, y_train))"
   ]
  },
  {
   "cell_type": "code",
   "execution_count": 41,
   "id": "8722adaf",
   "metadata": {},
   "outputs": [
    {
     "name": "stdout",
     "output_type": "stream",
     "text": [
      "[[89  4 16]\n",
      " [ 9 73 25]\n",
      " [17 10 86]]\n",
      "              precision    recall  f1-score   support\n",
      "\n",
      "           0       0.77      0.82      0.79       109\n",
      "           1       0.84      0.68      0.75       107\n",
      "           2       0.68      0.76      0.72       113\n",
      "\n",
      "    accuracy                           0.75       329\n",
      "   macro avg       0.76      0.75      0.75       329\n",
      "weighted avg       0.76      0.75      0.75       329\n",
      "\n"
     ]
    }
   ],
   "source": [
    "test_score(svm.SVC(C=0.1, kernel='linear').fit(x_train, y_train))"
   ]
  },
  {
   "cell_type": "code",
   "execution_count": 53,
   "id": "224b2c15",
   "metadata": {},
   "outputs": [
    {
     "name": "stdout",
     "output_type": "stream",
     "text": [
      "[[508   0   0]\n",
      " [  0 498   0]\n",
      " [  0   0 525]]\n",
      "              precision    recall  f1-score   support\n",
      "\n",
      "           0       1.00      1.00      1.00       508\n",
      "           1       1.00      1.00      1.00       498\n",
      "           2       1.00      1.00      1.00       525\n",
      "\n",
      "    accuracy                           1.00      1531\n",
      "   macro avg       1.00      1.00      1.00      1531\n",
      "weighted avg       1.00      1.00      1.00      1531\n",
      "\n"
     ]
    }
   ],
   "source": [
    "train_score(svm.SVC(C=0.1, kernel='poly',degree=5).fit(x_train, y_train))"
   ]
  },
  {
   "cell_type": "code",
   "execution_count": 42,
   "id": "f8f9ba0a",
   "metadata": {},
   "outputs": [
    {
     "name": "stdout",
     "output_type": "stream",
     "text": [
      "[[95  6  8]\n",
      " [ 9 90  8]\n",
      " [ 8  6 98]]\n",
      "              precision    recall  f1-score   support\n",
      "\n",
      "           0       0.85      0.87      0.86       109\n",
      "           1       0.88      0.84      0.86       107\n",
      "           2       0.86      0.88      0.87       112\n",
      "\n",
      "    accuracy                           0.86       328\n",
      "   macro avg       0.86      0.86      0.86       328\n",
      "weighted avg       0.86      0.86      0.86       328\n",
      "\n"
     ]
    }
   ],
   "source": [
    "val_score(svm.SVC(C=0.1, kernel='poly',degree=5).fit(x_train, y_train))"
   ]
  },
  {
   "cell_type": "code",
   "execution_count": 43,
   "id": "28f97f6c",
   "metadata": {},
   "outputs": [
    {
     "name": "stdout",
     "output_type": "stream",
     "text": [
      "[[104   1   4]\n",
      " [  4  94   9]\n",
      " [ 11   7  95]]\n",
      "              precision    recall  f1-score   support\n",
      "\n",
      "           0       0.87      0.95      0.91       109\n",
      "           1       0.92      0.88      0.90       107\n",
      "           2       0.88      0.84      0.86       113\n",
      "\n",
      "    accuracy                           0.89       329\n",
      "   macro avg       0.89      0.89      0.89       329\n",
      "weighted avg       0.89      0.89      0.89       329\n",
      "\n"
     ]
    }
   ],
   "source": [
    "test_score(svm.SVC(C=0.1, kernel='poly',degree=5).fit(x_train, y_train))"
   ]
  },
  {
   "cell_type": "markdown",
   "id": "3b8a35fe",
   "metadata": {},
   "source": [
    "### Slightly higher accuracy with lower-quality images (93% test/train, 92% val)"
   ]
  },
  {
   "cell_type": "markdown",
   "id": "6e87238b",
   "metadata": {},
   "source": [
    "### Show first image in dataset"
   ]
  },
  {
   "cell_type": "code",
   "execution_count": 55,
   "id": "638b3619",
   "metadata": {},
   "outputs": [],
   "source": [
    "from PIL import Image as im"
   ]
  },
  {
   "cell_type": "code",
   "execution_count": 59,
   "id": "e9195681",
   "metadata": {},
   "outputs": [
    {
     "data": {
      "text/plain": [
       "<matplotlib.image.AxesImage at 0x2149cb453a0>"
      ]
     },
     "execution_count": 59,
     "metadata": {},
     "output_type": "execute_result"
    },
    {
     "data": {
      "image/png": "[encoded data removed]",
      "text/plain": [
       "<Figure size 432x288 with 1 Axes>"
      ]
     },
     "metadata": {
      "needs_background": "light"
     },
     "output_type": "display_data"
    }
   ],
   "source": [
    "first_image = np.array(x_train.T[0])\n",
    "first_image = np.reshape(first_image, (32, 32))\n",
    "plt.imshow(first_image)"
   ]
  },
  {
   "cell_type": "code",
   "execution_count": 60,
   "id": "a47dba6e",
   "metadata": {},
   "outputs": [
    {
     "data": {
      "text/plain": [
       "0      0\n",
       "1      0\n",
       "2      0\n",
       "3      0\n",
       "4      0\n",
       "      ..\n",
       "323    2\n",
       "324    2\n",
       "325    2\n",
       "326    2\n",
       "327    2\n",
       "Name: Target, Length: 328, dtype: int32"
      ]
     },
     "execution_count": 60,
     "metadata": {},
     "output_type": "execute_result"
    }
   ],
   "source": [
    "y_val"
   ]
  },
  {
   "cell_type": "code",
   "execution_count": 61,
   "id": "d65f8026",
   "metadata": {
    "scrolled": true
   },
   "outputs": [
    {
     "data": {
      "text/plain": [
       "array([0, 0, 0, 0, 0, 2, 0, 1, 0, 0, 0, 0, 0, 0, 0, 0, 0, 0, 0, 0, 0, 0,\n",
       "       0, 0, 0, 0, 0, 2, 0, 0, 0, 0, 0, 0, 0, 0, 0, 0, 0, 0, 0, 1, 0, 0,\n",
       "       0, 0, 2, 0, 2, 0, 2, 0, 0, 0, 0, 0, 0, 0, 0, 0, 2, 0, 0, 0, 0, 0,\n",
       "       0, 0, 0, 0, 0, 0, 0, 0, 0, 0, 0, 0, 0, 0, 0, 0, 0, 0, 0, 0, 0, 0,\n",
       "       0, 0, 0, 0, 0, 0, 0, 0, 0, 0, 0, 0, 0, 0, 0, 0, 0, 0, 0, 0, 0, 1,\n",
       "       2, 1, 1, 1, 1, 1, 1, 2, 1, 1, 1, 1, 1, 1, 1, 1, 1, 1, 1, 1, 2, 1,\n",
       "       1, 1, 2, 1, 1, 1, 1, 1, 1, 1, 1, 1, 1, 2, 1, 1, 1, 1, 1, 1, 1, 1,\n",
       "       1, 1, 0, 1, 1, 1, 1, 1, 1, 1, 0, 1, 1, 1, 1, 1, 1, 1, 1, 1, 1, 1,\n",
       "       0, 1, 1, 1, 1, 1, 1, 2, 1, 1, 1, 1, 1, 1, 1, 1, 1, 0, 1, 1, 1, 1,\n",
       "       1, 1, 1, 1, 1, 1, 1, 2, 2, 1, 1, 1, 1, 1, 1, 1, 1, 2, 2, 2, 2, 2,\n",
       "       0, 2, 2, 2, 2, 2, 2, 2, 2, 2, 2, 2, 2, 2, 0, 0, 2, 2, 2, 2, 2, 2,\n",
       "       2, 2, 2, 2, 2, 2, 2, 2, 2, 2, 2, 2, 2, 2, 2, 2, 2, 2, 2, 2, 2, 2,\n",
       "       2, 2, 2, 2, 2, 2, 2, 2, 2, 2, 2, 2, 2, 2, 2, 2, 2, 2, 2, 2, 2, 2,\n",
       "       2, 2, 2, 2, 2, 2, 2, 2, 2, 2, 2, 1, 2, 2, 2, 2, 2, 2, 2, 2, 2, 2,\n",
       "       2, 2, 2, 2, 2, 2, 2, 2, 2, 2, 2, 2, 2, 2, 2, 2, 2, 2, 2, 2])"
      ]
     },
     "execution_count": 61,
     "metadata": {},
     "output_type": "execute_result"
    }
   ],
   "source": [
    "y_pred_val"
   ]
  },
  {
   "cell_type": "markdown",
   "id": "42da2984",
   "metadata": {},
   "source": [
    "### Compare misclassified and correctly classified images"
   ]
  },
  {
   "cell_type": "code",
   "execution_count": 68,
   "id": "48cd4897",
   "metadata": {},
   "outputs": [],
   "source": [
    "missclassified_indices = []\n",
    "for i in range(0,y_val.size):\n",
    "    if y_val[i] != y_pred_val[i]:\n",
    "        missclassified_indices.append(i)"
   ]
  },
  {
   "cell_type": "code",
   "execution_count": 69,
   "id": "8bd054e0",
   "metadata": {},
   "outputs": [
    {
     "data": {
      "text/plain": [
       "[5,\n",
       " 7,\n",
       " 27,\n",
       " 41,\n",
       " 46,\n",
       " 48,\n",
       " 50,\n",
       " 60,\n",
       " 110,\n",
       " 117,\n",
       " 130,\n",
       " 134,\n",
       " 145,\n",
       " 156,\n",
       " 164,\n",
       " 176,\n",
       " 183,\n",
       " 193,\n",
       " 205,\n",
       " 206,\n",
       " 215,\n",
       " 220,\n",
       " 234,\n",
       " 235,\n",
       " 297]"
      ]
     },
     "execution_count": 69,
     "metadata": {},
     "output_type": "execute_result"
    }
   ],
   "source": [
    "missclassified_indices"
   ]
  },
  {
   "cell_type": "code",
   "execution_count": 75,
   "id": "8cc7cd27",
   "metadata": {},
   "outputs": [
    {
     "name": "stdout",
     "output_type": "stream",
     "text": [
      "Predicted class 2\n",
      "Actual class 0\n"
     ]
    },
    {
     "data": {
      "image/png": "[encoded data removed]",
      "text/plain": [
       "<Figure size 432x288 with 1 Axes>"
      ]
     },
     "metadata": {
      "needs_background": "light"
     },
     "output_type": "display_data"
    }
   ],
   "source": [
    "plt.imshow(np.reshape(np.array(x_val.T[5]), (32, 32)))\n",
    "print(\"Predicted class\",y_pred_val[5])\n",
    "print(\"Actual class\",y_val[5])"
   ]
  },
  {
   "cell_type": "code",
   "execution_count": 76,
   "id": "f3b27c7c",
   "metadata": {},
   "outputs": [
    {
     "name": "stdout",
     "output_type": "stream",
     "text": [
      "Predicted class 1\n",
      "Actual class 0\n"
     ]
    },
    {
     "data": {
      "image/png": "[encoded data removed]",
      "text/plain": [
       "<Figure size 432x288 with 1 Axes>"
      ]
     },
     "metadata": {
      "needs_background": "light"
     },
     "output_type": "display_data"
    }
   ],
   "source": [
    "plt.imshow(np.reshape(np.array(x_val.T[7]), (32, 32)))\n",
    "print(\"Predicted class\",y_pred_val[7])\n",
    "print(\"Actual class\",y_val[7])"
   ]
  },
  {
   "cell_type": "code",
   "execution_count": 80,
   "id": "3c8cdb5c",
   "metadata": {},
   "outputs": [
    {
     "name": "stdout",
     "output_type": "stream",
     "text": [
      "Predicted class 0\n",
      "Actual class 0\n"
     ]
    },
    {
     "data": {
      "image/png": "[encoded data removed]",
      "text/plain": [
       "<Figure size 432x288 with 1 Axes>"
      ]
     },
     "metadata": {
      "needs_background": "light"
     },
     "output_type": "display_data"
    }
   ],
   "source": [
    "plt.imshow(np.reshape(np.array(x_val.T[6]), (32, 32)))\n",
    "print(\"Predicted class\",y_pred_val[6])\n",
    "print(\"Actual class\",y_val[6])"
   ]
  },
  {
   "cell_type": "code",
   "execution_count": 77,
   "id": "73f2ce72",
   "metadata": {},
   "outputs": [
    {
     "name": "stdout",
     "output_type": "stream",
     "text": [
      "Predicted class 2\n",
      "Actual class 1\n"
     ]
    },
    {
     "data": {
      "image/png": "[encoded data removed]",
      "text/plain": [
       "<Figure size 432x288 with 1 Axes>"
      ]
     },
     "metadata": {
      "needs_background": "light"
     },
     "output_type": "display_data"
    }
   ],
   "source": [
    "plt.imshow(np.reshape(np.array(x_val.T[130]), (32, 32)))\n",
    "print(\"Predicted class\",y_pred_val[130])\n",
    "print(\"Actual class\",y_val[130])"
   ]
  },
  {
   "cell_type": "code",
   "execution_count": 81,
   "id": "a47a5b19",
   "metadata": {},
   "outputs": [
    {
     "name": "stdout",
     "output_type": "stream",
     "text": [
      "Predicted class 1\n",
      "Actual class 1\n"
     ]
    },
    {
     "data": {
      "image/png": "[encoded data removed]",
      "text/plain": [
       "<Figure size 432x288 with 1 Axes>"
      ]
     },
     "metadata": {
      "needs_background": "light"
     },
     "output_type": "display_data"
    }
   ],
   "source": [
    "plt.imshow(np.reshape(np.array(x_val.T[131]), (32, 32)))\n",
    "print(\"Predicted class\",y_pred_val[131])\n",
    "print(\"Actual class\",y_val[131])"
   ]
  },
  {
   "cell_type": "code",
   "execution_count": 79,
   "id": "f600fb36",
   "metadata": {},
   "outputs": [
    {
     "name": "stdout",
     "output_type": "stream",
     "text": [
      "Predicted class 1\n",
      "Actual class 2\n"
     ]
    },
    {
     "data": {
      "image/png": "[encoded data removed]",
      "text/plain": [
       "<Figure size 432x288 with 1 Axes>"
      ]
     },
     "metadata": {
      "needs_background": "light"
     },
     "output_type": "display_data"
    }
   ],
   "source": [
    "plt.imshow(np.reshape(np.array(x_val.T[297]), (32, 32)))\n",
    "print(\"Predicted class\",y_pred_val[297])\n",
    "print(\"Actual class\",y_val[297])"
   ]
  },
  {
   "cell_type": "code",
   "execution_count": 82,
   "id": "ec347bbe",
   "metadata": {},
   "outputs": [
    {
     "name": "stdout",
     "output_type": "stream",
     "text": [
      "Predicted class 2\n",
      "Actual class 2\n"
     ]
    },
    {
     "data": {
      "image/png": "[encoded data removed]",
      "text/plain": [
       "<Figure size 432x288 with 1 Axes>"
      ]
     },
     "metadata": {
      "needs_background": "light"
     },
     "output_type": "display_data"
    }
   ],
   "source": [
    "plt.imshow(np.reshape(np.array(x_val.T[298]), (32, 32)))\n",
    "print(\"Predicted class\",y_pred_val[298])\n",
    "print(\"Actual class\",y_val[298])"
   ]
  },
  {
   "cell_type": "markdown",
   "id": "0512de34",
   "metadata": {},
   "source": [
    "### Test model on new dataset: 3 images of my own hand from each class"
   ]
  },
  {
   "cell_type": "code",
   "execution_count": 18,
   "id": "96756876",
   "metadata": {},
   "outputs": [
    {
     "name": "stdout",
     "output_type": "stream",
     "text": [
      "loaded category:rock successfully for train\n",
      "loaded category:paper successfully for train\n",
      "loaded category:scissors successfully for train\n"
     ]
    }
   ],
   "source": [
    "Categories=['rock','paper','scissors']\n",
    "self_test_dir = 'rps-self'\n",
    "\n",
    "flat_data_arr=[] #input array\n",
    "target_arr=[] #output array\n",
    "for i in Categories:\n",
    "    path=os.path.join(self_test_dir,i)\n",
    "    for img in os.listdir(path):\n",
    "        img_array=imread(os.path.join(path,img))\n",
    "        img_resized=resize(img_array,(32,32,1))\n",
    "        flat_data_arr.append(img_resized.flatten())\n",
    "        target_arr.append(Categories.index(i))\n",
    "    print(f'loaded category:{i} successfully for train')\n",
    "flat_data=np.array(flat_data_arr)\n",
    "target=np.array(target_arr)\n",
    "df=pd.DataFrame(flat_data) #dataframe\n",
    "df['Target']=target\n",
    "self_test=df.iloc[:,:-1] #input data\n",
    "y_self_test=df.iloc[:,-1] #output data"
   ]
  },
  {
   "cell_type": "code",
   "execution_count": 19,
   "id": "0d480156",
   "metadata": {},
   "outputs": [
    {
     "data": {
      "text/html": [
       "<div>\n",
       "<style scoped>\n",
       "    .dataframe tbody tr th:only-of-type {\n",
       "        vertical-align: middle;\n",
       "    }\n",
       "\n",
       "    .dataframe tbody tr th {\n",
       "        vertical-align: top;\n",
       "    }\n",
       "\n",
       "    .dataframe thead th {\n",
       "        text-align: right;\n",
       "    }\n",
       "</style>\n",
       "<table border=\"1\" class=\"dataframe\">\n",
       "  <thead>\n",
       "    <tr style=\"text-align: right;\">\n",
       "      <th></th>\n",
       "      <th>0</th>\n",
       "      <th>1</th>\n",
       "      <th>2</th>\n",
       "      <th>3</th>\n",
       "      <th>4</th>\n",
       "      <th>5</th>\n",
       "      <th>6</th>\n",
       "      <th>7</th>\n",
       "      <th>8</th>\n",
       "      <th>9</th>\n",
       "      <th>...</th>\n",
       "      <th>1014</th>\n",
       "      <th>1015</th>\n",
       "      <th>1016</th>\n",
       "      <th>1017</th>\n",
       "      <th>1018</th>\n",
       "      <th>1019</th>\n",
       "      <th>1020</th>\n",
       "      <th>1021</th>\n",
       "      <th>1022</th>\n",
       "      <th>1023</th>\n",
       "    </tr>\n",
       "  </thead>\n",
       "  <tbody>\n",
       "    <tr>\n",
       "      <th>0</th>\n",
       "      <td>0.178039</td>\n",
       "      <td>0.182196</td>\n",
       "      <td>0.165139</td>\n",
       "      <td>0.172490</td>\n",
       "      <td>0.176392</td>\n",
       "      <td>0.166528</td>\n",
       "      <td>0.174237</td>\n",
       "      <td>0.190188</td>\n",
       "      <td>0.197409</td>\n",
       "      <td>0.186793</td>\n",
       "      <td>...</td>\n",
       "      <td>0.140960</td>\n",
       "      <td>0.133996</td>\n",
       "      <td>0.109639</td>\n",
       "      <td>0.111961</td>\n",
       "      <td>0.111690</td>\n",
       "      <td>0.111101</td>\n",
       "      <td>0.112002</td>\n",
       "      <td>0.107377</td>\n",
       "      <td>0.101553</td>\n",
       "      <td>0.113385</td>\n",
       "    </tr>\n",
       "    <tr>\n",
       "      <th>1</th>\n",
       "      <td>0.143245</td>\n",
       "      <td>0.153305</td>\n",
       "      <td>0.164382</td>\n",
       "      <td>0.168630</td>\n",
       "      <td>0.161523</td>\n",
       "      <td>0.167237</td>\n",
       "      <td>0.162833</td>\n",
       "      <td>0.183976</td>\n",
       "      <td>0.197247</td>\n",
       "      <td>0.183611</td>\n",
       "      <td>...</td>\n",
       "      <td>0.090048</td>\n",
       "      <td>0.092607</td>\n",
       "      <td>0.085328</td>\n",
       "      <td>0.089864</td>\n",
       "      <td>0.098328</td>\n",
       "      <td>0.087142</td>\n",
       "      <td>0.094777</td>\n",
       "      <td>0.100788</td>\n",
       "      <td>0.104504</td>\n",
       "      <td>0.107505</td>\n",
       "    </tr>\n",
       "    <tr>\n",
       "      <th>2</th>\n",
       "      <td>0.176348</td>\n",
       "      <td>0.201244</td>\n",
       "      <td>0.195703</td>\n",
       "      <td>0.200994</td>\n",
       "      <td>0.195285</td>\n",
       "      <td>0.198313</td>\n",
       "      <td>0.202585</td>\n",
       "      <td>0.227009</td>\n",
       "      <td>0.236194</td>\n",
       "      <td>0.218017</td>\n",
       "      <td>...</td>\n",
       "      <td>0.150978</td>\n",
       "      <td>0.154657</td>\n",
       "      <td>0.170402</td>\n",
       "      <td>0.172479</td>\n",
       "      <td>0.163641</td>\n",
       "      <td>0.151358</td>\n",
       "      <td>0.144133</td>\n",
       "      <td>0.143959</td>\n",
       "      <td>0.132867</td>\n",
       "      <td>0.109082</td>\n",
       "    </tr>\n",
       "    <tr>\n",
       "      <th>3</th>\n",
       "      <td>0.156532</td>\n",
       "      <td>0.170136</td>\n",
       "      <td>0.183074</td>\n",
       "      <td>0.169675</td>\n",
       "      <td>0.160600</td>\n",
       "      <td>0.173977</td>\n",
       "      <td>0.175296</td>\n",
       "      <td>0.179433</td>\n",
       "      <td>0.198849</td>\n",
       "      <td>0.203328</td>\n",
       "      <td>...</td>\n",
       "      <td>0.185190</td>\n",
       "      <td>0.177184</td>\n",
       "      <td>0.180812</td>\n",
       "      <td>0.161494</td>\n",
       "      <td>0.173493</td>\n",
       "      <td>0.170275</td>\n",
       "      <td>0.146008</td>\n",
       "      <td>0.166176</td>\n",
       "      <td>0.182307</td>\n",
       "      <td>0.172834</td>\n",
       "    </tr>\n",
       "    <tr>\n",
       "      <th>4</th>\n",
       "      <td>0.176548</td>\n",
       "      <td>0.178792</td>\n",
       "      <td>0.208152</td>\n",
       "      <td>0.189680</td>\n",
       "      <td>0.181414</td>\n",
       "      <td>0.171399</td>\n",
       "      <td>0.187340</td>\n",
       "      <td>0.193791</td>\n",
       "      <td>0.206729</td>\n",
       "      <td>0.202104</td>\n",
       "      <td>...</td>\n",
       "      <td>0.175421</td>\n",
       "      <td>0.174297</td>\n",
       "      <td>0.179069</td>\n",
       "      <td>0.159136</td>\n",
       "      <td>0.144950</td>\n",
       "      <td>0.156650</td>\n",
       "      <td>0.155396</td>\n",
       "      <td>0.171002</td>\n",
       "      <td>0.189619</td>\n",
       "      <td>0.178380</td>\n",
       "    </tr>\n",
       "    <tr>\n",
       "      <th>5</th>\n",
       "      <td>0.218505</td>\n",
       "      <td>0.194592</td>\n",
       "      <td>0.182571</td>\n",
       "      <td>0.211803</td>\n",
       "      <td>0.201469</td>\n",
       "      <td>0.186450</td>\n",
       "      <td>0.182295</td>\n",
       "      <td>0.201280</td>\n",
       "      <td>0.196275</td>\n",
       "      <td>0.223188</td>\n",
       "      <td>...</td>\n",
       "      <td>0.201933</td>\n",
       "      <td>0.188073</td>\n",
       "      <td>0.194983</td>\n",
       "      <td>0.187534</td>\n",
       "      <td>0.169350</td>\n",
       "      <td>0.191301</td>\n",
       "      <td>0.164963</td>\n",
       "      <td>0.150963</td>\n",
       "      <td>0.180181</td>\n",
       "      <td>0.181682</td>\n",
       "    </tr>\n",
       "    <tr>\n",
       "      <th>6</th>\n",
       "      <td>0.229906</td>\n",
       "      <td>0.226549</td>\n",
       "      <td>0.223941</td>\n",
       "      <td>0.266388</td>\n",
       "      <td>0.253189</td>\n",
       "      <td>0.241487</td>\n",
       "      <td>0.230407</td>\n",
       "      <td>0.228665</td>\n",
       "      <td>0.220661</td>\n",
       "      <td>0.252231</td>\n",
       "      <td>...</td>\n",
       "      <td>0.226982</td>\n",
       "      <td>0.239590</td>\n",
       "      <td>0.207875</td>\n",
       "      <td>0.192654</td>\n",
       "      <td>0.205396</td>\n",
       "      <td>0.207685</td>\n",
       "      <td>0.232830</td>\n",
       "      <td>0.221853</td>\n",
       "      <td>0.192103</td>\n",
       "      <td>0.216310</td>\n",
       "    </tr>\n",
       "    <tr>\n",
       "      <th>7</th>\n",
       "      <td>0.223898</td>\n",
       "      <td>0.237708</td>\n",
       "      <td>0.232963</td>\n",
       "      <td>0.256087</td>\n",
       "      <td>0.248619</td>\n",
       "      <td>0.251376</td>\n",
       "      <td>0.275604</td>\n",
       "      <td>0.259643</td>\n",
       "      <td>0.252373</td>\n",
       "      <td>0.256310</td>\n",
       "      <td>...</td>\n",
       "      <td>0.227808</td>\n",
       "      <td>0.241162</td>\n",
       "      <td>0.234708</td>\n",
       "      <td>0.247154</td>\n",
       "      <td>0.233753</td>\n",
       "      <td>0.234250</td>\n",
       "      <td>0.244511</td>\n",
       "      <td>0.215764</td>\n",
       "      <td>0.243997</td>\n",
       "      <td>0.262670</td>\n",
       "    </tr>\n",
       "    <tr>\n",
       "      <th>8</th>\n",
       "      <td>0.213048</td>\n",
       "      <td>0.228964</td>\n",
       "      <td>0.218947</td>\n",
       "      <td>0.203342</td>\n",
       "      <td>0.212881</td>\n",
       "      <td>0.227640</td>\n",
       "      <td>0.252077</td>\n",
       "      <td>0.247121</td>\n",
       "      <td>0.233355</td>\n",
       "      <td>0.232729</td>\n",
       "      <td>...</td>\n",
       "      <td>0.243442</td>\n",
       "      <td>0.239191</td>\n",
       "      <td>0.233412</td>\n",
       "      <td>0.236160</td>\n",
       "      <td>0.203854</td>\n",
       "      <td>0.221795</td>\n",
       "      <td>0.217661</td>\n",
       "      <td>0.201253</td>\n",
       "      <td>0.211146</td>\n",
       "      <td>0.206282</td>\n",
       "    </tr>\n",
       "  </tbody>\n",
       "</table>\n",
       "<p>9 rows × 1024 columns</p>\n",
       "</div>"
      ],
      "text/plain": [
       "       0         1         2         3         4         5         6     \\\n",
       "0  0.178039  0.182196  0.165139  0.172490  0.176392  0.166528  0.174237   \n",
       "1  0.143245  0.153305  0.164382  0.168630  0.161523  0.167237  0.162833   \n",
       "2  0.176348  0.201244  0.195703  0.200994  0.195285  0.198313  0.202585   \n",
       "3  0.156532  0.170136  0.183074  0.169675  0.160600  0.173977  0.175296   \n",
       "4  0.176548  0.178792  0.208152  0.189680  0.181414  0.171399  0.187340   \n",
       "5  0.218505  0.194592  0.182571  0.211803  0.201469  0.186450  0.182295   \n",
       "6  0.229906  0.226549  0.223941  0.266388  0.253189  0.241487  0.230407   \n",
       "7  0.223898  0.237708  0.232963  0.256087  0.248619  0.251376  0.275604   \n",
       "8  0.213048  0.228964  0.218947  0.203342  0.212881  0.227640  0.252077   \n",
       "\n",
       "       7         8         9     ...      1014      1015      1016      1017  \\\n",
       "0  0.190188  0.197409  0.186793  ...  0.140960  0.133996  0.109639  0.111961   \n",
       "1  0.183976  0.197247  0.183611  ...  0.090048  0.092607  0.085328  0.089864   \n",
       "2  0.227009  0.236194  0.218017  ...  0.150978  0.154657  0.170402  0.172479   \n",
       "3  0.179433  0.198849  0.203328  ...  0.185190  0.177184  0.180812  0.161494   \n",
       "4  0.193791  0.206729  0.202104  ...  0.175421  0.174297  0.179069  0.159136   \n",
       "5  0.201280  0.196275  0.223188  ...  0.201933  0.188073  0.194983  0.187534   \n",
       "6  0.228665  0.220661  0.252231  ...  0.226982  0.239590  0.207875  0.192654   \n",
       "7  0.259643  0.252373  0.256310  ...  0.227808  0.241162  0.234708  0.247154   \n",
       "8  0.247121  0.233355  0.232729  ...  0.243442  0.239191  0.233412  0.236160   \n",
       "\n",
       "       1018      1019      1020      1021      1022      1023  \n",
       "0  0.111690  0.111101  0.112002  0.107377  0.101553  0.113385  \n",
       "1  0.098328  0.087142  0.094777  0.100788  0.104504  0.107505  \n",
       "2  0.163641  0.151358  0.144133  0.143959  0.132867  0.109082  \n",
       "3  0.173493  0.170275  0.146008  0.166176  0.182307  0.172834  \n",
       "4  0.144950  0.156650  0.155396  0.171002  0.189619  0.178380  \n",
       "5  0.169350  0.191301  0.164963  0.150963  0.180181  0.181682  \n",
       "6  0.205396  0.207685  0.232830  0.221853  0.192103  0.216310  \n",
       "7  0.233753  0.234250  0.244511  0.215764  0.243997  0.262670  \n",
       "8  0.203854  0.221795  0.217661  0.201253  0.211146  0.206282  \n",
       "\n",
       "[9 rows x 1024 columns]"
      ]
     },
     "execution_count": 19,
     "metadata": {},
     "output_type": "execute_result"
    }
   ],
   "source": [
    "self_test"
   ]
  },
  {
   "cell_type": "code",
   "execution_count": 12,
   "id": "740f7545",
   "metadata": {},
   "outputs": [],
   "source": [
    "from PIL import Image as im"
   ]
  },
  {
   "cell_type": "code",
   "execution_count": 29,
   "id": "517504d0",
   "metadata": {},
   "outputs": [
    {
     "data": {
      "text/plain": [
       "<matplotlib.image.AxesImage at 0x21db30b2f10>"
      ]
     },
     "execution_count": 29,
     "metadata": {},
     "output_type": "execute_result"
    },
    {
     "data": {
      "image/png": "[encoded data removed]",
      "text/plain": [
       "<Figure size 432x288 with 1 Axes>"
      ]
     },
     "metadata": {
      "needs_background": "light"
     },
     "output_type": "display_data"
    }
   ],
   "source": [
    "plt.imshow(np.reshape(np.array(self_test.T[8]), (32, 32)))"
   ]
  },
  {
   "cell_type": "code",
   "execution_count": 21,
   "id": "c10af4b5",
   "metadata": {},
   "outputs": [],
   "source": [
    "best_model = svm.SVC(kernel='rbf', gamma=0.1, C=10).fit(x_train, y_train)"
   ]
  },
  {
   "cell_type": "code",
   "execution_count": 22,
   "id": "b01e4130",
   "metadata": {},
   "outputs": [
    {
     "data": {
      "text/plain": [
       "array([2, 2, 2, 2, 2, 2, 2, 2, 2])"
      ]
     },
     "execution_count": 22,
     "metadata": {},
     "output_type": "execute_result"
    }
   ],
   "source": [
    "best_model.predict(self_test)"
   ]
  },
  {
   "cell_type": "markdown",
   "id": "328f9e46",
   "metadata": {},
   "source": [
    "### RBF classifies all new images as scissors"
   ]
  },
  {
   "cell_type": "code",
   "execution_count": 30,
   "id": "f376cf7d",
   "metadata": {},
   "outputs": [],
   "source": [
    "poly_model = svm.SVC(C=0.1, kernel='poly',degree=5).fit(x_train, y_train)"
   ]
  },
  {
   "cell_type": "code",
   "execution_count": 31,
   "id": "6aa6e695",
   "metadata": {},
   "outputs": [
    {
     "data": {
      "text/plain": [
       "array([2, 2, 2, 0, 0, 0, 2, 2, 2])"
      ]
     },
     "execution_count": 31,
     "metadata": {},
     "output_type": "execute_result"
    }
   ],
   "source": [
    "poly_model.predict(self_test)"
   ]
  },
  {
   "cell_type": "markdown",
   "id": "77523712",
   "metadata": {},
   "source": [
    "### Polynomial model confuses rock for scissors and paper for rock"
   ]
  },
  {
   "cell_type": "code",
   "execution_count": 32,
   "id": "6bea619f",
   "metadata": {},
   "outputs": [],
   "source": [
    "linear_model = svm.SVC(C=0.1, kernel='linear').fit(x_train, y_train)"
   ]
  },
  {
   "cell_type": "code",
   "execution_count": 33,
   "id": "be23c9fe",
   "metadata": {},
   "outputs": [
    {
     "data": {
      "text/plain": [
       "array([1, 1, 1, 1, 1, 1, 1, 2, 1])"
      ]
     },
     "execution_count": 33,
     "metadata": {},
     "output_type": "execute_result"
    }
   ],
   "source": [
    "linear_model.predict(self_test)"
   ]
  },
  {
   "cell_type": "markdown",
   "id": "a9d67587",
   "metadata": {},
   "source": [
    "### Linear model predicts nearly all as paper"
   ]
  }
 ],
 "metadata": {
  "kernelspec": {
   "display_name": "Python 3 (ipykernel)",
   "language": "python",
   "name": "python3"
  },
  "language_info": {
   "codemirror_mode": {
    "name": "ipython",
    "version": 3
   },
   "file_extension": ".py",
   "mimetype": "text/x-python",
   "name": "python",
   "nbconvert_exporter": "python",
   "pygments_lexer": "ipython3",
   "version": "3.9.12"
  }
 },
 "nbformat": 4,
 "nbformat_minor": 5
}
