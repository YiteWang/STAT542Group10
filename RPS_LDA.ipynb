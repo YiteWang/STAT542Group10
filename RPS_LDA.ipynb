{
 "cells": [
  {
   "cell_type": "code",
   "execution_count": 1,
   "id": "740d3fea",
   "metadata": {},
   "outputs": [
    {
     "name": "stderr",
     "output_type": "stream",
     "text": [
      "2023-03-16 22:02:11.565380: I tensorflow/core/platform/cpu_feature_guard.cc:193] This TensorFlow binary is optimized with oneAPI Deep Neural Network Library (oneDNN) to use the following CPU instructions in performance-critical operations:  AVX2 FMA\n",
      "To enable them in other operations, rebuild TensorFlow with the appropriate compiler flags.\n"
     ]
    }
   ],
   "source": [
    "import numpy as np\n",
    "import pandas as pd\n",
    "import matplotlib.pyplot as plt\n",
    "import os\n",
    "from tensorflow.keras.preprocessing.image import ImageDataGenerator, load_img\n",
    "import cv2\n",
    "from skimage.transform import resize\n",
    "from skimage.io import imread\n",
    "from sklearn.utils import shuffle\n",
    "import random\n",
    "from sklearn.metrics import classification_report, confusion_matrix, accuracy_score\n",
    "\n",
    "import warnings\n",
    "warnings.filterwarnings(\"ignore\", message=\"divide by zero encountered in double_scalars\")\n"
   ]
  },
  {
   "cell_type": "markdown",
   "id": "648deaae",
   "metadata": {},
   "source": [
    "# Preprocessing Image Data "
   ]
  },
  {
   "cell_type": "code",
   "execution_count": 94,
   "id": "634bfbcc",
   "metadata": {},
   "outputs": [
    {
     "name": "stdout",
     "output_type": "stream",
     "text": [
      "loaded category:rock successfully for train\n",
      "loaded category:paper successfully for train\n",
      "loaded category:scissors successfully for train\n",
      "loaded category:rock successfully for test\n",
      "loaded category:paper successfully for test\n",
      "loaded category:scissors successfully for test\n",
      "loaded category:rock successfully for val\n",
      "loaded category:paper successfully for val\n",
      "loaded category:scissors successfully for val\n"
     ]
    }
   ],
   "source": [
    "Categories=['rock','paper','scissors']\n",
    "train_dir = '/Users/hanyijia/Desktop/Midterm_Project/rps-split/train'\n",
    "test_dir = '/Users/hanyijia/Desktop/Midterm_Project/rps-split/test'\n",
    "val_dir = '/Users/hanyijia/Desktop/Midterm_Project/rps-split/val'\n",
    "\n",
    "flat_data_arr=[] #input array\n",
    "target_arr=[] #output array\n",
    "for i in Categories:\n",
    "    path=os.path.join(train_dir,i)\n",
    "    for img in os.listdir(path):\n",
    "        img_array=imread(os.path.join(path,img))\n",
    "        img_resized=resize(img_array,(32,32,1))\n",
    "        flat_data_arr.append(img_resized.flatten())\n",
    "        target_arr.append(Categories.index(i))\n",
    "    print(f'loaded category:{i} successfully for train')\n",
    "flat_data=np.array(flat_data_arr)\n",
    "target=np.array(target_arr)\n",
    "df=pd.DataFrame(flat_data) #dataframe\n",
    "df['Target']=target\n",
    "x_train=df.iloc[:,:-1] #input data \n",
    "y_train=df.iloc[:,-1] #output data\n",
    "x_train=x_train.sample(frac=1, random_state=42).reset_index(drop=True)\n",
    "y_train=y_train.sample(frac=1, random_state=42).reset_index(drop=True)\n",
    "\n",
    "\n",
    "\n",
    "flat_data_arr=[] #input array\n",
    "target_arr=[] #output array\n",
    "for i in Categories:\n",
    "    path=os.path.join(test_dir,i)\n",
    "    for img in os.listdir(path):\n",
    "        img_array=imread(os.path.join(path,img))\n",
    "        img_resized=resize(img_array,(32,32,1))\n",
    "        flat_data_arr.append(img_resized.flatten())\n",
    "        target_arr.append(Categories.index(i))\n",
    "    print(f'loaded category:{i} successfully for test')\n",
    "flat_data=np.array(flat_data_arr)\n",
    "target=np.array(target_arr)\n",
    "df=pd.DataFrame(flat_data) #dataframe\n",
    "df['Target']=target\n",
    "x_test=df.iloc[:,:-1] #input data \n",
    "y_test=df.iloc[:,-1] #output data\n",
    "\n",
    "flat_data_arr=[] #input array\n",
    "target_arr=[] #output array\n",
    "for i in Categories:\n",
    "    path=os.path.join(val_dir,i)\n",
    "    for img in os.listdir(path):\n",
    "        img_array=imread(os.path.join(path,img))\n",
    "        img_resized=resize(img_array,(32,32,1))\n",
    "        flat_data_arr.append(img_resized.flatten())\n",
    "        target_arr.append(Categories.index(i))\n",
    "    print(f'loaded category:{i} successfully for val')\n",
    "flat_data=np.array(flat_data_arr)\n",
    "target=np.array(target_arr)\n",
    "df=pd.DataFrame(flat_data) #dataframe\n",
    "df['Target']=target\n",
    "x_val=df.iloc[:,:-1] #input data \n",
    "y_val=df.iloc[:,-1] #output data"
   ]
  },
  {
   "cell_type": "code",
   "execution_count": 8,
   "id": "9551e7da",
   "metadata": {},
   "outputs": [
    {
     "data": {
      "text/html": [
       "<div>\n",
       "<style scoped>\n",
       "    .dataframe tbody tr th:only-of-type {\n",
       "        vertical-align: middle;\n",
       "    }\n",
       "\n",
       "    .dataframe tbody tr th {\n",
       "        vertical-align: top;\n",
       "    }\n",
       "\n",
       "    .dataframe thead th {\n",
       "        text-align: right;\n",
       "    }\n",
       "</style>\n",
       "<table border=\"1\" class=\"dataframe\">\n",
       "  <thead>\n",
       "    <tr style=\"text-align: right;\">\n",
       "      <th></th>\n",
       "      <th>0</th>\n",
       "      <th>1</th>\n",
       "      <th>2</th>\n",
       "      <th>3</th>\n",
       "      <th>4</th>\n",
       "      <th>5</th>\n",
       "      <th>6</th>\n",
       "      <th>7</th>\n",
       "      <th>8</th>\n",
       "      <th>9</th>\n",
       "      <th>...</th>\n",
       "      <th>1014</th>\n",
       "      <th>1015</th>\n",
       "      <th>1016</th>\n",
       "      <th>1017</th>\n",
       "      <th>1018</th>\n",
       "      <th>1019</th>\n",
       "      <th>1020</th>\n",
       "      <th>1021</th>\n",
       "      <th>1022</th>\n",
       "      <th>1023</th>\n",
       "    </tr>\n",
       "  </thead>\n",
       "  <tbody>\n",
       "    <tr>\n",
       "      <th>0</th>\n",
       "      <td>0.284348</td>\n",
       "      <td>0.297354</td>\n",
       "      <td>0.313321</td>\n",
       "      <td>0.336375</td>\n",
       "      <td>0.348745</td>\n",
       "      <td>0.359453</td>\n",
       "      <td>0.364130</td>\n",
       "      <td>0.370838</td>\n",
       "      <td>0.378704</td>\n",
       "      <td>0.384568</td>\n",
       "      <td>...</td>\n",
       "      <td>0.362042</td>\n",
       "      <td>0.359737</td>\n",
       "      <td>0.354575</td>\n",
       "      <td>0.350273</td>\n",
       "      <td>0.344003</td>\n",
       "      <td>0.336455</td>\n",
       "      <td>0.329440</td>\n",
       "      <td>0.326312</td>\n",
       "      <td>0.321663</td>\n",
       "      <td>0.312047</td>\n",
       "    </tr>\n",
       "    <tr>\n",
       "      <th>1</th>\n",
       "      <td>0.304267</td>\n",
       "      <td>0.309151</td>\n",
       "      <td>0.315684</td>\n",
       "      <td>0.326809</td>\n",
       "      <td>0.334907</td>\n",
       "      <td>0.342741</td>\n",
       "      <td>0.345765</td>\n",
       "      <td>0.349956</td>\n",
       "      <td>0.353411</td>\n",
       "      <td>0.358536</td>\n",
       "      <td>...</td>\n",
       "      <td>0.367493</td>\n",
       "      <td>0.365742</td>\n",
       "      <td>0.360479</td>\n",
       "      <td>0.355597</td>\n",
       "      <td>0.352232</td>\n",
       "      <td>0.343676</td>\n",
       "      <td>0.338224</td>\n",
       "      <td>0.335972</td>\n",
       "      <td>0.331903</td>\n",
       "      <td>0.324436</td>\n",
       "    </tr>\n",
       "    <tr>\n",
       "      <th>2</th>\n",
       "      <td>0.317973</td>\n",
       "      <td>0.321166</td>\n",
       "      <td>0.327402</td>\n",
       "      <td>0.338706</td>\n",
       "      <td>0.344916</td>\n",
       "      <td>0.354000</td>\n",
       "      <td>0.358446</td>\n",
       "      <td>0.363010</td>\n",
       "      <td>0.367416</td>\n",
       "      <td>0.371537</td>\n",
       "      <td>...</td>\n",
       "      <td>0.365138</td>\n",
       "      <td>0.376308</td>\n",
       "      <td>0.378158</td>\n",
       "      <td>0.374654</td>\n",
       "      <td>0.371060</td>\n",
       "      <td>0.363793</td>\n",
       "      <td>0.357014</td>\n",
       "      <td>0.353654</td>\n",
       "      <td>0.348882</td>\n",
       "      <td>0.339495</td>\n",
       "    </tr>\n",
       "    <tr>\n",
       "      <th>3</th>\n",
       "      <td>0.434079</td>\n",
       "      <td>0.443543</td>\n",
       "      <td>0.454310</td>\n",
       "      <td>0.465256</td>\n",
       "      <td>0.473619</td>\n",
       "      <td>0.483946</td>\n",
       "      <td>0.487627</td>\n",
       "      <td>0.493068</td>\n",
       "      <td>0.495262</td>\n",
       "      <td>0.501782</td>\n",
       "      <td>...</td>\n",
       "      <td>0.494751</td>\n",
       "      <td>0.489472</td>\n",
       "      <td>0.481426</td>\n",
       "      <td>0.465708</td>\n",
       "      <td>0.433235</td>\n",
       "      <td>0.401956</td>\n",
       "      <td>0.390577</td>\n",
       "      <td>0.384184</td>\n",
       "      <td>0.377176</td>\n",
       "      <td>0.370118</td>\n",
       "    </tr>\n",
       "    <tr>\n",
       "      <th>4</th>\n",
       "      <td>0.319114</td>\n",
       "      <td>0.321382</td>\n",
       "      <td>0.328557</td>\n",
       "      <td>0.338685</td>\n",
       "      <td>0.343122</td>\n",
       "      <td>0.351620</td>\n",
       "      <td>0.354666</td>\n",
       "      <td>0.358548</td>\n",
       "      <td>0.362823</td>\n",
       "      <td>0.369092</td>\n",
       "      <td>...</td>\n",
       "      <td>0.376347</td>\n",
       "      <td>0.374983</td>\n",
       "      <td>0.370926</td>\n",
       "      <td>0.365676</td>\n",
       "      <td>0.360789</td>\n",
       "      <td>0.353402</td>\n",
       "      <td>0.346790</td>\n",
       "      <td>0.344862</td>\n",
       "      <td>0.340304</td>\n",
       "      <td>0.332514</td>\n",
       "    </tr>\n",
       "    <tr>\n",
       "      <th>...</th>\n",
       "      <td>...</td>\n",
       "      <td>...</td>\n",
       "      <td>...</td>\n",
       "      <td>...</td>\n",
       "      <td>...</td>\n",
       "      <td>...</td>\n",
       "      <td>...</td>\n",
       "      <td>...</td>\n",
       "      <td>...</td>\n",
       "      <td>...</td>\n",
       "      <td>...</td>\n",
       "      <td>...</td>\n",
       "      <td>...</td>\n",
       "      <td>...</td>\n",
       "      <td>...</td>\n",
       "      <td>...</td>\n",
       "      <td>...</td>\n",
       "      <td>...</td>\n",
       "      <td>...</td>\n",
       "      <td>...</td>\n",
       "      <td>...</td>\n",
       "    </tr>\n",
       "    <tr>\n",
       "      <th>1526</th>\n",
       "      <td>0.317458</td>\n",
       "      <td>0.324743</td>\n",
       "      <td>0.334259</td>\n",
       "      <td>0.344573</td>\n",
       "      <td>0.353778</td>\n",
       "      <td>0.363156</td>\n",
       "      <td>0.366968</td>\n",
       "      <td>0.372741</td>\n",
       "      <td>0.377429</td>\n",
       "      <td>0.384629</td>\n",
       "      <td>...</td>\n",
       "      <td>0.385077</td>\n",
       "      <td>0.382807</td>\n",
       "      <td>0.379498</td>\n",
       "      <td>0.377461</td>\n",
       "      <td>0.369716</td>\n",
       "      <td>0.360159</td>\n",
       "      <td>0.354411</td>\n",
       "      <td>0.346691</td>\n",
       "      <td>0.342160</td>\n",
       "      <td>0.338577</td>\n",
       "    </tr>\n",
       "    <tr>\n",
       "      <th>1527</th>\n",
       "      <td>0.317021</td>\n",
       "      <td>0.322916</td>\n",
       "      <td>0.331836</td>\n",
       "      <td>0.342479</td>\n",
       "      <td>0.349516</td>\n",
       "      <td>0.358961</td>\n",
       "      <td>0.364288</td>\n",
       "      <td>0.369521</td>\n",
       "      <td>0.375182</td>\n",
       "      <td>0.382394</td>\n",
       "      <td>...</td>\n",
       "      <td>0.369951</td>\n",
       "      <td>0.365180</td>\n",
       "      <td>0.355349</td>\n",
       "      <td>0.342983</td>\n",
       "      <td>0.332119</td>\n",
       "      <td>0.320491</td>\n",
       "      <td>0.315504</td>\n",
       "      <td>0.316368</td>\n",
       "      <td>0.315536</td>\n",
       "      <td>0.311280</td>\n",
       "    </tr>\n",
       "    <tr>\n",
       "      <th>1528</th>\n",
       "      <td>0.361844</td>\n",
       "      <td>0.364937</td>\n",
       "      <td>0.370878</td>\n",
       "      <td>0.381801</td>\n",
       "      <td>0.390075</td>\n",
       "      <td>0.397263</td>\n",
       "      <td>0.403214</td>\n",
       "      <td>0.409365</td>\n",
       "      <td>0.416429</td>\n",
       "      <td>0.422234</td>\n",
       "      <td>...</td>\n",
       "      <td>0.332812</td>\n",
       "      <td>0.334786</td>\n",
       "      <td>0.331869</td>\n",
       "      <td>0.342953</td>\n",
       "      <td>0.359435</td>\n",
       "      <td>0.361635</td>\n",
       "      <td>0.360172</td>\n",
       "      <td>0.362851</td>\n",
       "      <td>0.361314</td>\n",
       "      <td>0.353466</td>\n",
       "    </tr>\n",
       "    <tr>\n",
       "      <th>1529</th>\n",
       "      <td>0.421583</td>\n",
       "      <td>0.428312</td>\n",
       "      <td>0.434783</td>\n",
       "      <td>0.442705</td>\n",
       "      <td>0.450507</td>\n",
       "      <td>0.456454</td>\n",
       "      <td>0.457194</td>\n",
       "      <td>0.460205</td>\n",
       "      <td>0.463888</td>\n",
       "      <td>0.467979</td>\n",
       "      <td>...</td>\n",
       "      <td>0.416330</td>\n",
       "      <td>0.412189</td>\n",
       "      <td>0.407762</td>\n",
       "      <td>0.403442</td>\n",
       "      <td>0.396639</td>\n",
       "      <td>0.389534</td>\n",
       "      <td>0.387599</td>\n",
       "      <td>0.383056</td>\n",
       "      <td>0.377605</td>\n",
       "      <td>0.375555</td>\n",
       "    </tr>\n",
       "    <tr>\n",
       "      <th>1530</th>\n",
       "      <td>0.292180</td>\n",
       "      <td>0.294607</td>\n",
       "      <td>0.299533</td>\n",
       "      <td>0.306746</td>\n",
       "      <td>0.313347</td>\n",
       "      <td>0.321956</td>\n",
       "      <td>0.326273</td>\n",
       "      <td>0.330961</td>\n",
       "      <td>0.335597</td>\n",
       "      <td>0.342758</td>\n",
       "      <td>...</td>\n",
       "      <td>0.368511</td>\n",
       "      <td>0.366481</td>\n",
       "      <td>0.364243</td>\n",
       "      <td>0.362290</td>\n",
       "      <td>0.359119</td>\n",
       "      <td>0.354633</td>\n",
       "      <td>0.351462</td>\n",
       "      <td>0.346553</td>\n",
       "      <td>0.344060</td>\n",
       "      <td>0.343899</td>\n",
       "    </tr>\n",
       "  </tbody>\n",
       "</table>\n",
       "<p>1531 rows × 1024 columns</p>\n",
       "</div>"
      ],
      "text/plain": [
       "          0         1         2         3         4         5         6     \\\n",
       "0     0.284348  0.297354  0.313321  0.336375  0.348745  0.359453  0.364130   \n",
       "1     0.304267  0.309151  0.315684  0.326809  0.334907  0.342741  0.345765   \n",
       "2     0.317973  0.321166  0.327402  0.338706  0.344916  0.354000  0.358446   \n",
       "3     0.434079  0.443543  0.454310  0.465256  0.473619  0.483946  0.487627   \n",
       "4     0.319114  0.321382  0.328557  0.338685  0.343122  0.351620  0.354666   \n",
       "...        ...       ...       ...       ...       ...       ...       ...   \n",
       "1526  0.317458  0.324743  0.334259  0.344573  0.353778  0.363156  0.366968   \n",
       "1527  0.317021  0.322916  0.331836  0.342479  0.349516  0.358961  0.364288   \n",
       "1528  0.361844  0.364937  0.370878  0.381801  0.390075  0.397263  0.403214   \n",
       "1529  0.421583  0.428312  0.434783  0.442705  0.450507  0.456454  0.457194   \n",
       "1530  0.292180  0.294607  0.299533  0.306746  0.313347  0.321956  0.326273   \n",
       "\n",
       "          7         8         9     ...      1014      1015      1016  \\\n",
       "0     0.370838  0.378704  0.384568  ...  0.362042  0.359737  0.354575   \n",
       "1     0.349956  0.353411  0.358536  ...  0.367493  0.365742  0.360479   \n",
       "2     0.363010  0.367416  0.371537  ...  0.365138  0.376308  0.378158   \n",
       "3     0.493068  0.495262  0.501782  ...  0.494751  0.489472  0.481426   \n",
       "4     0.358548  0.362823  0.369092  ...  0.376347  0.374983  0.370926   \n",
       "...        ...       ...       ...  ...       ...       ...       ...   \n",
       "1526  0.372741  0.377429  0.384629  ...  0.385077  0.382807  0.379498   \n",
       "1527  0.369521  0.375182  0.382394  ...  0.369951  0.365180  0.355349   \n",
       "1528  0.409365  0.416429  0.422234  ...  0.332812  0.334786  0.331869   \n",
       "1529  0.460205  0.463888  0.467979  ...  0.416330  0.412189  0.407762   \n",
       "1530  0.330961  0.335597  0.342758  ...  0.368511  0.366481  0.364243   \n",
       "\n",
       "          1017      1018      1019      1020      1021      1022      1023  \n",
       "0     0.350273  0.344003  0.336455  0.329440  0.326312  0.321663  0.312047  \n",
       "1     0.355597  0.352232  0.343676  0.338224  0.335972  0.331903  0.324436  \n",
       "2     0.374654  0.371060  0.363793  0.357014  0.353654  0.348882  0.339495  \n",
       "3     0.465708  0.433235  0.401956  0.390577  0.384184  0.377176  0.370118  \n",
       "4     0.365676  0.360789  0.353402  0.346790  0.344862  0.340304  0.332514  \n",
       "...        ...       ...       ...       ...       ...       ...       ...  \n",
       "1526  0.377461  0.369716  0.360159  0.354411  0.346691  0.342160  0.338577  \n",
       "1527  0.342983  0.332119  0.320491  0.315504  0.316368  0.315536  0.311280  \n",
       "1528  0.342953  0.359435  0.361635  0.360172  0.362851  0.361314  0.353466  \n",
       "1529  0.403442  0.396639  0.389534  0.387599  0.383056  0.377605  0.375555  \n",
       "1530  0.362290  0.359119  0.354633  0.351462  0.346553  0.344060  0.343899  \n",
       "\n",
       "[1531 rows x 1024 columns]"
      ]
     },
     "execution_count": 8,
     "metadata": {},
     "output_type": "execute_result"
    }
   ],
   "source": [
    "x_train"
   ]
  },
  {
   "cell_type": "code",
   "execution_count": 9,
   "id": "eda1c039",
   "metadata": {},
   "outputs": [
    {
     "data": {
      "text/plain": [
       "0       1\n",
       "1       0\n",
       "2       0\n",
       "3       2\n",
       "4       1\n",
       "       ..\n",
       "1526    2\n",
       "1527    2\n",
       "1528    1\n",
       "1529    2\n",
       "1530    2\n",
       "Name: Target, Length: 1531, dtype: int64"
      ]
     },
     "execution_count": 9,
     "metadata": {},
     "output_type": "execute_result"
    }
   ],
   "source": [
    "y_train"
   ]
  },
  {
   "attachments": {},
   "cell_type": "markdown",
   "id": "021d7fa6",
   "metadata": {},
   "source": [
    "# Model Construction\n",
    "\n",
    "## LDA\n",
    "### Basic Metric"
   ]
  },
  {
   "cell_type": "code",
   "execution_count": 12,
   "id": "ed3c3639",
   "metadata": {},
   "outputs": [],
   "source": [
    "from sklearn.discriminant_analysis import LinearDiscriminantAnalysis\n",
    "from sklearn.model_selection import GridSearchCV\n",
    "from sklearn import metrics \n",
    "from sklearn.metrics import roc_auc_score\n",
    "from sklearn.discriminant_analysis import QuadraticDiscriminantAnalysis\n",
    "from sklearn.metrics import confusion_matrix\n",
    "from sklearn.metrics import classification_report"
   ]
  },
  {
   "cell_type": "code",
   "execution_count": 52,
   "id": "868ab3d4",
   "metadata": {},
   "outputs": [
    {
     "name": "stdout",
     "output_type": "stream",
     "text": [
      "              precision    recall  f1-score   support\n",
      "\n",
      "           0       0.99      0.97      0.98       508\n",
      "           1       0.99      0.99      0.99       498\n",
      "           2       0.97      0.99      0.98       525\n",
      "\n",
      "    accuracy                           0.99      1531\n",
      "   macro avg       0.99      0.99      0.99      1531\n",
      "weighted avg       0.99      0.99      0.99      1531\n",
      "\n"
     ]
    }
   ],
   "source": [
    "# Basic Metric\n",
    "\n",
    "model = LinearDiscriminantAnalysis()\n",
    "X_lda = model.fit(x_train, y_train).transform(x_train)\n",
    "y_pred= model.predict(x_train)\n",
    "#model.decision_function(x_train)\n",
    "confusion_matrix(y_train, y_pred)\n",
    "print(classification_report(y_train, y_pred))\n"
   ]
  },
  {
   "cell_type": "code",
   "execution_count": 57,
   "id": "facd7b86",
   "metadata": {},
   "outputs": [
    {
     "name": "stdout",
     "output_type": "stream",
     "text": [
      "[[79 17 13]\n",
      " [22 63 22]\n",
      " [33 18 62]]\n",
      "              precision    recall  f1-score   support\n",
      "\n",
      "           0       0.59      0.72      0.65       109\n",
      "           1       0.64      0.59      0.61       107\n",
      "           2       0.64      0.55      0.59       113\n",
      "\n",
      "    accuracy                           0.62       329\n",
      "   macro avg       0.62      0.62      0.62       329\n",
      "weighted avg       0.62      0.62      0.62       329\n",
      "\n"
     ]
    }
   ],
   "source": [
    "y_pred2 = model.predict(x_test)\n",
    "#model.decision_function(x_test)\n",
    "cm2 = confusion_matrix(y_test, y_pred2)\n",
    "\n",
    "print(cm2)\n",
    "print(classification_report(y_test, y_pred2))"
   ]
  },
  {
   "attachments": {},
   "cell_type": "markdown",
   "id": "67f7ac8e",
   "metadata": {},
   "source": [
    "### LDA  - lsqr & eigen"
   ]
  },
  {
   "cell_type": "code",
   "execution_count": 84,
   "id": "aac6700d",
   "metadata": {},
   "outputs": [],
   "source": [
    "#Parameter tuning with GridSearchCV \n",
    "\n",
    "\n",
    "estimator_1 = LinearDiscriminantAnalysis(shrinkage='auto')\n",
    "parameters_1 = {\n",
    "    'solver': ('lsqr','eigen'),  #note svd does not run with shrinkage and models using it will be tuned separately\n",
    "    'n_components': (1,2),\n",
    "                   }\n",
    "# with GridSearch\n",
    "grid_search_lda_A = GridSearchCV(\n",
    "    estimator=estimator_1,\n",
    "    param_grid=parameters_1,\n",
    "    scoring = 'accuracy',\n",
    "    refit = True,\n",
    "    n_jobs = -1,\n",
    "    cv = 5\n",
    ")"
   ]
  },
  {
   "cell_type": "code",
   "execution_count": 85,
   "id": "e195336c",
   "metadata": {},
   "outputs": [
    {
     "name": "stdout",
     "output_type": "stream",
     "text": [
      "[[452  18  38]\n",
      " [ 14 439  45]\n",
      " [ 22  14 489]]\n",
      "              precision    recall  f1-score   support\n",
      "\n",
      "           0       0.93      0.89      0.91       508\n",
      "           1       0.93      0.88      0.91       498\n",
      "           2       0.85      0.93      0.89       525\n",
      "\n",
      "    accuracy                           0.90      1531\n",
      "   macro avg       0.90      0.90      0.90      1531\n",
      "weighted avg       0.90      0.90      0.90      1531\n",
      "\n"
     ]
    }
   ],
   "source": [
    "lda_A1=grid_search_lda_A.fit(x_train, y_train)\n",
    "y_pred_1 =lda_A1.predict(x_train)\n",
    "print(confusion_matrix(y_train, y_pred_1))\n",
    "print(classification_report(y_train, y_pred_1))"
   ]
  },
  {
   "cell_type": "code",
   "execution_count": 86,
   "id": "a717612a",
   "metadata": {},
   "outputs": [
    {
     "name": "stdout",
     "output_type": "stream",
     "text": [
      "{'n_components': 1, 'solver': 'lsqr'}\n"
     ]
    }
   ],
   "source": [
    "print(grid_search_lda_A.best_params_)"
   ]
  },
  {
   "cell_type": "code",
   "execution_count": 87,
   "id": "e7a6e783",
   "metadata": {},
   "outputs": [
    {
     "name": "stdout",
     "output_type": "stream",
     "text": [
      "[[85  7 17]\n",
      " [17 71 19]\n",
      " [22 16 75]]\n",
      "              precision    recall  f1-score   support\n",
      "\n",
      "           0       0.69      0.78      0.73       109\n",
      "           1       0.76      0.66      0.71       107\n",
      "           2       0.68      0.66      0.67       113\n",
      "\n",
      "    accuracy                           0.70       329\n",
      "   macro avg       0.71      0.70      0.70       329\n",
      "weighted avg       0.70      0.70      0.70       329\n",
      "\n"
     ]
    }
   ],
   "source": [
    "\n",
    "y_pred_2 =lda_A1.predict(x_test)\n",
    "print(confusion_matrix(y_test, y_pred_2))\n",
    "print(classification_report(y_test, y_pred_2))"
   ]
  },
  {
   "attachments": {},
   "cell_type": "markdown",
   "id": "88065f9b",
   "metadata": {},
   "source": [
    "## LDA ~ svd"
   ]
  },
  {
   "cell_type": "code",
   "execution_count": 90,
   "id": "0e42e3aa",
   "metadata": {},
   "outputs": [],
   "source": [
    "estimator_2 = LinearDiscriminantAnalysis(solver='svd', )#note svd does not run with shrinkage and models using it will be tuned separately\n",
    "parameters_2 = {\n",
    "    'n_components': (1,2),\n",
    "    'store_covariance' :(True, False),\n",
    "                   }\n",
    "# with GridSearch\n",
    "grid_search_lda_B = GridSearchCV(\n",
    "    estimator=estimator_2,\n",
    "    param_grid=parameters_2,\n",
    "    scoring = 'accuracy',\n",
    "    refit = True,\n",
    "    n_jobs = -1,\n",
    "    cv = 5\n",
    ")"
   ]
  },
  {
   "cell_type": "code",
   "execution_count": 91,
   "id": "eff3aac9",
   "metadata": {},
   "outputs": [
    {
     "name": "stdout",
     "output_type": "stream",
     "text": [
      "[[495   2  11]\n",
      " [  1 494   3]\n",
      " [  2   1 522]]\n",
      "              precision    recall  f1-score   support\n",
      "\n",
      "           0       0.99      0.97      0.98       508\n",
      "           1       0.99      0.99      0.99       498\n",
      "           2       0.97      0.99      0.98       525\n",
      "\n",
      "    accuracy                           0.99      1531\n",
      "   macro avg       0.99      0.99      0.99      1531\n",
      "weighted avg       0.99      0.99      0.99      1531\n",
      "\n"
     ]
    }
   ],
   "source": [
    "lda_B1=grid_search_lda_B.fit(x_train, y_train)\n",
    "y_pred_3 =lda_B1.predict(x_train)\n",
    "print(confusion_matrix(y_train, y_pred_3))\n",
    "print(classification_report(y_train, y_pred_3))"
   ]
  },
  {
   "cell_type": "code",
   "execution_count": 92,
   "id": "3db6c888",
   "metadata": {},
   "outputs": [
    {
     "name": "stdout",
     "output_type": "stream",
     "text": [
      "{'n_components': 1, 'store_covariance': True}\n"
     ]
    }
   ],
   "source": [
    "print(grid_search_lda_B.best_params_)"
   ]
  },
  {
   "cell_type": "code",
   "execution_count": 93,
   "id": "0ee293cd",
   "metadata": {},
   "outputs": [
    {
     "name": "stdout",
     "output_type": "stream",
     "text": [
      "[[85  7 17]\n",
      " [17 71 19]\n",
      " [22 16 75]]\n",
      "              precision    recall  f1-score   support\n",
      "\n",
      "           0       0.69      0.78      0.73       109\n",
      "           1       0.76      0.66      0.71       107\n",
      "           2       0.68      0.66      0.67       113\n",
      "\n",
      "    accuracy                           0.70       329\n",
      "   macro avg       0.71      0.70      0.70       329\n",
      "weighted avg       0.70      0.70      0.70       329\n",
      "\n"
     ]
    }
   ],
   "source": [
    "y_pred_4 =lda_A1.predict(x_test)\n",
    "print(confusion_matrix(y_test, y_pred_4))\n",
    "print(classification_report(y_test, y_pred_4))"
   ]
  },
  {
   "attachments": {},
   "cell_type": "markdown",
   "id": "46e16515",
   "metadata": {},
   "source": [
    "# QDA\n",
    "\n",
    "## Basic Metric\n"
   ]
  },
  {
   "cell_type": "code",
   "execution_count": 95,
   "id": "3df469b3",
   "metadata": {},
   "outputs": [
    {
     "name": "stderr",
     "output_type": "stream",
     "text": [
      "/usr/local/lib/python3.9/site-packages/sklearn/discriminant_analysis.py:926: UserWarning: Variables are collinear\n",
      "  warnings.warn(\"Variables are collinear\")\n"
     ]
    },
    {
     "data": {
      "text/html": [
       "<style>#sk-container-id-5 {color: black;background-color: white;}#sk-container-id-5 pre{padding: 0;}#sk-container-id-5 div.sk-toggleable {background-color: white;}#sk-container-id-5 label.sk-toggleable__label {cursor: pointer;display: block;width: 100%;margin-bottom: 0;padding: 0.3em;box-sizing: border-box;text-align: center;}#sk-container-id-5 label.sk-toggleable__label-arrow:before {content: \"▸\";float: left;margin-right: 0.25em;color: #696969;}#sk-container-id-5 label.sk-toggleable__label-arrow:hover:before {color: black;}#sk-container-id-5 div.sk-estimator:hover label.sk-toggleable__label-arrow:before {color: black;}#sk-container-id-5 div.sk-toggleable__content {max-height: 0;max-width: 0;overflow: hidden;text-align: left;background-color: #f0f8ff;}#sk-container-id-5 div.sk-toggleable__content pre {margin: 0.2em;color: black;border-radius: 0.25em;background-color: #f0f8ff;}#sk-container-id-5 input.sk-toggleable__control:checked~div.sk-toggleable__content {max-height: 200px;max-width: 100%;overflow: auto;}#sk-container-id-5 input.sk-toggleable__control:checked~label.sk-toggleable__label-arrow:before {content: \"▾\";}#sk-container-id-5 div.sk-estimator input.sk-toggleable__control:checked~label.sk-toggleable__label {background-color: #d4ebff;}#sk-container-id-5 div.sk-label input.sk-toggleable__control:checked~label.sk-toggleable__label {background-color: #d4ebff;}#sk-container-id-5 input.sk-hidden--visually {border: 0;clip: rect(1px 1px 1px 1px);clip: rect(1px, 1px, 1px, 1px);height: 1px;margin: -1px;overflow: hidden;padding: 0;position: absolute;width: 1px;}#sk-container-id-5 div.sk-estimator {font-family: monospace;background-color: #f0f8ff;border: 1px dotted black;border-radius: 0.25em;box-sizing: border-box;margin-bottom: 0.5em;}#sk-container-id-5 div.sk-estimator:hover {background-color: #d4ebff;}#sk-container-id-5 div.sk-parallel-item::after {content: \"\";width: 100%;border-bottom: 1px solid gray;flex-grow: 1;}#sk-container-id-5 div.sk-label:hover label.sk-toggleable__label {background-color: #d4ebff;}#sk-container-id-5 div.sk-serial::before {content: \"\";position: absolute;border-left: 1px solid gray;box-sizing: border-box;top: 0;bottom: 0;left: 50%;z-index: 0;}#sk-container-id-5 div.sk-serial {display: flex;flex-direction: column;align-items: center;background-color: white;padding-right: 0.2em;padding-left: 0.2em;position: relative;}#sk-container-id-5 div.sk-item {position: relative;z-index: 1;}#sk-container-id-5 div.sk-parallel {display: flex;align-items: stretch;justify-content: center;background-color: white;position: relative;}#sk-container-id-5 div.sk-item::before, #sk-container-id-5 div.sk-parallel-item::before {content: \"\";position: absolute;border-left: 1px solid gray;box-sizing: border-box;top: 0;bottom: 0;left: 50%;z-index: -1;}#sk-container-id-5 div.sk-parallel-item {display: flex;flex-direction: column;z-index: 1;position: relative;background-color: white;}#sk-container-id-5 div.sk-parallel-item:first-child::after {align-self: flex-end;width: 50%;}#sk-container-id-5 div.sk-parallel-item:last-child::after {align-self: flex-start;width: 50%;}#sk-container-id-5 div.sk-parallel-item:only-child::after {width: 0;}#sk-container-id-5 div.sk-dashed-wrapped {border: 1px dashed gray;margin: 0 0.4em 0.5em 0.4em;box-sizing: border-box;padding-bottom: 0.4em;background-color: white;}#sk-container-id-5 div.sk-label label {font-family: monospace;font-weight: bold;display: inline-block;line-height: 1.2em;}#sk-container-id-5 div.sk-label-container {text-align: center;}#sk-container-id-5 div.sk-container {/* jupyter's `normalize.less` sets `[hidden] { display: none; }` but bootstrap.min.css set `[hidden] { display: none !important; }` so we also need the `!important` here to be able to override the default hidden behavior on the sphinx rendered scikit-learn.org. See: https://github.com/scikit-learn/scikit-learn/issues/21755 */display: inline-block !important;position: relative;}#sk-container-id-5 div.sk-text-repr-fallback {display: none;}</style><div id=\"sk-container-id-5\" class=\"sk-top-container\"><div class=\"sk-text-repr-fallback\"><pre>QuadraticDiscriminantAnalysis()</pre><b>In a Jupyter environment, please rerun this cell to show the HTML representation or trust the notebook. <br />On GitHub, the HTML representation is unable to render, please try loading this page with nbviewer.org.</b></div><div class=\"sk-container\" hidden><div class=\"sk-item\"><div class=\"sk-estimator sk-toggleable\"><input class=\"sk-toggleable__control sk-hidden--visually\" id=\"sk-estimator-id-5\" type=\"checkbox\" checked><label for=\"sk-estimator-id-5\" class=\"sk-toggleable__label sk-toggleable__label-arrow\">QuadraticDiscriminantAnalysis</label><div class=\"sk-toggleable__content\"><pre>QuadraticDiscriminantAnalysis()</pre></div></div></div></div></div>"
      ],
      "text/plain": [
       "QuadraticDiscriminantAnalysis()"
      ]
     },
     "execution_count": 95,
     "metadata": {},
     "output_type": "execute_result"
    }
   ],
   "source": [
    "\n",
    "QDA_model_default = QuadraticDiscriminantAnalysis()\n",
    "QDA_model_default.fit(x_train, y_train)\n"
   ]
  },
  {
   "cell_type": "code",
   "execution_count": 96,
   "id": "0645785d",
   "metadata": {},
   "outputs": [
    {
     "name": "stdout",
     "output_type": "stream",
     "text": [
      "[[508   0   0]\n",
      " [  0 498   0]\n",
      " [  0   0 525]]\n",
      "              precision    recall  f1-score   support\n",
      "\n",
      "           0       1.00      1.00      1.00       508\n",
      "           1       1.00      1.00      1.00       498\n",
      "           2       1.00      1.00      1.00       525\n",
      "\n",
      "    accuracy                           1.00      1531\n",
      "   macro avg       1.00      1.00      1.00      1531\n",
      "weighted avg       1.00      1.00      1.00      1531\n",
      "\n",
      "[[40 30 39]\n",
      " [30 43 34]\n",
      " [35 40 38]]\n",
      "              precision    recall  f1-score   support\n",
      "\n",
      "           0       0.38      0.37      0.37       109\n",
      "           1       0.38      0.40      0.39       107\n",
      "           2       0.34      0.34      0.34       113\n",
      "\n",
      "    accuracy                           0.37       329\n",
      "   macro avg       0.37      0.37      0.37       329\n",
      "weighted avg       0.37      0.37      0.37       329\n",
      "\n"
     ]
    }
   ],
   "source": [
    "\n",
    "y_pred_QDA_default =QDA_model_default.predict(x_train)\n",
    "print(confusion_matrix(y_train, y_pred_QDA_default))\n",
    "print(classification_report(y_train, y_pred_QDA_default))\n",
    "\n",
    "\n",
    "y_pred_QDA_default1 =QDA_model_default.predict(x_test)\n",
    "print(confusion_matrix(y_test, y_pred_QDA_default1))\n",
    "print(classification_report(y_test, y_pred_QDA_default1))"
   ]
  }
 ],
 "metadata": {
  "kernelspec": {
   "display_name": "Python 3 (ipykernel)",
   "language": "python",
   "name": "python3"
  },
  "language_info": {
   "codemirror_mode": {
    "name": "ipython",
    "version": 3
   },
   "file_extension": ".py",
   "mimetype": "text/x-python",
   "name": "python",
   "nbconvert_exporter": "python",
   "pygments_lexer": "ipython3",
   "version": "3.9.7"
  }
 },
 "nbformat": 4,
 "nbformat_minor": 5
}
