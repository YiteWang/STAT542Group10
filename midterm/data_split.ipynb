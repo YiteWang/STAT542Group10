{
 "cells": [
  {
   "cell_type": "code",
   "execution_count": 1,
   "metadata": {},
   "outputs": [],
   "source": [
    "import os\n",
    "import numpy as np\n",
    "import shutil\n"
   ]
  },
  {
   "cell_type": "code",
   "execution_count": 9,
   "metadata": {},
   "outputs": [
    {
     "name": "stdout",
     "output_type": "stream",
     "text": [
      "Total images:  712\n",
      "Training:  498\n",
      "Validation:  107\n",
      "Testing:  107\n",
      "Total images:  726\n",
      "Training:  508\n",
      "Validation:  109\n",
      "Testing:  109\n",
      "Total images:  750\n",
      "Training:  525\n",
      "Validation:  112\n",
      "Testing:  113\n"
     ]
    }
   ],
   "source": [
    "# root_dir = '.'\n",
    "classes = ['paper', 'rock', 'scissors']\n",
    "splits = ['train', 'val', 'test']\n",
    "for split in splits:\n",
    "    for currentcls in classes:\n",
    "        os.makedirs(os.path.join(split, currentcls), exist_ok = True)\n",
    "\n",
    "for currentcls in classes:\n",
    "    src = currentcls\n",
    "    allFileNames = os.listdir(src)\n",
    "    np.random.shuffle(allFileNames)\n",
    "    train_FileNames, val_FileNames, test_FileNames = np.split(np.array(allFileNames),\n",
    "                                                          [int(len(allFileNames)*0.7), int(len(allFileNames)*0.85)])\n",
    "\n",
    "    train_FileNames = [os.path.join(src, name) for name in train_FileNames.tolist()]\n",
    "    val_FileNames = [os.path.join(src, name) for name in val_FileNames.tolist()]\n",
    "    test_FileNames = [os.path.join(src, name) for name in test_FileNames.tolist()]\n",
    "\n",
    "    print('Total images: ', len(allFileNames))\n",
    "    print('Training: ', len(train_FileNames))\n",
    "    print('Validation: ', len(val_FileNames))\n",
    "    print('Testing: ', len(test_FileNames))\n",
    "\n",
    "    # Copy-pasting images\n",
    "    for name in train_FileNames:\n",
    "        shutil.copy(name, os.path.join('train', currentcls))\n",
    "\n",
    "    for name in val_FileNames:\n",
    "        shutil.copy(name, os.path.join('val', currentcls))\n",
    "\n",
    "    for name in test_FileNames:\n",
    "        shutil.copy(name, os.path.join('test', currentcls))\n"
   ]
  },
  {
   "cell_type": "code",
   "execution_count": null,
   "metadata": {},
   "outputs": [],
   "source": []
  }
 ],
 "metadata": {
  "kernelspec": {
   "display_name": "py39",
   "language": "python",
   "name": "python3"
  },
  "language_info": {
   "codemirror_mode": {
    "name": "ipython",
    "version": 3
   },
   "file_extension": ".py",
   "mimetype": "text/x-python",
   "name": "python",
   "nbconvert_exporter": "python",
   "pygments_lexer": "ipython3",
   "version": "3.9.7"
  },
  "orig_nbformat": 4
 },
 "nbformat": 4,
 "nbformat_minor": 2
}
