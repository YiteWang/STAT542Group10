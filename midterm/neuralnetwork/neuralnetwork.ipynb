{
 "cells": [
  {
   "cell_type": "code",
   "execution_count": 38,
   "metadata": {},
   "outputs": [],
   "source": [
    "import torch\n",
    "import torch.nn as nn\n",
    "import random\n",
    "from torch import optim\n",
    "from torch.optim.lr_scheduler import MultiStepLR\n",
    "import torchvision\n",
    "from torchvision import transforms\n",
    "import matplotlib.pyplot as plt\n",
    "import time\n",
    "from nnmodels import get_model\n",
    "from train_eval import train, model_eval\n",
    "from sklearn.metrics import recall_score, precision_score, accuracy_score"
   ]
  },
  {
   "cell_type": "code",
   "execution_count": 39,
   "metadata": {},
   "outputs": [],
   "source": [
    "all_metrics = {\n",
    "    'acc': accuracy_score,\n",
    "    'prec': precision_score,\n",
    "    'recall': recall_score\n",
    "}"
   ]
  },
  {
   "attachments": {},
   "cell_type": "markdown",
   "metadata": {},
   "source": [
    "#### Define data augmentations"
   ]
  },
  {
   "cell_type": "code",
   "execution_count": 40,
   "metadata": {},
   "outputs": [],
   "source": [
    "train_transforms = transforms.Compose([\n",
    "    transforms.ToTensor(),\n",
    "    transforms.Resize((32,32)),\n",
    "    # transforms.ColorJitter(brightness=(0.5,1.5),contrast=(1),saturation=(0.5,1.5),hue=(-0.1,0.1)),\n",
    "    transforms.RandomAffine(0, shear=0.2),         # random shear 0.2\n",
    "    transforms.RandomAffine(0, scale=(0.8, 1.2)),  # random zoom 0.2\n",
    "    transforms.RandomRotation(20),\n",
    "    transforms.RandomHorizontalFlip(),   \n",
    "    transforms.RandomVerticalFlip(),     \n",
    "])\n",
    "test_transform = transforms.Compose([\n",
    "    transforms.ToTensor(),\n",
    "    transforms.Resize((32,32)),\n",
    "])\n",
    "vis_transform = transforms.Compose([\n",
    "    transforms.ToTensor(),\n",
    "])"
   ]
  },
  {
   "cell_type": "code",
   "execution_count": 41,
   "metadata": {},
   "outputs": [
    {
     "name": "stdout",
     "output_type": "stream",
     "text": [
      "{'paper': 0, 'rock': 1, 'scissors': 2}\n"
     ]
    }
   ],
   "source": [
    "train_dataset = torchvision.datasets.ImageFolder(root='train', transform=train_transforms)\n",
    "valid_dataset = torchvision.datasets.ImageFolder(root='val', transform=test_transform)\n",
    "test_dataset = torchvision.datasets.ImageFolder(root='test', transform=test_transform)\n",
    "print(train_dataset.class_to_idx)\n",
    "reversemapping = {a:b for b,a in train_dataset.class_to_idx.items()}\n",
    "assert train_dataset.class_to_idx == valid_dataset.class_to_idx == test_dataset.class_to_idx"
   ]
  },
  {
   "attachments": {},
   "cell_type": "markdown",
   "metadata": {},
   "source": [
    "#### Visualizing training data"
   ]
  },
  {
   "cell_type": "code",
   "execution_count": 42,
   "metadata": {},
   "outputs": [
    {
     "data": {
      "text/plain": [
       "<matplotlib.image.AxesImage at 0x2b00c1203a0>"
      ]
     },
     "execution_count": 42,
     "metadata": {},
     "output_type": "execute_result"
    },
    {
     "data": {
      "image/png": "[encoded data removed]",
      "text/plain": [
       "<Figure size 432x288 with 1 Axes>"
      ]
     },
     "metadata": {
      "needs_background": "light"
     },
     "output_type": "display_data"
    }
   ],
   "source": [
    "plt.imshow(train_dataset[0][0].permute(1,2,0))"
   ]
  },
  {
   "cell_type": "code",
   "execution_count": 43,
   "metadata": {},
   "outputs": [],
   "source": [
    "train_loader = torch.utils.data.DataLoader(train_dataset, batch_size=64, shuffle=True)\n",
    "val_loader = torch.utils.data.DataLoader(valid_dataset, batch_size=256, shuffle=False)\n",
    "test_loader = torch.utils.data.DataLoader(test_dataset, batch_size=256*2, shuffle=False)"
   ]
  },
  {
   "attachments": {},
   "cell_type": "markdown",
   "metadata": {},
   "source": [
    "#### Definie Hyper-paramters"
   ]
  },
  {
   "cell_type": "code",
   "execution_count": 44,
   "metadata": {},
   "outputs": [
    {
     "name": "stdout",
     "output_type": "stream",
     "text": [
      "We are using cuda for training, note that cpu may be slow for training.\n"
     ]
    }
   ],
   "source": [
    "if torch.cuda.is_available():\n",
    "    device = 'cuda'\n",
    "else:\n",
    "    device = 'cpu'\n",
    "print('We are using {} for training, note that cpu may be slow for training.'.format(device))\n",
    "model = get_model('base')\n",
    "model = model.to(device)\n",
    "loss = nn.CrossEntropyLoss()\n",
    "optimizer = optim.Adam(params=model.parameters(), lr=0.001, weight_decay=5e-6)\n",
    "total_epochs = 20\n",
    "# scheduler = MultiStepLR(optimizer, milestones=[10,], gamma=0.1)\n",
    "scheduler = None"
   ]
  },
  {
   "attachments": {},
   "cell_type": "markdown",
   "metadata": {},
   "source": [
    "#### Model training"
   ]
  },
  {
   "cell_type": "code",
   "execution_count": 45,
   "metadata": {},
   "outputs": [
    {
     "name": "stdout",
     "output_type": "stream",
     "text": [
      "Epoch: 0, Train: Top 1 Accuracy: 1099/1531 (71.78%), Time Used: 0.1352518876393636 mins\n",
      "Valid Evaluation: Average loss: 2.1007, Top 1 Accuracy: 109/328 (33.23%)\n",
      "Test Evaluation: Average loss: 2.0876, Top 1 Accuracy: 109/329 (33.13%)\n",
      "A better Valid Acc is found: 33.23170731707317 with Test Acc 33.130699088145896\n",
      "Epoch: 1, Train: Top 1 Accuracy: 1441/1531 (94.12%), Time Used: 0.10486183563868205 mins\n",
      "Valid Evaluation: Average loss: 0.6438, Top 1 Accuracy: 230/328 (70.12%)\n",
      "Test Evaluation: Average loss: 0.6303, Top 1 Accuracy: 232/329 (70.52%)\n",
      "A better Valid Acc is found: 70.1219512195122 with Test Acc 70.51671732522796\n",
      "Epoch: 2, Train: Top 1 Accuracy: 1457/1531 (95.17%), Time Used: 0.10355172952016195 mins\n",
      "Valid Evaluation: Average loss: 0.4379, Top 1 Accuracy: 279/328 (85.06%)\n",
      "Test Evaluation: Average loss: 0.4387, Top 1 Accuracy: 278/329 (84.50%)\n",
      "A better Valid Acc is found: 85.0609756097561 with Test Acc 84.4984802431611\n",
      "Epoch: 3, Train: Top 1 Accuracy: 1462/1531 (95.49%), Time Used: 0.10090673764546712 mins\n",
      "Valid Evaluation: Average loss: 0.8745, Top 1 Accuracy: 234/328 (71.34%)\n",
      "Test Evaluation: Average loss: 0.8398, Top 1 Accuracy: 243/329 (73.86%)\n",
      "Epoch: 4, Train: Top 1 Accuracy: 1469/1531 (95.95%), Time Used: 0.10229047536849975 mins\n",
      "Valid Evaluation: Average loss: 0.9615, Top 1 Accuracy: 224/328 (68.29%)\n",
      "Test Evaluation: Average loss: 0.9444, Top 1 Accuracy: 229/329 (69.60%)\n",
      "Epoch: 5, Train: Top 1 Accuracy: 1489/1531 (97.26%), Time Used: 0.10100037256876628 mins\n",
      "Valid Evaluation: Average loss: 0.1990, Top 1 Accuracy: 310/328 (94.51%)\n",
      "Test Evaluation: Average loss: 0.2240, Top 1 Accuracy: 304/329 (92.40%)\n",
      "A better Valid Acc is found: 94.51219512195122 with Test Acc 92.40121580547113\n",
      "Epoch: 6, Train: Top 1 Accuracy: 1490/1531 (97.32%), Time Used: 0.10180368820826212 mins\n",
      "Valid Evaluation: Average loss: 0.0278, Top 1 Accuracy: 325/328 (99.09%)\n",
      "Test Evaluation: Average loss: 0.0630, Top 1 Accuracy: 321/329 (97.57%)\n",
      "A better Valid Acc is found: 99.08536585365853 with Test Acc 97.56838905775076\n",
      "Epoch: 7, Train: Top 1 Accuracy: 1505/1531 (98.30%), Time Used: 0.10207821528116862 mins\n",
      "Valid Evaluation: Average loss: 0.0222, Top 1 Accuracy: 326/328 (99.39%)\n",
      "Test Evaluation: Average loss: 0.0498, Top 1 Accuracy: 324/329 (98.48%)\n",
      "A better Valid Acc is found: 99.39024390243902 with Test Acc 98.48024316109422\n",
      "Epoch: 8, Train: Top 1 Accuracy: 1500/1531 (97.98%), Time Used: 0.10183110237121581 mins\n",
      "Valid Evaluation: Average loss: 0.1142, Top 1 Accuracy: 316/328 (96.34%)\n",
      "Test Evaluation: Average loss: 0.1346, Top 1 Accuracy: 316/329 (96.05%)\n",
      "Epoch: 9, Train: Top 1 Accuracy: 1497/1531 (97.78%), Time Used: 0.10126269261042277 mins\n",
      "Valid Evaluation: Average loss: 0.1396, Top 1 Accuracy: 315/328 (96.04%)\n",
      "Test Evaluation: Average loss: 0.1644, Top 1 Accuracy: 319/329 (96.96%)\n",
      "Epoch: 10, Train: Top 1 Accuracy: 1493/1531 (97.52%), Time Used: 0.10748690764109294 mins\n",
      "Valid Evaluation: Average loss: 0.2041, Top 1 Accuracy: 308/328 (93.90%)\n",
      "Test Evaluation: Average loss: 0.2422, Top 1 Accuracy: 307/329 (93.31%)\n",
      "Epoch: 11, Train: Top 1 Accuracy: 1500/1531 (97.98%), Time Used: 0.10173103014628092 mins\n",
      "Valid Evaluation: Average loss: 0.0298, Top 1 Accuracy: 324/328 (98.78%)\n",
      "Test Evaluation: Average loss: 0.0389, Top 1 Accuracy: 324/329 (98.48%)\n",
      "Epoch: 12, Train: Top 1 Accuracy: 1492/1531 (97.45%), Time Used: 0.10222336848576864 mins\n",
      "Valid Evaluation: Average loss: 0.2790, Top 1 Accuracy: 296/328 (90.24%)\n",
      "Test Evaluation: Average loss: 0.3336, Top 1 Accuracy: 296/329 (89.97%)\n",
      "Epoch: 13, Train: Top 1 Accuracy: 1492/1531 (97.45%), Time Used: 0.10315421024958292 mins\n",
      "Valid Evaluation: Average loss: 0.0672, Top 1 Accuracy: 321/328 (97.87%)\n",
      "Test Evaluation: Average loss: 0.0772, Top 1 Accuracy: 318/329 (96.66%)\n",
      "Epoch: 14, Train: Top 1 Accuracy: 1502/1531 (98.11%), Time Used: 0.10453237295150757 mins\n",
      "Valid Evaluation: Average loss: 0.0393, Top 1 Accuracy: 325/328 (99.09%)\n",
      "Test Evaluation: Average loss: 0.0290, Top 1 Accuracy: 325/329 (98.78%)\n",
      "Epoch: 15, Train: Top 1 Accuracy: 1515/1531 (98.95%), Time Used: 0.10471513668696085 mins\n",
      "Valid Evaluation: Average loss: 0.0830, Top 1 Accuracy: 321/328 (97.87%)\n",
      "Test Evaluation: Average loss: 0.0712, Top 1 Accuracy: 322/329 (97.87%)\n",
      "Epoch: 16, Train: Top 1 Accuracy: 1516/1531 (99.02%), Time Used: 0.10452796220779419 mins\n",
      "Valid Evaluation: Average loss: 0.0557, Top 1 Accuracy: 323/328 (98.48%)\n",
      "Test Evaluation: Average loss: 0.0613, Top 1 Accuracy: 320/329 (97.26%)\n",
      "Epoch: 17, Train: Top 1 Accuracy: 1514/1531 (98.89%), Time Used: 0.11617493232091268 mins\n",
      "Valid Evaluation: Average loss: 0.0076, Top 1 Accuracy: 327/328 (99.70%)\n",
      "Test Evaluation: Average loss: 0.0126, Top 1 Accuracy: 327/329 (99.39%)\n",
      "A better Valid Acc is found: 99.6951219512195 with Test Acc 99.3920972644377\n",
      "Epoch: 18, Train: Top 1 Accuracy: 1513/1531 (98.82%), Time Used: 0.1073829452196757 mins\n",
      "Valid Evaluation: Average loss: 0.0065, Top 1 Accuracy: 327/328 (99.70%)\n",
      "Test Evaluation: Average loss: 0.0125, Top 1 Accuracy: 328/329 (99.70%)\n",
      "Epoch: 19, Train: Top 1 Accuracy: 1516/1531 (99.02%), Time Used: 0.11026437282562256 mins\n",
      "Valid Evaluation: Average loss: 0.0276, Top 1 Accuracy: 324/328 (98.78%)\n",
      "Test Evaluation: Average loss: 0.0569, Top 1 Accuracy: 322/329 (97.87%)\n"
     ]
    }
   ],
   "source": [
    "best_val_acc = 0.0\n",
    "final_test_acc = 0.0\n",
    "for epoch in range(total_epochs):\n",
    "    train(model, loss, optimizer, train_loader, device, epoch, False, scheduler=scheduler)\n",
    "    _, val_acc = model_eval(model, loss, val_loader, device, name= 'Valid')\n",
    "    _, test_acc = model_eval(model, loss, test_loader, device, name= 'Test')\n",
    "    if val_acc > best_val_acc:\n",
    "        print('A better Valid Acc is found: {} with Test Acc {}'.format(val_acc, test_acc))\n",
    "        best_val_acc = val_acc\n",
    "        final_test_acc = test_acc\n",
    "        torch.save(model.state_dict(), 'best_model_nojit.ckpt')"
   ]
  },
  {
   "attachments": {},
   "cell_type": "markdown",
   "metadata": {},
   "source": [
    "#### Model results"
   ]
  },
  {
   "cell_type": "code",
   "execution_count": 46,
   "metadata": {},
   "outputs": [
    {
     "name": "stdout",
     "output_type": "stream",
     "text": [
      "The best Valid Acc: 99.6951219512195, Test Acc: 99.3920972644377\n"
     ]
    }
   ],
   "source": [
    "print('The best Valid Acc: {}, Test Acc: {}'.format(best_val_acc, final_test_acc))"
   ]
  },
  {
   "cell_type": "code",
   "execution_count": 47,
   "metadata": {},
   "outputs": [
    {
     "data": {
      "text/plain": [
       "<All keys matched successfully>"
      ]
     },
     "execution_count": 47,
     "metadata": {},
     "output_type": "execute_result"
    }
   ],
   "source": [
    "model.load_state_dict(torch.load('best_model_nojit.ckpt'))"
   ]
  },
  {
   "cell_type": "code",
   "execution_count": 22,
   "metadata": {},
   "outputs": [],
   "source": [
    "for data, y in test_loader:\n",
    "    pred = model(data.cuda()).argmax(1).cpu().numpy()\n",
    "    actual = y.numpy()"
   ]
  },
  {
   "cell_type": "code",
   "execution_count": 26,
   "metadata": {},
   "outputs": [
    {
     "name": "stdout",
     "output_type": "stream",
     "text": [
      "[0.99056604 1.         0.98245614]\n"
     ]
    }
   ],
   "source": [
    "precision = precision_score(actual, pred, average=None)\n",
    "print(precision)"
   ]
  },
  {
   "cell_type": "code",
   "execution_count": 27,
   "metadata": {},
   "outputs": [
    {
     "name": "stdout",
     "output_type": "stream",
     "text": [
      "[0.98130841 1.         0.99115044]\n"
     ]
    }
   ],
   "source": [
    "recall = recall_score(actual, pred, average=None)\n",
    "print(recall)"
   ]
  },
  {
   "attachments": {},
   "cell_type": "markdown",
   "metadata": {},
   "source": [
    "#### Check Wrong solutions"
   ]
  },
  {
   "cell_type": "code",
   "execution_count": 127,
   "metadata": {},
   "outputs": [
    {
     "name": "stdout",
     "output_type": "stream",
     "text": [
      "tensor([ 32, 104, 246], device='cuda:0')\n"
     ]
    }
   ],
   "source": [
    "from torchvision.utils import save_image\n",
    "i = 0\n",
    "model.eval()\n",
    "with torch.no_grad():\n",
    "    for data, target in test_loader:\n",
    "        data, target = data.to(device), target.to(device)\n",
    "        output = model(data)\n",
    "        _, pred = output.topk(1, dim=1)\n",
    "        print((torch.logical_not(pred.eq(target.view(-1,1))).view(-1)).nonzero(as_tuple=True)[0])\n",
    "\n",
    "        for image, prediction in zip(data[torch.logical_not(pred.eq(target.view(-1,1))).view(-1)], pred[torch.logical_not(pred.eq(target.view(-1,1))).view(-1)]):\n",
    "            save_image(image, reversemapping[prediction.item()]+str(i)+'.png')\n",
    "            i += 1\n",
    "        break"
   ]
  },
  {
   "cell_type": "code",
   "execution_count": null,
   "metadata": {},
   "outputs": [],
   "source": []
  },
  {
   "cell_type": "code",
   "execution_count": 47,
   "metadata": {},
   "outputs": [],
   "source": [
    "from torchvision.utils import save_image\n",
    "for i in data[torch.logical_not(pred.eq(target.view(-1,1))).view(-1)]:\n",
    "    save_image(i, 'img1.png')"
   ]
  },
  {
   "attachments": {},
   "cell_type": "markdown",
   "metadata": {},
   "source": [
    "#### Testing results"
   ]
  },
  {
   "cell_type": "code",
   "execution_count": 9,
   "metadata": {},
   "outputs": [
    {
     "name": "stdout",
     "output_type": "stream",
     "text": [
      "We are choosing 259/329 for testing with target: scissors.\n"
     ]
    },
    {
     "data": {
      "text/plain": [
       "<matplotlib.image.AxesImage at 0x192840ac970>"
      ]
     },
     "execution_count": 9,
     "metadata": {},
     "output_type": "execute_result"
    },
    {
     "data": {
      "image/png": "[encoded data removed]",
      "text/plain": [
       "<Figure size 432x288 with 1 Axes>"
      ]
     },
     "metadata": {
      "needs_background": "light"
     },
     "output_type": "display_data"
    }
   ],
   "source": [
    "data_len = len(test_dataset)\n",
    "index = random.randint(0, data_len)\n",
    "data, target = test_dataset[index]\n",
    "print('We are choosing {}/{} for testing with target: {}.'.format(index+1, data_len, reversemapping[target]))\n",
    "plt.imshow(data.permute(1,2,0))"
   ]
  },
  {
   "cell_type": "code",
   "execution_count": 10,
   "metadata": {},
   "outputs": [
    {
     "name": "stdout",
     "output_type": "stream",
     "text": [
      "Our network prediction is: scissors\n"
     ]
    }
   ],
   "source": [
    "model.eval()\n",
    "print('Our network prediction is: {}'.format(reversemapping[model(data.unsqueeze(0).cuda()).argmax(1).item()]))"
   ]
  },
  {
   "cell_type": "code",
   "execution_count": null,
   "metadata": {},
   "outputs": [],
   "source": []
  },
  {
   "attachments": {},
   "cell_type": "markdown",
   "metadata": {},
   "source": [
    "#### Real images testing"
   ]
  },
  {
   "cell_type": "code",
   "execution_count": 48,
   "metadata": {},
   "outputs": [],
   "source": [
    "import numpy as np"
   ]
  },
  {
   "cell_type": "code",
   "execution_count": 49,
   "metadata": {},
   "outputs": [],
   "source": [
    "real_dataset= torchvision.datasets.ImageFolder('real', transform=test_transform)\n",
    "real_loader = torch.utils.data.DataLoader(real_dataset, batch_size=100, shuffle=False)\n",
    "real_vis_dataset=  torchvision.datasets.ImageFolder('real', transform=vis_transform)\n",
    "real_vis_loader = torch.utils.data.DataLoader(real_vis_dataset, batch_size=100, shuffle=False)"
   ]
  },
  {
   "cell_type": "code",
   "execution_count": 50,
   "metadata": {},
   "outputs": [
    {
     "name": "stdout",
     "output_type": "stream",
     "text": [
      "acc\n",
      "0.35714285714285715\n",
      "prec\n",
      "[0.35714286 0.         0.        ]\n",
      "recall\n",
      "[1. 0. 0.]\n"
     ]
    },
    {
     "name": "stderr",
     "output_type": "stream",
     "text": [
      "c:\\software\\anaconda\\main\\envs\\py39\\lib\\site-packages\\sklearn\\metrics\\_classification.py:1308: UndefinedMetricWarning: Precision is ill-defined and being set to 0.0 in labels with no predicted samples. Use `zero_division` parameter to control this behavior.\n",
      "  _warn_prf(average, modifier, msg_start, len(result))\n"
     ]
    }
   ],
   "source": [
    "for data, y in real_loader:\n",
    "    pred = model(data.cuda()).argmax(1).cpu().numpy()\n",
    "    actual = y.numpy()\n",
    "\n",
    "for metric_name, metric_func in all_metrics.items():\n",
    "    print(metric_name)\n",
    "    try:\n",
    "        print(metric_func(actual, pred, average=None))\n",
    "    except:\n",
    "        print(metric_func(actual, pred))"
   ]
  },
  {
   "cell_type": "code",
   "execution_count": 14,
   "metadata": {},
   "outputs": [
    {
     "name": "stdout",
     "output_type": "stream",
     "text": [
      "0.7142857142857143\n"
     ]
    },
    {
     "data": {
      "text/plain": [
       "<Figure size 432x288 with 0 Axes>"
      ]
     },
     "metadata": {},
     "output_type": "display_data"
    },
    {
     "data": {
      "text/plain": [
       "<Figure size 432x288 with 0 Axes>"
      ]
     },
     "metadata": {},
     "output_type": "display_data"
    },
    {
     "data": {
      "text/plain": [
       "<Figure size 432x288 with 0 Axes>"
      ]
     },
     "metadata": {},
     "output_type": "display_data"
    },
    {
     "data": {
      "text/plain": [
       "<Figure size 432x288 with 0 Axes>"
      ]
     },
     "metadata": {},
     "output_type": "display_data"
    },
    {
     "data": {
      "text/plain": [
       "<Figure size 432x288 with 0 Axes>"
      ]
     },
     "metadata": {},
     "output_type": "display_data"
    },
    {
     "data": {
      "text/plain": [
       "<Figure size 432x288 with 0 Axes>"
      ]
     },
     "metadata": {},
     "output_type": "display_data"
    },
    {
     "data": {
      "text/plain": [
       "<Figure size 432x288 with 0 Axes>"
      ]
     },
     "metadata": {},
     "output_type": "display_data"
    },
    {
     "data": {
      "text/plain": [
       "<Figure size 432x288 with 0 Axes>"
      ]
     },
     "metadata": {},
     "output_type": "display_data"
    },
    {
     "data": {
      "text/plain": [
       "<Figure size 432x288 with 0 Axes>"
      ]
     },
     "metadata": {},
     "output_type": "display_data"
    },
    {
     "data": {
      "text/plain": [
       "<Figure size 432x288 with 0 Axes>"
      ]
     },
     "metadata": {},
     "output_type": "display_data"
    },
    {
     "data": {
      "text/plain": [
       "<Figure size 432x288 with 0 Axes>"
      ]
     },
     "metadata": {},
     "output_type": "display_data"
    },
    {
     "data": {
      "text/plain": [
       "<Figure size 432x288 with 0 Axes>"
      ]
     },
     "metadata": {},
     "output_type": "display_data"
    },
    {
     "data": {
      "text/plain": [
       "<Figure size 432x288 with 0 Axes>"
      ]
     },
     "metadata": {},
     "output_type": "display_data"
    },
    {
     "data": {
      "text/plain": [
       "<Figure size 432x288 with 0 Axes>"
      ]
     },
     "metadata": {},
     "output_type": "display_data"
    }
   ],
   "source": [
    "# total = 0\n",
    "# correct = 0\n",
    "# for (x,y), (x_vis, y_vis) in zip(real_loader,real_vis_loader):\n",
    "#     plt.figure()\n",
    "#     # plt.imshow(x_vis[0].permute(1,2,0))\n",
    "#     total += 1\n",
    "#     correct += model(x.cuda()).argmax(1).item() == y.item()\n",
    "#     # print('Our network prediction is: {}, acutal is: {}'.format(reversemapping[model(x.cuda()).argmax(1).item()], reversemapping[y.item()]))\n",
    "\n",
    "# print(correct/total)\n"
   ]
  },
  {
   "cell_type": "code",
   "execution_count": null,
   "metadata": {},
   "outputs": [],
   "source": []
  }
 ],
 "metadata": {
  "kernelspec": {
   "display_name": "py39",
   "language": "python",
   "name": "python3"
  },
  "language_info": {
   "codemirror_mode": {
    "name": "ipython",
    "version": 3
   },
   "file_extension": ".py",
   "mimetype": "text/x-python",
   "name": "python",
   "nbconvert_exporter": "python",
   "pygments_lexer": "ipython3",
   "version": "3.9.7"
  },
  "orig_nbformat": 4
 },
 "nbformat": 4,
 "nbformat_minor": 2
}
