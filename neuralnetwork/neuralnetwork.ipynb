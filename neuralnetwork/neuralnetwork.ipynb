{
 "cells": [
  {
   "cell_type": "code",
   "execution_count": 1,
   "metadata": {},
   "outputs": [],
   "source": [
    "import torch\n",
    "import torch.nn as nn\n",
    "import random\n",
    "from torch import optim\n",
    "from torch.optim.lr_scheduler import MultiStepLR\n",
    "import torchvision\n",
    "from torchvision import transforms\n",
    "import matplotlib.pyplot as plt\n",
    "import time\n",
    "from nnmodels import get_model\n",
    "from train_eval import train, model_eval"
   ]
  },
  {
   "attachments": {},
   "cell_type": "markdown",
   "metadata": {},
   "source": [
    "#### Define data augmentations"
   ]
  },
  {
   "cell_type": "code",
   "execution_count": 2,
   "metadata": {},
   "outputs": [],
   "source": [
    "train_transforms = transforms.Compose([\n",
    "    transforms.ToTensor(),\n",
    "    transforms.Resize((32,32)),\n",
    "    transforms.RandomAffine(0, shear=0.2),         # random shear 0.2\n",
    "    transforms.RandomAffine(0, scale=(0.8, 1.2)),  # random zoom 0.2\n",
    "    transforms.RandomRotation(20),\n",
    "    transforms.RandomHorizontalFlip(),   \n",
    "    transforms.RandomVerticalFlip(),     \n",
    "])\n",
    "test_transform = transforms.Compose([\n",
    "    transforms.ToTensor(),\n",
    "    transforms.Resize((32,32)),\n",
    "])"
   ]
  },
  {
   "cell_type": "code",
   "execution_count": 3,
   "metadata": {},
   "outputs": [
    {
     "name": "stdout",
     "output_type": "stream",
     "text": [
      "{'paper': 0, 'rock': 1, 'scissors': 2}\n"
     ]
    }
   ],
   "source": [
    "train_dataset = torchvision.datasets.ImageFolder(root='train', transform=train_transforms)\n",
    "valid_dataset = torchvision.datasets.ImageFolder(root='val', transform=test_transform)\n",
    "test_dataset = torchvision.datasets.ImageFolder(root='test', transform=test_transform)\n",
    "print(train_dataset.class_to_idx)\n",
    "reversemapping = {a:b for b,a in train_dataset.class_to_idx.items()}\n",
    "assert train_dataset.class_to_idx == valid_dataset.class_to_idx == test_dataset.class_to_idx"
   ]
  },
  {
   "attachments": {},
   "cell_type": "markdown",
   "metadata": {},
   "source": [
    "#### Visualizing training data"
   ]
  },
  {
   "cell_type": "code",
   "execution_count": 4,
   "metadata": {},
   "outputs": [
    {
     "data": {
      "text/plain": [
       "<matplotlib.image.AxesImage at 0x192ab2baca0>"
      ]
     },
     "execution_count": 4,
     "metadata": {},
     "output_type": "execute_result"
    },
    {
     "data": {
      "image/png": "[encoded data removed]",
      "text/plain": [
       "<Figure size 432x288 with 1 Axes>"
      ]
     },
     "metadata": {
      "needs_background": "light"
     },
     "output_type": "display_data"
    }
   ],
   "source": [
    "plt.imshow(train_dataset[0][0].permute(1,2,0))"
   ]
  },
  {
   "cell_type": "code",
   "execution_count": 5,
   "metadata": {},
   "outputs": [],
   "source": [
    "train_loader = torch.utils.data.DataLoader(train_dataset, batch_size=64, shuffle=True)\n",
    "val_loader = torch.utils.data.DataLoader(valid_dataset, batch_size=256, shuffle=False)\n",
    "test_loader = torch.utils.data.DataLoader(test_dataset, batch_size=256, shuffle=False)"
   ]
  },
  {
   "attachments": {},
   "cell_type": "markdown",
   "metadata": {},
   "source": [
    "#### Definie Hyper-paramters"
   ]
  },
  {
   "cell_type": "code",
   "execution_count": 6,
   "metadata": {},
   "outputs": [
    {
     "name": "stdout",
     "output_type": "stream",
     "text": [
      "We are using cuda for training, note that cpu may be slow for training.\n"
     ]
    }
   ],
   "source": [
    "if torch.cuda.is_available():\n",
    "    device = 'cuda'\n",
    "else:\n",
    "    device = 'cpu'\n",
    "print('We are using {} for training, note that cpu may be slow for training.'.format(device))\n",
    "model = get_model('base')\n",
    "model = model.to(device)\n",
    "loss = nn.CrossEntropyLoss()\n",
    "optimizer = optim.Adam(params=model.parameters(), lr=0.001, weight_decay=5e-6)\n",
    "total_epochs = 20\n",
    "# scheduler = MultiStepLR(optimizer, milestones=[10,], gamma=0.1)\n",
    "scheduler = None"
   ]
  },
  {
   "attachments": {},
   "cell_type": "markdown",
   "metadata": {},
   "source": [
    "#### Model training"
   ]
  },
  {
   "cell_type": "code",
   "execution_count": 7,
   "metadata": {},
   "outputs": [
    {
     "name": "stdout",
     "output_type": "stream",
     "text": [
      "Epoch: 0, Train: Top 1 Accuracy: 970/1531 (63.36%), Time Used: 0.23202979167302448 mins\n",
      "Valid Evaluation: Average loss: 3.2144, Top 1 Accuracy: 109/328 (33.23%)\n",
      "Test Evaluation: Average loss: 3.1929, Top 1 Accuracy: 109/329 (33.13%)\n",
      "A better Valid Acc is found: 33.23170731707317 with Test Acc 33.130699088145896\n",
      "Epoch: 1, Train: Top 1 Accuracy: 1398/1531 (91.31%), Time Used: 0.1014242688814799 mins\n",
      "Valid Evaluation: Average loss: 0.8969, Top 1 Accuracy: 216/328 (65.85%)\n",
      "Test Evaluation: Average loss: 0.9810, Top 1 Accuracy: 210/329 (63.83%)\n",
      "A better Valid Acc is found: 65.85365853658537 with Test Acc 63.829787234042556\n",
      "Epoch: 2, Train: Top 1 Accuracy: 1453/1531 (94.91%), Time Used: 0.10145630836486816 mins\n",
      "Valid Evaluation: Average loss: 0.1051, Top 1 Accuracy: 316/328 (96.34%)\n",
      "Test Evaluation: Average loss: 0.1022, Top 1 Accuracy: 321/329 (97.57%)\n",
      "A better Valid Acc is found: 96.34146341463415 with Test Acc 97.56838905775076\n",
      "Epoch: 3, Train: Top 1 Accuracy: 1468/1531 (95.89%), Time Used: 0.1008172869682312 mins\n",
      "Valid Evaluation: Average loss: 0.1048, Top 1 Accuracy: 317/328 (96.65%)\n",
      "Test Evaluation: Average loss: 0.1153, Top 1 Accuracy: 320/329 (97.26%)\n",
      "A better Valid Acc is found: 96.64634146341463 with Test Acc 97.26443768996961\n",
      "Epoch: 4, Train: Top 1 Accuracy: 1479/1531 (96.60%), Time Used: 0.10239281256993611 mins\n",
      "Valid Evaluation: Average loss: 0.4004, Top 1 Accuracy: 282/328 (85.98%)\n",
      "Test Evaluation: Average loss: 0.3489, Top 1 Accuracy: 284/329 (86.32%)\n",
      "Epoch: 5, Train: Top 1 Accuracy: 1474/1531 (96.28%), Time Used: 0.10068377256393432 mins\n",
      "Valid Evaluation: Average loss: 0.7609, Top 1 Accuracy: 248/328 (75.61%)\n",
      "Test Evaluation: Average loss: 0.7192, Top 1 Accuracy: 249/329 (75.68%)\n",
      "Epoch: 6, Train: Top 1 Accuracy: 1478/1531 (96.54%), Time Used: 0.09995498259862264 mins\n",
      "Valid Evaluation: Average loss: 0.7064, Top 1 Accuracy: 259/328 (78.96%)\n",
      "Test Evaluation: Average loss: 0.7350, Top 1 Accuracy: 263/329 (79.94%)\n",
      "Epoch: 7, Train: Top 1 Accuracy: 1480/1531 (96.67%), Time Used: 0.09972152709960938 mins\n",
      "Valid Evaluation: Average loss: 0.0986, Top 1 Accuracy: 315/328 (96.04%)\n",
      "Test Evaluation: Average loss: 0.0838, Top 1 Accuracy: 320/329 (97.26%)\n",
      "Epoch: 8, Train: Top 1 Accuracy: 1502/1531 (98.11%), Time Used: 0.10101000865300497 mins\n",
      "Valid Evaluation: Average loss: 0.8354, Top 1 Accuracy: 254/328 (77.44%)\n",
      "Test Evaluation: Average loss: 0.7852, Top 1 Accuracy: 263/329 (79.94%)\n",
      "Epoch: 9, Train: Top 1 Accuracy: 1500/1531 (97.98%), Time Used: 0.09918137788772582 mins\n",
      "Valid Evaluation: Average loss: 0.6804, Top 1 Accuracy: 268/328 (81.71%)\n",
      "Test Evaluation: Average loss: 0.6702, Top 1 Accuracy: 275/329 (83.59%)\n",
      "Epoch: 10, Train: Top 1 Accuracy: 1496/1531 (97.71%), Time Used: 0.09906706809997559 mins\n",
      "Valid Evaluation: Average loss: 0.0344, Top 1 Accuracy: 323/328 (98.48%)\n",
      "Test Evaluation: Average loss: 0.0308, Top 1 Accuracy: 324/329 (98.48%)\n",
      "A better Valid Acc is found: 98.47560975609755 with Test Acc 98.48024316109422\n",
      "Epoch: 11, Train: Top 1 Accuracy: 1510/1531 (98.63%), Time Used: 0.09752808014551799 mins\n",
      "Valid Evaluation: Average loss: 0.2835, Top 1 Accuracy: 304/328 (92.68%)\n",
      "Test Evaluation: Average loss: 0.3217, Top 1 Accuracy: 302/329 (91.79%)\n",
      "Epoch: 12, Train: Top 1 Accuracy: 1509/1531 (98.56%), Time Used: 0.09909886916478475 mins\n",
      "Valid Evaluation: Average loss: 0.1698, Top 1 Accuracy: 314/328 (95.73%)\n",
      "Test Evaluation: Average loss: 0.1407, Top 1 Accuracy: 312/329 (94.83%)\n",
      "Epoch: 13, Train: Top 1 Accuracy: 1507/1531 (98.43%), Time Used: 0.0987453023592631 mins\n",
      "Valid Evaluation: Average loss: 0.0513, Top 1 Accuracy: 323/328 (98.48%)\n",
      "Test Evaluation: Average loss: 0.0516, Top 1 Accuracy: 324/329 (98.48%)\n",
      "Epoch: 14, Train: Top 1 Accuracy: 1500/1531 (97.98%), Time Used: 0.09921571016311645 mins\n",
      "Valid Evaluation: Average loss: 0.0200, Top 1 Accuracy: 327/328 (99.70%)\n",
      "Test Evaluation: Average loss: 0.0141, Top 1 Accuracy: 327/329 (99.39%)\n",
      "A better Valid Acc is found: 99.6951219512195 with Test Acc 99.3920972644377\n",
      "Epoch: 15, Train: Top 1 Accuracy: 1498/1531 (97.84%), Time Used: 0.09873353640238444 mins\n",
      "Valid Evaluation: Average loss: 0.2463, Top 1 Accuracy: 307/328 (93.60%)\n",
      "Test Evaluation: Average loss: 0.2141, Top 1 Accuracy: 307/329 (93.31%)\n",
      "Epoch: 16, Train: Top 1 Accuracy: 1509/1531 (98.56%), Time Used: 0.09928386608759562 mins\n",
      "Valid Evaluation: Average loss: 0.0517, Top 1 Accuracy: 323/328 (98.48%)\n",
      "Test Evaluation: Average loss: 0.0436, Top 1 Accuracy: 324/329 (98.48%)\n",
      "Epoch: 17, Train: Top 1 Accuracy: 1504/1531 (98.24%), Time Used: 0.0990345557530721 mins\n",
      "Valid Evaluation: Average loss: 0.2312, Top 1 Accuracy: 302/328 (92.07%)\n",
      "Test Evaluation: Average loss: 0.2707, Top 1 Accuracy: 299/329 (90.88%)\n",
      "Epoch: 18, Train: Top 1 Accuracy: 1509/1531 (98.56%), Time Used: 0.09905921618143718 mins\n",
      "Valid Evaluation: Average loss: 0.0745, Top 1 Accuracy: 320/328 (97.56%)\n",
      "Test Evaluation: Average loss: 0.0767, Top 1 Accuracy: 322/329 (97.87%)\n",
      "Epoch: 19, Train: Top 1 Accuracy: 1505/1531 (98.30%), Time Used: 0.09849337736765544 mins\n",
      "Valid Evaluation: Average loss: 0.0246, Top 1 Accuracy: 326/328 (99.39%)\n",
      "Test Evaluation: Average loss: 0.0404, Top 1 Accuracy: 326/329 (99.09%)\n"
     ]
    }
   ],
   "source": [
    "best_val_acc = 0.0\n",
    "final_test_acc = 0.0\n",
    "for epoch in range(total_epochs):\n",
    "    train(model, loss, optimizer, train_loader, device, epoch, False, scheduler=scheduler)\n",
    "    _, val_acc = model_eval(model, loss, val_loader, device, name= 'Valid')\n",
    "    _, test_acc = model_eval(model, loss, test_loader, device, name= 'Test')\n",
    "    if val_acc > best_val_acc:\n",
    "        print('A better Valid Acc is found: {} with Test Acc {}'.format(val_acc, test_acc))\n",
    "        best_val_acc = val_acc\n",
    "        final_test_acc = test_acc\n",
    "        torch.save(model.state_dict(), 'best_model.ckpt')"
   ]
  },
  {
   "attachments": {},
   "cell_type": "markdown",
   "metadata": {},
   "source": [
    "#### Model results"
   ]
  },
  {
   "cell_type": "code",
   "execution_count": 8,
   "metadata": {},
   "outputs": [
    {
     "name": "stdout",
     "output_type": "stream",
     "text": [
      "The best Valid Acc: 99.6951219512195, Test Acc: 99.3920972644377\n"
     ]
    },
    {
     "data": {
      "text/plain": [
       "<All keys matched successfully>"
      ]
     },
     "execution_count": 8,
     "metadata": {},
     "output_type": "execute_result"
    }
   ],
   "source": [
    "print('The best Valid Acc: {}, Test Acc: {}'.format(best_val_acc, final_test_acc))\n",
    "model.load_state_dict(torch.load('best_model.ckpt'))"
   ]
  },
  {
   "attachments": {},
   "cell_type": "markdown",
   "metadata": {},
   "source": [
    "#### Testing results"
   ]
  },
  {
   "cell_type": "code",
   "execution_count": 9,
   "metadata": {},
   "outputs": [
    {
     "name": "stdout",
     "output_type": "stream",
     "text": [
      "We are choosing 259/329 for testing with target: scissors.\n"
     ]
    },
    {
     "data": {
      "text/plain": [
       "<matplotlib.image.AxesImage at 0x192840ac970>"
      ]
     },
     "execution_count": 9,
     "metadata": {},
     "output_type": "execute_result"
    },
    {
     "data": {
      "image/png": "[encoded data removed]",
      "text/plain": [
       "<Figure size 432x288 with 1 Axes>"
      ]
     },
     "metadata": {
      "needs_background": "light"
     },
     "output_type": "display_data"
    }
   ],
   "source": [
    "data_len = len(test_dataset)\n",
    "index = random.randint(0, data_len)\n",
    "data, target = test_dataset[index]\n",
    "print('We are choosing {}/{} for testing with target: {}.'.format(index+1, data_len, reversemapping[target]))\n",
    "plt.imshow(data.permute(1,2,0))"
   ]
  },
  {
   "cell_type": "code",
   "execution_count": 10,
   "metadata": {},
   "outputs": [
    {
     "name": "stdout",
     "output_type": "stream",
     "text": [
      "Our network prediction is: scissors\n"
     ]
    }
   ],
   "source": [
    "model.eval()\n",
    "print('Our network prediction is: {}'.format(reversemapping[model(data.unsqueeze(0).cuda()).argmax(1).item()]))"
   ]
  },
  {
   "cell_type": "code",
   "execution_count": null,
   "metadata": {},
   "outputs": [],
   "source": []
  }
 ],
 "metadata": {
  "kernelspec": {
   "display_name": "py39",
   "language": "python",
   "name": "python3"
  },
  "language_info": {
   "codemirror_mode": {
    "name": "ipython",
    "version": 3
   },
   "file_extension": ".py",
   "mimetype": "text/x-python",
   "name": "python",
   "nbconvert_exporter": "python",
   "pygments_lexer": "ipython3",
   "version": "3.9.7"
  },
  "orig_nbformat": 4
 },
 "nbformat": 4,
 "nbformat_minor": 2
}
